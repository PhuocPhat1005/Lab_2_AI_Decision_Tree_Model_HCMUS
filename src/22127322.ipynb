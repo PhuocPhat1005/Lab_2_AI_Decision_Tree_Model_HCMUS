{
 "cells": [
  {
   "cell_type": "markdown",
   "metadata": {},
   "source": [
    "# **1. Preparing Steps**\n"
   ]
  },
  {
   "cell_type": "markdown",
   "metadata": {},
   "source": [
    "## **1.1 Install libraries**\n"
   ]
  },
  {
   "cell_type": "code",
   "execution_count": 70,
   "metadata": {},
   "outputs": [
    {
     "name": "stdout",
     "output_type": "stream",
     "text": [
      "Requirement already satisfied: numpy in c:\\users\\phatl\\onedrive - vnu-hcmus\\desktop\\lab2_decision_tree\\.venv\\lib\\site-packages (2.1.0)\n",
      "Requirement already satisfied: matplotlib in c:\\users\\phatl\\onedrive - vnu-hcmus\\desktop\\lab2_decision_tree\\.venv\\lib\\site-packages (3.9.2)\n",
      "Requirement already satisfied: contourpy>=1.0.1 in c:\\users\\phatl\\onedrive - vnu-hcmus\\desktop\\lab2_decision_tree\\.venv\\lib\\site-packages (from matplotlib) (1.2.1)\n",
      "Requirement already satisfied: cycler>=0.10 in c:\\users\\phatl\\onedrive - vnu-hcmus\\desktop\\lab2_decision_tree\\.venv\\lib\\site-packages (from matplotlib) (0.12.1)\n",
      "Requirement already satisfied: fonttools>=4.22.0 in c:\\users\\phatl\\onedrive - vnu-hcmus\\desktop\\lab2_decision_tree\\.venv\\lib\\site-packages (from matplotlib) (4.53.1)\n",
      "Requirement already satisfied: kiwisolver>=1.3.1 in c:\\users\\phatl\\onedrive - vnu-hcmus\\desktop\\lab2_decision_tree\\.venv\\lib\\site-packages (from matplotlib) (1.4.5)\n",
      "Requirement already satisfied: numpy>=1.23 in c:\\users\\phatl\\onedrive - vnu-hcmus\\desktop\\lab2_decision_tree\\.venv\\lib\\site-packages (from matplotlib) (2.1.0)\n",
      "Requirement already satisfied: packaging>=20.0 in c:\\users\\phatl\\onedrive - vnu-hcmus\\desktop\\lab2_decision_tree\\.venv\\lib\\site-packages (from matplotlib) (24.1)\n",
      "Requirement already satisfied: pillow>=8 in c:\\users\\phatl\\onedrive - vnu-hcmus\\desktop\\lab2_decision_tree\\.venv\\lib\\site-packages (from matplotlib) (10.4.0)\n",
      "Requirement already satisfied: pyparsing>=2.3.1 in c:\\users\\phatl\\onedrive - vnu-hcmus\\desktop\\lab2_decision_tree\\.venv\\lib\\site-packages (from matplotlib) (3.1.2)\n",
      "Requirement already satisfied: python-dateutil>=2.7 in c:\\users\\phatl\\onedrive - vnu-hcmus\\desktop\\lab2_decision_tree\\.venv\\lib\\site-packages (from matplotlib) (2.9.0.post0)\n",
      "Requirement already satisfied: six>=1.5 in c:\\users\\phatl\\onedrive - vnu-hcmus\\desktop\\lab2_decision_tree\\.venv\\lib\\site-packages (from python-dateutil>=2.7->matplotlib) (1.16.0)\n",
      "Requirement already satisfied: pandas in c:\\users\\phatl\\onedrive - vnu-hcmus\\desktop\\lab2_decision_tree\\.venv\\lib\\site-packages (2.2.2)\n",
      "Requirement already satisfied: numpy>=1.23.2 in c:\\users\\phatl\\onedrive - vnu-hcmus\\desktop\\lab2_decision_tree\\.venv\\lib\\site-packages (from pandas) (2.1.0)\n",
      "Requirement already satisfied: python-dateutil>=2.8.2 in c:\\users\\phatl\\onedrive - vnu-hcmus\\desktop\\lab2_decision_tree\\.venv\\lib\\site-packages (from pandas) (2.9.0.post0)\n",
      "Requirement already satisfied: pytz>=2020.1 in c:\\users\\phatl\\onedrive - vnu-hcmus\\desktop\\lab2_decision_tree\\.venv\\lib\\site-packages (from pandas) (2024.1)\n",
      "Requirement already satisfied: tzdata>=2022.7 in c:\\users\\phatl\\onedrive - vnu-hcmus\\desktop\\lab2_decision_tree\\.venv\\lib\\site-packages (from pandas) (2024.1)\n",
      "Requirement already satisfied: six>=1.5 in c:\\users\\phatl\\onedrive - vnu-hcmus\\desktop\\lab2_decision_tree\\.venv\\lib\\site-packages (from python-dateutil>=2.8.2->pandas) (1.16.0)\n",
      "Requirement already satisfied: seaborn in c:\\users\\phatl\\onedrive - vnu-hcmus\\desktop\\lab2_decision_tree\\.venv\\lib\\site-packages (0.13.2)\n",
      "Requirement already satisfied: numpy!=1.24.0,>=1.20 in c:\\users\\phatl\\onedrive - vnu-hcmus\\desktop\\lab2_decision_tree\\.venv\\lib\\site-packages (from seaborn) (2.1.0)\n",
      "Requirement already satisfied: pandas>=1.2 in c:\\users\\phatl\\onedrive - vnu-hcmus\\desktop\\lab2_decision_tree\\.venv\\lib\\site-packages (from seaborn) (2.2.2)\n",
      "Requirement already satisfied: matplotlib!=3.6.1,>=3.4 in c:\\users\\phatl\\onedrive - vnu-hcmus\\desktop\\lab2_decision_tree\\.venv\\lib\\site-packages (from seaborn) (3.9.2)\n",
      "Requirement already satisfied: contourpy>=1.0.1 in c:\\users\\phatl\\onedrive - vnu-hcmus\\desktop\\lab2_decision_tree\\.venv\\lib\\site-packages (from matplotlib!=3.6.1,>=3.4->seaborn) (1.2.1)\n",
      "Requirement already satisfied: cycler>=0.10 in c:\\users\\phatl\\onedrive - vnu-hcmus\\desktop\\lab2_decision_tree\\.venv\\lib\\site-packages (from matplotlib!=3.6.1,>=3.4->seaborn) (0.12.1)\n",
      "Requirement already satisfied: fonttools>=4.22.0 in c:\\users\\phatl\\onedrive - vnu-hcmus\\desktop\\lab2_decision_tree\\.venv\\lib\\site-packages (from matplotlib!=3.6.1,>=3.4->seaborn) (4.53.1)\n",
      "Requirement already satisfied: kiwisolver>=1.3.1 in c:\\users\\phatl\\onedrive - vnu-hcmus\\desktop\\lab2_decision_tree\\.venv\\lib\\site-packages (from matplotlib!=3.6.1,>=3.4->seaborn) (1.4.5)\n",
      "Requirement already satisfied: packaging>=20.0 in c:\\users\\phatl\\onedrive - vnu-hcmus\\desktop\\lab2_decision_tree\\.venv\\lib\\site-packages (from matplotlib!=3.6.1,>=3.4->seaborn) (24.1)\n",
      "Requirement already satisfied: pillow>=8 in c:\\users\\phatl\\onedrive - vnu-hcmus\\desktop\\lab2_decision_tree\\.venv\\lib\\site-packages (from matplotlib!=3.6.1,>=3.4->seaborn) (10.4.0)\n",
      "Requirement already satisfied: pyparsing>=2.3.1 in c:\\users\\phatl\\onedrive - vnu-hcmus\\desktop\\lab2_decision_tree\\.venv\\lib\\site-packages (from matplotlib!=3.6.1,>=3.4->seaborn) (3.1.2)\n",
      "Requirement already satisfied: python-dateutil>=2.7 in c:\\users\\phatl\\onedrive - vnu-hcmus\\desktop\\lab2_decision_tree\\.venv\\lib\\site-packages (from matplotlib!=3.6.1,>=3.4->seaborn) (2.9.0.post0)\n",
      "Requirement already satisfied: pytz>=2020.1 in c:\\users\\phatl\\onedrive - vnu-hcmus\\desktop\\lab2_decision_tree\\.venv\\lib\\site-packages (from pandas>=1.2->seaborn) (2024.1)\n",
      "Requirement already satisfied: tzdata>=2022.7 in c:\\users\\phatl\\onedrive - vnu-hcmus\\desktop\\lab2_decision_tree\\.venv\\lib\\site-packages (from pandas>=1.2->seaborn) (2024.1)\n",
      "Requirement already satisfied: six>=1.5 in c:\\users\\phatl\\onedrive - vnu-hcmus\\desktop\\lab2_decision_tree\\.venv\\lib\\site-packages (from python-dateutil>=2.7->matplotlib!=3.6.1,>=3.4->seaborn) (1.16.0)\n",
      "Requirement already satisfied: scikit-learn in c:\\users\\phatl\\onedrive - vnu-hcmus\\desktop\\lab2_decision_tree\\.venv\\lib\\site-packages (1.5.1)\n",
      "Requirement already satisfied: numpy>=1.19.5 in c:\\users\\phatl\\onedrive - vnu-hcmus\\desktop\\lab2_decision_tree\\.venv\\lib\\site-packages (from scikit-learn) (2.1.0)\n",
      "Requirement already satisfied: scipy>=1.6.0 in c:\\users\\phatl\\onedrive - vnu-hcmus\\desktop\\lab2_decision_tree\\.venv\\lib\\site-packages (from scikit-learn) (1.14.1)\n",
      "Requirement already satisfied: joblib>=1.2.0 in c:\\users\\phatl\\onedrive - vnu-hcmus\\desktop\\lab2_decision_tree\\.venv\\lib\\site-packages (from scikit-learn) (1.4.2)\n",
      "Requirement already satisfied: threadpoolctl>=3.1.0 in c:\\users\\phatl\\onedrive - vnu-hcmus\\desktop\\lab2_decision_tree\\.venv\\lib\\site-packages (from scikit-learn) (3.5.0)\n",
      "Requirement already satisfied: graphviz in c:\\users\\phatl\\onedrive - vnu-hcmus\\desktop\\lab2_decision_tree\\.venv\\lib\\site-packages (0.20.3)\n",
      "Requirement already satisfied: plotly in c:\\users\\phatl\\onedrive - vnu-hcmus\\desktop\\lab2_decision_tree\\.venv\\lib\\site-packages (5.23.0)\n",
      "Requirement already satisfied: tenacity>=6.2.0 in c:\\users\\phatl\\onedrive - vnu-hcmus\\desktop\\lab2_decision_tree\\.venv\\lib\\site-packages (from plotly) (9.0.0)\n",
      "Requirement already satisfied: packaging in c:\\users\\phatl\\onedrive - vnu-hcmus\\desktop\\lab2_decision_tree\\.venv\\lib\\site-packages (from plotly) (24.1)\n",
      "Requirement already satisfied: nbformat in c:\\users\\phatl\\onedrive - vnu-hcmus\\desktop\\lab2_decision_tree\\.venv\\lib\\site-packages (5.10.4)\n",
      "Requirement already satisfied: fastjsonschema>=2.15 in c:\\users\\phatl\\onedrive - vnu-hcmus\\desktop\\lab2_decision_tree\\.venv\\lib\\site-packages (from nbformat) (2.20.0)\n",
      "Requirement already satisfied: jsonschema>=2.6 in c:\\users\\phatl\\onedrive - vnu-hcmus\\desktop\\lab2_decision_tree\\.venv\\lib\\site-packages (from nbformat) (4.23.0)\n",
      "Requirement already satisfied: jupyter-core!=5.0.*,>=4.12 in c:\\users\\phatl\\onedrive - vnu-hcmus\\desktop\\lab2_decision_tree\\.venv\\lib\\site-packages (from nbformat) (5.7.2)\n",
      "Requirement already satisfied: traitlets>=5.1 in c:\\users\\phatl\\onedrive - vnu-hcmus\\desktop\\lab2_decision_tree\\.venv\\lib\\site-packages (from nbformat) (5.14.3)\n",
      "Requirement already satisfied: attrs>=22.2.0 in c:\\users\\phatl\\onedrive - vnu-hcmus\\desktop\\lab2_decision_tree\\.venv\\lib\\site-packages (from jsonschema>=2.6->nbformat) (24.2.0)\n",
      "Requirement already satisfied: jsonschema-specifications>=2023.03.6 in c:\\users\\phatl\\onedrive - vnu-hcmus\\desktop\\lab2_decision_tree\\.venv\\lib\\site-packages (from jsonschema>=2.6->nbformat) (2023.12.1)\n",
      "Requirement already satisfied: referencing>=0.28.4 in c:\\users\\phatl\\onedrive - vnu-hcmus\\desktop\\lab2_decision_tree\\.venv\\lib\\site-packages (from jsonschema>=2.6->nbformat) (0.35.1)\n",
      "Requirement already satisfied: rpds-py>=0.7.1 in c:\\users\\phatl\\onedrive - vnu-hcmus\\desktop\\lab2_decision_tree\\.venv\\lib\\site-packages (from jsonschema>=2.6->nbformat) (0.20.0)\n",
      "Requirement already satisfied: platformdirs>=2.5 in c:\\users\\phatl\\onedrive - vnu-hcmus\\desktop\\lab2_decision_tree\\.venv\\lib\\site-packages (from jupyter-core!=5.0.*,>=4.12->nbformat) (4.2.2)\n",
      "Requirement already satisfied: pywin32>=300 in c:\\users\\phatl\\onedrive - vnu-hcmus\\desktop\\lab2_decision_tree\\.venv\\lib\\site-packages (from jupyter-core!=5.0.*,>=4.12->nbformat) (306)\n",
      "Requirement already satisfied: joblib in c:\\users\\phatl\\onedrive - vnu-hcmus\\desktop\\lab2_decision_tree\\.venv\\lib\\site-packages (1.4.2)\n"
     ]
    }
   ],
   "source": [
    "!pip install numpy\n",
    "!pip install matplotlib\n",
    "!pip install pandas\n",
    "!pip install seaborn\n",
    "!pip install scikit-learn\n",
    "!pip install graphviz\n",
    "!pip install plotly\n",
    "!pip install nbformat\n",
    "!pip install joblib\n"
   ]
  },
  {
   "cell_type": "code",
   "execution_count": 237,
   "metadata": {},
   "outputs": [],
   "source": [
    "import numpy as np\n",
    "import pandas as pd\n",
    "from sklearn.model_selection import train_test_split\n",
    "from sklearn.tree import DecisionTreeClassifier, export_graphviz\n",
    "import graphviz\n",
    "from sklearn.metrics import classification_report, confusion_matrix, accuracy_score\n",
    "from sklearn.utils import shuffle\n",
    "import plotly.express as px\n",
    "import plotly.graph_objects as go\n",
    "import joblib\n",
    "import matplotlib.pyplot as plt\n",
    "import seaborn as sns\n"
   ]
  },
  {
   "cell_type": "code",
   "execution_count": 238,
   "metadata": {},
   "outputs": [
    {
     "name": "stdout",
     "output_type": "stream",
     "text": [
      "Requirement already satisfied: ucimlrepo in c:\\users\\phatl\\onedrive - vnu-hcmus\\desktop\\lab2_decision_tree\\.venv\\lib\\site-packages (0.0.7)\n",
      "Requirement already satisfied: pandas>=1.0.0 in c:\\users\\phatl\\onedrive - vnu-hcmus\\desktop\\lab2_decision_tree\\.venv\\lib\\site-packages (from ucimlrepo) (2.2.2)\n",
      "Requirement already satisfied: certifi>=2020.12.5 in c:\\users\\phatl\\onedrive - vnu-hcmus\\desktop\\lab2_decision_tree\\.venv\\lib\\site-packages (from ucimlrepo) (2024.7.4)\n",
      "Requirement already satisfied: numpy>=1.23.2 in c:\\users\\phatl\\onedrive - vnu-hcmus\\desktop\\lab2_decision_tree\\.venv\\lib\\site-packages (from pandas>=1.0.0->ucimlrepo) (2.1.0)\n",
      "Requirement already satisfied: python-dateutil>=2.8.2 in c:\\users\\phatl\\onedrive - vnu-hcmus\\desktop\\lab2_decision_tree\\.venv\\lib\\site-packages (from pandas>=1.0.0->ucimlrepo) (2.9.0.post0)\n",
      "Requirement already satisfied: pytz>=2020.1 in c:\\users\\phatl\\onedrive - vnu-hcmus\\desktop\\lab2_decision_tree\\.venv\\lib\\site-packages (from pandas>=1.0.0->ucimlrepo) (2024.1)\n",
      "Requirement already satisfied: tzdata>=2022.7 in c:\\users\\phatl\\onedrive - vnu-hcmus\\desktop\\lab2_decision_tree\\.venv\\lib\\site-packages (from pandas>=1.0.0->ucimlrepo) (2024.1)\n",
      "Requirement already satisfied: six>=1.5 in c:\\users\\phatl\\onedrive - vnu-hcmus\\desktop\\lab2_decision_tree\\.venv\\lib\\site-packages (from python-dateutil>=2.8.2->pandas>=1.0.0->ucimlrepo) (1.16.0)\n"
     ]
    }
   ],
   "source": [
    "!pip install ucimlrepo\n",
    "from ucimlrepo import fetch_ucirepo\n"
   ]
  },
  {
   "cell_type": "markdown",
   "metadata": {},
   "source": [
    "## **1.2 Helper Functions**\n"
   ]
  },
  {
   "cell_type": "code",
   "execution_count": 321,
   "metadata": {},
   "outputs": [],
   "source": [
    "# Function to load the Breast Cancer Wisconsin dataset\n",
    "def load_data():\n",
    "    \"\"\"\n",
    "    Load and preprocess the Breast Cancer Wisconsin (Diagnostic) dataset.\n",
    "\n",
    "    This function fetches the Breast Cancer Wisconsin (Diagnostic) dataset using the `ucimlrepo` library.\n",
    "    The dataset is then shuffled to ensure randomness, and the features (predictor variables) and labels (target variable)\n",
    "    are extracted and returned.\n",
    "\n",
    "    Returns:\n",
    "        tuple:\n",
    "            - features (numpy.ndarray): A numpy array containing the feature data of the dataset.\n",
    "            - labels (numpy.ndarray): A numpy array containing the target labels of the dataset.\n",
    "            - features_name (list): A list of strings representing the names of the features in the dataset.\n",
    "\n",
    "    \"\"\"\n",
    "    # Fetch the dataset using the ucimlrepo library\n",
    "    breast_cancer_wisconsin_diagnostic = fetch_ucirepo(id=17)\n",
    "\n",
    "    # Extract features (predictor variables) from the dataset\n",
    "    features = breast_cancer_wisconsin_diagnostic.data.features\n",
    "\n",
    "    # Extract labels (target variable) from the dataset\n",
    "    labels = breast_cancer_wisconsin_diagnostic.data.targets\n",
    "\n",
    "    # Extract the names of the features\n",
    "    features_name = breast_cancer_wisconsin_diagnostic.data.feature_names\n",
    "\n",
    "    # Shuffle the features and labels to ensure random distribution\n",
    "    features_shuffle, labels_shuffle = shuffle(\n",
    "        features, labels, random_state=42\n",
    "    )  # shuffle the data before splitting\n",
    "\n",
    "    # Return the features, labels, and feature names\n",
    "    return features_shuffle, labels_shuffle, features_name\n"
   ]
  },
  {
   "cell_type": "code",
   "execution_count": 322,
   "metadata": {},
   "outputs": [],
   "source": [
    "def split_data(features, labels, train_size, test_size):\n",
    "    \"\"\"\n",
    "    Split the dataset into training and testing sets.\n",
    "    This function splits the input features and labels into training and testing sets based on the specified proportions.\n",
    "    The split is stratified, ensuring that the distribution of the labels is preserved in both the training and testing sets.\n",
    "    Args:\n",
    "        features (numpy.ndarray): The feature data to be split.\n",
    "        labels (numpy.ndarray): The target labels to be split.\n",
    "        train_size (float): The proportion of the dataset to include in the training set (e.g., 0.8 for 80%).\n",
    "        test_size (float): The proportion of the dataset to include in the testing set (e.g., 0.2 for 20%).\n",
    "    Returns:\n",
    "        tuple:\n",
    "            - feature_train (numpy.ndarray): The features for the training set.\n",
    "            - feature_test (numpy.ndarray): The features for the testing set.\n",
    "            - label_train (numpy.ndarray): The labels for the training set.\n",
    "            - label_test (numpy.ndarray): The labels for the testing set.\n",
    "    \"\"\"\n",
    "\n",
    "    feature_train, feature_test, label_train, label_test = train_test_split(\n",
    "        features,\n",
    "        labels,\n",
    "        train_size=train_size,\n",
    "        test_size=test_size,\n",
    "        stratify=labels,\n",
    "        random_state=42,\n",
    "    )  # spliting data in a stratified fashion\n",
    "\n",
    "    return (feature_train, feature_test, label_train, label_test)\n"
   ]
  },
  {
   "cell_type": "code",
   "execution_count": 323,
   "metadata": {},
   "outputs": [],
   "source": [
    "def create_datasets(features, labels, split_ratios):\n",
    "    \"\"\"\n",
    "    Create training and test datasets from the given split ratios.\n",
    "    Args:\n",
    "        features (array-like): An array or DataFrame containing the input features.\n",
    "        labels (array-like): An array or Series containing the labels corresponding to the features.\n",
    "        split_ratios (list of tuples): A list of tuples where each tuple contains the train and test split ratios.\n",
    "    Returns:\n",
    "        list of tuples: A list of tuples, each containing four elements:\n",
    "                        training features, test features, training labels, and test labels.\n",
    "    \"\"\"\n",
    "    datasets = []  # Initialize an empty list to store the datasets.\n",
    "    # Iterate over each split ratio provided.\n",
    "    for train_size, test_size in split_ratios:\n",
    "        # Split the data into training and test sets according to the given ratios.\n",
    "        feature_train, feature_test, label_train, label_test = split_data(\n",
    "            features, labels, train_size, test_size\n",
    "        )\n",
    "        # Append the resulting split data to the datasets list.\n",
    "        datasets.append((feature_train, feature_test, label_train, label_test))\n",
    "\n",
    "    return datasets  # Return the list of datasets.\n"
   ]
  },
  {
   "cell_type": "markdown",
   "metadata": {},
   "source": [
    "# **2. Preparing the data sets**\n"
   ]
  },
  {
   "cell_type": "markdown",
   "metadata": {},
   "source": [
    "## **2.1 Create training and test sets of different proportions**\n"
   ]
  },
  {
   "cell_type": "code",
   "execution_count": 324,
   "metadata": {},
   "outputs": [],
   "source": [
    "features_shuffle, labels_shuffle, features_name = load_data()\n"
   ]
  },
  {
   "cell_type": "code",
   "execution_count": 325,
   "metadata": {},
   "outputs": [
    {
     "data": {
      "text/html": [
       "<div>\n",
       "<style scoped>\n",
       "    .dataframe tbody tr th:only-of-type {\n",
       "        vertical-align: middle;\n",
       "    }\n",
       "\n",
       "    .dataframe tbody tr th {\n",
       "        vertical-align: top;\n",
       "    }\n",
       "\n",
       "    .dataframe thead th {\n",
       "        text-align: right;\n",
       "    }\n",
       "</style>\n",
       "<table border=\"1\" class=\"dataframe\">\n",
       "  <thead>\n",
       "    <tr style=\"text-align: right;\">\n",
       "      <th></th>\n",
       "      <th>radius1</th>\n",
       "      <th>texture1</th>\n",
       "      <th>perimeter1</th>\n",
       "      <th>area1</th>\n",
       "      <th>smoothness1</th>\n",
       "      <th>compactness1</th>\n",
       "      <th>concavity1</th>\n",
       "      <th>concave_points1</th>\n",
       "      <th>symmetry1</th>\n",
       "      <th>fractal_dimension1</th>\n",
       "      <th>...</th>\n",
       "      <th>radius3</th>\n",
       "      <th>texture3</th>\n",
       "      <th>perimeter3</th>\n",
       "      <th>area3</th>\n",
       "      <th>smoothness3</th>\n",
       "      <th>compactness3</th>\n",
       "      <th>concavity3</th>\n",
       "      <th>concave_points3</th>\n",
       "      <th>symmetry3</th>\n",
       "      <th>fractal_dimension3</th>\n",
       "    </tr>\n",
       "  </thead>\n",
       "  <tbody>\n",
       "    <tr>\n",
       "      <th>204</th>\n",
       "      <td>12.47</td>\n",
       "      <td>18.60</td>\n",
       "      <td>81.09</td>\n",
       "      <td>481.9</td>\n",
       "      <td>0.09965</td>\n",
       "      <td>0.1058</td>\n",
       "      <td>0.08005</td>\n",
       "      <td>0.03821</td>\n",
       "      <td>0.1925</td>\n",
       "      <td>0.06373</td>\n",
       "      <td>...</td>\n",
       "      <td>14.97</td>\n",
       "      <td>24.64</td>\n",
       "      <td>96.05</td>\n",
       "      <td>677.9</td>\n",
       "      <td>0.1426</td>\n",
       "      <td>0.2378</td>\n",
       "      <td>0.2671</td>\n",
       "      <td>0.10150</td>\n",
       "      <td>0.3014</td>\n",
       "      <td>0.08750</td>\n",
       "    </tr>\n",
       "    <tr>\n",
       "      <th>70</th>\n",
       "      <td>18.94</td>\n",
       "      <td>21.31</td>\n",
       "      <td>123.60</td>\n",
       "      <td>1130.0</td>\n",
       "      <td>0.09009</td>\n",
       "      <td>0.1029</td>\n",
       "      <td>0.10800</td>\n",
       "      <td>0.07951</td>\n",
       "      <td>0.1582</td>\n",
       "      <td>0.05461</td>\n",
       "      <td>...</td>\n",
       "      <td>24.86</td>\n",
       "      <td>26.58</td>\n",
       "      <td>165.90</td>\n",
       "      <td>1866.0</td>\n",
       "      <td>0.1193</td>\n",
       "      <td>0.2336</td>\n",
       "      <td>0.2687</td>\n",
       "      <td>0.17890</td>\n",
       "      <td>0.2551</td>\n",
       "      <td>0.06589</td>\n",
       "    </tr>\n",
       "    <tr>\n",
       "      <th>131</th>\n",
       "      <td>15.46</td>\n",
       "      <td>19.48</td>\n",
       "      <td>101.70</td>\n",
       "      <td>748.9</td>\n",
       "      <td>0.10920</td>\n",
       "      <td>0.1223</td>\n",
       "      <td>0.14660</td>\n",
       "      <td>0.08087</td>\n",
       "      <td>0.1931</td>\n",
       "      <td>0.05796</td>\n",
       "      <td>...</td>\n",
       "      <td>19.26</td>\n",
       "      <td>26.00</td>\n",
       "      <td>124.90</td>\n",
       "      <td>1156.0</td>\n",
       "      <td>0.1546</td>\n",
       "      <td>0.2394</td>\n",
       "      <td>0.3791</td>\n",
       "      <td>0.15140</td>\n",
       "      <td>0.2837</td>\n",
       "      <td>0.08019</td>\n",
       "    </tr>\n",
       "    <tr>\n",
       "      <th>431</th>\n",
       "      <td>12.40</td>\n",
       "      <td>17.68</td>\n",
       "      <td>81.47</td>\n",
       "      <td>467.8</td>\n",
       "      <td>0.10540</td>\n",
       "      <td>0.1316</td>\n",
       "      <td>0.07741</td>\n",
       "      <td>0.02799</td>\n",
       "      <td>0.1811</td>\n",
       "      <td>0.07102</td>\n",
       "      <td>...</td>\n",
       "      <td>12.88</td>\n",
       "      <td>22.91</td>\n",
       "      <td>89.61</td>\n",
       "      <td>515.8</td>\n",
       "      <td>0.1450</td>\n",
       "      <td>0.2629</td>\n",
       "      <td>0.2403</td>\n",
       "      <td>0.07370</td>\n",
       "      <td>0.2556</td>\n",
       "      <td>0.09359</td>\n",
       "    </tr>\n",
       "    <tr>\n",
       "      <th>540</th>\n",
       "      <td>11.54</td>\n",
       "      <td>14.44</td>\n",
       "      <td>74.65</td>\n",
       "      <td>402.9</td>\n",
       "      <td>0.09984</td>\n",
       "      <td>0.1120</td>\n",
       "      <td>0.06737</td>\n",
       "      <td>0.02594</td>\n",
       "      <td>0.1818</td>\n",
       "      <td>0.06782</td>\n",
       "      <td>...</td>\n",
       "      <td>12.26</td>\n",
       "      <td>19.68</td>\n",
       "      <td>78.78</td>\n",
       "      <td>457.8</td>\n",
       "      <td>0.1345</td>\n",
       "      <td>0.2118</td>\n",
       "      <td>0.1797</td>\n",
       "      <td>0.06918</td>\n",
       "      <td>0.2329</td>\n",
       "      <td>0.08134</td>\n",
       "    </tr>\n",
       "  </tbody>\n",
       "</table>\n",
       "<p>5 rows × 30 columns</p>\n",
       "</div>"
      ],
      "text/plain": [
       "     radius1  texture1  perimeter1   area1  smoothness1  compactness1  \\\n",
       "204    12.47     18.60       81.09   481.9      0.09965        0.1058   \n",
       "70     18.94     21.31      123.60  1130.0      0.09009        0.1029   \n",
       "131    15.46     19.48      101.70   748.9      0.10920        0.1223   \n",
       "431    12.40     17.68       81.47   467.8      0.10540        0.1316   \n",
       "540    11.54     14.44       74.65   402.9      0.09984        0.1120   \n",
       "\n",
       "     concavity1  concave_points1  symmetry1  fractal_dimension1  ...  radius3  \\\n",
       "204     0.08005          0.03821     0.1925             0.06373  ...    14.97   \n",
       "70      0.10800          0.07951     0.1582             0.05461  ...    24.86   \n",
       "131     0.14660          0.08087     0.1931             0.05796  ...    19.26   \n",
       "431     0.07741          0.02799     0.1811             0.07102  ...    12.88   \n",
       "540     0.06737          0.02594     0.1818             0.06782  ...    12.26   \n",
       "\n",
       "     texture3  perimeter3   area3  smoothness3  compactness3  concavity3  \\\n",
       "204     24.64       96.05   677.9       0.1426        0.2378      0.2671   \n",
       "70      26.58      165.90  1866.0       0.1193        0.2336      0.2687   \n",
       "131     26.00      124.90  1156.0       0.1546        0.2394      0.3791   \n",
       "431     22.91       89.61   515.8       0.1450        0.2629      0.2403   \n",
       "540     19.68       78.78   457.8       0.1345        0.2118      0.1797   \n",
       "\n",
       "     concave_points3  symmetry3  fractal_dimension3  \n",
       "204          0.10150     0.3014             0.08750  \n",
       "70           0.17890     0.2551             0.06589  \n",
       "131          0.15140     0.2837             0.08019  \n",
       "431          0.07370     0.2556             0.09359  \n",
       "540          0.06918     0.2329             0.08134  \n",
       "\n",
       "[5 rows x 30 columns]"
      ]
     },
     "execution_count": 325,
     "metadata": {},
     "output_type": "execute_result"
    }
   ],
   "source": [
    "features_shuffle.head()\n"
   ]
  },
  {
   "cell_type": "code",
   "execution_count": 326,
   "metadata": {},
   "outputs": [
    {
     "data": {
      "text/html": [
       "<div>\n",
       "<style scoped>\n",
       "    .dataframe tbody tr th:only-of-type {\n",
       "        vertical-align: middle;\n",
       "    }\n",
       "\n",
       "    .dataframe tbody tr th {\n",
       "        vertical-align: top;\n",
       "    }\n",
       "\n",
       "    .dataframe thead th {\n",
       "        text-align: right;\n",
       "    }\n",
       "</style>\n",
       "<table border=\"1\" class=\"dataframe\">\n",
       "  <thead>\n",
       "    <tr style=\"text-align: right;\">\n",
       "      <th></th>\n",
       "      <th>radius1</th>\n",
       "      <th>texture1</th>\n",
       "      <th>perimeter1</th>\n",
       "      <th>area1</th>\n",
       "      <th>smoothness1</th>\n",
       "      <th>compactness1</th>\n",
       "      <th>concavity1</th>\n",
       "      <th>concave_points1</th>\n",
       "      <th>symmetry1</th>\n",
       "      <th>fractal_dimension1</th>\n",
       "      <th>...</th>\n",
       "      <th>radius3</th>\n",
       "      <th>texture3</th>\n",
       "      <th>perimeter3</th>\n",
       "      <th>area3</th>\n",
       "      <th>smoothness3</th>\n",
       "      <th>compactness3</th>\n",
       "      <th>concavity3</th>\n",
       "      <th>concave_points3</th>\n",
       "      <th>symmetry3</th>\n",
       "      <th>fractal_dimension3</th>\n",
       "    </tr>\n",
       "  </thead>\n",
       "  <tbody>\n",
       "    <tr>\n",
       "      <th>count</th>\n",
       "      <td>569.000000</td>\n",
       "      <td>569.000000</td>\n",
       "      <td>569.000000</td>\n",
       "      <td>569.000000</td>\n",
       "      <td>569.000000</td>\n",
       "      <td>569.000000</td>\n",
       "      <td>569.000000</td>\n",
       "      <td>569.000000</td>\n",
       "      <td>569.000000</td>\n",
       "      <td>569.000000</td>\n",
       "      <td>...</td>\n",
       "      <td>569.000000</td>\n",
       "      <td>569.000000</td>\n",
       "      <td>569.000000</td>\n",
       "      <td>569.000000</td>\n",
       "      <td>569.000000</td>\n",
       "      <td>569.000000</td>\n",
       "      <td>569.000000</td>\n",
       "      <td>569.000000</td>\n",
       "      <td>569.000000</td>\n",
       "      <td>569.000000</td>\n",
       "    </tr>\n",
       "    <tr>\n",
       "      <th>mean</th>\n",
       "      <td>14.127292</td>\n",
       "      <td>19.289649</td>\n",
       "      <td>91.969033</td>\n",
       "      <td>654.889104</td>\n",
       "      <td>0.096360</td>\n",
       "      <td>0.104341</td>\n",
       "      <td>0.088799</td>\n",
       "      <td>0.048919</td>\n",
       "      <td>0.181162</td>\n",
       "      <td>0.062798</td>\n",
       "      <td>...</td>\n",
       "      <td>16.269190</td>\n",
       "      <td>25.677223</td>\n",
       "      <td>107.261213</td>\n",
       "      <td>880.583128</td>\n",
       "      <td>0.132369</td>\n",
       "      <td>0.254265</td>\n",
       "      <td>0.272188</td>\n",
       "      <td>0.114606</td>\n",
       "      <td>0.290076</td>\n",
       "      <td>0.083946</td>\n",
       "    </tr>\n",
       "    <tr>\n",
       "      <th>std</th>\n",
       "      <td>3.524049</td>\n",
       "      <td>4.301036</td>\n",
       "      <td>24.298981</td>\n",
       "      <td>351.914129</td>\n",
       "      <td>0.014064</td>\n",
       "      <td>0.052813</td>\n",
       "      <td>0.079720</td>\n",
       "      <td>0.038803</td>\n",
       "      <td>0.027414</td>\n",
       "      <td>0.007060</td>\n",
       "      <td>...</td>\n",
       "      <td>4.833242</td>\n",
       "      <td>6.146258</td>\n",
       "      <td>33.602542</td>\n",
       "      <td>569.356993</td>\n",
       "      <td>0.022832</td>\n",
       "      <td>0.157336</td>\n",
       "      <td>0.208624</td>\n",
       "      <td>0.065732</td>\n",
       "      <td>0.061867</td>\n",
       "      <td>0.018061</td>\n",
       "    </tr>\n",
       "    <tr>\n",
       "      <th>min</th>\n",
       "      <td>6.981000</td>\n",
       "      <td>9.710000</td>\n",
       "      <td>43.790000</td>\n",
       "      <td>143.500000</td>\n",
       "      <td>0.052630</td>\n",
       "      <td>0.019380</td>\n",
       "      <td>0.000000</td>\n",
       "      <td>0.000000</td>\n",
       "      <td>0.106000</td>\n",
       "      <td>0.049960</td>\n",
       "      <td>...</td>\n",
       "      <td>7.930000</td>\n",
       "      <td>12.020000</td>\n",
       "      <td>50.410000</td>\n",
       "      <td>185.200000</td>\n",
       "      <td>0.071170</td>\n",
       "      <td>0.027290</td>\n",
       "      <td>0.000000</td>\n",
       "      <td>0.000000</td>\n",
       "      <td>0.156500</td>\n",
       "      <td>0.055040</td>\n",
       "    </tr>\n",
       "    <tr>\n",
       "      <th>25%</th>\n",
       "      <td>11.700000</td>\n",
       "      <td>16.170000</td>\n",
       "      <td>75.170000</td>\n",
       "      <td>420.300000</td>\n",
       "      <td>0.086370</td>\n",
       "      <td>0.064920</td>\n",
       "      <td>0.029560</td>\n",
       "      <td>0.020310</td>\n",
       "      <td>0.161900</td>\n",
       "      <td>0.057700</td>\n",
       "      <td>...</td>\n",
       "      <td>13.010000</td>\n",
       "      <td>21.080000</td>\n",
       "      <td>84.110000</td>\n",
       "      <td>515.300000</td>\n",
       "      <td>0.116600</td>\n",
       "      <td>0.147200</td>\n",
       "      <td>0.114500</td>\n",
       "      <td>0.064930</td>\n",
       "      <td>0.250400</td>\n",
       "      <td>0.071460</td>\n",
       "    </tr>\n",
       "    <tr>\n",
       "      <th>50%</th>\n",
       "      <td>13.370000</td>\n",
       "      <td>18.840000</td>\n",
       "      <td>86.240000</td>\n",
       "      <td>551.100000</td>\n",
       "      <td>0.095870</td>\n",
       "      <td>0.092630</td>\n",
       "      <td>0.061540</td>\n",
       "      <td>0.033500</td>\n",
       "      <td>0.179200</td>\n",
       "      <td>0.061540</td>\n",
       "      <td>...</td>\n",
       "      <td>14.970000</td>\n",
       "      <td>25.410000</td>\n",
       "      <td>97.660000</td>\n",
       "      <td>686.500000</td>\n",
       "      <td>0.131300</td>\n",
       "      <td>0.211900</td>\n",
       "      <td>0.226700</td>\n",
       "      <td>0.099930</td>\n",
       "      <td>0.282200</td>\n",
       "      <td>0.080040</td>\n",
       "    </tr>\n",
       "    <tr>\n",
       "      <th>75%</th>\n",
       "      <td>15.780000</td>\n",
       "      <td>21.800000</td>\n",
       "      <td>104.100000</td>\n",
       "      <td>782.700000</td>\n",
       "      <td>0.105300</td>\n",
       "      <td>0.130400</td>\n",
       "      <td>0.130700</td>\n",
       "      <td>0.074000</td>\n",
       "      <td>0.195700</td>\n",
       "      <td>0.066120</td>\n",
       "      <td>...</td>\n",
       "      <td>18.790000</td>\n",
       "      <td>29.720000</td>\n",
       "      <td>125.400000</td>\n",
       "      <td>1084.000000</td>\n",
       "      <td>0.146000</td>\n",
       "      <td>0.339100</td>\n",
       "      <td>0.382900</td>\n",
       "      <td>0.161400</td>\n",
       "      <td>0.317900</td>\n",
       "      <td>0.092080</td>\n",
       "    </tr>\n",
       "    <tr>\n",
       "      <th>max</th>\n",
       "      <td>28.110000</td>\n",
       "      <td>39.280000</td>\n",
       "      <td>188.500000</td>\n",
       "      <td>2501.000000</td>\n",
       "      <td>0.163400</td>\n",
       "      <td>0.345400</td>\n",
       "      <td>0.426800</td>\n",
       "      <td>0.201200</td>\n",
       "      <td>0.304000</td>\n",
       "      <td>0.097440</td>\n",
       "      <td>...</td>\n",
       "      <td>36.040000</td>\n",
       "      <td>49.540000</td>\n",
       "      <td>251.200000</td>\n",
       "      <td>4254.000000</td>\n",
       "      <td>0.222600</td>\n",
       "      <td>1.058000</td>\n",
       "      <td>1.252000</td>\n",
       "      <td>0.291000</td>\n",
       "      <td>0.663800</td>\n",
       "      <td>0.207500</td>\n",
       "    </tr>\n",
       "  </tbody>\n",
       "</table>\n",
       "<p>8 rows × 30 columns</p>\n",
       "</div>"
      ],
      "text/plain": [
       "          radius1    texture1  perimeter1        area1  smoothness1  \\\n",
       "count  569.000000  569.000000  569.000000   569.000000   569.000000   \n",
       "mean    14.127292   19.289649   91.969033   654.889104     0.096360   \n",
       "std      3.524049    4.301036   24.298981   351.914129     0.014064   \n",
       "min      6.981000    9.710000   43.790000   143.500000     0.052630   \n",
       "25%     11.700000   16.170000   75.170000   420.300000     0.086370   \n",
       "50%     13.370000   18.840000   86.240000   551.100000     0.095870   \n",
       "75%     15.780000   21.800000  104.100000   782.700000     0.105300   \n",
       "max     28.110000   39.280000  188.500000  2501.000000     0.163400   \n",
       "\n",
       "       compactness1  concavity1  concave_points1   symmetry1  \\\n",
       "count    569.000000  569.000000       569.000000  569.000000   \n",
       "mean       0.104341    0.088799         0.048919    0.181162   \n",
       "std        0.052813    0.079720         0.038803    0.027414   \n",
       "min        0.019380    0.000000         0.000000    0.106000   \n",
       "25%        0.064920    0.029560         0.020310    0.161900   \n",
       "50%        0.092630    0.061540         0.033500    0.179200   \n",
       "75%        0.130400    0.130700         0.074000    0.195700   \n",
       "max        0.345400    0.426800         0.201200    0.304000   \n",
       "\n",
       "       fractal_dimension1  ...     radius3    texture3  perimeter3  \\\n",
       "count          569.000000  ...  569.000000  569.000000  569.000000   \n",
       "mean             0.062798  ...   16.269190   25.677223  107.261213   \n",
       "std              0.007060  ...    4.833242    6.146258   33.602542   \n",
       "min              0.049960  ...    7.930000   12.020000   50.410000   \n",
       "25%              0.057700  ...   13.010000   21.080000   84.110000   \n",
       "50%              0.061540  ...   14.970000   25.410000   97.660000   \n",
       "75%              0.066120  ...   18.790000   29.720000  125.400000   \n",
       "max              0.097440  ...   36.040000   49.540000  251.200000   \n",
       "\n",
       "             area3  smoothness3  compactness3  concavity3  concave_points3  \\\n",
       "count   569.000000   569.000000    569.000000  569.000000       569.000000   \n",
       "mean    880.583128     0.132369      0.254265    0.272188         0.114606   \n",
       "std     569.356993     0.022832      0.157336    0.208624         0.065732   \n",
       "min     185.200000     0.071170      0.027290    0.000000         0.000000   \n",
       "25%     515.300000     0.116600      0.147200    0.114500         0.064930   \n",
       "50%     686.500000     0.131300      0.211900    0.226700         0.099930   \n",
       "75%    1084.000000     0.146000      0.339100    0.382900         0.161400   \n",
       "max    4254.000000     0.222600      1.058000    1.252000         0.291000   \n",
       "\n",
       "        symmetry3  fractal_dimension3  \n",
       "count  569.000000          569.000000  \n",
       "mean     0.290076            0.083946  \n",
       "std      0.061867            0.018061  \n",
       "min      0.156500            0.055040  \n",
       "25%      0.250400            0.071460  \n",
       "50%      0.282200            0.080040  \n",
       "75%      0.317900            0.092080  \n",
       "max      0.663800            0.207500  \n",
       "\n",
       "[8 rows x 30 columns]"
      ]
     },
     "execution_count": 326,
     "metadata": {},
     "output_type": "execute_result"
    }
   ],
   "source": [
    "features_shuffle.describe()\n"
   ]
  },
  {
   "cell_type": "code",
   "execution_count": 327,
   "metadata": {},
   "outputs": [
    {
     "data": {
      "text/html": [
       "<div>\n",
       "<style scoped>\n",
       "    .dataframe tbody tr th:only-of-type {\n",
       "        vertical-align: middle;\n",
       "    }\n",
       "\n",
       "    .dataframe tbody tr th {\n",
       "        vertical-align: top;\n",
       "    }\n",
       "\n",
       "    .dataframe thead th {\n",
       "        text-align: right;\n",
       "    }\n",
       "</style>\n",
       "<table border=\"1\" class=\"dataframe\">\n",
       "  <thead>\n",
       "    <tr style=\"text-align: right;\">\n",
       "      <th></th>\n",
       "      <th>Diagnosis</th>\n",
       "    </tr>\n",
       "  </thead>\n",
       "  <tbody>\n",
       "    <tr>\n",
       "      <th>204</th>\n",
       "      <td>B</td>\n",
       "    </tr>\n",
       "    <tr>\n",
       "      <th>70</th>\n",
       "      <td>M</td>\n",
       "    </tr>\n",
       "    <tr>\n",
       "      <th>131</th>\n",
       "      <td>M</td>\n",
       "    </tr>\n",
       "    <tr>\n",
       "      <th>431</th>\n",
       "      <td>B</td>\n",
       "    </tr>\n",
       "    <tr>\n",
       "      <th>540</th>\n",
       "      <td>B</td>\n",
       "    </tr>\n",
       "  </tbody>\n",
       "</table>\n",
       "</div>"
      ],
      "text/plain": [
       "    Diagnosis\n",
       "204         B\n",
       "70          M\n",
       "131         M\n",
       "431         B\n",
       "540         B"
      ]
     },
     "execution_count": 327,
     "metadata": {},
     "output_type": "execute_result"
    }
   ],
   "source": [
    "labels_shuffle.head()\n"
   ]
  },
  {
   "cell_type": "code",
   "execution_count": 328,
   "metadata": {},
   "outputs": [
    {
     "data": {
      "text/html": [
       "<div>\n",
       "<style scoped>\n",
       "    .dataframe tbody tr th:only-of-type {\n",
       "        vertical-align: middle;\n",
       "    }\n",
       "\n",
       "    .dataframe tbody tr th {\n",
       "        vertical-align: top;\n",
       "    }\n",
       "\n",
       "    .dataframe thead th {\n",
       "        text-align: right;\n",
       "    }\n",
       "</style>\n",
       "<table border=\"1\" class=\"dataframe\">\n",
       "  <thead>\n",
       "    <tr style=\"text-align: right;\">\n",
       "      <th></th>\n",
       "      <th>Diagnosis</th>\n",
       "    </tr>\n",
       "  </thead>\n",
       "  <tbody>\n",
       "    <tr>\n",
       "      <th>count</th>\n",
       "      <td>569</td>\n",
       "    </tr>\n",
       "    <tr>\n",
       "      <th>unique</th>\n",
       "      <td>2</td>\n",
       "    </tr>\n",
       "    <tr>\n",
       "      <th>top</th>\n",
       "      <td>B</td>\n",
       "    </tr>\n",
       "    <tr>\n",
       "      <th>freq</th>\n",
       "      <td>357</td>\n",
       "    </tr>\n",
       "  </tbody>\n",
       "</table>\n",
       "</div>"
      ],
      "text/plain": [
       "       Diagnosis\n",
       "count        569\n",
       "unique         2\n",
       "top            B\n",
       "freq         357"
      ]
     },
     "execution_count": 328,
     "metadata": {},
     "output_type": "execute_result"
    }
   ],
   "source": [
    "labels_shuffle.describe()\n"
   ]
  },
  {
   "cell_type": "code",
   "execution_count": 329,
   "metadata": {},
   "outputs": [],
   "source": [
    "features_data = features_shuffle.values\n",
    "labels_data = labels_shuffle.values\n"
   ]
  },
  {
   "cell_type": "code",
   "execution_count": 330,
   "metadata": {},
   "outputs": [],
   "source": [
    "# Create datasets with different ratios\n",
    "split_ratios = [(0.4, 0.6), (0.6, 0.4), (0.8, 0.2), (0.9, 0.1)]\n",
    "datasets = create_datasets(features_data, labels_data, split_ratios)\n"
   ]
  },
  {
   "cell_type": "markdown",
   "metadata": {},
   "source": [
    "## **2.2 Visualize the distribution of classes in all the data sets**\n"
   ]
  },
  {
   "cell_type": "code",
   "execution_count": 331,
   "metadata": {},
   "outputs": [],
   "source": [
    "def visualize_distribution_plotly(listDatasets, listProportions, original_labels):\n",
    "    \"\"\"\n",
    "    Visualizes the distribution of labels across the original, training, and testing datasets\n",
    "    using bar plots generated with Plotly.\n",
    "    Args:\n",
    "        listDatasets (list): A list of tuples, where each tuple contains the training and testing\n",
    "                             features and labels (feature_train, feature_test, label_train, label_test).\n",
    "        listProportions (list): A list of tuples representing the proportions of the training and\n",
    "                                testing sets (training_size, testing_size).\n",
    "        original_labels (numpy.ndarray): The original labels before splitting into training and testing sets.\n",
    "    Returns:\n",
    "        None: Displays the bar plots for each dataset proportion using Plotly.\n",
    "    \"\"\"\n",
    "    # Flatten the original labels if they are multidimensional\n",
    "\n",
    "    if original_labels.ndim > 1:\n",
    "\n",
    "        original_labels = original_labels.flatten()\n",
    "    # Get a list of unique labels\n",
    "\n",
    "    listLabels = list(np.unique(original_labels))\n",
    "    # Calculate the counts for each label in the original set\n",
    "\n",
    "    originalSet_labelCounts = list(\n",
    "        pd.Series(original_labels)\n",
    "        .value_counts()\n",
    "        .reindex(listLabels, fill_value=0)\n",
    "        .values\n",
    "    )\n",
    "    # Loop through each dataset corresponding to each proportion\n",
    "\n",
    "    for i, proportion in enumerate(listProportions):\n",
    "        # Prepare statistics\n",
    "        _, _, label_train, label_test = listDatasets[i]\n",
    "\n",
    "        # Flatten the training and testing labels if they are multidimensional\n",
    "        if label_train.ndim > 1:\n",
    "            label_train = label_train.flatten()\n",
    "        if label_test.ndim > 1:\n",
    "            label_test = label_test.flatten()\n",
    "        # Calculate the counts for each label in the training set\n",
    "\n",
    "        trainingSet_labelCounts = list(\n",
    "            pd.Series(label_train)\n",
    "            .value_counts()\n",
    "            .reindex(listLabels, fill_value=0)\n",
    "            .values\n",
    "        )\n",
    "        # Calculate the counts for each label in the testing set\n",
    "        testingSet_labelCounts = list(\n",
    "            pd.Series(label_test)\n",
    "            .value_counts()\n",
    "            .reindex(listLabels, fill_value=0)\n",
    "            .values\n",
    "        )\n",
    "\n",
    "        # Create x_coordinates for each data\n",
    "        x = np.arange(0, len(listLabels))\n",
    "\n",
    "        # Set the width of each bar\n",
    "        width = 0.25\n",
    "\n",
    "        # Create the figure\n",
    "\n",
    "        fig = go.Figure()\n",
    "\n",
    "        # Add the bars for the original dataset\n",
    "        fig.add_trace(\n",
    "            go.Bar(\n",
    "                x=x - width,\n",
    "                y=originalSet_labelCounts,\n",
    "                width=width,\n",
    "                name=\"Original Set\",\n",
    "                text=listLabels,\n",
    "                hoverinfo=\"x+y+text\",\n",
    "                marker_color=px.colors.qualitative.Plotly[0],\n",
    "            )\n",
    "        )\n",
    "\n",
    "        # Add the bars for the training dataset\n",
    "        fig.add_trace(\n",
    "            go.Bar(\n",
    "                x=x,\n",
    "                y=trainingSet_labelCounts,\n",
    "                width=width,\n",
    "                name=\"Training Set\",\n",
    "                text=listLabels,\n",
    "                hoverinfo=\"x+y+text\",\n",
    "                marker_color=px.colors.qualitative.Plotly[1],\n",
    "            )\n",
    "        )\n",
    "\n",
    "        # Add the bars for the testing dataset\n",
    "        fig.add_trace(\n",
    "            go.Bar(\n",
    "                x=x + width,\n",
    "                y=testingSet_labelCounts,\n",
    "                width=width,\n",
    "                name=\"Testing Set\",\n",
    "                text=listLabels,\n",
    "                hoverinfo=\"x+y+text\",\n",
    "                marker_color=px.colors.qualitative.Plotly[2],\n",
    "            )\n",
    "        )\n",
    "\n",
    "        # Update the layout\n",
    "        fig.update_layout(\n",
    "            title=f\"Data Distribution - Proportion ({proportion[0]}, {proportion[1]})\",\n",
    "            xaxis=dict(\n",
    "                title=\"Class\", tickmode=\"array\", tickvals=x, ticktext=listLabels\n",
    "            ),\n",
    "            yaxis=dict(title=\"Count\"),\n",
    "            barmode=\"group\",\n",
    "            legend_title_text=\"Dataset\",\n",
    "        )\n",
    "\n",
    "        # Optionally, display the figure\n",
    "\n",
    "        fig.show()\n"
   ]
  },
  {
   "cell_type": "code",
   "execution_count": 332,
   "metadata": {},
   "outputs": [
    {
     "data": {
      "application/vnd.plotly.v1+json": {
       "config": {
        "plotlyServerURL": "https://plot.ly"
       },
       "data": [
        {
         "hoverinfo": "x+y+text",
         "marker": {
          "color": "#636EFA"
         },
         "name": "Original Set",
         "text": [
          "B",
          "M"
         ],
         "type": "bar",
         "width": 0.25,
         "x": [
          -0.25,
          0.75
         ],
         "y": [
          357,
          212
         ]
        },
        {
         "hoverinfo": "x+y+text",
         "marker": {
          "color": "#EF553B"
         },
         "name": "Training Set",
         "text": [
          "B",
          "M"
         ],
         "type": "bar",
         "width": 0.25,
         "x": [
          0,
          1
         ],
         "y": [
          142,
          85
         ]
        },
        {
         "hoverinfo": "x+y+text",
         "marker": {
          "color": "#00CC96"
         },
         "name": "Testing Set",
         "text": [
          "B",
          "M"
         ],
         "type": "bar",
         "width": 0.25,
         "x": [
          0.25,
          1.25
         ],
         "y": [
          215,
          127
         ]
        }
       ],
       "layout": {
        "barmode": "group",
        "legend": {
         "title": {
          "text": "Dataset"
         }
        },
        "template": {
         "data": {
          "bar": [
           {
            "error_x": {
             "color": "#2a3f5f"
            },
            "error_y": {
             "color": "#2a3f5f"
            },
            "marker": {
             "line": {
              "color": "#E5ECF6",
              "width": 0.5
             },
             "pattern": {
              "fillmode": "overlay",
              "size": 10,
              "solidity": 0.2
             }
            },
            "type": "bar"
           }
          ],
          "barpolar": [
           {
            "marker": {
             "line": {
              "color": "#E5ECF6",
              "width": 0.5
             },
             "pattern": {
              "fillmode": "overlay",
              "size": 10,
              "solidity": 0.2
             }
            },
            "type": "barpolar"
           }
          ],
          "carpet": [
           {
            "aaxis": {
             "endlinecolor": "#2a3f5f",
             "gridcolor": "white",
             "linecolor": "white",
             "minorgridcolor": "white",
             "startlinecolor": "#2a3f5f"
            },
            "baxis": {
             "endlinecolor": "#2a3f5f",
             "gridcolor": "white",
             "linecolor": "white",
             "minorgridcolor": "white",
             "startlinecolor": "#2a3f5f"
            },
            "type": "carpet"
           }
          ],
          "choropleth": [
           {
            "colorbar": {
             "outlinewidth": 0,
             "ticks": ""
            },
            "type": "choropleth"
           }
          ],
          "contour": [
           {
            "colorbar": {
             "outlinewidth": 0,
             "ticks": ""
            },
            "colorscale": [
             [
              0,
              "#0d0887"
             ],
             [
              0.1111111111111111,
              "#46039f"
             ],
             [
              0.2222222222222222,
              "#7201a8"
             ],
             [
              0.3333333333333333,
              "#9c179e"
             ],
             [
              0.4444444444444444,
              "#bd3786"
             ],
             [
              0.5555555555555556,
              "#d8576b"
             ],
             [
              0.6666666666666666,
              "#ed7953"
             ],
             [
              0.7777777777777778,
              "#fb9f3a"
             ],
             [
              0.8888888888888888,
              "#fdca26"
             ],
             [
              1,
              "#f0f921"
             ]
            ],
            "type": "contour"
           }
          ],
          "contourcarpet": [
           {
            "colorbar": {
             "outlinewidth": 0,
             "ticks": ""
            },
            "type": "contourcarpet"
           }
          ],
          "heatmap": [
           {
            "colorbar": {
             "outlinewidth": 0,
             "ticks": ""
            },
            "colorscale": [
             [
              0,
              "#0d0887"
             ],
             [
              0.1111111111111111,
              "#46039f"
             ],
             [
              0.2222222222222222,
              "#7201a8"
             ],
             [
              0.3333333333333333,
              "#9c179e"
             ],
             [
              0.4444444444444444,
              "#bd3786"
             ],
             [
              0.5555555555555556,
              "#d8576b"
             ],
             [
              0.6666666666666666,
              "#ed7953"
             ],
             [
              0.7777777777777778,
              "#fb9f3a"
             ],
             [
              0.8888888888888888,
              "#fdca26"
             ],
             [
              1,
              "#f0f921"
             ]
            ],
            "type": "heatmap"
           }
          ],
          "heatmapgl": [
           {
            "colorbar": {
             "outlinewidth": 0,
             "ticks": ""
            },
            "colorscale": [
             [
              0,
              "#0d0887"
             ],
             [
              0.1111111111111111,
              "#46039f"
             ],
             [
              0.2222222222222222,
              "#7201a8"
             ],
             [
              0.3333333333333333,
              "#9c179e"
             ],
             [
              0.4444444444444444,
              "#bd3786"
             ],
             [
              0.5555555555555556,
              "#d8576b"
             ],
             [
              0.6666666666666666,
              "#ed7953"
             ],
             [
              0.7777777777777778,
              "#fb9f3a"
             ],
             [
              0.8888888888888888,
              "#fdca26"
             ],
             [
              1,
              "#f0f921"
             ]
            ],
            "type": "heatmapgl"
           }
          ],
          "histogram": [
           {
            "marker": {
             "pattern": {
              "fillmode": "overlay",
              "size": 10,
              "solidity": 0.2
             }
            },
            "type": "histogram"
           }
          ],
          "histogram2d": [
           {
            "colorbar": {
             "outlinewidth": 0,
             "ticks": ""
            },
            "colorscale": [
             [
              0,
              "#0d0887"
             ],
             [
              0.1111111111111111,
              "#46039f"
             ],
             [
              0.2222222222222222,
              "#7201a8"
             ],
             [
              0.3333333333333333,
              "#9c179e"
             ],
             [
              0.4444444444444444,
              "#bd3786"
             ],
             [
              0.5555555555555556,
              "#d8576b"
             ],
             [
              0.6666666666666666,
              "#ed7953"
             ],
             [
              0.7777777777777778,
              "#fb9f3a"
             ],
             [
              0.8888888888888888,
              "#fdca26"
             ],
             [
              1,
              "#f0f921"
             ]
            ],
            "type": "histogram2d"
           }
          ],
          "histogram2dcontour": [
           {
            "colorbar": {
             "outlinewidth": 0,
             "ticks": ""
            },
            "colorscale": [
             [
              0,
              "#0d0887"
             ],
             [
              0.1111111111111111,
              "#46039f"
             ],
             [
              0.2222222222222222,
              "#7201a8"
             ],
             [
              0.3333333333333333,
              "#9c179e"
             ],
             [
              0.4444444444444444,
              "#bd3786"
             ],
             [
              0.5555555555555556,
              "#d8576b"
             ],
             [
              0.6666666666666666,
              "#ed7953"
             ],
             [
              0.7777777777777778,
              "#fb9f3a"
             ],
             [
              0.8888888888888888,
              "#fdca26"
             ],
             [
              1,
              "#f0f921"
             ]
            ],
            "type": "histogram2dcontour"
           }
          ],
          "mesh3d": [
           {
            "colorbar": {
             "outlinewidth": 0,
             "ticks": ""
            },
            "type": "mesh3d"
           }
          ],
          "parcoords": [
           {
            "line": {
             "colorbar": {
              "outlinewidth": 0,
              "ticks": ""
             }
            },
            "type": "parcoords"
           }
          ],
          "pie": [
           {
            "automargin": true,
            "type": "pie"
           }
          ],
          "scatter": [
           {
            "fillpattern": {
             "fillmode": "overlay",
             "size": 10,
             "solidity": 0.2
            },
            "type": "scatter"
           }
          ],
          "scatter3d": [
           {
            "line": {
             "colorbar": {
              "outlinewidth": 0,
              "ticks": ""
             }
            },
            "marker": {
             "colorbar": {
              "outlinewidth": 0,
              "ticks": ""
             }
            },
            "type": "scatter3d"
           }
          ],
          "scattercarpet": [
           {
            "marker": {
             "colorbar": {
              "outlinewidth": 0,
              "ticks": ""
             }
            },
            "type": "scattercarpet"
           }
          ],
          "scattergeo": [
           {
            "marker": {
             "colorbar": {
              "outlinewidth": 0,
              "ticks": ""
             }
            },
            "type": "scattergeo"
           }
          ],
          "scattergl": [
           {
            "marker": {
             "colorbar": {
              "outlinewidth": 0,
              "ticks": ""
             }
            },
            "type": "scattergl"
           }
          ],
          "scattermapbox": [
           {
            "marker": {
             "colorbar": {
              "outlinewidth": 0,
              "ticks": ""
             }
            },
            "type": "scattermapbox"
           }
          ],
          "scatterpolar": [
           {
            "marker": {
             "colorbar": {
              "outlinewidth": 0,
              "ticks": ""
             }
            },
            "type": "scatterpolar"
           }
          ],
          "scatterpolargl": [
           {
            "marker": {
             "colorbar": {
              "outlinewidth": 0,
              "ticks": ""
             }
            },
            "type": "scatterpolargl"
           }
          ],
          "scatterternary": [
           {
            "marker": {
             "colorbar": {
              "outlinewidth": 0,
              "ticks": ""
             }
            },
            "type": "scatterternary"
           }
          ],
          "surface": [
           {
            "colorbar": {
             "outlinewidth": 0,
             "ticks": ""
            },
            "colorscale": [
             [
              0,
              "#0d0887"
             ],
             [
              0.1111111111111111,
              "#46039f"
             ],
             [
              0.2222222222222222,
              "#7201a8"
             ],
             [
              0.3333333333333333,
              "#9c179e"
             ],
             [
              0.4444444444444444,
              "#bd3786"
             ],
             [
              0.5555555555555556,
              "#d8576b"
             ],
             [
              0.6666666666666666,
              "#ed7953"
             ],
             [
              0.7777777777777778,
              "#fb9f3a"
             ],
             [
              0.8888888888888888,
              "#fdca26"
             ],
             [
              1,
              "#f0f921"
             ]
            ],
            "type": "surface"
           }
          ],
          "table": [
           {
            "cells": {
             "fill": {
              "color": "#EBF0F8"
             },
             "line": {
              "color": "white"
             }
            },
            "header": {
             "fill": {
              "color": "#C8D4E3"
             },
             "line": {
              "color": "white"
             }
            },
            "type": "table"
           }
          ]
         },
         "layout": {
          "annotationdefaults": {
           "arrowcolor": "#2a3f5f",
           "arrowhead": 0,
           "arrowwidth": 1
          },
          "autotypenumbers": "strict",
          "coloraxis": {
           "colorbar": {
            "outlinewidth": 0,
            "ticks": ""
           }
          },
          "colorscale": {
           "diverging": [
            [
             0,
             "#8e0152"
            ],
            [
             0.1,
             "#c51b7d"
            ],
            [
             0.2,
             "#de77ae"
            ],
            [
             0.3,
             "#f1b6da"
            ],
            [
             0.4,
             "#fde0ef"
            ],
            [
             0.5,
             "#f7f7f7"
            ],
            [
             0.6,
             "#e6f5d0"
            ],
            [
             0.7,
             "#b8e186"
            ],
            [
             0.8,
             "#7fbc41"
            ],
            [
             0.9,
             "#4d9221"
            ],
            [
             1,
             "#276419"
            ]
           ],
           "sequential": [
            [
             0,
             "#0d0887"
            ],
            [
             0.1111111111111111,
             "#46039f"
            ],
            [
             0.2222222222222222,
             "#7201a8"
            ],
            [
             0.3333333333333333,
             "#9c179e"
            ],
            [
             0.4444444444444444,
             "#bd3786"
            ],
            [
             0.5555555555555556,
             "#d8576b"
            ],
            [
             0.6666666666666666,
             "#ed7953"
            ],
            [
             0.7777777777777778,
             "#fb9f3a"
            ],
            [
             0.8888888888888888,
             "#fdca26"
            ],
            [
             1,
             "#f0f921"
            ]
           ],
           "sequentialminus": [
            [
             0,
             "#0d0887"
            ],
            [
             0.1111111111111111,
             "#46039f"
            ],
            [
             0.2222222222222222,
             "#7201a8"
            ],
            [
             0.3333333333333333,
             "#9c179e"
            ],
            [
             0.4444444444444444,
             "#bd3786"
            ],
            [
             0.5555555555555556,
             "#d8576b"
            ],
            [
             0.6666666666666666,
             "#ed7953"
            ],
            [
             0.7777777777777778,
             "#fb9f3a"
            ],
            [
             0.8888888888888888,
             "#fdca26"
            ],
            [
             1,
             "#f0f921"
            ]
           ]
          },
          "colorway": [
           "#636efa",
           "#EF553B",
           "#00cc96",
           "#ab63fa",
           "#FFA15A",
           "#19d3f3",
           "#FF6692",
           "#B6E880",
           "#FF97FF",
           "#FECB52"
          ],
          "font": {
           "color": "#2a3f5f"
          },
          "geo": {
           "bgcolor": "white",
           "lakecolor": "white",
           "landcolor": "#E5ECF6",
           "showlakes": true,
           "showland": true,
           "subunitcolor": "white"
          },
          "hoverlabel": {
           "align": "left"
          },
          "hovermode": "closest",
          "mapbox": {
           "style": "light"
          },
          "paper_bgcolor": "white",
          "plot_bgcolor": "#E5ECF6",
          "polar": {
           "angularaxis": {
            "gridcolor": "white",
            "linecolor": "white",
            "ticks": ""
           },
           "bgcolor": "#E5ECF6",
           "radialaxis": {
            "gridcolor": "white",
            "linecolor": "white",
            "ticks": ""
           }
          },
          "scene": {
           "xaxis": {
            "backgroundcolor": "#E5ECF6",
            "gridcolor": "white",
            "gridwidth": 2,
            "linecolor": "white",
            "showbackground": true,
            "ticks": "",
            "zerolinecolor": "white"
           },
           "yaxis": {
            "backgroundcolor": "#E5ECF6",
            "gridcolor": "white",
            "gridwidth": 2,
            "linecolor": "white",
            "showbackground": true,
            "ticks": "",
            "zerolinecolor": "white"
           },
           "zaxis": {
            "backgroundcolor": "#E5ECF6",
            "gridcolor": "white",
            "gridwidth": 2,
            "linecolor": "white",
            "showbackground": true,
            "ticks": "",
            "zerolinecolor": "white"
           }
          },
          "shapedefaults": {
           "line": {
            "color": "#2a3f5f"
           }
          },
          "ternary": {
           "aaxis": {
            "gridcolor": "white",
            "linecolor": "white",
            "ticks": ""
           },
           "baxis": {
            "gridcolor": "white",
            "linecolor": "white",
            "ticks": ""
           },
           "bgcolor": "#E5ECF6",
           "caxis": {
            "gridcolor": "white",
            "linecolor": "white",
            "ticks": ""
           }
          },
          "title": {
           "x": 0.05
          },
          "xaxis": {
           "automargin": true,
           "gridcolor": "white",
           "linecolor": "white",
           "ticks": "",
           "title": {
            "standoff": 15
           },
           "zerolinecolor": "white",
           "zerolinewidth": 2
          },
          "yaxis": {
           "automargin": true,
           "gridcolor": "white",
           "linecolor": "white",
           "ticks": "",
           "title": {
            "standoff": 15
           },
           "zerolinecolor": "white",
           "zerolinewidth": 2
          }
         }
        },
        "title": {
         "text": "Data Distribution - Proportion (0.4, 0.6)"
        },
        "xaxis": {
         "tickmode": "array",
         "ticktext": [
          "B",
          "M"
         ],
         "tickvals": [
          0,
          1
         ],
         "title": {
          "text": "Class"
         }
        },
        "yaxis": {
         "title": {
          "text": "Count"
         }
        }
       }
      }
     },
     "metadata": {},
     "output_type": "display_data"
    },
    {
     "data": {
      "application/vnd.plotly.v1+json": {
       "config": {
        "plotlyServerURL": "https://plot.ly"
       },
       "data": [
        {
         "hoverinfo": "x+y+text",
         "marker": {
          "color": "#636EFA"
         },
         "name": "Original Set",
         "text": [
          "B",
          "M"
         ],
         "type": "bar",
         "width": 0.25,
         "x": [
          -0.25,
          0.75
         ],
         "y": [
          357,
          212
         ]
        },
        {
         "hoverinfo": "x+y+text",
         "marker": {
          "color": "#EF553B"
         },
         "name": "Training Set",
         "text": [
          "B",
          "M"
         ],
         "type": "bar",
         "width": 0.25,
         "x": [
          0,
          1
         ],
         "y": [
          214,
          127
         ]
        },
        {
         "hoverinfo": "x+y+text",
         "marker": {
          "color": "#00CC96"
         },
         "name": "Testing Set",
         "text": [
          "B",
          "M"
         ],
         "type": "bar",
         "width": 0.25,
         "x": [
          0.25,
          1.25
         ],
         "y": [
          143,
          85
         ]
        }
       ],
       "layout": {
        "barmode": "group",
        "legend": {
         "title": {
          "text": "Dataset"
         }
        },
        "template": {
         "data": {
          "bar": [
           {
            "error_x": {
             "color": "#2a3f5f"
            },
            "error_y": {
             "color": "#2a3f5f"
            },
            "marker": {
             "line": {
              "color": "#E5ECF6",
              "width": 0.5
             },
             "pattern": {
              "fillmode": "overlay",
              "size": 10,
              "solidity": 0.2
             }
            },
            "type": "bar"
           }
          ],
          "barpolar": [
           {
            "marker": {
             "line": {
              "color": "#E5ECF6",
              "width": 0.5
             },
             "pattern": {
              "fillmode": "overlay",
              "size": 10,
              "solidity": 0.2
             }
            },
            "type": "barpolar"
           }
          ],
          "carpet": [
           {
            "aaxis": {
             "endlinecolor": "#2a3f5f",
             "gridcolor": "white",
             "linecolor": "white",
             "minorgridcolor": "white",
             "startlinecolor": "#2a3f5f"
            },
            "baxis": {
             "endlinecolor": "#2a3f5f",
             "gridcolor": "white",
             "linecolor": "white",
             "minorgridcolor": "white",
             "startlinecolor": "#2a3f5f"
            },
            "type": "carpet"
           }
          ],
          "choropleth": [
           {
            "colorbar": {
             "outlinewidth": 0,
             "ticks": ""
            },
            "type": "choropleth"
           }
          ],
          "contour": [
           {
            "colorbar": {
             "outlinewidth": 0,
             "ticks": ""
            },
            "colorscale": [
             [
              0,
              "#0d0887"
             ],
             [
              0.1111111111111111,
              "#46039f"
             ],
             [
              0.2222222222222222,
              "#7201a8"
             ],
             [
              0.3333333333333333,
              "#9c179e"
             ],
             [
              0.4444444444444444,
              "#bd3786"
             ],
             [
              0.5555555555555556,
              "#d8576b"
             ],
             [
              0.6666666666666666,
              "#ed7953"
             ],
             [
              0.7777777777777778,
              "#fb9f3a"
             ],
             [
              0.8888888888888888,
              "#fdca26"
             ],
             [
              1,
              "#f0f921"
             ]
            ],
            "type": "contour"
           }
          ],
          "contourcarpet": [
           {
            "colorbar": {
             "outlinewidth": 0,
             "ticks": ""
            },
            "type": "contourcarpet"
           }
          ],
          "heatmap": [
           {
            "colorbar": {
             "outlinewidth": 0,
             "ticks": ""
            },
            "colorscale": [
             [
              0,
              "#0d0887"
             ],
             [
              0.1111111111111111,
              "#46039f"
             ],
             [
              0.2222222222222222,
              "#7201a8"
             ],
             [
              0.3333333333333333,
              "#9c179e"
             ],
             [
              0.4444444444444444,
              "#bd3786"
             ],
             [
              0.5555555555555556,
              "#d8576b"
             ],
             [
              0.6666666666666666,
              "#ed7953"
             ],
             [
              0.7777777777777778,
              "#fb9f3a"
             ],
             [
              0.8888888888888888,
              "#fdca26"
             ],
             [
              1,
              "#f0f921"
             ]
            ],
            "type": "heatmap"
           }
          ],
          "heatmapgl": [
           {
            "colorbar": {
             "outlinewidth": 0,
             "ticks": ""
            },
            "colorscale": [
             [
              0,
              "#0d0887"
             ],
             [
              0.1111111111111111,
              "#46039f"
             ],
             [
              0.2222222222222222,
              "#7201a8"
             ],
             [
              0.3333333333333333,
              "#9c179e"
             ],
             [
              0.4444444444444444,
              "#bd3786"
             ],
             [
              0.5555555555555556,
              "#d8576b"
             ],
             [
              0.6666666666666666,
              "#ed7953"
             ],
             [
              0.7777777777777778,
              "#fb9f3a"
             ],
             [
              0.8888888888888888,
              "#fdca26"
             ],
             [
              1,
              "#f0f921"
             ]
            ],
            "type": "heatmapgl"
           }
          ],
          "histogram": [
           {
            "marker": {
             "pattern": {
              "fillmode": "overlay",
              "size": 10,
              "solidity": 0.2
             }
            },
            "type": "histogram"
           }
          ],
          "histogram2d": [
           {
            "colorbar": {
             "outlinewidth": 0,
             "ticks": ""
            },
            "colorscale": [
             [
              0,
              "#0d0887"
             ],
             [
              0.1111111111111111,
              "#46039f"
             ],
             [
              0.2222222222222222,
              "#7201a8"
             ],
             [
              0.3333333333333333,
              "#9c179e"
             ],
             [
              0.4444444444444444,
              "#bd3786"
             ],
             [
              0.5555555555555556,
              "#d8576b"
             ],
             [
              0.6666666666666666,
              "#ed7953"
             ],
             [
              0.7777777777777778,
              "#fb9f3a"
             ],
             [
              0.8888888888888888,
              "#fdca26"
             ],
             [
              1,
              "#f0f921"
             ]
            ],
            "type": "histogram2d"
           }
          ],
          "histogram2dcontour": [
           {
            "colorbar": {
             "outlinewidth": 0,
             "ticks": ""
            },
            "colorscale": [
             [
              0,
              "#0d0887"
             ],
             [
              0.1111111111111111,
              "#46039f"
             ],
             [
              0.2222222222222222,
              "#7201a8"
             ],
             [
              0.3333333333333333,
              "#9c179e"
             ],
             [
              0.4444444444444444,
              "#bd3786"
             ],
             [
              0.5555555555555556,
              "#d8576b"
             ],
             [
              0.6666666666666666,
              "#ed7953"
             ],
             [
              0.7777777777777778,
              "#fb9f3a"
             ],
             [
              0.8888888888888888,
              "#fdca26"
             ],
             [
              1,
              "#f0f921"
             ]
            ],
            "type": "histogram2dcontour"
           }
          ],
          "mesh3d": [
           {
            "colorbar": {
             "outlinewidth": 0,
             "ticks": ""
            },
            "type": "mesh3d"
           }
          ],
          "parcoords": [
           {
            "line": {
             "colorbar": {
              "outlinewidth": 0,
              "ticks": ""
             }
            },
            "type": "parcoords"
           }
          ],
          "pie": [
           {
            "automargin": true,
            "type": "pie"
           }
          ],
          "scatter": [
           {
            "fillpattern": {
             "fillmode": "overlay",
             "size": 10,
             "solidity": 0.2
            },
            "type": "scatter"
           }
          ],
          "scatter3d": [
           {
            "line": {
             "colorbar": {
              "outlinewidth": 0,
              "ticks": ""
             }
            },
            "marker": {
             "colorbar": {
              "outlinewidth": 0,
              "ticks": ""
             }
            },
            "type": "scatter3d"
           }
          ],
          "scattercarpet": [
           {
            "marker": {
             "colorbar": {
              "outlinewidth": 0,
              "ticks": ""
             }
            },
            "type": "scattercarpet"
           }
          ],
          "scattergeo": [
           {
            "marker": {
             "colorbar": {
              "outlinewidth": 0,
              "ticks": ""
             }
            },
            "type": "scattergeo"
           }
          ],
          "scattergl": [
           {
            "marker": {
             "colorbar": {
              "outlinewidth": 0,
              "ticks": ""
             }
            },
            "type": "scattergl"
           }
          ],
          "scattermapbox": [
           {
            "marker": {
             "colorbar": {
              "outlinewidth": 0,
              "ticks": ""
             }
            },
            "type": "scattermapbox"
           }
          ],
          "scatterpolar": [
           {
            "marker": {
             "colorbar": {
              "outlinewidth": 0,
              "ticks": ""
             }
            },
            "type": "scatterpolar"
           }
          ],
          "scatterpolargl": [
           {
            "marker": {
             "colorbar": {
              "outlinewidth": 0,
              "ticks": ""
             }
            },
            "type": "scatterpolargl"
           }
          ],
          "scatterternary": [
           {
            "marker": {
             "colorbar": {
              "outlinewidth": 0,
              "ticks": ""
             }
            },
            "type": "scatterternary"
           }
          ],
          "surface": [
           {
            "colorbar": {
             "outlinewidth": 0,
             "ticks": ""
            },
            "colorscale": [
             [
              0,
              "#0d0887"
             ],
             [
              0.1111111111111111,
              "#46039f"
             ],
             [
              0.2222222222222222,
              "#7201a8"
             ],
             [
              0.3333333333333333,
              "#9c179e"
             ],
             [
              0.4444444444444444,
              "#bd3786"
             ],
             [
              0.5555555555555556,
              "#d8576b"
             ],
             [
              0.6666666666666666,
              "#ed7953"
             ],
             [
              0.7777777777777778,
              "#fb9f3a"
             ],
             [
              0.8888888888888888,
              "#fdca26"
             ],
             [
              1,
              "#f0f921"
             ]
            ],
            "type": "surface"
           }
          ],
          "table": [
           {
            "cells": {
             "fill": {
              "color": "#EBF0F8"
             },
             "line": {
              "color": "white"
             }
            },
            "header": {
             "fill": {
              "color": "#C8D4E3"
             },
             "line": {
              "color": "white"
             }
            },
            "type": "table"
           }
          ]
         },
         "layout": {
          "annotationdefaults": {
           "arrowcolor": "#2a3f5f",
           "arrowhead": 0,
           "arrowwidth": 1
          },
          "autotypenumbers": "strict",
          "coloraxis": {
           "colorbar": {
            "outlinewidth": 0,
            "ticks": ""
           }
          },
          "colorscale": {
           "diverging": [
            [
             0,
             "#8e0152"
            ],
            [
             0.1,
             "#c51b7d"
            ],
            [
             0.2,
             "#de77ae"
            ],
            [
             0.3,
             "#f1b6da"
            ],
            [
             0.4,
             "#fde0ef"
            ],
            [
             0.5,
             "#f7f7f7"
            ],
            [
             0.6,
             "#e6f5d0"
            ],
            [
             0.7,
             "#b8e186"
            ],
            [
             0.8,
             "#7fbc41"
            ],
            [
             0.9,
             "#4d9221"
            ],
            [
             1,
             "#276419"
            ]
           ],
           "sequential": [
            [
             0,
             "#0d0887"
            ],
            [
             0.1111111111111111,
             "#46039f"
            ],
            [
             0.2222222222222222,
             "#7201a8"
            ],
            [
             0.3333333333333333,
             "#9c179e"
            ],
            [
             0.4444444444444444,
             "#bd3786"
            ],
            [
             0.5555555555555556,
             "#d8576b"
            ],
            [
             0.6666666666666666,
             "#ed7953"
            ],
            [
             0.7777777777777778,
             "#fb9f3a"
            ],
            [
             0.8888888888888888,
             "#fdca26"
            ],
            [
             1,
             "#f0f921"
            ]
           ],
           "sequentialminus": [
            [
             0,
             "#0d0887"
            ],
            [
             0.1111111111111111,
             "#46039f"
            ],
            [
             0.2222222222222222,
             "#7201a8"
            ],
            [
             0.3333333333333333,
             "#9c179e"
            ],
            [
             0.4444444444444444,
             "#bd3786"
            ],
            [
             0.5555555555555556,
             "#d8576b"
            ],
            [
             0.6666666666666666,
             "#ed7953"
            ],
            [
             0.7777777777777778,
             "#fb9f3a"
            ],
            [
             0.8888888888888888,
             "#fdca26"
            ],
            [
             1,
             "#f0f921"
            ]
           ]
          },
          "colorway": [
           "#636efa",
           "#EF553B",
           "#00cc96",
           "#ab63fa",
           "#FFA15A",
           "#19d3f3",
           "#FF6692",
           "#B6E880",
           "#FF97FF",
           "#FECB52"
          ],
          "font": {
           "color": "#2a3f5f"
          },
          "geo": {
           "bgcolor": "white",
           "lakecolor": "white",
           "landcolor": "#E5ECF6",
           "showlakes": true,
           "showland": true,
           "subunitcolor": "white"
          },
          "hoverlabel": {
           "align": "left"
          },
          "hovermode": "closest",
          "mapbox": {
           "style": "light"
          },
          "paper_bgcolor": "white",
          "plot_bgcolor": "#E5ECF6",
          "polar": {
           "angularaxis": {
            "gridcolor": "white",
            "linecolor": "white",
            "ticks": ""
           },
           "bgcolor": "#E5ECF6",
           "radialaxis": {
            "gridcolor": "white",
            "linecolor": "white",
            "ticks": ""
           }
          },
          "scene": {
           "xaxis": {
            "backgroundcolor": "#E5ECF6",
            "gridcolor": "white",
            "gridwidth": 2,
            "linecolor": "white",
            "showbackground": true,
            "ticks": "",
            "zerolinecolor": "white"
           },
           "yaxis": {
            "backgroundcolor": "#E5ECF6",
            "gridcolor": "white",
            "gridwidth": 2,
            "linecolor": "white",
            "showbackground": true,
            "ticks": "",
            "zerolinecolor": "white"
           },
           "zaxis": {
            "backgroundcolor": "#E5ECF6",
            "gridcolor": "white",
            "gridwidth": 2,
            "linecolor": "white",
            "showbackground": true,
            "ticks": "",
            "zerolinecolor": "white"
           }
          },
          "shapedefaults": {
           "line": {
            "color": "#2a3f5f"
           }
          },
          "ternary": {
           "aaxis": {
            "gridcolor": "white",
            "linecolor": "white",
            "ticks": ""
           },
           "baxis": {
            "gridcolor": "white",
            "linecolor": "white",
            "ticks": ""
           },
           "bgcolor": "#E5ECF6",
           "caxis": {
            "gridcolor": "white",
            "linecolor": "white",
            "ticks": ""
           }
          },
          "title": {
           "x": 0.05
          },
          "xaxis": {
           "automargin": true,
           "gridcolor": "white",
           "linecolor": "white",
           "ticks": "",
           "title": {
            "standoff": 15
           },
           "zerolinecolor": "white",
           "zerolinewidth": 2
          },
          "yaxis": {
           "automargin": true,
           "gridcolor": "white",
           "linecolor": "white",
           "ticks": "",
           "title": {
            "standoff": 15
           },
           "zerolinecolor": "white",
           "zerolinewidth": 2
          }
         }
        },
        "title": {
         "text": "Data Distribution - Proportion (0.6, 0.4)"
        },
        "xaxis": {
         "tickmode": "array",
         "ticktext": [
          "B",
          "M"
         ],
         "tickvals": [
          0,
          1
         ],
         "title": {
          "text": "Class"
         }
        },
        "yaxis": {
         "title": {
          "text": "Count"
         }
        }
       }
      }
     },
     "metadata": {},
     "output_type": "display_data"
    },
    {
     "data": {
      "application/vnd.plotly.v1+json": {
       "config": {
        "plotlyServerURL": "https://plot.ly"
       },
       "data": [
        {
         "hoverinfo": "x+y+text",
         "marker": {
          "color": "#636EFA"
         },
         "name": "Original Set",
         "text": [
          "B",
          "M"
         ],
         "type": "bar",
         "width": 0.25,
         "x": [
          -0.25,
          0.75
         ],
         "y": [
          357,
          212
         ]
        },
        {
         "hoverinfo": "x+y+text",
         "marker": {
          "color": "#EF553B"
         },
         "name": "Training Set",
         "text": [
          "B",
          "M"
         ],
         "type": "bar",
         "width": 0.25,
         "x": [
          0,
          1
         ],
         "y": [
          285,
          170
         ]
        },
        {
         "hoverinfo": "x+y+text",
         "marker": {
          "color": "#00CC96"
         },
         "name": "Testing Set",
         "text": [
          "B",
          "M"
         ],
         "type": "bar",
         "width": 0.25,
         "x": [
          0.25,
          1.25
         ],
         "y": [
          72,
          42
         ]
        }
       ],
       "layout": {
        "barmode": "group",
        "legend": {
         "title": {
          "text": "Dataset"
         }
        },
        "template": {
         "data": {
          "bar": [
           {
            "error_x": {
             "color": "#2a3f5f"
            },
            "error_y": {
             "color": "#2a3f5f"
            },
            "marker": {
             "line": {
              "color": "#E5ECF6",
              "width": 0.5
             },
             "pattern": {
              "fillmode": "overlay",
              "size": 10,
              "solidity": 0.2
             }
            },
            "type": "bar"
           }
          ],
          "barpolar": [
           {
            "marker": {
             "line": {
              "color": "#E5ECF6",
              "width": 0.5
             },
             "pattern": {
              "fillmode": "overlay",
              "size": 10,
              "solidity": 0.2
             }
            },
            "type": "barpolar"
           }
          ],
          "carpet": [
           {
            "aaxis": {
             "endlinecolor": "#2a3f5f",
             "gridcolor": "white",
             "linecolor": "white",
             "minorgridcolor": "white",
             "startlinecolor": "#2a3f5f"
            },
            "baxis": {
             "endlinecolor": "#2a3f5f",
             "gridcolor": "white",
             "linecolor": "white",
             "minorgridcolor": "white",
             "startlinecolor": "#2a3f5f"
            },
            "type": "carpet"
           }
          ],
          "choropleth": [
           {
            "colorbar": {
             "outlinewidth": 0,
             "ticks": ""
            },
            "type": "choropleth"
           }
          ],
          "contour": [
           {
            "colorbar": {
             "outlinewidth": 0,
             "ticks": ""
            },
            "colorscale": [
             [
              0,
              "#0d0887"
             ],
             [
              0.1111111111111111,
              "#46039f"
             ],
             [
              0.2222222222222222,
              "#7201a8"
             ],
             [
              0.3333333333333333,
              "#9c179e"
             ],
             [
              0.4444444444444444,
              "#bd3786"
             ],
             [
              0.5555555555555556,
              "#d8576b"
             ],
             [
              0.6666666666666666,
              "#ed7953"
             ],
             [
              0.7777777777777778,
              "#fb9f3a"
             ],
             [
              0.8888888888888888,
              "#fdca26"
             ],
             [
              1,
              "#f0f921"
             ]
            ],
            "type": "contour"
           }
          ],
          "contourcarpet": [
           {
            "colorbar": {
             "outlinewidth": 0,
             "ticks": ""
            },
            "type": "contourcarpet"
           }
          ],
          "heatmap": [
           {
            "colorbar": {
             "outlinewidth": 0,
             "ticks": ""
            },
            "colorscale": [
             [
              0,
              "#0d0887"
             ],
             [
              0.1111111111111111,
              "#46039f"
             ],
             [
              0.2222222222222222,
              "#7201a8"
             ],
             [
              0.3333333333333333,
              "#9c179e"
             ],
             [
              0.4444444444444444,
              "#bd3786"
             ],
             [
              0.5555555555555556,
              "#d8576b"
             ],
             [
              0.6666666666666666,
              "#ed7953"
             ],
             [
              0.7777777777777778,
              "#fb9f3a"
             ],
             [
              0.8888888888888888,
              "#fdca26"
             ],
             [
              1,
              "#f0f921"
             ]
            ],
            "type": "heatmap"
           }
          ],
          "heatmapgl": [
           {
            "colorbar": {
             "outlinewidth": 0,
             "ticks": ""
            },
            "colorscale": [
             [
              0,
              "#0d0887"
             ],
             [
              0.1111111111111111,
              "#46039f"
             ],
             [
              0.2222222222222222,
              "#7201a8"
             ],
             [
              0.3333333333333333,
              "#9c179e"
             ],
             [
              0.4444444444444444,
              "#bd3786"
             ],
             [
              0.5555555555555556,
              "#d8576b"
             ],
             [
              0.6666666666666666,
              "#ed7953"
             ],
             [
              0.7777777777777778,
              "#fb9f3a"
             ],
             [
              0.8888888888888888,
              "#fdca26"
             ],
             [
              1,
              "#f0f921"
             ]
            ],
            "type": "heatmapgl"
           }
          ],
          "histogram": [
           {
            "marker": {
             "pattern": {
              "fillmode": "overlay",
              "size": 10,
              "solidity": 0.2
             }
            },
            "type": "histogram"
           }
          ],
          "histogram2d": [
           {
            "colorbar": {
             "outlinewidth": 0,
             "ticks": ""
            },
            "colorscale": [
             [
              0,
              "#0d0887"
             ],
             [
              0.1111111111111111,
              "#46039f"
             ],
             [
              0.2222222222222222,
              "#7201a8"
             ],
             [
              0.3333333333333333,
              "#9c179e"
             ],
             [
              0.4444444444444444,
              "#bd3786"
             ],
             [
              0.5555555555555556,
              "#d8576b"
             ],
             [
              0.6666666666666666,
              "#ed7953"
             ],
             [
              0.7777777777777778,
              "#fb9f3a"
             ],
             [
              0.8888888888888888,
              "#fdca26"
             ],
             [
              1,
              "#f0f921"
             ]
            ],
            "type": "histogram2d"
           }
          ],
          "histogram2dcontour": [
           {
            "colorbar": {
             "outlinewidth": 0,
             "ticks": ""
            },
            "colorscale": [
             [
              0,
              "#0d0887"
             ],
             [
              0.1111111111111111,
              "#46039f"
             ],
             [
              0.2222222222222222,
              "#7201a8"
             ],
             [
              0.3333333333333333,
              "#9c179e"
             ],
             [
              0.4444444444444444,
              "#bd3786"
             ],
             [
              0.5555555555555556,
              "#d8576b"
             ],
             [
              0.6666666666666666,
              "#ed7953"
             ],
             [
              0.7777777777777778,
              "#fb9f3a"
             ],
             [
              0.8888888888888888,
              "#fdca26"
             ],
             [
              1,
              "#f0f921"
             ]
            ],
            "type": "histogram2dcontour"
           }
          ],
          "mesh3d": [
           {
            "colorbar": {
             "outlinewidth": 0,
             "ticks": ""
            },
            "type": "mesh3d"
           }
          ],
          "parcoords": [
           {
            "line": {
             "colorbar": {
              "outlinewidth": 0,
              "ticks": ""
             }
            },
            "type": "parcoords"
           }
          ],
          "pie": [
           {
            "automargin": true,
            "type": "pie"
           }
          ],
          "scatter": [
           {
            "fillpattern": {
             "fillmode": "overlay",
             "size": 10,
             "solidity": 0.2
            },
            "type": "scatter"
           }
          ],
          "scatter3d": [
           {
            "line": {
             "colorbar": {
              "outlinewidth": 0,
              "ticks": ""
             }
            },
            "marker": {
             "colorbar": {
              "outlinewidth": 0,
              "ticks": ""
             }
            },
            "type": "scatter3d"
           }
          ],
          "scattercarpet": [
           {
            "marker": {
             "colorbar": {
              "outlinewidth": 0,
              "ticks": ""
             }
            },
            "type": "scattercarpet"
           }
          ],
          "scattergeo": [
           {
            "marker": {
             "colorbar": {
              "outlinewidth": 0,
              "ticks": ""
             }
            },
            "type": "scattergeo"
           }
          ],
          "scattergl": [
           {
            "marker": {
             "colorbar": {
              "outlinewidth": 0,
              "ticks": ""
             }
            },
            "type": "scattergl"
           }
          ],
          "scattermapbox": [
           {
            "marker": {
             "colorbar": {
              "outlinewidth": 0,
              "ticks": ""
             }
            },
            "type": "scattermapbox"
           }
          ],
          "scatterpolar": [
           {
            "marker": {
             "colorbar": {
              "outlinewidth": 0,
              "ticks": ""
             }
            },
            "type": "scatterpolar"
           }
          ],
          "scatterpolargl": [
           {
            "marker": {
             "colorbar": {
              "outlinewidth": 0,
              "ticks": ""
             }
            },
            "type": "scatterpolargl"
           }
          ],
          "scatterternary": [
           {
            "marker": {
             "colorbar": {
              "outlinewidth": 0,
              "ticks": ""
             }
            },
            "type": "scatterternary"
           }
          ],
          "surface": [
           {
            "colorbar": {
             "outlinewidth": 0,
             "ticks": ""
            },
            "colorscale": [
             [
              0,
              "#0d0887"
             ],
             [
              0.1111111111111111,
              "#46039f"
             ],
             [
              0.2222222222222222,
              "#7201a8"
             ],
             [
              0.3333333333333333,
              "#9c179e"
             ],
             [
              0.4444444444444444,
              "#bd3786"
             ],
             [
              0.5555555555555556,
              "#d8576b"
             ],
             [
              0.6666666666666666,
              "#ed7953"
             ],
             [
              0.7777777777777778,
              "#fb9f3a"
             ],
             [
              0.8888888888888888,
              "#fdca26"
             ],
             [
              1,
              "#f0f921"
             ]
            ],
            "type": "surface"
           }
          ],
          "table": [
           {
            "cells": {
             "fill": {
              "color": "#EBF0F8"
             },
             "line": {
              "color": "white"
             }
            },
            "header": {
             "fill": {
              "color": "#C8D4E3"
             },
             "line": {
              "color": "white"
             }
            },
            "type": "table"
           }
          ]
         },
         "layout": {
          "annotationdefaults": {
           "arrowcolor": "#2a3f5f",
           "arrowhead": 0,
           "arrowwidth": 1
          },
          "autotypenumbers": "strict",
          "coloraxis": {
           "colorbar": {
            "outlinewidth": 0,
            "ticks": ""
           }
          },
          "colorscale": {
           "diverging": [
            [
             0,
             "#8e0152"
            ],
            [
             0.1,
             "#c51b7d"
            ],
            [
             0.2,
             "#de77ae"
            ],
            [
             0.3,
             "#f1b6da"
            ],
            [
             0.4,
             "#fde0ef"
            ],
            [
             0.5,
             "#f7f7f7"
            ],
            [
             0.6,
             "#e6f5d0"
            ],
            [
             0.7,
             "#b8e186"
            ],
            [
             0.8,
             "#7fbc41"
            ],
            [
             0.9,
             "#4d9221"
            ],
            [
             1,
             "#276419"
            ]
           ],
           "sequential": [
            [
             0,
             "#0d0887"
            ],
            [
             0.1111111111111111,
             "#46039f"
            ],
            [
             0.2222222222222222,
             "#7201a8"
            ],
            [
             0.3333333333333333,
             "#9c179e"
            ],
            [
             0.4444444444444444,
             "#bd3786"
            ],
            [
             0.5555555555555556,
             "#d8576b"
            ],
            [
             0.6666666666666666,
             "#ed7953"
            ],
            [
             0.7777777777777778,
             "#fb9f3a"
            ],
            [
             0.8888888888888888,
             "#fdca26"
            ],
            [
             1,
             "#f0f921"
            ]
           ],
           "sequentialminus": [
            [
             0,
             "#0d0887"
            ],
            [
             0.1111111111111111,
             "#46039f"
            ],
            [
             0.2222222222222222,
             "#7201a8"
            ],
            [
             0.3333333333333333,
             "#9c179e"
            ],
            [
             0.4444444444444444,
             "#bd3786"
            ],
            [
             0.5555555555555556,
             "#d8576b"
            ],
            [
             0.6666666666666666,
             "#ed7953"
            ],
            [
             0.7777777777777778,
             "#fb9f3a"
            ],
            [
             0.8888888888888888,
             "#fdca26"
            ],
            [
             1,
             "#f0f921"
            ]
           ]
          },
          "colorway": [
           "#636efa",
           "#EF553B",
           "#00cc96",
           "#ab63fa",
           "#FFA15A",
           "#19d3f3",
           "#FF6692",
           "#B6E880",
           "#FF97FF",
           "#FECB52"
          ],
          "font": {
           "color": "#2a3f5f"
          },
          "geo": {
           "bgcolor": "white",
           "lakecolor": "white",
           "landcolor": "#E5ECF6",
           "showlakes": true,
           "showland": true,
           "subunitcolor": "white"
          },
          "hoverlabel": {
           "align": "left"
          },
          "hovermode": "closest",
          "mapbox": {
           "style": "light"
          },
          "paper_bgcolor": "white",
          "plot_bgcolor": "#E5ECF6",
          "polar": {
           "angularaxis": {
            "gridcolor": "white",
            "linecolor": "white",
            "ticks": ""
           },
           "bgcolor": "#E5ECF6",
           "radialaxis": {
            "gridcolor": "white",
            "linecolor": "white",
            "ticks": ""
           }
          },
          "scene": {
           "xaxis": {
            "backgroundcolor": "#E5ECF6",
            "gridcolor": "white",
            "gridwidth": 2,
            "linecolor": "white",
            "showbackground": true,
            "ticks": "",
            "zerolinecolor": "white"
           },
           "yaxis": {
            "backgroundcolor": "#E5ECF6",
            "gridcolor": "white",
            "gridwidth": 2,
            "linecolor": "white",
            "showbackground": true,
            "ticks": "",
            "zerolinecolor": "white"
           },
           "zaxis": {
            "backgroundcolor": "#E5ECF6",
            "gridcolor": "white",
            "gridwidth": 2,
            "linecolor": "white",
            "showbackground": true,
            "ticks": "",
            "zerolinecolor": "white"
           }
          },
          "shapedefaults": {
           "line": {
            "color": "#2a3f5f"
           }
          },
          "ternary": {
           "aaxis": {
            "gridcolor": "white",
            "linecolor": "white",
            "ticks": ""
           },
           "baxis": {
            "gridcolor": "white",
            "linecolor": "white",
            "ticks": ""
           },
           "bgcolor": "#E5ECF6",
           "caxis": {
            "gridcolor": "white",
            "linecolor": "white",
            "ticks": ""
           }
          },
          "title": {
           "x": 0.05
          },
          "xaxis": {
           "automargin": true,
           "gridcolor": "white",
           "linecolor": "white",
           "ticks": "",
           "title": {
            "standoff": 15
           },
           "zerolinecolor": "white",
           "zerolinewidth": 2
          },
          "yaxis": {
           "automargin": true,
           "gridcolor": "white",
           "linecolor": "white",
           "ticks": "",
           "title": {
            "standoff": 15
           },
           "zerolinecolor": "white",
           "zerolinewidth": 2
          }
         }
        },
        "title": {
         "text": "Data Distribution - Proportion (0.8, 0.2)"
        },
        "xaxis": {
         "tickmode": "array",
         "ticktext": [
          "B",
          "M"
         ],
         "tickvals": [
          0,
          1
         ],
         "title": {
          "text": "Class"
         }
        },
        "yaxis": {
         "title": {
          "text": "Count"
         }
        }
       }
      }
     },
     "metadata": {},
     "output_type": "display_data"
    },
    {
     "data": {
      "application/vnd.plotly.v1+json": {
       "config": {
        "plotlyServerURL": "https://plot.ly"
       },
       "data": [
        {
         "hoverinfo": "x+y+text",
         "marker": {
          "color": "#636EFA"
         },
         "name": "Original Set",
         "text": [
          "B",
          "M"
         ],
         "type": "bar",
         "width": 0.25,
         "x": [
          -0.25,
          0.75
         ],
         "y": [
          357,
          212
         ]
        },
        {
         "hoverinfo": "x+y+text",
         "marker": {
          "color": "#EF553B"
         },
         "name": "Training Set",
         "text": [
          "B",
          "M"
         ],
         "type": "bar",
         "width": 0.25,
         "x": [
          0,
          1
         ],
         "y": [
          321,
          191
         ]
        },
        {
         "hoverinfo": "x+y+text",
         "marker": {
          "color": "#00CC96"
         },
         "name": "Testing Set",
         "text": [
          "B",
          "M"
         ],
         "type": "bar",
         "width": 0.25,
         "x": [
          0.25,
          1.25
         ],
         "y": [
          36,
          21
         ]
        }
       ],
       "layout": {
        "barmode": "group",
        "legend": {
         "title": {
          "text": "Dataset"
         }
        },
        "template": {
         "data": {
          "bar": [
           {
            "error_x": {
             "color": "#2a3f5f"
            },
            "error_y": {
             "color": "#2a3f5f"
            },
            "marker": {
             "line": {
              "color": "#E5ECF6",
              "width": 0.5
             },
             "pattern": {
              "fillmode": "overlay",
              "size": 10,
              "solidity": 0.2
             }
            },
            "type": "bar"
           }
          ],
          "barpolar": [
           {
            "marker": {
             "line": {
              "color": "#E5ECF6",
              "width": 0.5
             },
             "pattern": {
              "fillmode": "overlay",
              "size": 10,
              "solidity": 0.2
             }
            },
            "type": "barpolar"
           }
          ],
          "carpet": [
           {
            "aaxis": {
             "endlinecolor": "#2a3f5f",
             "gridcolor": "white",
             "linecolor": "white",
             "minorgridcolor": "white",
             "startlinecolor": "#2a3f5f"
            },
            "baxis": {
             "endlinecolor": "#2a3f5f",
             "gridcolor": "white",
             "linecolor": "white",
             "minorgridcolor": "white",
             "startlinecolor": "#2a3f5f"
            },
            "type": "carpet"
           }
          ],
          "choropleth": [
           {
            "colorbar": {
             "outlinewidth": 0,
             "ticks": ""
            },
            "type": "choropleth"
           }
          ],
          "contour": [
           {
            "colorbar": {
             "outlinewidth": 0,
             "ticks": ""
            },
            "colorscale": [
             [
              0,
              "#0d0887"
             ],
             [
              0.1111111111111111,
              "#46039f"
             ],
             [
              0.2222222222222222,
              "#7201a8"
             ],
             [
              0.3333333333333333,
              "#9c179e"
             ],
             [
              0.4444444444444444,
              "#bd3786"
             ],
             [
              0.5555555555555556,
              "#d8576b"
             ],
             [
              0.6666666666666666,
              "#ed7953"
             ],
             [
              0.7777777777777778,
              "#fb9f3a"
             ],
             [
              0.8888888888888888,
              "#fdca26"
             ],
             [
              1,
              "#f0f921"
             ]
            ],
            "type": "contour"
           }
          ],
          "contourcarpet": [
           {
            "colorbar": {
             "outlinewidth": 0,
             "ticks": ""
            },
            "type": "contourcarpet"
           }
          ],
          "heatmap": [
           {
            "colorbar": {
             "outlinewidth": 0,
             "ticks": ""
            },
            "colorscale": [
             [
              0,
              "#0d0887"
             ],
             [
              0.1111111111111111,
              "#46039f"
             ],
             [
              0.2222222222222222,
              "#7201a8"
             ],
             [
              0.3333333333333333,
              "#9c179e"
             ],
             [
              0.4444444444444444,
              "#bd3786"
             ],
             [
              0.5555555555555556,
              "#d8576b"
             ],
             [
              0.6666666666666666,
              "#ed7953"
             ],
             [
              0.7777777777777778,
              "#fb9f3a"
             ],
             [
              0.8888888888888888,
              "#fdca26"
             ],
             [
              1,
              "#f0f921"
             ]
            ],
            "type": "heatmap"
           }
          ],
          "heatmapgl": [
           {
            "colorbar": {
             "outlinewidth": 0,
             "ticks": ""
            },
            "colorscale": [
             [
              0,
              "#0d0887"
             ],
             [
              0.1111111111111111,
              "#46039f"
             ],
             [
              0.2222222222222222,
              "#7201a8"
             ],
             [
              0.3333333333333333,
              "#9c179e"
             ],
             [
              0.4444444444444444,
              "#bd3786"
             ],
             [
              0.5555555555555556,
              "#d8576b"
             ],
             [
              0.6666666666666666,
              "#ed7953"
             ],
             [
              0.7777777777777778,
              "#fb9f3a"
             ],
             [
              0.8888888888888888,
              "#fdca26"
             ],
             [
              1,
              "#f0f921"
             ]
            ],
            "type": "heatmapgl"
           }
          ],
          "histogram": [
           {
            "marker": {
             "pattern": {
              "fillmode": "overlay",
              "size": 10,
              "solidity": 0.2
             }
            },
            "type": "histogram"
           }
          ],
          "histogram2d": [
           {
            "colorbar": {
             "outlinewidth": 0,
             "ticks": ""
            },
            "colorscale": [
             [
              0,
              "#0d0887"
             ],
             [
              0.1111111111111111,
              "#46039f"
             ],
             [
              0.2222222222222222,
              "#7201a8"
             ],
             [
              0.3333333333333333,
              "#9c179e"
             ],
             [
              0.4444444444444444,
              "#bd3786"
             ],
             [
              0.5555555555555556,
              "#d8576b"
             ],
             [
              0.6666666666666666,
              "#ed7953"
             ],
             [
              0.7777777777777778,
              "#fb9f3a"
             ],
             [
              0.8888888888888888,
              "#fdca26"
             ],
             [
              1,
              "#f0f921"
             ]
            ],
            "type": "histogram2d"
           }
          ],
          "histogram2dcontour": [
           {
            "colorbar": {
             "outlinewidth": 0,
             "ticks": ""
            },
            "colorscale": [
             [
              0,
              "#0d0887"
             ],
             [
              0.1111111111111111,
              "#46039f"
             ],
             [
              0.2222222222222222,
              "#7201a8"
             ],
             [
              0.3333333333333333,
              "#9c179e"
             ],
             [
              0.4444444444444444,
              "#bd3786"
             ],
             [
              0.5555555555555556,
              "#d8576b"
             ],
             [
              0.6666666666666666,
              "#ed7953"
             ],
             [
              0.7777777777777778,
              "#fb9f3a"
             ],
             [
              0.8888888888888888,
              "#fdca26"
             ],
             [
              1,
              "#f0f921"
             ]
            ],
            "type": "histogram2dcontour"
           }
          ],
          "mesh3d": [
           {
            "colorbar": {
             "outlinewidth": 0,
             "ticks": ""
            },
            "type": "mesh3d"
           }
          ],
          "parcoords": [
           {
            "line": {
             "colorbar": {
              "outlinewidth": 0,
              "ticks": ""
             }
            },
            "type": "parcoords"
           }
          ],
          "pie": [
           {
            "automargin": true,
            "type": "pie"
           }
          ],
          "scatter": [
           {
            "fillpattern": {
             "fillmode": "overlay",
             "size": 10,
             "solidity": 0.2
            },
            "type": "scatter"
           }
          ],
          "scatter3d": [
           {
            "line": {
             "colorbar": {
              "outlinewidth": 0,
              "ticks": ""
             }
            },
            "marker": {
             "colorbar": {
              "outlinewidth": 0,
              "ticks": ""
             }
            },
            "type": "scatter3d"
           }
          ],
          "scattercarpet": [
           {
            "marker": {
             "colorbar": {
              "outlinewidth": 0,
              "ticks": ""
             }
            },
            "type": "scattercarpet"
           }
          ],
          "scattergeo": [
           {
            "marker": {
             "colorbar": {
              "outlinewidth": 0,
              "ticks": ""
             }
            },
            "type": "scattergeo"
           }
          ],
          "scattergl": [
           {
            "marker": {
             "colorbar": {
              "outlinewidth": 0,
              "ticks": ""
             }
            },
            "type": "scattergl"
           }
          ],
          "scattermapbox": [
           {
            "marker": {
             "colorbar": {
              "outlinewidth": 0,
              "ticks": ""
             }
            },
            "type": "scattermapbox"
           }
          ],
          "scatterpolar": [
           {
            "marker": {
             "colorbar": {
              "outlinewidth": 0,
              "ticks": ""
             }
            },
            "type": "scatterpolar"
           }
          ],
          "scatterpolargl": [
           {
            "marker": {
             "colorbar": {
              "outlinewidth": 0,
              "ticks": ""
             }
            },
            "type": "scatterpolargl"
           }
          ],
          "scatterternary": [
           {
            "marker": {
             "colorbar": {
              "outlinewidth": 0,
              "ticks": ""
             }
            },
            "type": "scatterternary"
           }
          ],
          "surface": [
           {
            "colorbar": {
             "outlinewidth": 0,
             "ticks": ""
            },
            "colorscale": [
             [
              0,
              "#0d0887"
             ],
             [
              0.1111111111111111,
              "#46039f"
             ],
             [
              0.2222222222222222,
              "#7201a8"
             ],
             [
              0.3333333333333333,
              "#9c179e"
             ],
             [
              0.4444444444444444,
              "#bd3786"
             ],
             [
              0.5555555555555556,
              "#d8576b"
             ],
             [
              0.6666666666666666,
              "#ed7953"
             ],
             [
              0.7777777777777778,
              "#fb9f3a"
             ],
             [
              0.8888888888888888,
              "#fdca26"
             ],
             [
              1,
              "#f0f921"
             ]
            ],
            "type": "surface"
           }
          ],
          "table": [
           {
            "cells": {
             "fill": {
              "color": "#EBF0F8"
             },
             "line": {
              "color": "white"
             }
            },
            "header": {
             "fill": {
              "color": "#C8D4E3"
             },
             "line": {
              "color": "white"
             }
            },
            "type": "table"
           }
          ]
         },
         "layout": {
          "annotationdefaults": {
           "arrowcolor": "#2a3f5f",
           "arrowhead": 0,
           "arrowwidth": 1
          },
          "autotypenumbers": "strict",
          "coloraxis": {
           "colorbar": {
            "outlinewidth": 0,
            "ticks": ""
           }
          },
          "colorscale": {
           "diverging": [
            [
             0,
             "#8e0152"
            ],
            [
             0.1,
             "#c51b7d"
            ],
            [
             0.2,
             "#de77ae"
            ],
            [
             0.3,
             "#f1b6da"
            ],
            [
             0.4,
             "#fde0ef"
            ],
            [
             0.5,
             "#f7f7f7"
            ],
            [
             0.6,
             "#e6f5d0"
            ],
            [
             0.7,
             "#b8e186"
            ],
            [
             0.8,
             "#7fbc41"
            ],
            [
             0.9,
             "#4d9221"
            ],
            [
             1,
             "#276419"
            ]
           ],
           "sequential": [
            [
             0,
             "#0d0887"
            ],
            [
             0.1111111111111111,
             "#46039f"
            ],
            [
             0.2222222222222222,
             "#7201a8"
            ],
            [
             0.3333333333333333,
             "#9c179e"
            ],
            [
             0.4444444444444444,
             "#bd3786"
            ],
            [
             0.5555555555555556,
             "#d8576b"
            ],
            [
             0.6666666666666666,
             "#ed7953"
            ],
            [
             0.7777777777777778,
             "#fb9f3a"
            ],
            [
             0.8888888888888888,
             "#fdca26"
            ],
            [
             1,
             "#f0f921"
            ]
           ],
           "sequentialminus": [
            [
             0,
             "#0d0887"
            ],
            [
             0.1111111111111111,
             "#46039f"
            ],
            [
             0.2222222222222222,
             "#7201a8"
            ],
            [
             0.3333333333333333,
             "#9c179e"
            ],
            [
             0.4444444444444444,
             "#bd3786"
            ],
            [
             0.5555555555555556,
             "#d8576b"
            ],
            [
             0.6666666666666666,
             "#ed7953"
            ],
            [
             0.7777777777777778,
             "#fb9f3a"
            ],
            [
             0.8888888888888888,
             "#fdca26"
            ],
            [
             1,
             "#f0f921"
            ]
           ]
          },
          "colorway": [
           "#636efa",
           "#EF553B",
           "#00cc96",
           "#ab63fa",
           "#FFA15A",
           "#19d3f3",
           "#FF6692",
           "#B6E880",
           "#FF97FF",
           "#FECB52"
          ],
          "font": {
           "color": "#2a3f5f"
          },
          "geo": {
           "bgcolor": "white",
           "lakecolor": "white",
           "landcolor": "#E5ECF6",
           "showlakes": true,
           "showland": true,
           "subunitcolor": "white"
          },
          "hoverlabel": {
           "align": "left"
          },
          "hovermode": "closest",
          "mapbox": {
           "style": "light"
          },
          "paper_bgcolor": "white",
          "plot_bgcolor": "#E5ECF6",
          "polar": {
           "angularaxis": {
            "gridcolor": "white",
            "linecolor": "white",
            "ticks": ""
           },
           "bgcolor": "#E5ECF6",
           "radialaxis": {
            "gridcolor": "white",
            "linecolor": "white",
            "ticks": ""
           }
          },
          "scene": {
           "xaxis": {
            "backgroundcolor": "#E5ECF6",
            "gridcolor": "white",
            "gridwidth": 2,
            "linecolor": "white",
            "showbackground": true,
            "ticks": "",
            "zerolinecolor": "white"
           },
           "yaxis": {
            "backgroundcolor": "#E5ECF6",
            "gridcolor": "white",
            "gridwidth": 2,
            "linecolor": "white",
            "showbackground": true,
            "ticks": "",
            "zerolinecolor": "white"
           },
           "zaxis": {
            "backgroundcolor": "#E5ECF6",
            "gridcolor": "white",
            "gridwidth": 2,
            "linecolor": "white",
            "showbackground": true,
            "ticks": "",
            "zerolinecolor": "white"
           }
          },
          "shapedefaults": {
           "line": {
            "color": "#2a3f5f"
           }
          },
          "ternary": {
           "aaxis": {
            "gridcolor": "white",
            "linecolor": "white",
            "ticks": ""
           },
           "baxis": {
            "gridcolor": "white",
            "linecolor": "white",
            "ticks": ""
           },
           "bgcolor": "#E5ECF6",
           "caxis": {
            "gridcolor": "white",
            "linecolor": "white",
            "ticks": ""
           }
          },
          "title": {
           "x": 0.05
          },
          "xaxis": {
           "automargin": true,
           "gridcolor": "white",
           "linecolor": "white",
           "ticks": "",
           "title": {
            "standoff": 15
           },
           "zerolinecolor": "white",
           "zerolinewidth": 2
          },
          "yaxis": {
           "automargin": true,
           "gridcolor": "white",
           "linecolor": "white",
           "ticks": "",
           "title": {
            "standoff": 15
           },
           "zerolinecolor": "white",
           "zerolinewidth": 2
          }
         }
        },
        "title": {
         "text": "Data Distribution - Proportion (0.9, 0.1)"
        },
        "xaxis": {
         "tickmode": "array",
         "ticktext": [
          "B",
          "M"
         ],
         "tickvals": [
          0,
          1
         ],
         "title": {
          "text": "Class"
         }
        },
        "yaxis": {
         "title": {
          "text": "Count"
         }
        }
       }
      }
     },
     "metadata": {},
     "output_type": "display_data"
    }
   ],
   "source": [
    "visualize_distribution_plotly(datasets, split_ratios, labels_data)\n"
   ]
  },
  {
   "cell_type": "markdown",
   "metadata": {},
   "source": [
    "# **3. Building the decision tree classifiers**\n"
   ]
  },
  {
   "cell_type": "markdown",
   "metadata": {},
   "source": [
    "## **3.1 Training model decision tree classifiers with different split ratios**\n"
   ]
  },
  {
   "cell_type": "code",
   "execution_count": 333,
   "metadata": {},
   "outputs": [],
   "source": [
    "def build_decision_tree_classifiers(datasets, split_ratios, random_state=42):\n",
    "    \"\"\"\n",
    "    Builds and trains decision tree classifiers for different train/test split ratios.\n",
    "\n",
    "    Args:\n",
    "        datasets (list of tuples): A list of tuples, each containing the training and testing features and labels.\n",
    "        split_ratios (list of tuples): A list of tuples representing the train/test split ratios.\n",
    "        random_state (int, optional): Controls the randomness of the estimator. Defaults to 42.\n",
    "\n",
    "    Returns:\n",
    "        list: A list of trained DecisionTreeClassifier models.\n",
    "    \"\"\"\n",
    "\n",
    "    # Initialize an empty list to store the trained models\n",
    "    list_models: list[DecisionTreeClassifier] = []\n",
    "\n",
    "    # Iterate over each dataset and corresponding split ratio\n",
    "    for (feature_train, _, label_train, _), (train_size, test_size) in zip(\n",
    "        datasets, split_ratios\n",
    "    ):\n",
    "\n",
    "        # Initialize a Decision Tree classifier with entropy as the criterion and a fixed random state\n",
    "        model = DecisionTreeClassifier(\n",
    "            criterion=\"entropy\",  # Use 'entropy' to measure the quality of a split\n",
    "            splitter=\"best\",  # Choose the best split at each node\n",
    "            random_state=random_state,  # Ensure reproducibility of the model\n",
    "        )\n",
    "\n",
    "        # Fit the model on the training data\n",
    "        model.fit(feature_train, label_train)\n",
    "\n",
    "        # Append the trained model to the list of models\n",
    "        list_models.append(model)\n",
    "\n",
    "        # Define the filename for saving the model, including the train/test split in the name\n",
    "        model_filename = f\"model\\split_ratios_ver\\model_decision_tree_{int(train_size*100)}_{int(test_size*100)}.pkl\"\n",
    "\n",
    "        # Save the trained model to a file using joblib\n",
    "        joblib.dump(model, model_filename)\n",
    "\n",
    "    # Return the list of trained models\n",
    "    return list_models\n"
   ]
  },
  {
   "cell_type": "code",
   "execution_count": 334,
   "metadata": {},
   "outputs": [],
   "source": [
    "list_models = build_decision_tree_classifiers(datasets, split_ratios)\n"
   ]
  },
  {
   "cell_type": "markdown",
   "metadata": {},
   "source": [
    "## **3.2 Visualize decision trees with different split ratios**\n"
   ]
  },
  {
   "cell_type": "code",
   "execution_count": 335,
   "metadata": {},
   "outputs": [],
   "source": [
    "def visualize_decision_tree(list_models, split_ratios, feature_name, class_name):\n",
    "    \"\"\"\n",
    "    Visualizes and saves decision tree models for different train/test splits.\n",
    "\n",
    "    Args:\n",
    "        list_models (list): A list of trained decision tree models.\n",
    "        split_ratios (list of tuples): A list of tuples, each containing the train/test split ratios as floats.\n",
    "        feature_name (list): A list of feature names for the dataset.\n",
    "        class_name (list): A list of class names corresponding to the target labels.\n",
    "    \"\"\"\n",
    "\n",
    "    # Iterate over each model and corresponding split ratio\n",
    "    for model, proportion in zip(list_models, split_ratios):\n",
    "\n",
    "        # Export the decision tree model as dot data with specific visual parameters\n",
    "        dot_data = export_graphviz(\n",
    "            model,  # The decision tree model to be visualized\n",
    "            feature_names=feature_name,  # Feature names used in the model\n",
    "            class_names=class_name,  # Class names for the target labels\n",
    "            filled=True,  # Fill nodes with colors\n",
    "            rounded=True,  # Round node shapes for better visualization\n",
    "            special_characters=True,  # Allow special characters in the graph\n",
    "        )\n",
    "\n",
    "        # Create a graph object from the dot data\n",
    "        graph = graphviz.Source(dot_data)\n",
    "        graph.engine = \"dot\"  # Ensure 'dot' engine is used to render the graph\n",
    "\n",
    "        # Render the graph to a file\n",
    "        graph.render(\n",
    "            f\"output/split_ratios_graphviz/graph_model_{int(proportion[0]*100)}_{int(proportion[1]*100)}\",  # File path and name\n",
    "            format=\"png\",  # Save the graph as a PNG image\n",
    "            cleanup=True,  # Remove temporary files created during the process\n",
    "        )\n",
    "\n",
    "        # Display the graph within the Jupyter notebook (or other interactive environment)\n",
    "        display(graph)\n",
    "\n",
    "        # Print a message indicating the completion of the visualization process for the current split ratio\n",
    "        print(\n",
    "            f\"Decision tree classifier for train/test split {int(proportion[0]*100)}:{int(proportion[1]*100)} built, visualized, and saved.\"\n",
    "        )\n"
   ]
  },
  {
   "cell_type": "code",
   "execution_count": 336,
   "metadata": {},
   "outputs": [
    {
     "data": {
      "image/svg+xml": [
       "<?xml version=\"1.0\" encoding=\"UTF-8\" standalone=\"no\"?>\n",
       "<!DOCTYPE svg PUBLIC \"-//W3C//DTD SVG 1.1//EN\"\n",
       " \"http://www.w3.org/Graphics/SVG/1.1/DTD/svg11.dtd\">\n",
       "<!-- Generated by graphviz version 12.1.0 (20240811.2233)\n",
       " -->\n",
       "<!-- Title: Tree Pages: 1 -->\n",
       "<svg width=\"837pt\" height=\"649pt\"\n",
       " viewBox=\"0.00 0.00 837.38 649.00\" xmlns=\"http://www.w3.org/2000/svg\" xmlns:xlink=\"http://www.w3.org/1999/xlink\">\n",
       "<g id=\"graph0\" class=\"graph\" transform=\"scale(1 1) rotate(0) translate(4 645)\">\n",
       "<title>Tree</title>\n",
       "<polygon fill=\"white\" stroke=\"none\" points=\"-4,4 -4,-645 833.38,-645 833.38,4 -4,4\"/>\n",
       "<!-- 0 -->\n",
       "<g id=\"node1\" class=\"node\">\n",
       "<title>0</title>\n",
       "<path fill=\"#f5ccb0\" stroke=\"black\" d=\"M489.75,-641C489.75,-641 397.25,-641 397.25,-641 391.25,-641 385.25,-635 385.25,-629 385.25,-629 385.25,-575 385.25,-575 385.25,-569 391.25,-563 397.25,-563 397.25,-563 489.75,-563 489.75,-563 495.75,-563 501.75,-569 501.75,-575 501.75,-575 501.75,-629 501.75,-629 501.75,-635 495.75,-641 489.75,-641\"/>\n",
       "<text text-anchor=\"start\" x=\"409\" y=\"-624.7\" font-family=\"Helvetica,sans-Serif\" font-size=\"14.00\">x</text>\n",
       "<text text-anchor=\"start\" x=\"415.75\" y=\"-624.7\" font-family=\"Helvetica,sans-Serif\" baseline-shift=\"sub\" font-size=\"14.00\">22</text>\n",
       "<text text-anchor=\"start\" x=\"429.25\" y=\"-624.7\" font-family=\"Helvetica,sans-Serif\" font-size=\"14.00\"> ≤ 103.6</text>\n",
       "<text text-anchor=\"start\" x=\"396.25\" y=\"-610.7\" font-family=\"Helvetica,sans-Serif\" font-size=\"14.00\">entropy = 0.954</text>\n",
       "<text text-anchor=\"start\" x=\"398.88\" y=\"-596.7\" font-family=\"Helvetica,sans-Serif\" font-size=\"14.00\">samples = 227</text>\n",
       "<text text-anchor=\"start\" x=\"393.25\" y=\"-582.7\" font-family=\"Helvetica,sans-Serif\" font-size=\"14.00\">value = [142, 85]</text>\n",
       "<text text-anchor=\"start\" x=\"399.25\" y=\"-568.7\" font-family=\"Helvetica,sans-Serif\" font-size=\"14.00\">class = Benign</text>\n",
       "</g>\n",
       "<!-- 1 -->\n",
       "<g id=\"node2\" class=\"node\">\n",
       "<title>1</title>\n",
       "<path fill=\"#e6853f\" stroke=\"black\" d=\"M416.75,-527C416.75,-527 330.25,-527 330.25,-527 324.25,-527 318.25,-521 318.25,-515 318.25,-515 318.25,-461 318.25,-461 318.25,-455 324.25,-449 330.25,-449 330.25,-449 416.75,-449 416.75,-449 422.75,-449 428.75,-455 428.75,-461 428.75,-461 428.75,-515 428.75,-515 428.75,-521 422.75,-527 416.75,-527\"/>\n",
       "<text text-anchor=\"start\" x=\"339.38\" y=\"-510.7\" font-family=\"Helvetica,sans-Serif\" font-size=\"14.00\">x</text>\n",
       "<text text-anchor=\"start\" x=\"346.12\" y=\"-510.7\" font-family=\"Helvetica,sans-Serif\" baseline-shift=\"sub\" font-size=\"14.00\">29</text>\n",
       "<text text-anchor=\"start\" x=\"359.62\" y=\"-510.7\" font-family=\"Helvetica,sans-Serif\" font-size=\"14.00\"> ≤ 0.117</text>\n",
       "<text text-anchor=\"start\" x=\"326.25\" y=\"-496.7\" font-family=\"Helvetica,sans-Serif\" font-size=\"14.00\">entropy = 0.194</text>\n",
       "<text text-anchor=\"start\" x=\"328.88\" y=\"-482.7\" font-family=\"Helvetica,sans-Serif\" font-size=\"14.00\">samples = 134</text>\n",
       "<text text-anchor=\"start\" x=\"327\" y=\"-468.7\" font-family=\"Helvetica,sans-Serif\" font-size=\"14.00\">value = [130, 4]</text>\n",
       "<text text-anchor=\"start\" x=\"329.25\" y=\"-454.7\" font-family=\"Helvetica,sans-Serif\" font-size=\"14.00\">class = Benign</text>\n",
       "</g>\n",
       "<!-- 0&#45;&gt;1 -->\n",
       "<g id=\"edge1\" class=\"edge\">\n",
       "<title>0&#45;&gt;1</title>\n",
       "<path fill=\"none\" stroke=\"black\" d=\"M419.61,-562.77C414.43,-554.48 408.88,-545.61 403.5,-537.01\"/>\n",
       "<polygon fill=\"black\" stroke=\"black\" points=\"406.59,-535.35 398.33,-528.72 400.66,-539.06 406.59,-535.35\"/>\n",
       "<text text-anchor=\"middle\" x=\"391.9\" y=\"-546.37\" font-family=\"Helvetica,sans-Serif\" font-size=\"14.00\">True</text>\n",
       "</g>\n",
       "<!-- 10 -->\n",
       "<g id=\"node11\" class=\"node\">\n",
       "<title>10</title>\n",
       "<path fill=\"#56ace9\" stroke=\"black\" d=\"M619.38,-527C619.38,-527 521.62,-527 521.62,-527 515.62,-527 509.62,-521 509.62,-515 509.62,-515 509.62,-461 509.62,-461 509.62,-455 515.62,-449 521.62,-449 521.62,-449 619.38,-449 619.38,-449 625.38,-449 631.38,-455 631.38,-461 631.38,-461 631.38,-515 631.38,-515 631.38,-521 625.38,-527 619.38,-527\"/>\n",
       "<text text-anchor=\"start\" x=\"532.62\" y=\"-510.7\" font-family=\"Helvetica,sans-Serif\" font-size=\"14.00\">x</text>\n",
       "<text text-anchor=\"start\" x=\"539.38\" y=\"-510.7\" font-family=\"Helvetica,sans-Serif\" baseline-shift=\"sub\" font-size=\"14.00\">22</text>\n",
       "<text text-anchor=\"start\" x=\"552.88\" y=\"-510.7\" font-family=\"Helvetica,sans-Serif\" font-size=\"14.00\"> ≤ 114.65</text>\n",
       "<text text-anchor=\"start\" x=\"523.25\" y=\"-496.7\" font-family=\"Helvetica,sans-Serif\" font-size=\"14.00\">entropy = 0.555</text>\n",
       "<text text-anchor=\"start\" x=\"529.62\" y=\"-482.7\" font-family=\"Helvetica,sans-Serif\" font-size=\"14.00\">samples = 93</text>\n",
       "<text text-anchor=\"start\" x=\"524\" y=\"-468.7\" font-family=\"Helvetica,sans-Serif\" font-size=\"14.00\">value = [12, 81]</text>\n",
       "<text text-anchor=\"start\" x=\"517.62\" y=\"-454.7\" font-family=\"Helvetica,sans-Serif\" font-size=\"14.00\">class = Malignant</text>\n",
       "</g>\n",
       "<!-- 0&#45;&gt;10 -->\n",
       "<g id=\"edge10\" class=\"edge\">\n",
       "<title>0&#45;&gt;10</title>\n",
       "<path fill=\"none\" stroke=\"black\" d=\"M486.85,-562.77C497.06,-553.77 508.04,-544.08 518.58,-534.79\"/>\n",
       "<polygon fill=\"black\" stroke=\"black\" points=\"520.59,-537.68 525.78,-528.44 515.96,-532.43 520.59,-537.68\"/>\n",
       "<text text-anchor=\"middle\" x=\"525.35\" y=\"-546.96\" font-family=\"Helvetica,sans-Serif\" font-size=\"14.00\">False</text>\n",
       "</g>\n",
       "<!-- 2 -->\n",
       "<g id=\"node3\" class=\"node\">\n",
       "<title>2</title>\n",
       "<path fill=\"#e5823b\" stroke=\"black\" d=\"M225.75,-413C225.75,-413 139.25,-413 139.25,-413 133.25,-413 127.25,-407 127.25,-401 127.25,-401 127.25,-347 127.25,-347 127.25,-341 133.25,-335 139.25,-335 139.25,-335 225.75,-335 225.75,-335 231.75,-335 237.75,-341 237.75,-347 237.75,-347 237.75,-401 237.75,-401 237.75,-407 231.75,-413 225.75,-413\"/>\n",
       "<text text-anchor=\"start\" x=\"148\" y=\"-396.7\" font-family=\"Helvetica,sans-Serif\" font-size=\"14.00\">x</text>\n",
       "<text text-anchor=\"start\" x=\"154.75\" y=\"-396.7\" font-family=\"Helvetica,sans-Serif\" baseline-shift=\"sub\" font-size=\"14.00\">21</text>\n",
       "<text text-anchor=\"start\" x=\"168.25\" y=\"-396.7\" font-family=\"Helvetica,sans-Serif\" font-size=\"14.00\"> ≤ 32.78</text>\n",
       "<text text-anchor=\"start\" x=\"135.25\" y=\"-382.7\" font-family=\"Helvetica,sans-Serif\" font-size=\"14.00\">entropy = 0.065</text>\n",
       "<text text-anchor=\"start\" x=\"137.88\" y=\"-368.7\" font-family=\"Helvetica,sans-Serif\" font-size=\"14.00\">samples = 130</text>\n",
       "<text text-anchor=\"start\" x=\"136\" y=\"-354.7\" font-family=\"Helvetica,sans-Serif\" font-size=\"14.00\">value = [129, 1]</text>\n",
       "<text text-anchor=\"start\" x=\"138.25\" y=\"-340.7\" font-family=\"Helvetica,sans-Serif\" font-size=\"14.00\">class = Benign</text>\n",
       "</g>\n",
       "<!-- 1&#45;&gt;2 -->\n",
       "<g id=\"edge2\" class=\"edge\">\n",
       "<title>1&#45;&gt;2</title>\n",
       "<path fill=\"none\" stroke=\"black\" d=\"M318,-454.45C296.12,-441.63 270.83,-426.8 248.06,-413.45\"/>\n",
       "<polygon fill=\"black\" stroke=\"black\" points=\"249.84,-410.43 239.45,-408.39 246.3,-416.47 249.84,-410.43\"/>\n",
       "</g>\n",
       "<!-- 7 -->\n",
       "<g id=\"node8\" class=\"node\">\n",
       "<title>7</title>\n",
       "<path fill=\"#7bbeee\" stroke=\"black\" d=\"M422.38,-413C422.38,-413 324.62,-413 324.62,-413 318.62,-413 312.62,-407 312.62,-401 312.62,-401 312.62,-347 312.62,-347 312.62,-341 318.62,-335 324.62,-335 324.62,-335 422.38,-335 422.38,-335 428.38,-335 434.38,-341 434.38,-347 434.38,-347 434.38,-401 434.38,-401 434.38,-407 428.38,-413 422.38,-413\"/>\n",
       "<text text-anchor=\"start\" x=\"342.38\" y=\"-396.7\" font-family=\"Helvetica,sans-Serif\" font-size=\"14.00\">x</text>\n",
       "<text text-anchor=\"start\" x=\"349.12\" y=\"-396.7\" font-family=\"Helvetica,sans-Serif\" baseline-shift=\"sub\" font-size=\"14.00\">9</text>\n",
       "<text text-anchor=\"start\" x=\"355.88\" y=\"-396.7\" font-family=\"Helvetica,sans-Serif\" font-size=\"14.00\"> ≤ 0.087</text>\n",
       "<text text-anchor=\"start\" x=\"326.62\" y=\"-382.7\" font-family=\"Helvetica,sans-Serif\" font-size=\"14.00\">entropy = 0.811</text>\n",
       "<text text-anchor=\"start\" x=\"336.38\" y=\"-368.7\" font-family=\"Helvetica,sans-Serif\" font-size=\"14.00\">samples = 4</text>\n",
       "<text text-anchor=\"start\" x=\"334.5\" y=\"-354.7\" font-family=\"Helvetica,sans-Serif\" font-size=\"14.00\">value = [1, 3]</text>\n",
       "<text text-anchor=\"start\" x=\"320.62\" y=\"-340.7\" font-family=\"Helvetica,sans-Serif\" font-size=\"14.00\">class = Malignant</text>\n",
       "</g>\n",
       "<!-- 1&#45;&gt;7 -->\n",
       "<g id=\"edge7\" class=\"edge\">\n",
       "<title>1&#45;&gt;7</title>\n",
       "<path fill=\"none\" stroke=\"black\" d=\"M373.5,-448.77C373.5,-441.02 373.5,-432.76 373.5,-424.67\"/>\n",
       "<polygon fill=\"black\" stroke=\"black\" points=\"377,-424.95 373.5,-414.95 370,-424.95 377,-424.95\"/>\n",
       "</g>\n",
       "<!-- 3 -->\n",
       "<g id=\"node4\" class=\"node\">\n",
       "<title>3</title>\n",
       "<path fill=\"#e58139\" stroke=\"black\" d=\"M97,-295.5C97,-295.5 12,-295.5 12,-295.5 6,-295.5 0,-289.5 0,-283.5 0,-283.5 0,-236.5 0,-236.5 0,-230.5 6,-224.5 12,-224.5 12,-224.5 97,-224.5 97,-224.5 103,-224.5 109,-230.5 109,-236.5 109,-236.5 109,-283.5 109,-283.5 109,-289.5 103,-295.5 97,-295.5\"/>\n",
       "<text text-anchor=\"start\" x=\"14.75\" y=\"-278.2\" font-family=\"Helvetica,sans-Serif\" font-size=\"14.00\">entropy = 0.0</text>\n",
       "<text text-anchor=\"start\" x=\"9.88\" y=\"-262.45\" font-family=\"Helvetica,sans-Serif\" font-size=\"14.00\">samples = 122</text>\n",
       "<text text-anchor=\"start\" x=\"8\" y=\"-246.7\" font-family=\"Helvetica,sans-Serif\" font-size=\"14.00\">value = [122, 0]</text>\n",
       "<text text-anchor=\"start\" x=\"10.25\" y=\"-230.95\" font-family=\"Helvetica,sans-Serif\" font-size=\"14.00\">class = Benign</text>\n",
       "</g>\n",
       "<!-- 2&#45;&gt;3 -->\n",
       "<g id=\"edge3\" class=\"edge\">\n",
       "<title>2&#45;&gt;3</title>\n",
       "<path fill=\"none\" stroke=\"black\" d=\"M138.81,-334.77C127.15,-324.57 114.49,-313.49 102.62,-303.1\"/>\n",
       "<polygon fill=\"black\" stroke=\"black\" points=\"105.1,-300.62 95.27,-296.67 100.49,-305.89 105.1,-300.62\"/>\n",
       "</g>\n",
       "<!-- 4 -->\n",
       "<g id=\"node5\" class=\"node\">\n",
       "<title>4</title>\n",
       "<path fill=\"#e99355\" stroke=\"black\" d=\"M225.75,-299C225.75,-299 139.25,-299 139.25,-299 133.25,-299 127.25,-293 127.25,-287 127.25,-287 127.25,-233 127.25,-233 127.25,-227 133.25,-221 139.25,-221 139.25,-221 225.75,-221 225.75,-221 231.75,-221 237.75,-227 237.75,-233 237.75,-233 237.75,-287 237.75,-287 237.75,-293 231.75,-299 225.75,-299\"/>\n",
       "<text text-anchor=\"start\" x=\"147.62\" y=\"-282.7\" font-family=\"Helvetica,sans-Serif\" font-size=\"14.00\">x</text>\n",
       "<text text-anchor=\"start\" x=\"154.38\" y=\"-282.7\" font-family=\"Helvetica,sans-Serif\" baseline-shift=\"sub\" font-size=\"14.00\">1</text>\n",
       "<text text-anchor=\"start\" x=\"161.12\" y=\"-282.7\" font-family=\"Helvetica,sans-Serif\" font-size=\"14.00\"> ≤ 23.845</text>\n",
       "<text text-anchor=\"start\" x=\"135.25\" y=\"-268.7\" font-family=\"Helvetica,sans-Serif\" font-size=\"14.00\">entropy = 0.544</text>\n",
       "<text text-anchor=\"start\" x=\"145.38\" y=\"-254.7\" font-family=\"Helvetica,sans-Serif\" font-size=\"14.00\">samples = 8</text>\n",
       "<text text-anchor=\"start\" x=\"143.5\" y=\"-240.7\" font-family=\"Helvetica,sans-Serif\" font-size=\"14.00\">value = [7, 1]</text>\n",
       "<text text-anchor=\"start\" x=\"138.25\" y=\"-226.7\" font-family=\"Helvetica,sans-Serif\" font-size=\"14.00\">class = Benign</text>\n",
       "</g>\n",
       "<!-- 2&#45;&gt;4 -->\n",
       "<g id=\"edge4\" class=\"edge\">\n",
       "<title>2&#45;&gt;4</title>\n",
       "<path fill=\"none\" stroke=\"black\" d=\"M182.5,-334.77C182.5,-327.02 182.5,-318.76 182.5,-310.67\"/>\n",
       "<polygon fill=\"black\" stroke=\"black\" points=\"186,-310.95 182.5,-300.95 179,-310.95 186,-310.95\"/>\n",
       "</g>\n",
       "<!-- 5 -->\n",
       "<g id=\"node6\" class=\"node\">\n",
       "<title>5</title>\n",
       "<path fill=\"#399de5\" stroke=\"black\" d=\"M165.38,-181.5C165.38,-181.5 67.62,-181.5 67.62,-181.5 61.62,-181.5 55.62,-175.5 55.62,-169.5 55.62,-169.5 55.62,-122.5 55.62,-122.5 55.62,-116.5 61.62,-110.5 67.62,-110.5 67.62,-110.5 165.38,-110.5 165.38,-110.5 171.38,-110.5 177.38,-116.5 177.38,-122.5 177.38,-122.5 177.38,-169.5 177.38,-169.5 177.38,-175.5 171.38,-181.5 165.38,-181.5\"/>\n",
       "<text text-anchor=\"start\" x=\"76.75\" y=\"-164.2\" font-family=\"Helvetica,sans-Serif\" font-size=\"14.00\">entropy = 0.0</text>\n",
       "<text text-anchor=\"start\" x=\"79.38\" y=\"-148.45\" font-family=\"Helvetica,sans-Serif\" font-size=\"14.00\">samples = 1</text>\n",
       "<text text-anchor=\"start\" x=\"77.5\" y=\"-132.7\" font-family=\"Helvetica,sans-Serif\" font-size=\"14.00\">value = [0, 1]</text>\n",
       "<text text-anchor=\"start\" x=\"63.62\" y=\"-116.95\" font-family=\"Helvetica,sans-Serif\" font-size=\"14.00\">class = Malignant</text>\n",
       "</g>\n",
       "<!-- 4&#45;&gt;5 -->\n",
       "<g id=\"edge5\" class=\"edge\">\n",
       "<title>4&#45;&gt;5</title>\n",
       "<path fill=\"none\" stroke=\"black\" d=\"M159.97,-220.77C154.43,-211.36 148.45,-201.21 142.74,-191.53\"/>\n",
       "<polygon fill=\"black\" stroke=\"black\" points=\"145.79,-189.82 137.7,-182.98 139.76,-193.37 145.79,-189.82\"/>\n",
       "</g>\n",
       "<!-- 6 -->\n",
       "<g id=\"node7\" class=\"node\">\n",
       "<title>6</title>\n",
       "<path fill=\"#e58139\" stroke=\"black\" d=\"M287.75,-181.5C287.75,-181.5 207.25,-181.5 207.25,-181.5 201.25,-181.5 195.25,-175.5 195.25,-169.5 195.25,-169.5 195.25,-122.5 195.25,-122.5 195.25,-116.5 201.25,-110.5 207.25,-110.5 207.25,-110.5 287.75,-110.5 287.75,-110.5 293.75,-110.5 299.75,-116.5 299.75,-122.5 299.75,-122.5 299.75,-169.5 299.75,-169.5 299.75,-175.5 293.75,-181.5 287.75,-181.5\"/>\n",
       "<text text-anchor=\"start\" x=\"207.75\" y=\"-164.2\" font-family=\"Helvetica,sans-Serif\" font-size=\"14.00\">entropy = 0.0</text>\n",
       "<text text-anchor=\"start\" x=\"210.38\" y=\"-148.45\" font-family=\"Helvetica,sans-Serif\" font-size=\"14.00\">samples = 7</text>\n",
       "<text text-anchor=\"start\" x=\"208.5\" y=\"-132.7\" font-family=\"Helvetica,sans-Serif\" font-size=\"14.00\">value = [7, 0]</text>\n",
       "<text text-anchor=\"start\" x=\"203.25\" y=\"-116.95\" font-family=\"Helvetica,sans-Serif\" font-size=\"14.00\">class = Benign</text>\n",
       "</g>\n",
       "<!-- 4&#45;&gt;6 -->\n",
       "<g id=\"edge6\" class=\"edge\">\n",
       "<title>4&#45;&gt;6</title>\n",
       "<path fill=\"none\" stroke=\"black\" d=\"M204.69,-220.77C210.15,-211.36 216.04,-201.21 221.65,-191.53\"/>\n",
       "<polygon fill=\"black\" stroke=\"black\" points=\"224.62,-193.39 226.62,-182.98 218.57,-189.88 224.62,-193.39\"/>\n",
       "</g>\n",
       "<!-- 8 -->\n",
       "<g id=\"node9\" class=\"node\">\n",
       "<title>8</title>\n",
       "<path fill=\"#399de5\" stroke=\"black\" d=\"M365.38,-295.5C365.38,-295.5 267.62,-295.5 267.62,-295.5 261.62,-295.5 255.62,-289.5 255.62,-283.5 255.62,-283.5 255.62,-236.5 255.62,-236.5 255.62,-230.5 261.62,-224.5 267.62,-224.5 267.62,-224.5 365.38,-224.5 365.38,-224.5 371.38,-224.5 377.38,-230.5 377.38,-236.5 377.38,-236.5 377.38,-283.5 377.38,-283.5 377.38,-289.5 371.38,-295.5 365.38,-295.5\"/>\n",
       "<text text-anchor=\"start\" x=\"276.75\" y=\"-278.2\" font-family=\"Helvetica,sans-Serif\" font-size=\"14.00\">entropy = 0.0</text>\n",
       "<text text-anchor=\"start\" x=\"279.38\" y=\"-262.45\" font-family=\"Helvetica,sans-Serif\" font-size=\"14.00\">samples = 3</text>\n",
       "<text text-anchor=\"start\" x=\"277.5\" y=\"-246.7\" font-family=\"Helvetica,sans-Serif\" font-size=\"14.00\">value = [0, 3]</text>\n",
       "<text text-anchor=\"start\" x=\"263.62\" y=\"-230.95\" font-family=\"Helvetica,sans-Serif\" font-size=\"14.00\">class = Malignant</text>\n",
       "</g>\n",
       "<!-- 7&#45;&gt;8 -->\n",
       "<g id=\"edge8\" class=\"edge\">\n",
       "<title>7&#45;&gt;8</title>\n",
       "<path fill=\"none\" stroke=\"black\" d=\"M354.04,-334.77C349.31,-325.46 344.2,-315.42 339.32,-305.84\"/>\n",
       "<polygon fill=\"black\" stroke=\"black\" points=\"342.49,-304.35 334.83,-297.02 336.25,-307.52 342.49,-304.35\"/>\n",
       "</g>\n",
       "<!-- 9 -->\n",
       "<g id=\"node10\" class=\"node\">\n",
       "<title>9</title>\n",
       "<path fill=\"#e58139\" stroke=\"black\" d=\"M487.75,-295.5C487.75,-295.5 407.25,-295.5 407.25,-295.5 401.25,-295.5 395.25,-289.5 395.25,-283.5 395.25,-283.5 395.25,-236.5 395.25,-236.5 395.25,-230.5 401.25,-224.5 407.25,-224.5 407.25,-224.5 487.75,-224.5 487.75,-224.5 493.75,-224.5 499.75,-230.5 499.75,-236.5 499.75,-236.5 499.75,-283.5 499.75,-283.5 499.75,-289.5 493.75,-295.5 487.75,-295.5\"/>\n",
       "<text text-anchor=\"start\" x=\"407.75\" y=\"-278.2\" font-family=\"Helvetica,sans-Serif\" font-size=\"14.00\">entropy = 0.0</text>\n",
       "<text text-anchor=\"start\" x=\"410.38\" y=\"-262.45\" font-family=\"Helvetica,sans-Serif\" font-size=\"14.00\">samples = 1</text>\n",
       "<text text-anchor=\"start\" x=\"408.5\" y=\"-246.7\" font-family=\"Helvetica,sans-Serif\" font-size=\"14.00\">value = [1, 0]</text>\n",
       "<text text-anchor=\"start\" x=\"403.25\" y=\"-230.95\" font-family=\"Helvetica,sans-Serif\" font-size=\"14.00\">class = Benign</text>\n",
       "</g>\n",
       "<!-- 7&#45;&gt;9 -->\n",
       "<g id=\"edge9\" class=\"edge\">\n",
       "<title>7&#45;&gt;9</title>\n",
       "<path fill=\"none\" stroke=\"black\" d=\"M398.76,-334.77C405.04,-325.26 411.82,-315 418.28,-305.23\"/>\n",
       "<polygon fill=\"black\" stroke=\"black\" points=\"421.16,-307.21 423.76,-296.94 415.32,-303.35 421.16,-307.21\"/>\n",
       "</g>\n",
       "<!-- 11 -->\n",
       "<g id=\"node12\" class=\"node\">\n",
       "<title>11</title>\n",
       "<path fill=\"#f0f7fd\" stroke=\"black\" d=\"M619.38,-413C619.38,-413 521.62,-413 521.62,-413 515.62,-413 509.62,-407 509.62,-401 509.62,-401 509.62,-347 509.62,-347 509.62,-341 515.62,-335 521.62,-335 521.62,-335 619.38,-335 619.38,-335 625.38,-335 631.38,-341 631.38,-347 631.38,-347 631.38,-401 631.38,-401 631.38,-407 625.38,-413 619.38,-413\"/>\n",
       "<text text-anchor=\"start\" x=\"539.38\" y=\"-396.7\" font-family=\"Helvetica,sans-Serif\" font-size=\"14.00\">x</text>\n",
       "<text text-anchor=\"start\" x=\"546.12\" y=\"-396.7\" font-family=\"Helvetica,sans-Serif\" baseline-shift=\"sub\" font-size=\"14.00\">1</text>\n",
       "<text text-anchor=\"start\" x=\"552.88\" y=\"-396.7\" font-family=\"Helvetica,sans-Serif\" font-size=\"14.00\"> ≤ 16.66</text>\n",
       "<text text-anchor=\"start\" x=\"523.25\" y=\"-382.7\" font-family=\"Helvetica,sans-Serif\" font-size=\"14.00\">entropy = 0.999</text>\n",
       "<text text-anchor=\"start\" x=\"529.62\" y=\"-368.7\" font-family=\"Helvetica,sans-Serif\" font-size=\"14.00\">samples = 25</text>\n",
       "<text text-anchor=\"start\" x=\"524\" y=\"-354.7\" font-family=\"Helvetica,sans-Serif\" font-size=\"14.00\">value = [12, 13]</text>\n",
       "<text text-anchor=\"start\" x=\"517.62\" y=\"-340.7\" font-family=\"Helvetica,sans-Serif\" font-size=\"14.00\">class = Malignant</text>\n",
       "</g>\n",
       "<!-- 10&#45;&gt;11 -->\n",
       "<g id=\"edge11\" class=\"edge\">\n",
       "<title>10&#45;&gt;11</title>\n",
       "<path fill=\"none\" stroke=\"black\" d=\"M570.5,-448.77C570.5,-441.02 570.5,-432.76 570.5,-424.67\"/>\n",
       "<polygon fill=\"black\" stroke=\"black\" points=\"574,-424.95 570.5,-414.95 567,-424.95 574,-424.95\"/>\n",
       "</g>\n",
       "<!-- 18 -->\n",
       "<g id=\"node19\" class=\"node\">\n",
       "<title>18</title>\n",
       "<path fill=\"#399de5\" stroke=\"black\" d=\"M759.38,-409.5C759.38,-409.5 661.62,-409.5 661.62,-409.5 655.62,-409.5 649.62,-403.5 649.62,-397.5 649.62,-397.5 649.62,-350.5 649.62,-350.5 649.62,-344.5 655.62,-338.5 661.62,-338.5 661.62,-338.5 759.38,-338.5 759.38,-338.5 765.38,-338.5 771.38,-344.5 771.38,-350.5 771.38,-350.5 771.38,-397.5 771.38,-397.5 771.38,-403.5 765.38,-409.5 759.38,-409.5\"/>\n",
       "<text text-anchor=\"start\" x=\"670.75\" y=\"-392.2\" font-family=\"Helvetica,sans-Serif\" font-size=\"14.00\">entropy = 0.0</text>\n",
       "<text text-anchor=\"start\" x=\"669.62\" y=\"-376.45\" font-family=\"Helvetica,sans-Serif\" font-size=\"14.00\">samples = 68</text>\n",
       "<text text-anchor=\"start\" x=\"667.75\" y=\"-360.7\" font-family=\"Helvetica,sans-Serif\" font-size=\"14.00\">value = [0, 68]</text>\n",
       "<text text-anchor=\"start\" x=\"657.62\" y=\"-344.95\" font-family=\"Helvetica,sans-Serif\" font-size=\"14.00\">class = Malignant</text>\n",
       "</g>\n",
       "<!-- 10&#45;&gt;18 -->\n",
       "<g id=\"edge18\" class=\"edge\">\n",
       "<title>10&#45;&gt;18</title>\n",
       "<path fill=\"none\" stroke=\"black\" d=\"M618.29,-448.77C631.16,-438.47 645.15,-427.28 658.25,-416.8\"/>\n",
       "<polygon fill=\"black\" stroke=\"black\" points=\"660.35,-419.6 665.97,-410.62 655.98,-414.13 660.35,-419.6\"/>\n",
       "</g>\n",
       "<!-- 12 -->\n",
       "<g id=\"node13\" class=\"node\">\n",
       "<title>12</title>\n",
       "<path fill=\"#e58139\" stroke=\"black\" d=\"M610.75,-295.5C610.75,-295.5 530.25,-295.5 530.25,-295.5 524.25,-295.5 518.25,-289.5 518.25,-283.5 518.25,-283.5 518.25,-236.5 518.25,-236.5 518.25,-230.5 524.25,-224.5 530.25,-224.5 530.25,-224.5 610.75,-224.5 610.75,-224.5 616.75,-224.5 622.75,-230.5 622.75,-236.5 622.75,-236.5 622.75,-283.5 622.75,-283.5 622.75,-289.5 616.75,-295.5 610.75,-295.5\"/>\n",
       "<text text-anchor=\"start\" x=\"530.75\" y=\"-278.2\" font-family=\"Helvetica,sans-Serif\" font-size=\"14.00\">entropy = 0.0</text>\n",
       "<text text-anchor=\"start\" x=\"533.38\" y=\"-262.45\" font-family=\"Helvetica,sans-Serif\" font-size=\"14.00\">samples = 9</text>\n",
       "<text text-anchor=\"start\" x=\"531.5\" y=\"-246.7\" font-family=\"Helvetica,sans-Serif\" font-size=\"14.00\">value = [9, 0]</text>\n",
       "<text text-anchor=\"start\" x=\"526.25\" y=\"-230.95\" font-family=\"Helvetica,sans-Serif\" font-size=\"14.00\">class = Benign</text>\n",
       "</g>\n",
       "<!-- 11&#45;&gt;12 -->\n",
       "<g id=\"edge12\" class=\"edge\">\n",
       "<title>11&#45;&gt;12</title>\n",
       "<path fill=\"none\" stroke=\"black\" d=\"M570.5,-334.77C570.5,-325.86 570.5,-316.28 570.5,-307.07\"/>\n",
       "<polygon fill=\"black\" stroke=\"black\" points=\"574,-307.19 570.5,-297.19 567,-307.19 574,-307.19\"/>\n",
       "</g>\n",
       "<!-- 13 -->\n",
       "<g id=\"node14\" class=\"node\">\n",
       "<title>13</title>\n",
       "<path fill=\"#67b4eb\" stroke=\"black\" d=\"M750.38,-299C750.38,-299 652.62,-299 652.62,-299 646.62,-299 640.62,-293 640.62,-287 640.62,-287 640.62,-233 640.62,-233 640.62,-227 646.62,-221 652.62,-221 652.62,-221 750.38,-221 750.38,-221 756.38,-221 762.38,-227 762.38,-233 762.38,-233 762.38,-287 762.38,-287 762.38,-293 756.38,-299 750.38,-299\"/>\n",
       "<text text-anchor=\"start\" x=\"674.12\" y=\"-282.7\" font-family=\"Helvetica,sans-Serif\" font-size=\"14.00\">x</text>\n",
       "<text text-anchor=\"start\" x=\"680.88\" y=\"-282.7\" font-family=\"Helvetica,sans-Serif\" baseline-shift=\"sub\" font-size=\"14.00\">4</text>\n",
       "<text text-anchor=\"start\" x=\"687.62\" y=\"-282.7\" font-family=\"Helvetica,sans-Serif\" font-size=\"14.00\"> ≤ 0.09</text>\n",
       "<text text-anchor=\"start\" x=\"654.25\" y=\"-268.7\" font-family=\"Helvetica,sans-Serif\" font-size=\"14.00\">entropy = 0.696</text>\n",
       "<text text-anchor=\"start\" x=\"660.62\" y=\"-254.7\" font-family=\"Helvetica,sans-Serif\" font-size=\"14.00\">samples = 16</text>\n",
       "<text text-anchor=\"start\" x=\"658.75\" y=\"-240.7\" font-family=\"Helvetica,sans-Serif\" font-size=\"14.00\">value = [3, 13]</text>\n",
       "<text text-anchor=\"start\" x=\"648.62\" y=\"-226.7\" font-family=\"Helvetica,sans-Serif\" font-size=\"14.00\">class = Malignant</text>\n",
       "</g>\n",
       "<!-- 11&#45;&gt;13 -->\n",
       "<g id=\"edge13\" class=\"edge\">\n",
       "<title>11&#45;&gt;13</title>\n",
       "<path fill=\"none\" stroke=\"black\" d=\"M615.22,-334.77C625.74,-325.77 637.07,-316.08 647.94,-306.79\"/>\n",
       "<polygon fill=\"black\" stroke=\"black\" points=\"650.06,-309.58 655.39,-300.42 645.51,-304.26 650.06,-309.58\"/>\n",
       "</g>\n",
       "<!-- 14 -->\n",
       "<g id=\"node15\" class=\"node\">\n",
       "<title>14</title>\n",
       "<path fill=\"#eeab7b\" stroke=\"black\" d=\"M677.38,-185C677.38,-185 591.62,-185 591.62,-185 585.62,-185 579.62,-179 579.62,-173 579.62,-173 579.62,-119 579.62,-119 579.62,-113 585.62,-107 591.62,-107 591.62,-107 677.38,-107 677.38,-107 683.38,-107 689.38,-113 689.38,-119 689.38,-119 689.38,-173 689.38,-173 689.38,-179 683.38,-185 677.38,-185\"/>\n",
       "<text text-anchor=\"start\" x=\"603.38\" y=\"-168.7\" font-family=\"Helvetica,sans-Serif\" font-size=\"14.00\">x</text>\n",
       "<text text-anchor=\"start\" x=\"610.12\" y=\"-168.7\" font-family=\"Helvetica,sans-Serif\" baseline-shift=\"sub\" font-size=\"14.00\">0</text>\n",
       "<text text-anchor=\"start\" x=\"616.88\" y=\"-168.7\" font-family=\"Helvetica,sans-Serif\" font-size=\"14.00\"> ≤ 15.42</text>\n",
       "<text text-anchor=\"start\" x=\"587.62\" y=\"-154.7\" font-family=\"Helvetica,sans-Serif\" font-size=\"14.00\">entropy = 0.811</text>\n",
       "<text text-anchor=\"start\" x=\"597.38\" y=\"-140.7\" font-family=\"Helvetica,sans-Serif\" font-size=\"14.00\">samples = 4</text>\n",
       "<text text-anchor=\"start\" x=\"595.5\" y=\"-126.7\" font-family=\"Helvetica,sans-Serif\" font-size=\"14.00\">value = [3, 1]</text>\n",
       "<text text-anchor=\"start\" x=\"590.25\" y=\"-112.7\" font-family=\"Helvetica,sans-Serif\" font-size=\"14.00\">class = Benign</text>\n",
       "</g>\n",
       "<!-- 13&#45;&gt;14 -->\n",
       "<g id=\"edge14\" class=\"edge\">\n",
       "<title>13&#45;&gt;14</title>\n",
       "<path fill=\"none\" stroke=\"black\" d=\"M678.63,-220.77C673.73,-212.57 668.48,-203.81 663.38,-195.28\"/>\n",
       "<polygon fill=\"black\" stroke=\"black\" points=\"666.41,-193.52 658.27,-186.74 660.4,-197.12 666.41,-193.52\"/>\n",
       "</g>\n",
       "<!-- 17 -->\n",
       "<g id=\"node18\" class=\"node\">\n",
       "<title>17</title>\n",
       "<path fill=\"#399de5\" stroke=\"black\" d=\"M817.38,-181.5C817.38,-181.5 719.62,-181.5 719.62,-181.5 713.62,-181.5 707.62,-175.5 707.62,-169.5 707.62,-169.5 707.62,-122.5 707.62,-122.5 707.62,-116.5 713.62,-110.5 719.62,-110.5 719.62,-110.5 817.38,-110.5 817.38,-110.5 823.38,-110.5 829.38,-116.5 829.38,-122.5 829.38,-122.5 829.38,-169.5 829.38,-169.5 829.38,-175.5 823.38,-181.5 817.38,-181.5\"/>\n",
       "<text text-anchor=\"start\" x=\"728.75\" y=\"-164.2\" font-family=\"Helvetica,sans-Serif\" font-size=\"14.00\">entropy = 0.0</text>\n",
       "<text text-anchor=\"start\" x=\"727.62\" y=\"-148.45\" font-family=\"Helvetica,sans-Serif\" font-size=\"14.00\">samples = 12</text>\n",
       "<text text-anchor=\"start\" x=\"725.75\" y=\"-132.7\" font-family=\"Helvetica,sans-Serif\" font-size=\"14.00\">value = [0, 12]</text>\n",
       "<text text-anchor=\"start\" x=\"715.62\" y=\"-116.95\" font-family=\"Helvetica,sans-Serif\" font-size=\"14.00\">class = Malignant</text>\n",
       "</g>\n",
       "<!-- 13&#45;&gt;17 -->\n",
       "<g id=\"edge17\" class=\"edge\">\n",
       "<title>13&#45;&gt;17</title>\n",
       "<path fill=\"none\" stroke=\"black\" d=\"M724.37,-220.77C730,-211.36 736.07,-201.21 741.86,-191.53\"/>\n",
       "<polygon fill=\"black\" stroke=\"black\" points=\"744.85,-193.35 746.98,-182.97 738.84,-189.76 744.85,-193.35\"/>\n",
       "</g>\n",
       "<!-- 15 -->\n",
       "<g id=\"node16\" class=\"node\">\n",
       "<title>15</title>\n",
       "<path fill=\"#e58139\" stroke=\"black\" d=\"M608.75,-71C608.75,-71 528.25,-71 528.25,-71 522.25,-71 516.25,-65 516.25,-59 516.25,-59 516.25,-12 516.25,-12 516.25,-6 522.25,0 528.25,0 528.25,0 608.75,0 608.75,0 614.75,0 620.75,-6 620.75,-12 620.75,-12 620.75,-59 620.75,-59 620.75,-65 614.75,-71 608.75,-71\"/>\n",
       "<text text-anchor=\"start\" x=\"528.75\" y=\"-53.7\" font-family=\"Helvetica,sans-Serif\" font-size=\"14.00\">entropy = 0.0</text>\n",
       "<text text-anchor=\"start\" x=\"531.38\" y=\"-37.95\" font-family=\"Helvetica,sans-Serif\" font-size=\"14.00\">samples = 3</text>\n",
       "<text text-anchor=\"start\" x=\"529.5\" y=\"-22.2\" font-family=\"Helvetica,sans-Serif\" font-size=\"14.00\">value = [3, 0]</text>\n",
       "<text text-anchor=\"start\" x=\"524.25\" y=\"-6.45\" font-family=\"Helvetica,sans-Serif\" font-size=\"14.00\">class = Benign</text>\n",
       "</g>\n",
       "<!-- 14&#45;&gt;15 -->\n",
       "<g id=\"edge15\" class=\"edge\">\n",
       "<title>14&#45;&gt;15</title>\n",
       "<path fill=\"none\" stroke=\"black\" d=\"M611.23,-106.75C606.16,-98.42 600.76,-89.53 595.56,-80.98\"/>\n",
       "<polygon fill=\"black\" stroke=\"black\" points=\"598.55,-79.17 590.36,-72.44 592.57,-82.81 598.55,-79.17\"/>\n",
       "</g>\n",
       "<!-- 16 -->\n",
       "<g id=\"node17\" class=\"node\">\n",
       "<title>16</title>\n",
       "<path fill=\"#399de5\" stroke=\"black\" d=\"M748.38,-71C748.38,-71 650.62,-71 650.62,-71 644.62,-71 638.62,-65 638.62,-59 638.62,-59 638.62,-12 638.62,-12 638.62,-6 644.62,0 650.62,0 650.62,0 748.38,0 748.38,0 754.38,0 760.38,-6 760.38,-12 760.38,-12 760.38,-59 760.38,-59 760.38,-65 754.38,-71 748.38,-71\"/>\n",
       "<text text-anchor=\"start\" x=\"659.75\" y=\"-53.7\" font-family=\"Helvetica,sans-Serif\" font-size=\"14.00\">entropy = 0.0</text>\n",
       "<text text-anchor=\"start\" x=\"662.38\" y=\"-37.95\" font-family=\"Helvetica,sans-Serif\" font-size=\"14.00\">samples = 1</text>\n",
       "<text text-anchor=\"start\" x=\"660.5\" y=\"-22.2\" font-family=\"Helvetica,sans-Serif\" font-size=\"14.00\">value = [0, 1]</text>\n",
       "<text text-anchor=\"start\" x=\"646.62\" y=\"-6.45\" font-family=\"Helvetica,sans-Serif\" font-size=\"14.00\">class = Malignant</text>\n",
       "</g>\n",
       "<!-- 14&#45;&gt;16 -->\n",
       "<g id=\"edge16\" class=\"edge\">\n",
       "<title>14&#45;&gt;16</title>\n",
       "<path fill=\"none\" stroke=\"black\" d=\"M657.42,-106.75C662.41,-98.42 667.73,-89.53 672.85,-80.98\"/>\n",
       "<polygon fill=\"black\" stroke=\"black\" points=\"675.83,-82.83 677.96,-72.45 669.82,-79.23 675.83,-82.83\"/>\n",
       "</g>\n",
       "</g>\n",
       "</svg>\n"
      ],
      "text/plain": [
       "<graphviz.sources.Source at 0x18d02628a10>"
      ]
     },
     "metadata": {},
     "output_type": "display_data"
    },
    {
     "name": "stdout",
     "output_type": "stream",
     "text": [
      "Decision tree classifier for train/test split 40:60 built, visualized, and saved.\n"
     ]
    },
    {
     "data": {
      "image/svg+xml": [
       "<?xml version=\"1.0\" encoding=\"UTF-8\" standalone=\"no\"?>\n",
       "<!DOCTYPE svg PUBLIC \"-//W3C//DTD SVG 1.1//EN\"\n",
       " \"http://www.w3.org/Graphics/SVG/1.1/DTD/svg11.dtd\">\n",
       "<!-- Generated by graphviz version 12.1.0 (20240811.2233)\n",
       " -->\n",
       "<!-- Title: Tree Pages: 1 -->\n",
       "<svg width=\"860pt\" height=\"763pt\"\n",
       " viewBox=\"0.00 0.00 859.75 763.00\" xmlns=\"http://www.w3.org/2000/svg\" xmlns:xlink=\"http://www.w3.org/1999/xlink\">\n",
       "<g id=\"graph0\" class=\"graph\" transform=\"scale(1 1) rotate(0) translate(4 759)\">\n",
       "<title>Tree</title>\n",
       "<polygon fill=\"white\" stroke=\"none\" points=\"-4,4 -4,-759 855.75,-759 855.75,4 -4,4\"/>\n",
       "<!-- 0 -->\n",
       "<g id=\"node1\" class=\"node\">\n",
       "<title>0</title>\n",
       "<path fill=\"#f4ccaf\" stroke=\"black\" d=\"M560.88,-755C560.88,-755 460.88,-755 460.88,-755 454.88,-755 448.88,-749 448.88,-743 448.88,-743 448.88,-689 448.88,-689 448.88,-683 454.88,-677 460.88,-677 460.88,-677 560.88,-677 560.88,-677 566.88,-677 572.88,-683 572.88,-689 572.88,-689 572.88,-743 572.88,-743 572.88,-749 566.88,-755 560.88,-755\"/>\n",
       "<text text-anchor=\"start\" x=\"476.38\" y=\"-738.7\" font-family=\"Helvetica,sans-Serif\" font-size=\"14.00\">x</text>\n",
       "<text text-anchor=\"start\" x=\"483.12\" y=\"-738.7\" font-family=\"Helvetica,sans-Serif\" baseline-shift=\"sub\" font-size=\"14.00\">22</text>\n",
       "<text text-anchor=\"start\" x=\"496.62\" y=\"-738.7\" font-family=\"Helvetica,sans-Serif\" font-size=\"14.00\"> ≤ 106.1</text>\n",
       "<text text-anchor=\"start\" x=\"463.62\" y=\"-724.7\" font-family=\"Helvetica,sans-Serif\" font-size=\"14.00\">entropy = 0.953</text>\n",
       "<text text-anchor=\"start\" x=\"466.25\" y=\"-710.7\" font-family=\"Helvetica,sans-Serif\" font-size=\"14.00\">samples = 341</text>\n",
       "<text text-anchor=\"start\" x=\"456.88\" y=\"-696.7\" font-family=\"Helvetica,sans-Serif\" font-size=\"14.00\">value = [214, 127]</text>\n",
       "<text text-anchor=\"start\" x=\"466.62\" y=\"-682.7\" font-family=\"Helvetica,sans-Serif\" font-size=\"14.00\">class = Benign</text>\n",
       "</g>\n",
       "<!-- 1 -->\n",
       "<g id=\"node2\" class=\"node\">\n",
       "<title>1</title>\n",
       "<path fill=\"#e68641\" stroke=\"black\" d=\"M434.62,-641C434.62,-641 327.12,-641 327.12,-641 321.12,-641 315.12,-635 315.12,-629 315.12,-629 315.12,-575 315.12,-575 315.12,-569 321.12,-563 327.12,-563 327.12,-563 434.62,-563 434.62,-563 440.62,-563 446.62,-569 446.62,-575 446.62,-575 446.62,-629 446.62,-629 446.62,-635 440.62,-641 434.62,-641\"/>\n",
       "<text text-anchor=\"start\" x=\"346.38\" y=\"-624.7\" font-family=\"Helvetica,sans-Serif\" font-size=\"14.00\">x</text>\n",
       "<text text-anchor=\"start\" x=\"353.12\" y=\"-624.7\" font-family=\"Helvetica,sans-Serif\" baseline-shift=\"sub\" font-size=\"14.00\">26</text>\n",
       "<text text-anchor=\"start\" x=\"366.62\" y=\"-624.7\" font-family=\"Helvetica,sans-Serif\" font-size=\"14.00\"> ≤ 0.395</text>\n",
       "<text text-anchor=\"start\" x=\"333.62\" y=\"-610.7\" font-family=\"Helvetica,sans-Serif\" font-size=\"14.00\">entropy = 0.237</text>\n",
       "<text text-anchor=\"start\" x=\"336.25\" y=\"-596.7\" font-family=\"Helvetica,sans-Serif\" font-size=\"14.00\">samples = 206</text>\n",
       "<text text-anchor=\"start\" x=\"323.12\" y=\"-582.7\" font-family=\"Helvetica,sans-Serif\" font-size=\"14.00\">value = [198.0, 8.0]</text>\n",
       "<text text-anchor=\"start\" x=\"336.62\" y=\"-568.7\" font-family=\"Helvetica,sans-Serif\" font-size=\"14.00\">class = Benign</text>\n",
       "</g>\n",
       "<!-- 0&#45;&gt;1 -->\n",
       "<g id=\"edge1\" class=\"edge\">\n",
       "<title>0&#45;&gt;1</title>\n",
       "<path fill=\"none\" stroke=\"black\" d=\"M466.5,-676.77C456.05,-667.77 444.81,-658.08 434.02,-648.79\"/>\n",
       "<polygon fill=\"black\" stroke=\"black\" points=\"436.5,-646.3 426.64,-642.43 431.93,-651.61 436.5,-646.3\"/>\n",
       "<text text-anchor=\"middle\" x=\"427.35\" y=\"-660.94\" font-family=\"Helvetica,sans-Serif\" font-size=\"14.00\">True</text>\n",
       "</g>\n",
       "<!-- 12 -->\n",
       "<g id=\"node13\" class=\"node\">\n",
       "<title>12</title>\n",
       "<path fill=\"#54aae8\" stroke=\"black\" d=\"M632.75,-641C632.75,-641 535,-641 535,-641 529,-641 523,-635 523,-629 523,-629 523,-575 523,-575 523,-569 529,-563 535,-563 535,-563 632.75,-563 632.75,-563 638.75,-563 644.75,-569 644.75,-575 644.75,-575 644.75,-629 644.75,-629 644.75,-635 638.75,-641 632.75,-641\"/>\n",
       "<text text-anchor=\"start\" x=\"546\" y=\"-624.7\" font-family=\"Helvetica,sans-Serif\" font-size=\"14.00\">x</text>\n",
       "<text text-anchor=\"start\" x=\"552.75\" y=\"-624.7\" font-family=\"Helvetica,sans-Serif\" baseline-shift=\"sub\" font-size=\"14.00\">22</text>\n",
       "<text text-anchor=\"start\" x=\"566.25\" y=\"-624.7\" font-family=\"Helvetica,sans-Serif\" font-size=\"14.00\"> ≤ 117.45</text>\n",
       "<text text-anchor=\"start\" x=\"536.62\" y=\"-610.7\" font-family=\"Helvetica,sans-Serif\" font-size=\"14.00\">entropy = 0.525</text>\n",
       "<text text-anchor=\"start\" x=\"539.25\" y=\"-596.7\" font-family=\"Helvetica,sans-Serif\" font-size=\"14.00\">samples = 135</text>\n",
       "<text text-anchor=\"start\" x=\"534\" y=\"-582.7\" font-family=\"Helvetica,sans-Serif\" font-size=\"14.00\">value = [16, 119]</text>\n",
       "<text text-anchor=\"start\" x=\"531\" y=\"-568.7\" font-family=\"Helvetica,sans-Serif\" font-size=\"14.00\">class = Malignant</text>\n",
       "</g>\n",
       "<!-- 0&#45;&gt;12 -->\n",
       "<g id=\"edge12\" class=\"edge\">\n",
       "<title>0&#45;&gt;12</title>\n",
       "<path fill=\"none\" stroke=\"black\" d=\"M535.79,-676.77C541.2,-668.48 546.97,-659.61 552.59,-651.01\"/>\n",
       "<polygon fill=\"black\" stroke=\"black\" points=\"555.47,-653 557.99,-642.71 549.6,-649.17 555.47,-653\"/>\n",
       "<text text-anchor=\"middle\" x=\"563.98\" y=\"-660.48\" font-family=\"Helvetica,sans-Serif\" font-size=\"14.00\">False</text>\n",
       "</g>\n",
       "<!-- 2 -->\n",
       "<g id=\"node3\" class=\"node\">\n",
       "<title>2</title>\n",
       "<path fill=\"#e5823a\" stroke=\"black\" d=\"M233.12,-527C233.12,-527 146.62,-527 146.62,-527 140.62,-527 134.62,-521 134.62,-515 134.62,-515 134.62,-461 134.62,-461 134.62,-455 140.62,-449 146.62,-449 146.62,-449 233.12,-449 233.12,-449 239.12,-449 245.12,-455 245.12,-461 245.12,-461 245.12,-515 245.12,-515 245.12,-521 239.12,-527 233.12,-527\"/>\n",
       "<text text-anchor=\"start\" x=\"155.38\" y=\"-510.7\" font-family=\"Helvetica,sans-Serif\" font-size=\"14.00\">x</text>\n",
       "<text text-anchor=\"start\" x=\"162.12\" y=\"-510.7\" font-family=\"Helvetica,sans-Serif\" baseline-shift=\"sub\" font-size=\"14.00\">21</text>\n",
       "<text text-anchor=\"start\" x=\"175.62\" y=\"-510.7\" font-family=\"Helvetica,sans-Serif\" font-size=\"14.00\"> ≤ 33.35</text>\n",
       "<text text-anchor=\"start\" x=\"142.62\" y=\"-496.7\" font-family=\"Helvetica,sans-Serif\" font-size=\"14.00\">entropy = 0.047</text>\n",
       "<text text-anchor=\"start\" x=\"145.25\" y=\"-482.7\" font-family=\"Helvetica,sans-Serif\" font-size=\"14.00\">samples = 193</text>\n",
       "<text text-anchor=\"start\" x=\"143.38\" y=\"-468.7\" font-family=\"Helvetica,sans-Serif\" font-size=\"14.00\">value = [192, 1]</text>\n",
       "<text text-anchor=\"start\" x=\"145.62\" y=\"-454.7\" font-family=\"Helvetica,sans-Serif\" font-size=\"14.00\">class = Benign</text>\n",
       "</g>\n",
       "<!-- 1&#45;&gt;2 -->\n",
       "<g id=\"edge2\" class=\"edge\">\n",
       "<title>1&#45;&gt;2</title>\n",
       "<path fill=\"none\" stroke=\"black\" d=\"M315.41,-562.61C295.92,-551.18 274.57,-538.66 255.09,-527.24\"/>\n",
       "<polygon fill=\"black\" stroke=\"black\" points=\"257.1,-524.36 246.7,-522.32 253.56,-530.4 257.1,-524.36\"/>\n",
       "</g>\n",
       "<!-- 7 -->\n",
       "<g id=\"node8\" class=\"node\">\n",
       "<title>7</title>\n",
       "<path fill=\"#e3f1fb\" stroke=\"black\" d=\"M429.75,-527C429.75,-527 332,-527 332,-527 326,-527 320,-521 320,-515 320,-515 320,-461 320,-461 320,-455 326,-449 332,-449 332,-449 429.75,-449 429.75,-449 435.75,-449 441.75,-455 441.75,-461 441.75,-461 441.75,-515 441.75,-515 441.75,-521 435.75,-527 429.75,-527\"/>\n",
       "<text text-anchor=\"start\" x=\"350.12\" y=\"-510.7\" font-family=\"Helvetica,sans-Serif\" font-size=\"14.00\">x</text>\n",
       "<text text-anchor=\"start\" x=\"356.88\" y=\"-510.7\" font-family=\"Helvetica,sans-Serif\" baseline-shift=\"sub\" font-size=\"14.00\">21</text>\n",
       "<text text-anchor=\"start\" x=\"370.38\" y=\"-510.7\" font-family=\"Helvetica,sans-Serif\" font-size=\"14.00\"> ≤ 26.9</text>\n",
       "<text text-anchor=\"start\" x=\"333.62\" y=\"-496.7\" font-family=\"Helvetica,sans-Serif\" font-size=\"14.00\">entropy = 0.996</text>\n",
       "<text text-anchor=\"start\" x=\"340\" y=\"-482.7\" font-family=\"Helvetica,sans-Serif\" font-size=\"14.00\">samples = 13</text>\n",
       "<text text-anchor=\"start\" x=\"341.88\" y=\"-468.7\" font-family=\"Helvetica,sans-Serif\" font-size=\"14.00\">value = [6, 7]</text>\n",
       "<text text-anchor=\"start\" x=\"328\" y=\"-454.7\" font-family=\"Helvetica,sans-Serif\" font-size=\"14.00\">class = Malignant</text>\n",
       "</g>\n",
       "<!-- 1&#45;&gt;7 -->\n",
       "<g id=\"edge7\" class=\"edge\">\n",
       "<title>1&#45;&gt;7</title>\n",
       "<path fill=\"none\" stroke=\"black\" d=\"M380.88,-562.77C380.88,-555.02 380.88,-546.76 380.88,-538.67\"/>\n",
       "<polygon fill=\"black\" stroke=\"black\" points=\"384.38,-538.95 380.88,-528.95 377.38,-538.95 384.38,-538.95\"/>\n",
       "</g>\n",
       "<!-- 3 -->\n",
       "<g id=\"node4\" class=\"node\">\n",
       "<title>3</title>\n",
       "<path fill=\"#e58139\" stroke=\"black\" d=\"M104.38,-409.5C104.38,-409.5 19.38,-409.5 19.38,-409.5 13.38,-409.5 7.38,-403.5 7.38,-397.5 7.38,-397.5 7.38,-350.5 7.38,-350.5 7.38,-344.5 13.38,-338.5 19.38,-338.5 19.38,-338.5 104.38,-338.5 104.38,-338.5 110.38,-338.5 116.38,-344.5 116.38,-350.5 116.38,-350.5 116.38,-397.5 116.38,-397.5 116.38,-403.5 110.38,-409.5 104.38,-409.5\"/>\n",
       "<text text-anchor=\"start\" x=\"22.12\" y=\"-392.2\" font-family=\"Helvetica,sans-Serif\" font-size=\"14.00\">entropy = 0.0</text>\n",
       "<text text-anchor=\"start\" x=\"17.25\" y=\"-376.45\" font-family=\"Helvetica,sans-Serif\" font-size=\"14.00\">samples = 179</text>\n",
       "<text text-anchor=\"start\" x=\"15.38\" y=\"-360.7\" font-family=\"Helvetica,sans-Serif\" font-size=\"14.00\">value = [179, 0]</text>\n",
       "<text text-anchor=\"start\" x=\"17.62\" y=\"-344.95\" font-family=\"Helvetica,sans-Serif\" font-size=\"14.00\">class = Benign</text>\n",
       "</g>\n",
       "<!-- 2&#45;&gt;3 -->\n",
       "<g id=\"edge3\" class=\"edge\">\n",
       "<title>2&#45;&gt;3</title>\n",
       "<path fill=\"none\" stroke=\"black\" d=\"M146.18,-448.77C134.53,-438.57 121.87,-427.49 109.99,-417.1\"/>\n",
       "<polygon fill=\"black\" stroke=\"black\" points=\"112.47,-414.62 102.64,-410.67 107.86,-419.89 112.47,-414.62\"/>\n",
       "</g>\n",
       "<!-- 4 -->\n",
       "<g id=\"node5\" class=\"node\">\n",
       "<title>4</title>\n",
       "<path fill=\"#e78b48\" stroke=\"black\" d=\"M233.12,-413C233.12,-413 146.62,-413 146.62,-413 140.62,-413 134.62,-407 134.62,-401 134.62,-401 134.62,-347 134.62,-347 134.62,-341 140.62,-335 146.62,-335 146.62,-335 233.12,-335 233.12,-335 239.12,-335 245.12,-341 245.12,-347 245.12,-347 245.12,-401 245.12,-401 245.12,-407 239.12,-413 233.12,-413\"/>\n",
       "<text text-anchor=\"start\" x=\"159.12\" y=\"-396.7\" font-family=\"Helvetica,sans-Serif\" font-size=\"14.00\">x</text>\n",
       "<text text-anchor=\"start\" x=\"165.88\" y=\"-396.7\" font-family=\"Helvetica,sans-Serif\" baseline-shift=\"sub\" font-size=\"14.00\">21</text>\n",
       "<text text-anchor=\"start\" x=\"179.38\" y=\"-396.7\" font-family=\"Helvetica,sans-Serif\" font-size=\"14.00\"> ≤ 33.8</text>\n",
       "<text text-anchor=\"start\" x=\"142.62\" y=\"-382.7\" font-family=\"Helvetica,sans-Serif\" font-size=\"14.00\">entropy = 0.371</text>\n",
       "<text text-anchor=\"start\" x=\"149\" y=\"-368.7\" font-family=\"Helvetica,sans-Serif\" font-size=\"14.00\">samples = 14</text>\n",
       "<text text-anchor=\"start\" x=\"147.12\" y=\"-354.7\" font-family=\"Helvetica,sans-Serif\" font-size=\"14.00\">value = [13, 1]</text>\n",
       "<text text-anchor=\"start\" x=\"145.62\" y=\"-340.7\" font-family=\"Helvetica,sans-Serif\" font-size=\"14.00\">class = Benign</text>\n",
       "</g>\n",
       "<!-- 2&#45;&gt;4 -->\n",
       "<g id=\"edge4\" class=\"edge\">\n",
       "<title>2&#45;&gt;4</title>\n",
       "<path fill=\"none\" stroke=\"black\" d=\"M189.88,-448.77C189.88,-441.02 189.88,-432.76 189.88,-424.67\"/>\n",
       "<polygon fill=\"black\" stroke=\"black\" points=\"193.38,-424.95 189.88,-414.95 186.38,-424.95 193.38,-424.95\"/>\n",
       "</g>\n",
       "<!-- 5 -->\n",
       "<g id=\"node6\" class=\"node\">\n",
       "<title>5</title>\n",
       "<path fill=\"#399de5\" stroke=\"black\" d=\"M109.75,-295.5C109.75,-295.5 12,-295.5 12,-295.5 6,-295.5 0,-289.5 0,-283.5 0,-283.5 0,-236.5 0,-236.5 0,-230.5 6,-224.5 12,-224.5 12,-224.5 109.75,-224.5 109.75,-224.5 115.75,-224.5 121.75,-230.5 121.75,-236.5 121.75,-236.5 121.75,-283.5 121.75,-283.5 121.75,-289.5 115.75,-295.5 109.75,-295.5\"/>\n",
       "<text text-anchor=\"start\" x=\"21.12\" y=\"-278.2\" font-family=\"Helvetica,sans-Serif\" font-size=\"14.00\">entropy = 0.0</text>\n",
       "<text text-anchor=\"start\" x=\"23.75\" y=\"-262.45\" font-family=\"Helvetica,sans-Serif\" font-size=\"14.00\">samples = 1</text>\n",
       "<text text-anchor=\"start\" x=\"21.88\" y=\"-246.7\" font-family=\"Helvetica,sans-Serif\" font-size=\"14.00\">value = [0, 1]</text>\n",
       "<text text-anchor=\"start\" x=\"8\" y=\"-230.95\" font-family=\"Helvetica,sans-Serif\" font-size=\"14.00\">class = Malignant</text>\n",
       "</g>\n",
       "<!-- 4&#45;&gt;5 -->\n",
       "<g id=\"edge5\" class=\"edge\">\n",
       "<title>4&#45;&gt;5</title>\n",
       "<path fill=\"none\" stroke=\"black\" d=\"M145.84,-334.77C134.09,-324.57 121.34,-313.49 109.37,-303.1\"/>\n",
       "<polygon fill=\"black\" stroke=\"black\" points=\"111.8,-300.58 101.96,-296.67 107.21,-305.87 111.8,-300.58\"/>\n",
       "</g>\n",
       "<!-- 6 -->\n",
       "<g id=\"node7\" class=\"node\">\n",
       "<title>6</title>\n",
       "<path fill=\"#e58139\" stroke=\"black\" d=\"M232.12,-295.5C232.12,-295.5 151.62,-295.5 151.62,-295.5 145.62,-295.5 139.62,-289.5 139.62,-283.5 139.62,-283.5 139.62,-236.5 139.62,-236.5 139.62,-230.5 145.62,-224.5 151.62,-224.5 151.62,-224.5 232.12,-224.5 232.12,-224.5 238.12,-224.5 244.12,-230.5 244.12,-236.5 244.12,-236.5 244.12,-283.5 244.12,-283.5 244.12,-289.5 238.12,-295.5 232.12,-295.5\"/>\n",
       "<text text-anchor=\"start\" x=\"152.12\" y=\"-278.2\" font-family=\"Helvetica,sans-Serif\" font-size=\"14.00\">entropy = 0.0</text>\n",
       "<text text-anchor=\"start\" x=\"151\" y=\"-262.45\" font-family=\"Helvetica,sans-Serif\" font-size=\"14.00\">samples = 13</text>\n",
       "<text text-anchor=\"start\" x=\"149.12\" y=\"-246.7\" font-family=\"Helvetica,sans-Serif\" font-size=\"14.00\">value = [13, 0]</text>\n",
       "<text text-anchor=\"start\" x=\"147.62\" y=\"-230.95\" font-family=\"Helvetica,sans-Serif\" font-size=\"14.00\">class = Benign</text>\n",
       "</g>\n",
       "<!-- 4&#45;&gt;6 -->\n",
       "<g id=\"edge6\" class=\"edge\">\n",
       "<title>4&#45;&gt;6</title>\n",
       "<path fill=\"none\" stroke=\"black\" d=\"M190.56,-334.77C190.72,-325.86 190.89,-316.28 191.05,-307.07\"/>\n",
       "<polygon fill=\"black\" stroke=\"black\" points=\"194.55,-307.25 191.23,-297.19 187.55,-307.12 194.55,-307.25\"/>\n",
       "</g>\n",
       "<!-- 8 -->\n",
       "<g id=\"node9\" class=\"node\">\n",
       "<title>8</title>\n",
       "<path fill=\"#e9965a\" stroke=\"black\" d=\"M362.12,-413C362.12,-413 275.62,-413 275.62,-413 269.62,-413 263.62,-407 263.62,-401 263.62,-401 263.62,-347 263.62,-347 263.62,-341 269.62,-335 275.62,-335 275.62,-335 362.12,-335 362.12,-335 368.12,-335 374.12,-341 374.12,-347 374.12,-347 374.12,-401 374.12,-401 374.12,-407 368.12,-413 362.12,-413\"/>\n",
       "<text text-anchor=\"start\" x=\"287.75\" y=\"-396.7\" font-family=\"Helvetica,sans-Serif\" font-size=\"14.00\">x</text>\n",
       "<text text-anchor=\"start\" x=\"294.5\" y=\"-396.7\" font-family=\"Helvetica,sans-Serif\" baseline-shift=\"sub\" font-size=\"14.00\">8</text>\n",
       "<text text-anchor=\"start\" x=\"301.25\" y=\"-396.7\" font-family=\"Helvetica,sans-Serif\" font-size=\"14.00\"> ≤ 0.261</text>\n",
       "<text text-anchor=\"start\" x=\"271.62\" y=\"-382.7\" font-family=\"Helvetica,sans-Serif\" font-size=\"14.00\">entropy = 0.592</text>\n",
       "<text text-anchor=\"start\" x=\"281.75\" y=\"-368.7\" font-family=\"Helvetica,sans-Serif\" font-size=\"14.00\">samples = 7</text>\n",
       "<text text-anchor=\"start\" x=\"279.88\" y=\"-354.7\" font-family=\"Helvetica,sans-Serif\" font-size=\"14.00\">value = [6, 1]</text>\n",
       "<text text-anchor=\"start\" x=\"274.62\" y=\"-340.7\" font-family=\"Helvetica,sans-Serif\" font-size=\"14.00\">class = Benign</text>\n",
       "</g>\n",
       "<!-- 7&#45;&gt;8 -->\n",
       "<g id=\"edge8\" class=\"edge\">\n",
       "<title>7&#45;&gt;8</title>\n",
       "<path fill=\"none\" stroke=\"black\" d=\"M359.71,-448.77C355.17,-440.57 350.32,-431.81 345.6,-423.28\"/>\n",
       "<polygon fill=\"black\" stroke=\"black\" points=\"348.79,-421.82 340.89,-414.76 342.67,-425.21 348.79,-421.82\"/>\n",
       "</g>\n",
       "<!-- 11 -->\n",
       "<g id=\"node12\" class=\"node\">\n",
       "<title>11</title>\n",
       "<path fill=\"#399de5\" stroke=\"black\" d=\"M501.75,-409.5C501.75,-409.5 404,-409.5 404,-409.5 398,-409.5 392,-403.5 392,-397.5 392,-397.5 392,-350.5 392,-350.5 392,-344.5 398,-338.5 404,-338.5 404,-338.5 501.75,-338.5 501.75,-338.5 507.75,-338.5 513.75,-344.5 513.75,-350.5 513.75,-350.5 513.75,-397.5 513.75,-397.5 513.75,-403.5 507.75,-409.5 501.75,-409.5\"/>\n",
       "<text text-anchor=\"start\" x=\"413.12\" y=\"-392.2\" font-family=\"Helvetica,sans-Serif\" font-size=\"14.00\">entropy = 0.0</text>\n",
       "<text text-anchor=\"start\" x=\"415.75\" y=\"-376.45\" font-family=\"Helvetica,sans-Serif\" font-size=\"14.00\">samples = 6</text>\n",
       "<text text-anchor=\"start\" x=\"413.88\" y=\"-360.7\" font-family=\"Helvetica,sans-Serif\" font-size=\"14.00\">value = [0, 6]</text>\n",
       "<text text-anchor=\"start\" x=\"400\" y=\"-344.95\" font-family=\"Helvetica,sans-Serif\" font-size=\"14.00\">class = Malignant</text>\n",
       "</g>\n",
       "<!-- 7&#45;&gt;11 -->\n",
       "<g id=\"edge11\" class=\"edge\">\n",
       "<title>7&#45;&gt;11</title>\n",
       "<path fill=\"none\" stroke=\"black\" d=\"M405.45,-448.77C411.56,-439.26 418.16,-429 424.44,-419.23\"/>\n",
       "<polygon fill=\"black\" stroke=\"black\" points=\"427.3,-421.25 429.77,-410.95 421.41,-417.47 427.3,-421.25\"/>\n",
       "</g>\n",
       "<!-- 9 -->\n",
       "<g id=\"node10\" class=\"node\">\n",
       "<title>9</title>\n",
       "<path fill=\"#e58139\" stroke=\"black\" d=\"M358.12,-295.5C358.12,-295.5 277.62,-295.5 277.62,-295.5 271.62,-295.5 265.62,-289.5 265.62,-283.5 265.62,-283.5 265.62,-236.5 265.62,-236.5 265.62,-230.5 271.62,-224.5 277.62,-224.5 277.62,-224.5 358.12,-224.5 358.12,-224.5 364.12,-224.5 370.12,-230.5 370.12,-236.5 370.12,-236.5 370.12,-283.5 370.12,-283.5 370.12,-289.5 364.12,-295.5 358.12,-295.5\"/>\n",
       "<text text-anchor=\"start\" x=\"278.12\" y=\"-278.2\" font-family=\"Helvetica,sans-Serif\" font-size=\"14.00\">entropy = 0.0</text>\n",
       "<text text-anchor=\"start\" x=\"280.75\" y=\"-262.45\" font-family=\"Helvetica,sans-Serif\" font-size=\"14.00\">samples = 6</text>\n",
       "<text text-anchor=\"start\" x=\"278.88\" y=\"-246.7\" font-family=\"Helvetica,sans-Serif\" font-size=\"14.00\">value = [6, 0]</text>\n",
       "<text text-anchor=\"start\" x=\"273.62\" y=\"-230.95\" font-family=\"Helvetica,sans-Serif\" font-size=\"14.00\">class = Benign</text>\n",
       "</g>\n",
       "<!-- 8&#45;&gt;9 -->\n",
       "<g id=\"edge9\" class=\"edge\">\n",
       "<title>8&#45;&gt;9</title>\n",
       "<path fill=\"none\" stroke=\"black\" d=\"M318.53,-334.77C318.45,-325.86 318.37,-316.28 318.29,-307.07\"/>\n",
       "<polygon fill=\"black\" stroke=\"black\" points=\"321.79,-307.16 318.2,-297.19 314.79,-307.22 321.79,-307.16\"/>\n",
       "</g>\n",
       "<!-- 10 -->\n",
       "<g id=\"node11\" class=\"node\">\n",
       "<title>10</title>\n",
       "<path fill=\"#399de5\" stroke=\"black\" d=\"M497.75,-295.5C497.75,-295.5 400,-295.5 400,-295.5 394,-295.5 388,-289.5 388,-283.5 388,-283.5 388,-236.5 388,-236.5 388,-230.5 394,-224.5 400,-224.5 400,-224.5 497.75,-224.5 497.75,-224.5 503.75,-224.5 509.75,-230.5 509.75,-236.5 509.75,-236.5 509.75,-283.5 509.75,-283.5 509.75,-289.5 503.75,-295.5 497.75,-295.5\"/>\n",
       "<text text-anchor=\"start\" x=\"409.12\" y=\"-278.2\" font-family=\"Helvetica,sans-Serif\" font-size=\"14.00\">entropy = 0.0</text>\n",
       "<text text-anchor=\"start\" x=\"411.75\" y=\"-262.45\" font-family=\"Helvetica,sans-Serif\" font-size=\"14.00\">samples = 1</text>\n",
       "<text text-anchor=\"start\" x=\"409.88\" y=\"-246.7\" font-family=\"Helvetica,sans-Serif\" font-size=\"14.00\">value = [0, 1]</text>\n",
       "<text text-anchor=\"start\" x=\"396\" y=\"-230.95\" font-family=\"Helvetica,sans-Serif\" font-size=\"14.00\">class = Malignant</text>\n",
       "</g>\n",
       "<!-- 8&#45;&gt;10 -->\n",
       "<g id=\"edge10\" class=\"edge\">\n",
       "<title>8&#45;&gt;10</title>\n",
       "<path fill=\"none\" stroke=\"black\" d=\"M363.25,-334.77C375.09,-324.57 387.94,-313.49 400.01,-303.1\"/>\n",
       "<polygon fill=\"black\" stroke=\"black\" points=\"402.19,-305.84 407.48,-296.66 397.62,-300.54 402.19,-305.84\"/>\n",
       "</g>\n",
       "<!-- 13 -->\n",
       "<g id=\"node14\" class=\"node\">\n",
       "<title>13</title>\n",
       "<path fill=\"#c9e4f8\" stroke=\"black\" d=\"M632.75,-527C632.75,-527 535,-527 535,-527 529,-527 523,-521 523,-515 523,-515 523,-461 523,-461 523,-455 529,-449 535,-449 535,-449 632.75,-449 632.75,-449 638.75,-449 644.75,-455 644.75,-461 644.75,-461 644.75,-515 644.75,-515 644.75,-521 638.75,-527 632.75,-527\"/>\n",
       "<text text-anchor=\"start\" x=\"549\" y=\"-510.7\" font-family=\"Helvetica,sans-Serif\" font-size=\"14.00\">x</text>\n",
       "<text text-anchor=\"start\" x=\"555.75\" y=\"-510.7\" font-family=\"Helvetica,sans-Serif\" baseline-shift=\"sub\" font-size=\"14.00\">1</text>\n",
       "<text text-anchor=\"start\" x=\"562.5\" y=\"-510.7\" font-family=\"Helvetica,sans-Serif\" font-size=\"14.00\"> ≤ 15.745</text>\n",
       "<text text-anchor=\"start\" x=\"536.62\" y=\"-496.7\" font-family=\"Helvetica,sans-Serif\" font-size=\"14.00\">entropy = 0.982</text>\n",
       "<text text-anchor=\"start\" x=\"543\" y=\"-482.7\" font-family=\"Helvetica,sans-Serif\" font-size=\"14.00\">samples = 38</text>\n",
       "<text text-anchor=\"start\" x=\"537.38\" y=\"-468.7\" font-family=\"Helvetica,sans-Serif\" font-size=\"14.00\">value = [16, 22]</text>\n",
       "<text text-anchor=\"start\" x=\"531\" y=\"-454.7\" font-family=\"Helvetica,sans-Serif\" font-size=\"14.00\">class = Malignant</text>\n",
       "</g>\n",
       "<!-- 12&#45;&gt;13 -->\n",
       "<g id=\"edge13\" class=\"edge\">\n",
       "<title>12&#45;&gt;13</title>\n",
       "<path fill=\"none\" stroke=\"black\" d=\"M583.88,-562.77C583.88,-555.02 583.88,-546.76 583.88,-538.67\"/>\n",
       "<polygon fill=\"black\" stroke=\"black\" points=\"587.38,-538.95 583.88,-528.95 580.38,-538.95 587.38,-538.95\"/>\n",
       "</g>\n",
       "<!-- 22 -->\n",
       "<g id=\"node23\" class=\"node\">\n",
       "<title>22</title>\n",
       "<path fill=\"#399de5\" stroke=\"black\" d=\"M772.75,-523.5C772.75,-523.5 675,-523.5 675,-523.5 669,-523.5 663,-517.5 663,-511.5 663,-511.5 663,-464.5 663,-464.5 663,-458.5 669,-452.5 675,-452.5 675,-452.5 772.75,-452.5 772.75,-452.5 778.75,-452.5 784.75,-458.5 784.75,-464.5 784.75,-464.5 784.75,-511.5 784.75,-511.5 784.75,-517.5 778.75,-523.5 772.75,-523.5\"/>\n",
       "<text text-anchor=\"start\" x=\"684.12\" y=\"-506.2\" font-family=\"Helvetica,sans-Serif\" font-size=\"14.00\">entropy = 0.0</text>\n",
       "<text text-anchor=\"start\" x=\"683\" y=\"-490.45\" font-family=\"Helvetica,sans-Serif\" font-size=\"14.00\">samples = 97</text>\n",
       "<text text-anchor=\"start\" x=\"681.12\" y=\"-474.7\" font-family=\"Helvetica,sans-Serif\" font-size=\"14.00\">value = [0, 97]</text>\n",
       "<text text-anchor=\"start\" x=\"671\" y=\"-458.95\" font-family=\"Helvetica,sans-Serif\" font-size=\"14.00\">class = Malignant</text>\n",
       "</g>\n",
       "<!-- 12&#45;&gt;22 -->\n",
       "<g id=\"edge22\" class=\"edge\">\n",
       "<title>12&#45;&gt;22</title>\n",
       "<path fill=\"none\" stroke=\"black\" d=\"M631.66,-562.77C644.54,-552.47 658.53,-541.28 671.63,-530.8\"/>\n",
       "<polygon fill=\"black\" stroke=\"black\" points=\"673.73,-533.6 679.35,-524.62 669.35,-528.13 673.73,-533.6\"/>\n",
       "</g>\n",
       "<!-- 14 -->\n",
       "<g id=\"node15\" class=\"node\">\n",
       "<title>14</title>\n",
       "<path fill=\"#e58139\" stroke=\"black\" d=\"M624.12,-409.5C624.12,-409.5 543.62,-409.5 543.62,-409.5 537.62,-409.5 531.62,-403.5 531.62,-397.5 531.62,-397.5 531.62,-350.5 531.62,-350.5 531.62,-344.5 537.62,-338.5 543.62,-338.5 543.62,-338.5 624.12,-338.5 624.12,-338.5 630.12,-338.5 636.12,-344.5 636.12,-350.5 636.12,-350.5 636.12,-397.5 636.12,-397.5 636.12,-403.5 630.12,-409.5 624.12,-409.5\"/>\n",
       "<text text-anchor=\"start\" x=\"544.12\" y=\"-392.2\" font-family=\"Helvetica,sans-Serif\" font-size=\"14.00\">entropy = 0.0</text>\n",
       "<text text-anchor=\"start\" x=\"543.38\" y=\"-376.45\" font-family=\"Helvetica,sans-Serif\" font-size=\"14.00\">samples = 11</text>\n",
       "<text text-anchor=\"start\" x=\"541.5\" y=\"-360.7\" font-family=\"Helvetica,sans-Serif\" font-size=\"14.00\">value = [11, 0]</text>\n",
       "<text text-anchor=\"start\" x=\"539.62\" y=\"-344.95\" font-family=\"Helvetica,sans-Serif\" font-size=\"14.00\">class = Benign</text>\n",
       "</g>\n",
       "<!-- 13&#45;&gt;14 -->\n",
       "<g id=\"edge14\" class=\"edge\">\n",
       "<title>13&#45;&gt;14</title>\n",
       "<path fill=\"none\" stroke=\"black\" d=\"M583.88,-448.77C583.88,-439.86 583.88,-430.28 583.88,-421.07\"/>\n",
       "<polygon fill=\"black\" stroke=\"black\" points=\"587.38,-421.19 583.88,-411.19 580.38,-421.19 587.38,-421.19\"/>\n",
       "</g>\n",
       "<!-- 15 -->\n",
       "<g id=\"node16\" class=\"node\">\n",
       "<title>15</title>\n",
       "<path fill=\"#66b3eb\" stroke=\"black\" d=\"M763.75,-413C763.75,-413 666,-413 666,-413 660,-413 654,-407 654,-401 654,-401 654,-347 654,-347 654,-341 660,-335 666,-335 666,-335 763.75,-335 763.75,-335 769.75,-335 775.75,-341 775.75,-347 775.75,-347 775.75,-401 775.75,-401 775.75,-407 769.75,-413 763.75,-413\"/>\n",
       "<text text-anchor=\"start\" x=\"680.38\" y=\"-396.7\" font-family=\"Helvetica,sans-Serif\" font-size=\"14.00\">x</text>\n",
       "<text text-anchor=\"start\" x=\"687.12\" y=\"-396.7\" font-family=\"Helvetica,sans-Serif\" baseline-shift=\"sub\" font-size=\"14.00\">24</text>\n",
       "<text text-anchor=\"start\" x=\"700.62\" y=\"-396.7\" font-family=\"Helvetica,sans-Serif\" font-size=\"14.00\"> ≤ 0.135</text>\n",
       "<text text-anchor=\"start\" x=\"667.62\" y=\"-382.7\" font-family=\"Helvetica,sans-Serif\" font-size=\"14.00\">entropy = 0.691</text>\n",
       "<text text-anchor=\"start\" x=\"674\" y=\"-368.7\" font-family=\"Helvetica,sans-Serif\" font-size=\"14.00\">samples = 27</text>\n",
       "<text text-anchor=\"start\" x=\"672.12\" y=\"-354.7\" font-family=\"Helvetica,sans-Serif\" font-size=\"14.00\">value = [5, 22]</text>\n",
       "<text text-anchor=\"start\" x=\"662\" y=\"-340.7\" font-family=\"Helvetica,sans-Serif\" font-size=\"14.00\">class = Malignant</text>\n",
       "</g>\n",
       "<!-- 13&#45;&gt;15 -->\n",
       "<g id=\"edge15\" class=\"edge\">\n",
       "<title>13&#45;&gt;15</title>\n",
       "<path fill=\"none\" stroke=\"black\" d=\"M628.59,-448.77C639.12,-439.77 650.45,-430.08 661.32,-420.79\"/>\n",
       "<polygon fill=\"black\" stroke=\"black\" points=\"663.44,-423.58 668.76,-414.42 658.89,-418.26 663.44,-423.58\"/>\n",
       "</g>\n",
       "<!-- 16 -->\n",
       "<g id=\"node17\" class=\"node\">\n",
       "<title>16</title>\n",
       "<path fill=\"#deeffb\" stroke=\"black\" d=\"M699.75,-299C699.75,-299 602,-299 602,-299 596,-299 590,-293 590,-287 590,-287 590,-233 590,-233 590,-227 596,-221 602,-221 602,-221 699.75,-221 699.75,-221 705.75,-221 711.75,-227 711.75,-233 711.75,-233 711.75,-287 711.75,-287 711.75,-293 705.75,-299 699.75,-299\"/>\n",
       "<text text-anchor=\"start\" x=\"616.38\" y=\"-282.7\" font-family=\"Helvetica,sans-Serif\" font-size=\"14.00\">x</text>\n",
       "<text text-anchor=\"start\" x=\"623.12\" y=\"-282.7\" font-family=\"Helvetica,sans-Serif\" baseline-shift=\"sub\" font-size=\"14.00\">19</text>\n",
       "<text text-anchor=\"start\" x=\"636.62\" y=\"-282.7\" font-family=\"Helvetica,sans-Serif\" font-size=\"14.00\"> ≤ 0.004</text>\n",
       "<text text-anchor=\"start\" x=\"603.62\" y=\"-268.7\" font-family=\"Helvetica,sans-Serif\" font-size=\"14.00\">entropy = 0.994</text>\n",
       "<text text-anchor=\"start\" x=\"610.38\" y=\"-254.7\" font-family=\"Helvetica,sans-Serif\" font-size=\"14.00\">samples = 11</text>\n",
       "<text text-anchor=\"start\" x=\"611.88\" y=\"-240.7\" font-family=\"Helvetica,sans-Serif\" font-size=\"14.00\">value = [5, 6]</text>\n",
       "<text text-anchor=\"start\" x=\"598\" y=\"-226.7\" font-family=\"Helvetica,sans-Serif\" font-size=\"14.00\">class = Malignant</text>\n",
       "</g>\n",
       "<!-- 15&#45;&gt;16 -->\n",
       "<g id=\"edge16\" class=\"edge\">\n",
       "<title>15&#45;&gt;16</title>\n",
       "<path fill=\"none\" stroke=\"black\" d=\"M693.03,-334.77C688.34,-326.57 683.34,-317.81 678.47,-309.28\"/>\n",
       "<polygon fill=\"black\" stroke=\"black\" points=\"681.59,-307.7 673.59,-300.75 675.51,-311.17 681.59,-307.7\"/>\n",
       "</g>\n",
       "<!-- 21 -->\n",
       "<g id=\"node22\" class=\"node\">\n",
       "<title>21</title>\n",
       "<path fill=\"#399de5\" stroke=\"black\" d=\"M839.75,-295.5C839.75,-295.5 742,-295.5 742,-295.5 736,-295.5 730,-289.5 730,-283.5 730,-283.5 730,-236.5 730,-236.5 730,-230.5 736,-224.5 742,-224.5 742,-224.5 839.75,-224.5 839.75,-224.5 845.75,-224.5 851.75,-230.5 851.75,-236.5 851.75,-236.5 851.75,-283.5 851.75,-283.5 851.75,-289.5 845.75,-295.5 839.75,-295.5\"/>\n",
       "<text text-anchor=\"start\" x=\"751.12\" y=\"-278.2\" font-family=\"Helvetica,sans-Serif\" font-size=\"14.00\">entropy = 0.0</text>\n",
       "<text text-anchor=\"start\" x=\"750\" y=\"-262.45\" font-family=\"Helvetica,sans-Serif\" font-size=\"14.00\">samples = 16</text>\n",
       "<text text-anchor=\"start\" x=\"748.12\" y=\"-246.7\" font-family=\"Helvetica,sans-Serif\" font-size=\"14.00\">value = [0, 16]</text>\n",
       "<text text-anchor=\"start\" x=\"738\" y=\"-230.95\" font-family=\"Helvetica,sans-Serif\" font-size=\"14.00\">class = Malignant</text>\n",
       "</g>\n",
       "<!-- 15&#45;&gt;21 -->\n",
       "<g id=\"edge21\" class=\"edge\">\n",
       "<title>15&#45;&gt;21</title>\n",
       "<path fill=\"none\" stroke=\"black\" d=\"M740.82,-334.77C747.33,-325.16 754.38,-314.78 761.07,-304.92\"/>\n",
       "<polygon fill=\"black\" stroke=\"black\" points=\"763.78,-307.17 766.5,-296.93 757.98,-303.24 763.78,-307.17\"/>\n",
       "</g>\n",
       "<!-- 17 -->\n",
       "<g id=\"node18\" class=\"node\">\n",
       "<title>17</title>\n",
       "<path fill=\"#5aade9\" stroke=\"black\" d=\"M633.75,-185C633.75,-185 536,-185 536,-185 530,-185 524,-179 524,-173 524,-173 524,-119 524,-119 524,-113 530,-107 536,-107 536,-107 633.75,-107 633.75,-107 639.75,-107 645.75,-113 645.75,-119 645.75,-119 645.75,-173 645.75,-173 645.75,-179 639.75,-185 633.75,-185\"/>\n",
       "<text text-anchor=\"start\" x=\"550\" y=\"-168.7\" font-family=\"Helvetica,sans-Serif\" font-size=\"14.00\">x</text>\n",
       "<text text-anchor=\"start\" x=\"556.75\" y=\"-168.7\" font-family=\"Helvetica,sans-Serif\" baseline-shift=\"sub\" font-size=\"14.00\">2</text>\n",
       "<text text-anchor=\"start\" x=\"563.5\" y=\"-168.7\" font-family=\"Helvetica,sans-Serif\" font-size=\"14.00\"> ≤ 105.15</text>\n",
       "<text text-anchor=\"start\" x=\"537.62\" y=\"-154.7\" font-family=\"Helvetica,sans-Serif\" font-size=\"14.00\">entropy = 0.592</text>\n",
       "<text text-anchor=\"start\" x=\"547.75\" y=\"-140.7\" font-family=\"Helvetica,sans-Serif\" font-size=\"14.00\">samples = 7</text>\n",
       "<text text-anchor=\"start\" x=\"545.88\" y=\"-126.7\" font-family=\"Helvetica,sans-Serif\" font-size=\"14.00\">value = [1, 6]</text>\n",
       "<text text-anchor=\"start\" x=\"532\" y=\"-112.7\" font-family=\"Helvetica,sans-Serif\" font-size=\"14.00\">class = Malignant</text>\n",
       "</g>\n",
       "<!-- 16&#45;&gt;17 -->\n",
       "<g id=\"edge17\" class=\"edge\">\n",
       "<title>16&#45;&gt;17</title>\n",
       "<path fill=\"none\" stroke=\"black\" d=\"M628.35,-220.77C623.51,-212.57 618.35,-203.81 613.33,-195.28\"/>\n",
       "<polygon fill=\"black\" stroke=\"black\" points=\"616.39,-193.58 608.29,-186.74 610.36,-197.14 616.39,-193.58\"/>\n",
       "</g>\n",
       "<!-- 20 -->\n",
       "<g id=\"node21\" class=\"node\">\n",
       "<title>20</title>\n",
       "<path fill=\"#e58139\" stroke=\"black\" d=\"M756.12,-181.5C756.12,-181.5 675.62,-181.5 675.62,-181.5 669.62,-181.5 663.62,-175.5 663.62,-169.5 663.62,-169.5 663.62,-122.5 663.62,-122.5 663.62,-116.5 669.62,-110.5 675.62,-110.5 675.62,-110.5 756.12,-110.5 756.12,-110.5 762.12,-110.5 768.12,-116.5 768.12,-122.5 768.12,-122.5 768.12,-169.5 768.12,-169.5 768.12,-175.5 762.12,-181.5 756.12,-181.5\"/>\n",
       "<text text-anchor=\"start\" x=\"676.12\" y=\"-164.2\" font-family=\"Helvetica,sans-Serif\" font-size=\"14.00\">entropy = 0.0</text>\n",
       "<text text-anchor=\"start\" x=\"678.75\" y=\"-148.45\" font-family=\"Helvetica,sans-Serif\" font-size=\"14.00\">samples = 4</text>\n",
       "<text text-anchor=\"start\" x=\"676.88\" y=\"-132.7\" font-family=\"Helvetica,sans-Serif\" font-size=\"14.00\">value = [4, 0]</text>\n",
       "<text text-anchor=\"start\" x=\"671.62\" y=\"-116.95\" font-family=\"Helvetica,sans-Serif\" font-size=\"14.00\">class = Benign</text>\n",
       "</g>\n",
       "<!-- 16&#45;&gt;20 -->\n",
       "<g id=\"edge20\" class=\"edge\">\n",
       "<title>16&#45;&gt;20</title>\n",
       "<path fill=\"none\" stroke=\"black\" d=\"M673.06,-220.77C678.52,-211.36 684.41,-201.21 690.03,-191.53\"/>\n",
       "<polygon fill=\"black\" stroke=\"black\" points=\"693,-193.39 694.99,-182.98 686.94,-189.88 693,-193.39\"/>\n",
       "</g>\n",
       "<!-- 18 -->\n",
       "<g id=\"node19\" class=\"node\">\n",
       "<title>18</title>\n",
       "<path fill=\"#399de5\" stroke=\"black\" d=\"M568.75,-71C568.75,-71 471,-71 471,-71 465,-71 459,-65 459,-59 459,-59 459,-12 459,-12 459,-6 465,0 471,0 471,0 568.75,0 568.75,0 574.75,0 580.75,-6 580.75,-12 580.75,-12 580.75,-59 580.75,-59 580.75,-65 574.75,-71 568.75,-71\"/>\n",
       "<text text-anchor=\"start\" x=\"480.12\" y=\"-53.7\" font-family=\"Helvetica,sans-Serif\" font-size=\"14.00\">entropy = 0.0</text>\n",
       "<text text-anchor=\"start\" x=\"482.75\" y=\"-37.95\" font-family=\"Helvetica,sans-Serif\" font-size=\"14.00\">samples = 6</text>\n",
       "<text text-anchor=\"start\" x=\"480.88\" y=\"-22.2\" font-family=\"Helvetica,sans-Serif\" font-size=\"14.00\">value = [0, 6]</text>\n",
       "<text text-anchor=\"start\" x=\"467\" y=\"-6.45\" font-family=\"Helvetica,sans-Serif\" font-size=\"14.00\">class = Malignant</text>\n",
       "</g>\n",
       "<!-- 17&#45;&gt;18 -->\n",
       "<g id=\"edge18\" class=\"edge\">\n",
       "<title>17&#45;&gt;18</title>\n",
       "<path fill=\"none\" stroke=\"black\" d=\"M561.96,-106.75C556.97,-98.42 551.64,-89.53 546.52,-80.98\"/>\n",
       "<polygon fill=\"black\" stroke=\"black\" points=\"549.55,-79.23 541.41,-72.45 543.55,-82.83 549.55,-79.23\"/>\n",
       "</g>\n",
       "<!-- 19 -->\n",
       "<g id=\"node20\" class=\"node\">\n",
       "<title>19</title>\n",
       "<path fill=\"#e58139\" stroke=\"black\" d=\"M691.12,-71C691.12,-71 610.62,-71 610.62,-71 604.62,-71 598.62,-65 598.62,-59 598.62,-59 598.62,-12 598.62,-12 598.62,-6 604.62,0 610.62,0 610.62,0 691.12,0 691.12,0 697.12,0 703.12,-6 703.12,-12 703.12,-12 703.12,-59 703.12,-59 703.12,-65 697.12,-71 691.12,-71\"/>\n",
       "<text text-anchor=\"start\" x=\"611.12\" y=\"-53.7\" font-family=\"Helvetica,sans-Serif\" font-size=\"14.00\">entropy = 0.0</text>\n",
       "<text text-anchor=\"start\" x=\"613.75\" y=\"-37.95\" font-family=\"Helvetica,sans-Serif\" font-size=\"14.00\">samples = 1</text>\n",
       "<text text-anchor=\"start\" x=\"611.88\" y=\"-22.2\" font-family=\"Helvetica,sans-Serif\" font-size=\"14.00\">value = [1, 0]</text>\n",
       "<text text-anchor=\"start\" x=\"606.62\" y=\"-6.45\" font-family=\"Helvetica,sans-Serif\" font-size=\"14.00\">class = Benign</text>\n",
       "</g>\n",
       "<!-- 17&#45;&gt;19 -->\n",
       "<g id=\"edge19\" class=\"edge\">\n",
       "<title>17&#45;&gt;19</title>\n",
       "<path fill=\"none\" stroke=\"black\" d=\"M608.14,-106.75C613.21,-98.42 618.62,-89.53 623.82,-80.98\"/>\n",
       "<polygon fill=\"black\" stroke=\"black\" points=\"626.8,-82.81 629.01,-72.44 620.82,-79.17 626.8,-82.81\"/>\n",
       "</g>\n",
       "</g>\n",
       "</svg>\n"
      ],
      "text/plain": [
       "<graphviz.sources.Source at 0x18d06f89450>"
      ]
     },
     "metadata": {},
     "output_type": "display_data"
    },
    {
     "name": "stdout",
     "output_type": "stream",
     "text": [
      "Decision tree classifier for train/test split 60:40 built, visualized, and saved.\n"
     ]
    },
    {
     "data": {
      "image/svg+xml": [
       "<?xml version=\"1.0\" encoding=\"UTF-8\" standalone=\"no\"?>\n",
       "<!DOCTYPE svg PUBLIC \"-//W3C//DTD SVG 1.1//EN\"\n",
       " \"http://www.w3.org/Graphics/SVG/1.1/DTD/svg11.dtd\">\n",
       "<!-- Generated by graphviz version 12.1.0 (20240811.2233)\n",
       " -->\n",
       "<!-- Title: Tree Pages: 1 -->\n",
       "<svg width=\"1040pt\" height=\"763pt\"\n",
       " viewBox=\"0.00 0.00 1039.75 763.00\" xmlns=\"http://www.w3.org/2000/svg\" xmlns:xlink=\"http://www.w3.org/1999/xlink\">\n",
       "<g id=\"graph0\" class=\"graph\" transform=\"scale(1 1) rotate(0) translate(4 759)\">\n",
       "<title>Tree</title>\n",
       "<polygon fill=\"white\" stroke=\"none\" points=\"-4,4 -4,-759 1035.75,-759 1035.75,4 -4,4\"/>\n",
       "<!-- 0 -->\n",
       "<g id=\"node1\" class=\"node\">\n",
       "<title>0</title>\n",
       "<path fill=\"#f5ccaf\" stroke=\"black\" d=\"M626.88,-755C626.88,-755 526.88,-755 526.88,-755 520.88,-755 514.88,-749 514.88,-743 514.88,-743 514.88,-689 514.88,-689 514.88,-683 520.88,-677 526.88,-677 526.88,-677 626.88,-677 626.88,-677 632.88,-677 638.88,-683 638.88,-689 638.88,-689 638.88,-743 638.88,-743 638.88,-749 632.88,-755 626.88,-755\"/>\n",
       "<text text-anchor=\"start\" x=\"542.38\" y=\"-738.7\" font-family=\"Helvetica,sans-Serif\" font-size=\"14.00\">x</text>\n",
       "<text text-anchor=\"start\" x=\"549.12\" y=\"-738.7\" font-family=\"Helvetica,sans-Serif\" baseline-shift=\"sub\" font-size=\"14.00\">22</text>\n",
       "<text text-anchor=\"start\" x=\"562.62\" y=\"-738.7\" font-family=\"Helvetica,sans-Serif\" font-size=\"14.00\"> ≤ 106.1</text>\n",
       "<text text-anchor=\"start\" x=\"529.62\" y=\"-724.7\" font-family=\"Helvetica,sans-Serif\" font-size=\"14.00\">entropy = 0.953</text>\n",
       "<text text-anchor=\"start\" x=\"532.25\" y=\"-710.7\" font-family=\"Helvetica,sans-Serif\" font-size=\"14.00\">samples = 455</text>\n",
       "<text text-anchor=\"start\" x=\"522.88\" y=\"-696.7\" font-family=\"Helvetica,sans-Serif\" font-size=\"14.00\">value = [285, 170]</text>\n",
       "<text text-anchor=\"start\" x=\"532.62\" y=\"-682.7\" font-family=\"Helvetica,sans-Serif\" font-size=\"14.00\">class = Benign</text>\n",
       "</g>\n",
       "<!-- 1 -->\n",
       "<g id=\"node2\" class=\"node\">\n",
       "<title>1</title>\n",
       "<path fill=\"#e68742\" stroke=\"black\" d=\"M442.38,-641C442.38,-641 327.38,-641 327.38,-641 321.38,-641 315.38,-635 315.38,-629 315.38,-629 315.38,-575 315.38,-575 315.38,-569 321.38,-563 327.38,-563 327.38,-563 442.38,-563 442.38,-563 448.38,-563 454.38,-569 454.38,-575 454.38,-575 454.38,-629 454.38,-629 454.38,-635 448.38,-641 442.38,-641\"/>\n",
       "<text text-anchor=\"start\" x=\"350.38\" y=\"-624.7\" font-family=\"Helvetica,sans-Serif\" font-size=\"14.00\">x</text>\n",
       "<text text-anchor=\"start\" x=\"357.12\" y=\"-624.7\" font-family=\"Helvetica,sans-Serif\" baseline-shift=\"sub\" font-size=\"14.00\">26</text>\n",
       "<text text-anchor=\"start\" x=\"370.62\" y=\"-624.7\" font-family=\"Helvetica,sans-Serif\" font-size=\"14.00\"> ≤ 0.369</text>\n",
       "<text text-anchor=\"start\" x=\"337.62\" y=\"-610.7\" font-family=\"Helvetica,sans-Serif\" font-size=\"14.00\">entropy = 0.259</text>\n",
       "<text text-anchor=\"start\" x=\"340.25\" y=\"-596.7\" font-family=\"Helvetica,sans-Serif\" font-size=\"14.00\">samples = 275</text>\n",
       "<text text-anchor=\"start\" x=\"323.38\" y=\"-582.7\" font-family=\"Helvetica,sans-Serif\" font-size=\"14.00\">value = [263.0, 12.0]</text>\n",
       "<text text-anchor=\"start\" x=\"340.62\" y=\"-568.7\" font-family=\"Helvetica,sans-Serif\" font-size=\"14.00\">class = Benign</text>\n",
       "</g>\n",
       "<!-- 0&#45;&gt;1 -->\n",
       "<g id=\"edge1\" class=\"edge\">\n",
       "<title>0&#45;&gt;1</title>\n",
       "<path fill=\"none\" stroke=\"black\" d=\"M514.54,-678.64C497.35,-668.61 478.52,-657.63 460.67,-647.21\"/>\n",
       "<polygon fill=\"black\" stroke=\"black\" points=\"462.57,-644.27 452.17,-642.26 459.05,-650.32 462.57,-644.27\"/>\n",
       "<text text-anchor=\"middle\" x=\"457.23\" y=\"-660.25\" font-family=\"Helvetica,sans-Serif\" font-size=\"14.00\">True</text>\n",
       "</g>\n",
       "<!-- 12 -->\n",
       "<g id=\"node13\" class=\"node\">\n",
       "<title>12</title>\n",
       "<path fill=\"#55abe9\" stroke=\"black\" d=\"M692.75,-641C692.75,-641 595,-641 595,-641 589,-641 583,-635 583,-629 583,-629 583,-575 583,-575 583,-569 589,-563 595,-563 595,-563 692.75,-563 692.75,-563 698.75,-563 704.75,-569 704.75,-575 704.75,-575 704.75,-629 704.75,-629 704.75,-635 698.75,-641 692.75,-641\"/>\n",
       "<text text-anchor=\"start\" x=\"605.62\" y=\"-624.7\" font-family=\"Helvetica,sans-Serif\" font-size=\"14.00\">x</text>\n",
       "<text text-anchor=\"start\" x=\"612.38\" y=\"-624.7\" font-family=\"Helvetica,sans-Serif\" baseline-shift=\"sub\" font-size=\"14.00\">22</text>\n",
       "<text text-anchor=\"start\" x=\"625.88\" y=\"-624.7\" font-family=\"Helvetica,sans-Serif\" font-size=\"14.00\"> ≤ 120.35</text>\n",
       "<text text-anchor=\"start\" x=\"596.62\" y=\"-610.7\" font-family=\"Helvetica,sans-Serif\" font-size=\"14.00\">entropy = 0.536</text>\n",
       "<text text-anchor=\"start\" x=\"599.25\" y=\"-596.7\" font-family=\"Helvetica,sans-Serif\" font-size=\"14.00\">samples = 180</text>\n",
       "<text text-anchor=\"start\" x=\"593.62\" y=\"-582.7\" font-family=\"Helvetica,sans-Serif\" font-size=\"14.00\">value = [22, 158]</text>\n",
       "<text text-anchor=\"start\" x=\"591\" y=\"-568.7\" font-family=\"Helvetica,sans-Serif\" font-size=\"14.00\">class = Malignant</text>\n",
       "</g>\n",
       "<!-- 0&#45;&gt;12 -->\n",
       "<g id=\"edge12\" class=\"edge\">\n",
       "<title>0&#45;&gt;12</title>\n",
       "<path fill=\"none\" stroke=\"black\" d=\"M599.75,-676.77C604.65,-668.57 609.89,-659.81 614.99,-651.28\"/>\n",
       "<polygon fill=\"black\" stroke=\"black\" points=\"617.97,-653.12 620.1,-642.74 611.97,-649.52 617.97,-653.12\"/>\n",
       "<text text-anchor=\"middle\" x=\"626.98\" y=\"-660.26\" font-family=\"Helvetica,sans-Serif\" font-size=\"14.00\">False</text>\n",
       "</g>\n",
       "<!-- 2 -->\n",
       "<g id=\"node3\" class=\"node\">\n",
       "<title>2</title>\n",
       "<path fill=\"#e5813a\" stroke=\"black\" d=\"M233.12,-527C233.12,-527 146.62,-527 146.62,-527 140.62,-527 134.62,-521 134.62,-515 134.62,-515 134.62,-461 134.62,-461 134.62,-455 140.62,-449 146.62,-449 146.62,-449 233.12,-449 233.12,-449 239.12,-449 245.12,-455 245.12,-461 245.12,-461 245.12,-515 245.12,-515 245.12,-521 239.12,-527 233.12,-527\"/>\n",
       "<text text-anchor=\"start\" x=\"155.38\" y=\"-510.7\" font-family=\"Helvetica,sans-Serif\" font-size=\"14.00\">x</text>\n",
       "<text text-anchor=\"start\" x=\"162.12\" y=\"-510.7\" font-family=\"Helvetica,sans-Serif\" baseline-shift=\"sub\" font-size=\"14.00\">21</text>\n",
       "<text text-anchor=\"start\" x=\"175.62\" y=\"-510.7\" font-family=\"Helvetica,sans-Serif\" font-size=\"14.00\"> ≤ 33.35</text>\n",
       "<text text-anchor=\"start\" x=\"142.62\" y=\"-496.7\" font-family=\"Helvetica,sans-Serif\" font-size=\"14.00\">entropy = 0.037</text>\n",
       "<text text-anchor=\"start\" x=\"145.25\" y=\"-482.7\" font-family=\"Helvetica,sans-Serif\" font-size=\"14.00\">samples = 255</text>\n",
       "<text text-anchor=\"start\" x=\"143.38\" y=\"-468.7\" font-family=\"Helvetica,sans-Serif\" font-size=\"14.00\">value = [254, 1]</text>\n",
       "<text text-anchor=\"start\" x=\"145.62\" y=\"-454.7\" font-family=\"Helvetica,sans-Serif\" font-size=\"14.00\">class = Benign</text>\n",
       "</g>\n",
       "<!-- 1&#45;&gt;2 -->\n",
       "<g id=\"edge2\" class=\"edge\">\n",
       "<title>1&#45;&gt;2</title>\n",
       "<path fill=\"none\" stroke=\"black\" d=\"M318.04,-562.61C297.76,-550.97 275.52,-538.19 255.33,-526.6\"/>\n",
       "<polygon fill=\"black\" stroke=\"black\" points=\"257.34,-523.71 246.92,-521.76 253.85,-529.78 257.34,-523.71\"/>\n",
       "</g>\n",
       "<!-- 7 -->\n",
       "<g id=\"node8\" class=\"node\">\n",
       "<title>7</title>\n",
       "<path fill=\"#dbedfa\" stroke=\"black\" d=\"M433.75,-527C433.75,-527 336,-527 336,-527 330,-527 324,-521 324,-515 324,-515 324,-461 324,-461 324,-455 330,-449 336,-449 336,-449 433.75,-449 433.75,-449 439.75,-449 445.75,-455 445.75,-461 445.75,-461 445.75,-515 445.75,-515 445.75,-521 439.75,-527 433.75,-527\"/>\n",
       "<text text-anchor=\"start\" x=\"353.75\" y=\"-510.7\" font-family=\"Helvetica,sans-Serif\" font-size=\"14.00\">x</text>\n",
       "<text text-anchor=\"start\" x=\"360.5\" y=\"-510.7\" font-family=\"Helvetica,sans-Serif\" baseline-shift=\"sub\" font-size=\"14.00\">4</text>\n",
       "<text text-anchor=\"start\" x=\"367.25\" y=\"-510.7\" font-family=\"Helvetica,sans-Serif\" font-size=\"14.00\"> ≤ 0.096</text>\n",
       "<text text-anchor=\"start\" x=\"337.62\" y=\"-496.7\" font-family=\"Helvetica,sans-Serif\" font-size=\"14.00\">entropy = 0.993</text>\n",
       "<text text-anchor=\"start\" x=\"344\" y=\"-482.7\" font-family=\"Helvetica,sans-Serif\" font-size=\"14.00\">samples = 20</text>\n",
       "<text text-anchor=\"start\" x=\"342.5\" y=\"-468.7\" font-family=\"Helvetica,sans-Serif\" font-size=\"14.00\">value = [9, 11]</text>\n",
       "<text text-anchor=\"start\" x=\"332\" y=\"-454.7\" font-family=\"Helvetica,sans-Serif\" font-size=\"14.00\">class = Malignant</text>\n",
       "</g>\n",
       "<!-- 1&#45;&gt;7 -->\n",
       "<g id=\"edge7\" class=\"edge\">\n",
       "<title>1&#45;&gt;7</title>\n",
       "<path fill=\"none\" stroke=\"black\" d=\"M384.88,-562.77C384.88,-555.02 384.88,-546.76 384.88,-538.67\"/>\n",
       "<polygon fill=\"black\" stroke=\"black\" points=\"388.38,-538.95 384.88,-528.95 381.38,-538.95 388.38,-538.95\"/>\n",
       "</g>\n",
       "<!-- 3 -->\n",
       "<g id=\"node4\" class=\"node\">\n",
       "<title>3</title>\n",
       "<path fill=\"#e58139\" stroke=\"black\" d=\"M104.38,-409.5C104.38,-409.5 19.38,-409.5 19.38,-409.5 13.38,-409.5 7.38,-403.5 7.38,-397.5 7.38,-397.5 7.38,-350.5 7.38,-350.5 7.38,-344.5 13.38,-338.5 19.38,-338.5 19.38,-338.5 104.38,-338.5 104.38,-338.5 110.38,-338.5 116.38,-344.5 116.38,-350.5 116.38,-350.5 116.38,-397.5 116.38,-397.5 116.38,-403.5 110.38,-409.5 104.38,-409.5\"/>\n",
       "<text text-anchor=\"start\" x=\"22.12\" y=\"-392.2\" font-family=\"Helvetica,sans-Serif\" font-size=\"14.00\">entropy = 0.0</text>\n",
       "<text text-anchor=\"start\" x=\"17.25\" y=\"-376.45\" font-family=\"Helvetica,sans-Serif\" font-size=\"14.00\">samples = 236</text>\n",
       "<text text-anchor=\"start\" x=\"15.38\" y=\"-360.7\" font-family=\"Helvetica,sans-Serif\" font-size=\"14.00\">value = [236, 0]</text>\n",
       "<text text-anchor=\"start\" x=\"17.62\" y=\"-344.95\" font-family=\"Helvetica,sans-Serif\" font-size=\"14.00\">class = Benign</text>\n",
       "</g>\n",
       "<!-- 2&#45;&gt;3 -->\n",
       "<g id=\"edge3\" class=\"edge\">\n",
       "<title>2&#45;&gt;3</title>\n",
       "<path fill=\"none\" stroke=\"black\" d=\"M146.18,-448.77C134.53,-438.57 121.87,-427.49 109.99,-417.1\"/>\n",
       "<polygon fill=\"black\" stroke=\"black\" points=\"112.47,-414.62 102.64,-410.67 107.86,-419.89 112.47,-414.62\"/>\n",
       "</g>\n",
       "<!-- 4 -->\n",
       "<g id=\"node5\" class=\"node\">\n",
       "<title>4</title>\n",
       "<path fill=\"#e68844\" stroke=\"black\" d=\"M233.12,-413C233.12,-413 146.62,-413 146.62,-413 140.62,-413 134.62,-407 134.62,-401 134.62,-401 134.62,-347 134.62,-347 134.62,-341 140.62,-335 146.62,-335 146.62,-335 233.12,-335 233.12,-335 239.12,-335 245.12,-341 245.12,-347 245.12,-347 245.12,-401 245.12,-401 245.12,-407 239.12,-413 233.12,-413\"/>\n",
       "<text text-anchor=\"start\" x=\"155.38\" y=\"-396.7\" font-family=\"Helvetica,sans-Serif\" font-size=\"14.00\">x</text>\n",
       "<text text-anchor=\"start\" x=\"162.12\" y=\"-396.7\" font-family=\"Helvetica,sans-Serif\" baseline-shift=\"sub\" font-size=\"14.00\">21</text>\n",
       "<text text-anchor=\"start\" x=\"175.62\" y=\"-396.7\" font-family=\"Helvetica,sans-Serif\" font-size=\"14.00\"> ≤ 33.56</text>\n",
       "<text text-anchor=\"start\" x=\"142.62\" y=\"-382.7\" font-family=\"Helvetica,sans-Serif\" font-size=\"14.00\">entropy = 0.297</text>\n",
       "<text text-anchor=\"start\" x=\"149\" y=\"-368.7\" font-family=\"Helvetica,sans-Serif\" font-size=\"14.00\">samples = 19</text>\n",
       "<text text-anchor=\"start\" x=\"147.12\" y=\"-354.7\" font-family=\"Helvetica,sans-Serif\" font-size=\"14.00\">value = [18, 1]</text>\n",
       "<text text-anchor=\"start\" x=\"145.62\" y=\"-340.7\" font-family=\"Helvetica,sans-Serif\" font-size=\"14.00\">class = Benign</text>\n",
       "</g>\n",
       "<!-- 2&#45;&gt;4 -->\n",
       "<g id=\"edge4\" class=\"edge\">\n",
       "<title>2&#45;&gt;4</title>\n",
       "<path fill=\"none\" stroke=\"black\" d=\"M189.88,-448.77C189.88,-441.02 189.88,-432.76 189.88,-424.67\"/>\n",
       "<polygon fill=\"black\" stroke=\"black\" points=\"193.38,-424.95 189.88,-414.95 186.38,-424.95 193.38,-424.95\"/>\n",
       "</g>\n",
       "<!-- 5 -->\n",
       "<g id=\"node6\" class=\"node\">\n",
       "<title>5</title>\n",
       "<path fill=\"#399de5\" stroke=\"black\" d=\"M109.75,-295.5C109.75,-295.5 12,-295.5 12,-295.5 6,-295.5 0,-289.5 0,-283.5 0,-283.5 0,-236.5 0,-236.5 0,-230.5 6,-224.5 12,-224.5 12,-224.5 109.75,-224.5 109.75,-224.5 115.75,-224.5 121.75,-230.5 121.75,-236.5 121.75,-236.5 121.75,-283.5 121.75,-283.5 121.75,-289.5 115.75,-295.5 109.75,-295.5\"/>\n",
       "<text text-anchor=\"start\" x=\"21.12\" y=\"-278.2\" font-family=\"Helvetica,sans-Serif\" font-size=\"14.00\">entropy = 0.0</text>\n",
       "<text text-anchor=\"start\" x=\"23.75\" y=\"-262.45\" font-family=\"Helvetica,sans-Serif\" font-size=\"14.00\">samples = 1</text>\n",
       "<text text-anchor=\"start\" x=\"21.88\" y=\"-246.7\" font-family=\"Helvetica,sans-Serif\" font-size=\"14.00\">value = [0, 1]</text>\n",
       "<text text-anchor=\"start\" x=\"8\" y=\"-230.95\" font-family=\"Helvetica,sans-Serif\" font-size=\"14.00\">class = Malignant</text>\n",
       "</g>\n",
       "<!-- 4&#45;&gt;5 -->\n",
       "<g id=\"edge5\" class=\"edge\">\n",
       "<title>4&#45;&gt;5</title>\n",
       "<path fill=\"none\" stroke=\"black\" d=\"M145.84,-334.77C134.09,-324.57 121.34,-313.49 109.37,-303.1\"/>\n",
       "<polygon fill=\"black\" stroke=\"black\" points=\"111.8,-300.58 101.96,-296.67 107.21,-305.87 111.8,-300.58\"/>\n",
       "</g>\n",
       "<!-- 6 -->\n",
       "<g id=\"node7\" class=\"node\">\n",
       "<title>6</title>\n",
       "<path fill=\"#e58139\" stroke=\"black\" d=\"M232.12,-295.5C232.12,-295.5 151.62,-295.5 151.62,-295.5 145.62,-295.5 139.62,-289.5 139.62,-283.5 139.62,-283.5 139.62,-236.5 139.62,-236.5 139.62,-230.5 145.62,-224.5 151.62,-224.5 151.62,-224.5 232.12,-224.5 232.12,-224.5 238.12,-224.5 244.12,-230.5 244.12,-236.5 244.12,-236.5 244.12,-283.5 244.12,-283.5 244.12,-289.5 238.12,-295.5 232.12,-295.5\"/>\n",
       "<text text-anchor=\"start\" x=\"152.12\" y=\"-278.2\" font-family=\"Helvetica,sans-Serif\" font-size=\"14.00\">entropy = 0.0</text>\n",
       "<text text-anchor=\"start\" x=\"151\" y=\"-262.45\" font-family=\"Helvetica,sans-Serif\" font-size=\"14.00\">samples = 18</text>\n",
       "<text text-anchor=\"start\" x=\"149.12\" y=\"-246.7\" font-family=\"Helvetica,sans-Serif\" font-size=\"14.00\">value = [18, 0]</text>\n",
       "<text text-anchor=\"start\" x=\"147.62\" y=\"-230.95\" font-family=\"Helvetica,sans-Serif\" font-size=\"14.00\">class = Benign</text>\n",
       "</g>\n",
       "<!-- 4&#45;&gt;6 -->\n",
       "<g id=\"edge6\" class=\"edge\">\n",
       "<title>4&#45;&gt;6</title>\n",
       "<path fill=\"none\" stroke=\"black\" d=\"M190.56,-334.77C190.72,-325.86 190.89,-316.28 191.05,-307.07\"/>\n",
       "<polygon fill=\"black\" stroke=\"black\" points=\"194.55,-307.25 191.23,-297.19 187.55,-307.12 194.55,-307.25\"/>\n",
       "</g>\n",
       "<!-- 8 -->\n",
       "<g id=\"node9\" class=\"node\">\n",
       "<title>8</title>\n",
       "<path fill=\"#e58139\" stroke=\"black\" d=\"M356.12,-409.5C356.12,-409.5 275.62,-409.5 275.62,-409.5 269.62,-409.5 263.62,-403.5 263.62,-397.5 263.62,-397.5 263.62,-350.5 263.62,-350.5 263.62,-344.5 269.62,-338.5 275.62,-338.5 275.62,-338.5 356.12,-338.5 356.12,-338.5 362.12,-338.5 368.12,-344.5 368.12,-350.5 368.12,-350.5 368.12,-397.5 368.12,-397.5 368.12,-403.5 362.12,-409.5 356.12,-409.5\"/>\n",
       "<text text-anchor=\"start\" x=\"276.12\" y=\"-392.2\" font-family=\"Helvetica,sans-Serif\" font-size=\"14.00\">entropy = 0.0</text>\n",
       "<text text-anchor=\"start\" x=\"278.75\" y=\"-376.45\" font-family=\"Helvetica,sans-Serif\" font-size=\"14.00\">samples = 7</text>\n",
       "<text text-anchor=\"start\" x=\"276.88\" y=\"-360.7\" font-family=\"Helvetica,sans-Serif\" font-size=\"14.00\">value = [7, 0]</text>\n",
       "<text text-anchor=\"start\" x=\"271.62\" y=\"-344.95\" font-family=\"Helvetica,sans-Serif\" font-size=\"14.00\">class = Benign</text>\n",
       "</g>\n",
       "<!-- 7&#45;&gt;8 -->\n",
       "<g id=\"edge8\" class=\"edge\">\n",
       "<title>7&#45;&gt;8</title>\n",
       "<path fill=\"none\" stroke=\"black\" d=\"M361.32,-448.77C355.47,-439.26 349.14,-429 343.12,-419.23\"/>\n",
       "<polygon fill=\"black\" stroke=\"black\" points=\"346.26,-417.64 338.03,-410.96 340.3,-421.31 346.26,-417.64\"/>\n",
       "</g>\n",
       "<!-- 9 -->\n",
       "<g id=\"node10\" class=\"node\">\n",
       "<title>9</title>\n",
       "<path fill=\"#5dafea\" stroke=\"black\" d=\"M495.75,-413C495.75,-413 398,-413 398,-413 392,-413 386,-407 386,-401 386,-401 386,-347 386,-347 386,-341 392,-335 398,-335 398,-335 495.75,-335 495.75,-335 501.75,-335 507.75,-341 507.75,-347 507.75,-347 507.75,-401 507.75,-401 507.75,-407 501.75,-413 495.75,-413\"/>\n",
       "<text text-anchor=\"start\" x=\"408.62\" y=\"-396.7\" font-family=\"Helvetica,sans-Serif\" font-size=\"14.00\">x</text>\n",
       "<text text-anchor=\"start\" x=\"415.38\" y=\"-396.7\" font-family=\"Helvetica,sans-Serif\" baseline-shift=\"sub\" font-size=\"14.00\">21</text>\n",
       "<text text-anchor=\"start\" x=\"428.88\" y=\"-396.7\" font-family=\"Helvetica,sans-Serif\" font-size=\"14.00\"> ≤ 24.785</text>\n",
       "<text text-anchor=\"start\" x=\"399.62\" y=\"-382.7\" font-family=\"Helvetica,sans-Serif\" font-size=\"14.00\">entropy = 0.619</text>\n",
       "<text text-anchor=\"start\" x=\"406\" y=\"-368.7\" font-family=\"Helvetica,sans-Serif\" font-size=\"14.00\">samples = 13</text>\n",
       "<text text-anchor=\"start\" x=\"404.5\" y=\"-354.7\" font-family=\"Helvetica,sans-Serif\" font-size=\"14.00\">value = [2, 11]</text>\n",
       "<text text-anchor=\"start\" x=\"394\" y=\"-340.7\" font-family=\"Helvetica,sans-Serif\" font-size=\"14.00\">class = Malignant</text>\n",
       "</g>\n",
       "<!-- 7&#45;&gt;9 -->\n",
       "<g id=\"edge9\" class=\"edge\">\n",
       "<title>7&#45;&gt;9</title>\n",
       "<path fill=\"none\" stroke=\"black\" d=\"M406.04,-448.77C410.58,-440.57 415.43,-431.81 420.15,-423.28\"/>\n",
       "<polygon fill=\"black\" stroke=\"black\" points=\"423.08,-425.21 424.86,-414.76 416.96,-421.82 423.08,-425.21\"/>\n",
       "</g>\n",
       "<!-- 10 -->\n",
       "<g id=\"node11\" class=\"node\">\n",
       "<title>10</title>\n",
       "<path fill=\"#e58139\" stroke=\"black\" d=\"M356.12,-295.5C356.12,-295.5 275.62,-295.5 275.62,-295.5 269.62,-295.5 263.62,-289.5 263.62,-283.5 263.62,-283.5 263.62,-236.5 263.62,-236.5 263.62,-230.5 269.62,-224.5 275.62,-224.5 275.62,-224.5 356.12,-224.5 356.12,-224.5 362.12,-224.5 368.12,-230.5 368.12,-236.5 368.12,-236.5 368.12,-283.5 368.12,-283.5 368.12,-289.5 362.12,-295.5 356.12,-295.5\"/>\n",
       "<text text-anchor=\"start\" x=\"276.12\" y=\"-278.2\" font-family=\"Helvetica,sans-Serif\" font-size=\"14.00\">entropy = 0.0</text>\n",
       "<text text-anchor=\"start\" x=\"278.75\" y=\"-262.45\" font-family=\"Helvetica,sans-Serif\" font-size=\"14.00\">samples = 2</text>\n",
       "<text text-anchor=\"start\" x=\"276.88\" y=\"-246.7\" font-family=\"Helvetica,sans-Serif\" font-size=\"14.00\">value = [2, 0]</text>\n",
       "<text text-anchor=\"start\" x=\"271.62\" y=\"-230.95\" font-family=\"Helvetica,sans-Serif\" font-size=\"14.00\">class = Benign</text>\n",
       "</g>\n",
       "<!-- 9&#45;&gt;10 -->\n",
       "<g id=\"edge10\" class=\"edge\">\n",
       "<title>9&#45;&gt;10</title>\n",
       "<path fill=\"none\" stroke=\"black\" d=\"M402.16,-334.77C390.23,-324.57 377.28,-313.49 365.12,-303.1\"/>\n",
       "<polygon fill=\"black\" stroke=\"black\" points=\"367.46,-300.5 357.58,-296.66 362.91,-305.82 367.46,-300.5\"/>\n",
       "</g>\n",
       "<!-- 11 -->\n",
       "<g id=\"node12\" class=\"node\">\n",
       "<title>11</title>\n",
       "<path fill=\"#399de5\" stroke=\"black\" d=\"M495.75,-295.5C495.75,-295.5 398,-295.5 398,-295.5 392,-295.5 386,-289.5 386,-283.5 386,-283.5 386,-236.5 386,-236.5 386,-230.5 392,-224.5 398,-224.5 398,-224.5 495.75,-224.5 495.75,-224.5 501.75,-224.5 507.75,-230.5 507.75,-236.5 507.75,-236.5 507.75,-283.5 507.75,-283.5 507.75,-289.5 501.75,-295.5 495.75,-295.5\"/>\n",
       "<text text-anchor=\"start\" x=\"407.12\" y=\"-278.2\" font-family=\"Helvetica,sans-Serif\" font-size=\"14.00\">entropy = 0.0</text>\n",
       "<text text-anchor=\"start\" x=\"406.38\" y=\"-262.45\" font-family=\"Helvetica,sans-Serif\" font-size=\"14.00\">samples = 11</text>\n",
       "<text text-anchor=\"start\" x=\"404.5\" y=\"-246.7\" font-family=\"Helvetica,sans-Serif\" font-size=\"14.00\">value = [0, 11]</text>\n",
       "<text text-anchor=\"start\" x=\"394\" y=\"-230.95\" font-family=\"Helvetica,sans-Serif\" font-size=\"14.00\">class = Malignant</text>\n",
       "</g>\n",
       "<!-- 9&#45;&gt;11 -->\n",
       "<g id=\"edge11\" class=\"edge\">\n",
       "<title>9&#45;&gt;11</title>\n",
       "<path fill=\"none\" stroke=\"black\" d=\"M446.88,-334.77C446.88,-325.86 446.88,-316.28 446.88,-307.07\"/>\n",
       "<polygon fill=\"black\" stroke=\"black\" points=\"450.38,-307.19 446.88,-297.19 443.38,-307.19 450.38,-307.19\"/>\n",
       "</g>\n",
       "<!-- 13 -->\n",
       "<g id=\"node14\" class=\"node\">\n",
       "<title>13</title>\n",
       "<path fill=\"#c1e0f7\" stroke=\"black\" d=\"M692.75,-527C692.75,-527 595,-527 595,-527 589,-527 583,-521 583,-515 583,-515 583,-461 583,-461 583,-455 589,-449 595,-449 595,-449 692.75,-449 692.75,-449 698.75,-449 704.75,-455 704.75,-461 704.75,-461 704.75,-515 704.75,-515 704.75,-521 698.75,-527 692.75,-527\"/>\n",
       "<text text-anchor=\"start\" x=\"609.38\" y=\"-510.7\" font-family=\"Helvetica,sans-Serif\" font-size=\"14.00\">x</text>\n",
       "<text text-anchor=\"start\" x=\"616.12\" y=\"-510.7\" font-family=\"Helvetica,sans-Serif\" baseline-shift=\"sub\" font-size=\"14.00\">24</text>\n",
       "<text text-anchor=\"start\" x=\"629.62\" y=\"-510.7\" font-family=\"Helvetica,sans-Serif\" font-size=\"14.00\"> ≤ 0.136</text>\n",
       "<text text-anchor=\"start\" x=\"596.62\" y=\"-496.7\" font-family=\"Helvetica,sans-Serif\" font-size=\"14.00\">entropy = 0.975</text>\n",
       "<text text-anchor=\"start\" x=\"603\" y=\"-482.7\" font-family=\"Helvetica,sans-Serif\" font-size=\"14.00\">samples = 54</text>\n",
       "<text text-anchor=\"start\" x=\"597.38\" y=\"-468.7\" font-family=\"Helvetica,sans-Serif\" font-size=\"14.00\">value = [22, 32]</text>\n",
       "<text text-anchor=\"start\" x=\"591\" y=\"-454.7\" font-family=\"Helvetica,sans-Serif\" font-size=\"14.00\">class = Malignant</text>\n",
       "</g>\n",
       "<!-- 12&#45;&gt;13 -->\n",
       "<g id=\"edge13\" class=\"edge\">\n",
       "<title>12&#45;&gt;13</title>\n",
       "<path fill=\"none\" stroke=\"black\" d=\"M643.88,-562.77C643.88,-555.02 643.88,-546.76 643.88,-538.67\"/>\n",
       "<polygon fill=\"black\" stroke=\"black\" points=\"647.38,-538.95 643.88,-528.95 640.38,-538.95 647.38,-538.95\"/>\n",
       "</g>\n",
       "<!-- 26 -->\n",
       "<g id=\"node27\" class=\"node\">\n",
       "<title>26</title>\n",
       "<path fill=\"#399de5\" stroke=\"black\" d=\"M832.75,-523.5C832.75,-523.5 735,-523.5 735,-523.5 729,-523.5 723,-517.5 723,-511.5 723,-511.5 723,-464.5 723,-464.5 723,-458.5 729,-452.5 735,-452.5 735,-452.5 832.75,-452.5 832.75,-452.5 838.75,-452.5 844.75,-458.5 844.75,-464.5 844.75,-464.5 844.75,-511.5 844.75,-511.5 844.75,-517.5 838.75,-523.5 832.75,-523.5\"/>\n",
       "<text text-anchor=\"start\" x=\"744.12\" y=\"-506.2\" font-family=\"Helvetica,sans-Serif\" font-size=\"14.00\">entropy = 0.0</text>\n",
       "<text text-anchor=\"start\" x=\"739.25\" y=\"-490.45\" font-family=\"Helvetica,sans-Serif\" font-size=\"14.00\">samples = 126</text>\n",
       "<text text-anchor=\"start\" x=\"737.38\" y=\"-474.7\" font-family=\"Helvetica,sans-Serif\" font-size=\"14.00\">value = [0, 126]</text>\n",
       "<text text-anchor=\"start\" x=\"731\" y=\"-458.95\" font-family=\"Helvetica,sans-Serif\" font-size=\"14.00\">class = Malignant</text>\n",
       "</g>\n",
       "<!-- 12&#45;&gt;26 -->\n",
       "<g id=\"edge26\" class=\"edge\">\n",
       "<title>12&#45;&gt;26</title>\n",
       "<path fill=\"none\" stroke=\"black\" d=\"M691.66,-562.77C704.54,-552.47 718.53,-541.28 731.63,-530.8\"/>\n",
       "<polygon fill=\"black\" stroke=\"black\" points=\"733.73,-533.6 739.35,-524.62 729.35,-528.13 733.73,-533.6\"/>\n",
       "</g>\n",
       "<!-- 14 -->\n",
       "<g id=\"node15\" class=\"node\">\n",
       "<title>14</title>\n",
       "<path fill=\"#efb184\" stroke=\"black\" d=\"M684.12,-413C684.12,-413 603.62,-413 603.62,-413 597.62,-413 591.62,-407 591.62,-401 591.62,-401 591.62,-347 591.62,-347 591.62,-341 597.62,-335 603.62,-335 603.62,-335 684.12,-335 684.12,-335 690.12,-335 696.12,-341 696.12,-347 696.12,-347 696.12,-401 696.12,-401 696.12,-407 690.12,-413 684.12,-413\"/>\n",
       "<text text-anchor=\"start\" x=\"609.38\" y=\"-396.7\" font-family=\"Helvetica,sans-Serif\" font-size=\"14.00\">x</text>\n",
       "<text text-anchor=\"start\" x=\"616.12\" y=\"-396.7\" font-family=\"Helvetica,sans-Serif\" baseline-shift=\"sub\" font-size=\"14.00\">21</text>\n",
       "<text text-anchor=\"start\" x=\"629.62\" y=\"-396.7\" font-family=\"Helvetica,sans-Serif\" font-size=\"14.00\"> ≤ 25.67</text>\n",
       "<text text-anchor=\"start\" x=\"600.38\" y=\"-382.7\" font-family=\"Helvetica,sans-Serif\" font-size=\"14.00\">entropy = 0.85</text>\n",
       "<text text-anchor=\"start\" x=\"603\" y=\"-368.7\" font-family=\"Helvetica,sans-Serif\" font-size=\"14.00\">samples = 29</text>\n",
       "<text text-anchor=\"start\" x=\"601.12\" y=\"-354.7\" font-family=\"Helvetica,sans-Serif\" font-size=\"14.00\">value = [21, 8]</text>\n",
       "<text text-anchor=\"start\" x=\"599.62\" y=\"-340.7\" font-family=\"Helvetica,sans-Serif\" font-size=\"14.00\">class = Benign</text>\n",
       "</g>\n",
       "<!-- 13&#45;&gt;14 -->\n",
       "<g id=\"edge14\" class=\"edge\">\n",
       "<title>13&#45;&gt;14</title>\n",
       "<path fill=\"none\" stroke=\"black\" d=\"M643.88,-448.77C643.88,-441.02 643.88,-432.76 643.88,-424.67\"/>\n",
       "<polygon fill=\"black\" stroke=\"black\" points=\"647.38,-424.95 643.88,-414.95 640.38,-424.95 647.38,-424.95\"/>\n",
       "</g>\n",
       "<!-- 23 -->\n",
       "<g id=\"node24\" class=\"node\">\n",
       "<title>23</title>\n",
       "<path fill=\"#41a1e6\" stroke=\"black\" d=\"M888.75,-413C888.75,-413 791,-413 791,-413 785,-413 779,-407 779,-401 779,-401 779,-347 779,-347 779,-341 785,-335 791,-335 791,-335 888.75,-335 888.75,-335 894.75,-335 900.75,-341 900.75,-347 900.75,-347 900.75,-401 900.75,-401 900.75,-407 894.75,-413 888.75,-413\"/>\n",
       "<text text-anchor=\"start\" x=\"805.38\" y=\"-396.7\" font-family=\"Helvetica,sans-Serif\" font-size=\"14.00\">x</text>\n",
       "<text text-anchor=\"start\" x=\"812.12\" y=\"-396.7\" font-family=\"Helvetica,sans-Serif\" baseline-shift=\"sub\" font-size=\"14.00\">12</text>\n",
       "<text text-anchor=\"start\" x=\"825.62\" y=\"-396.7\" font-family=\"Helvetica,sans-Serif\" font-size=\"14.00\"> ≤ 1.344</text>\n",
       "<text text-anchor=\"start\" x=\"792.62\" y=\"-382.7\" font-family=\"Helvetica,sans-Serif\" font-size=\"14.00\">entropy = 0.242</text>\n",
       "<text text-anchor=\"start\" x=\"799\" y=\"-368.7\" font-family=\"Helvetica,sans-Serif\" font-size=\"14.00\">samples = 25</text>\n",
       "<text text-anchor=\"start\" x=\"797.12\" y=\"-354.7\" font-family=\"Helvetica,sans-Serif\" font-size=\"14.00\">value = [1, 24]</text>\n",
       "<text text-anchor=\"start\" x=\"787\" y=\"-340.7\" font-family=\"Helvetica,sans-Serif\" font-size=\"14.00\">class = Malignant</text>\n",
       "</g>\n",
       "<!-- 13&#45;&gt;23 -->\n",
       "<g id=\"edge23\" class=\"edge\">\n",
       "<title>13&#45;&gt;23</title>\n",
       "<path fill=\"none\" stroke=\"black\" d=\"M705.08,-452.02C725.35,-440.44 748.07,-427.46 769,-415.5\"/>\n",
       "<polygon fill=\"black\" stroke=\"black\" points=\"770.53,-418.66 777.48,-410.65 767.06,-412.58 770.53,-418.66\"/>\n",
       "</g>\n",
       "<!-- 15 -->\n",
       "<g id=\"node16\" class=\"node\">\n",
       "<title>15</title>\n",
       "<path fill=\"#e58139\" stroke=\"black\" d=\"M618.12,-295.5C618.12,-295.5 537.62,-295.5 537.62,-295.5 531.62,-295.5 525.62,-289.5 525.62,-283.5 525.62,-283.5 525.62,-236.5 525.62,-236.5 525.62,-230.5 531.62,-224.5 537.62,-224.5 537.62,-224.5 618.12,-224.5 618.12,-224.5 624.12,-224.5 630.12,-230.5 630.12,-236.5 630.12,-236.5 630.12,-283.5 630.12,-283.5 630.12,-289.5 624.12,-295.5 618.12,-295.5\"/>\n",
       "<text text-anchor=\"start\" x=\"538.12\" y=\"-278.2\" font-family=\"Helvetica,sans-Serif\" font-size=\"14.00\">entropy = 0.0</text>\n",
       "<text text-anchor=\"start\" x=\"537\" y=\"-262.45\" font-family=\"Helvetica,sans-Serif\" font-size=\"14.00\">samples = 15</text>\n",
       "<text text-anchor=\"start\" x=\"535.12\" y=\"-246.7\" font-family=\"Helvetica,sans-Serif\" font-size=\"14.00\">value = [15, 0]</text>\n",
       "<text text-anchor=\"start\" x=\"533.62\" y=\"-230.95\" font-family=\"Helvetica,sans-Serif\" font-size=\"14.00\">class = Benign</text>\n",
       "</g>\n",
       "<!-- 14&#45;&gt;15 -->\n",
       "<g id=\"edge15\" class=\"edge\">\n",
       "<title>14&#45;&gt;15</title>\n",
       "<path fill=\"none\" stroke=\"black\" d=\"M621.35,-334.77C615.8,-325.36 609.82,-315.21 604.12,-305.53\"/>\n",
       "<polygon fill=\"black\" stroke=\"black\" points=\"607.17,-303.82 599.08,-296.98 601.14,-307.37 607.17,-303.82\"/>\n",
       "</g>\n",
       "<!-- 16 -->\n",
       "<g id=\"node17\" class=\"node\">\n",
       "<title>16</title>\n",
       "<path fill=\"#cee6f8\" stroke=\"black\" d=\"M757.75,-299C757.75,-299 660,-299 660,-299 654,-299 648,-293 648,-287 648,-287 648,-233 648,-233 648,-227 654,-221 660,-221 660,-221 757.75,-221 757.75,-221 763.75,-221 769.75,-227 769.75,-233 769.75,-233 769.75,-287 769.75,-287 769.75,-293 763.75,-299 757.75,-299\"/>\n",
       "<text text-anchor=\"start\" x=\"674.38\" y=\"-282.7\" font-family=\"Helvetica,sans-Serif\" font-size=\"14.00\">x</text>\n",
       "<text text-anchor=\"start\" x=\"681.12\" y=\"-282.7\" font-family=\"Helvetica,sans-Serif\" baseline-shift=\"sub\" font-size=\"14.00\">25</text>\n",
       "<text text-anchor=\"start\" x=\"694.62\" y=\"-282.7\" font-family=\"Helvetica,sans-Serif\" font-size=\"14.00\"> ≤ 0.237</text>\n",
       "<text text-anchor=\"start\" x=\"661.62\" y=\"-268.7\" font-family=\"Helvetica,sans-Serif\" font-size=\"14.00\">entropy = 0.985</text>\n",
       "<text text-anchor=\"start\" x=\"668\" y=\"-254.7\" font-family=\"Helvetica,sans-Serif\" font-size=\"14.00\">samples = 14</text>\n",
       "<text text-anchor=\"start\" x=\"669.88\" y=\"-240.7\" font-family=\"Helvetica,sans-Serif\" font-size=\"14.00\">value = [6, 8]</text>\n",
       "<text text-anchor=\"start\" x=\"656\" y=\"-226.7\" font-family=\"Helvetica,sans-Serif\" font-size=\"14.00\">class = Malignant</text>\n",
       "</g>\n",
       "<!-- 14&#45;&gt;16 -->\n",
       "<g id=\"edge16\" class=\"edge\">\n",
       "<title>14&#45;&gt;16</title>\n",
       "<path fill=\"none\" stroke=\"black\" d=\"M666.06,-334.77C670.82,-326.57 675.91,-317.81 680.85,-309.28\"/>\n",
       "<polygon fill=\"black\" stroke=\"black\" points=\"683.81,-311.15 685.81,-300.75 677.76,-307.64 683.81,-311.15\"/>\n",
       "</g>\n",
       "<!-- 17 -->\n",
       "<g id=\"node18\" class=\"node\">\n",
       "<title>17</title>\n",
       "<path fill=\"#55abe9\" stroke=\"black\" d=\"M691.75,-185C691.75,-185 594,-185 594,-185 588,-185 582,-179 582,-173 582,-173 582,-119 582,-119 582,-113 588,-107 594,-107 594,-107 691.75,-107 691.75,-107 697.75,-107 703.75,-113 703.75,-119 703.75,-119 703.75,-173 703.75,-173 703.75,-179 697.75,-185 691.75,-185\"/>\n",
       "<text text-anchor=\"start\" x=\"608\" y=\"-168.7\" font-family=\"Helvetica,sans-Serif\" font-size=\"14.00\">x</text>\n",
       "<text text-anchor=\"start\" x=\"614.75\" y=\"-168.7\" font-family=\"Helvetica,sans-Serif\" baseline-shift=\"sub\" font-size=\"14.00\">2</text>\n",
       "<text text-anchor=\"start\" x=\"621.5\" y=\"-168.7\" font-family=\"Helvetica,sans-Serif\" font-size=\"14.00\"> ≤ 106.05</text>\n",
       "<text text-anchor=\"start\" x=\"595.62\" y=\"-154.7\" font-family=\"Helvetica,sans-Serif\" font-size=\"14.00\">entropy = 0.544</text>\n",
       "<text text-anchor=\"start\" x=\"605.75\" y=\"-140.7\" font-family=\"Helvetica,sans-Serif\" font-size=\"14.00\">samples = 8</text>\n",
       "<text text-anchor=\"start\" x=\"603.88\" y=\"-126.7\" font-family=\"Helvetica,sans-Serif\" font-size=\"14.00\">value = [1, 7]</text>\n",
       "<text text-anchor=\"start\" x=\"590\" y=\"-112.7\" font-family=\"Helvetica,sans-Serif\" font-size=\"14.00\">class = Malignant</text>\n",
       "</g>\n",
       "<!-- 16&#45;&gt;17 -->\n",
       "<g id=\"edge17\" class=\"edge\">\n",
       "<title>16&#45;&gt;17</title>\n",
       "<path fill=\"none\" stroke=\"black\" d=\"M686.35,-220.77C681.51,-212.57 676.35,-203.81 671.33,-195.28\"/>\n",
       "<polygon fill=\"black\" stroke=\"black\" points=\"674.39,-193.58 666.29,-186.74 668.36,-197.14 674.39,-193.58\"/>\n",
       "</g>\n",
       "<!-- 20 -->\n",
       "<g id=\"node21\" class=\"node\">\n",
       "<title>20</title>\n",
       "<path fill=\"#ea9a61\" stroke=\"black\" d=\"M814.12,-185C814.12,-185 733.62,-185 733.62,-185 727.62,-185 721.62,-179 721.62,-173 721.62,-173 721.62,-119 721.62,-119 721.62,-113 727.62,-107 733.62,-107 733.62,-107 814.12,-107 814.12,-107 820.12,-107 826.12,-113 826.12,-119 826.12,-119 826.12,-173 826.12,-173 826.12,-179 820.12,-185 814.12,-185\"/>\n",
       "<text text-anchor=\"start\" x=\"739\" y=\"-168.7\" font-family=\"Helvetica,sans-Serif\" font-size=\"14.00\">x</text>\n",
       "<text text-anchor=\"start\" x=\"745.75\" y=\"-168.7\" font-family=\"Helvetica,sans-Serif\" baseline-shift=\"sub\" font-size=\"14.00\">2</text>\n",
       "<text text-anchor=\"start\" x=\"752.5\" y=\"-168.7\" font-family=\"Helvetica,sans-Serif\" font-size=\"14.00\"> ≤ 98.965</text>\n",
       "<text text-anchor=\"start\" x=\"730.38\" y=\"-154.7\" font-family=\"Helvetica,sans-Serif\" font-size=\"14.00\">entropy = 0.65</text>\n",
       "<text text-anchor=\"start\" x=\"736.75\" y=\"-140.7\" font-family=\"Helvetica,sans-Serif\" font-size=\"14.00\">samples = 6</text>\n",
       "<text text-anchor=\"start\" x=\"734.88\" y=\"-126.7\" font-family=\"Helvetica,sans-Serif\" font-size=\"14.00\">value = [5, 1]</text>\n",
       "<text text-anchor=\"start\" x=\"729.62\" y=\"-112.7\" font-family=\"Helvetica,sans-Serif\" font-size=\"14.00\">class = Benign</text>\n",
       "</g>\n",
       "<!-- 16&#45;&gt;20 -->\n",
       "<g id=\"edge20\" class=\"edge\">\n",
       "<title>16&#45;&gt;20</title>\n",
       "<path fill=\"none\" stroke=\"black\" d=\"M731.06,-220.77C735.82,-212.57 740.91,-203.81 745.85,-195.28\"/>\n",
       "<polygon fill=\"black\" stroke=\"black\" points=\"748.81,-197.15 750.81,-186.75 742.76,-193.64 748.81,-197.15\"/>\n",
       "</g>\n",
       "<!-- 18 -->\n",
       "<g id=\"node19\" class=\"node\">\n",
       "<title>18</title>\n",
       "<path fill=\"#399de5\" stroke=\"black\" d=\"M562.75,-71C562.75,-71 465,-71 465,-71 459,-71 453,-65 453,-59 453,-59 453,-12 453,-12 453,-6 459,0 465,0 465,0 562.75,0 562.75,0 568.75,0 574.75,-6 574.75,-12 574.75,-12 574.75,-59 574.75,-59 574.75,-65 568.75,-71 562.75,-71\"/>\n",
       "<text text-anchor=\"start\" x=\"474.12\" y=\"-53.7\" font-family=\"Helvetica,sans-Serif\" font-size=\"14.00\">entropy = 0.0</text>\n",
       "<text text-anchor=\"start\" x=\"476.75\" y=\"-37.95\" font-family=\"Helvetica,sans-Serif\" font-size=\"14.00\">samples = 7</text>\n",
       "<text text-anchor=\"start\" x=\"474.88\" y=\"-22.2\" font-family=\"Helvetica,sans-Serif\" font-size=\"14.00\">value = [0, 7]</text>\n",
       "<text text-anchor=\"start\" x=\"461\" y=\"-6.45\" font-family=\"Helvetica,sans-Serif\" font-size=\"14.00\">class = Malignant</text>\n",
       "</g>\n",
       "<!-- 17&#45;&gt;18 -->\n",
       "<g id=\"edge18\" class=\"edge\">\n",
       "<title>17&#45;&gt;18</title>\n",
       "<path fill=\"none\" stroke=\"black\" d=\"M597.39,-106.75C586.52,-97.6 574.85,-87.79 563.79,-78.48\"/>\n",
       "<polygon fill=\"black\" stroke=\"black\" points=\"566.14,-75.88 556.23,-72.12 561.63,-81.24 566.14,-75.88\"/>\n",
       "</g>\n",
       "<!-- 19 -->\n",
       "<g id=\"node20\" class=\"node\">\n",
       "<title>19</title>\n",
       "<path fill=\"#e58139\" stroke=\"black\" d=\"M685.12,-71C685.12,-71 604.62,-71 604.62,-71 598.62,-71 592.62,-65 592.62,-59 592.62,-59 592.62,-12 592.62,-12 592.62,-6 598.62,0 604.62,0 604.62,0 685.12,0 685.12,0 691.12,0 697.12,-6 697.12,-12 697.12,-12 697.12,-59 697.12,-59 697.12,-65 691.12,-71 685.12,-71\"/>\n",
       "<text text-anchor=\"start\" x=\"605.12\" y=\"-53.7\" font-family=\"Helvetica,sans-Serif\" font-size=\"14.00\">entropy = 0.0</text>\n",
       "<text text-anchor=\"start\" x=\"607.75\" y=\"-37.95\" font-family=\"Helvetica,sans-Serif\" font-size=\"14.00\">samples = 1</text>\n",
       "<text text-anchor=\"start\" x=\"605.88\" y=\"-22.2\" font-family=\"Helvetica,sans-Serif\" font-size=\"14.00\">value = [1, 0]</text>\n",
       "<text text-anchor=\"start\" x=\"600.62\" y=\"-6.45\" font-family=\"Helvetica,sans-Serif\" font-size=\"14.00\">class = Benign</text>\n",
       "</g>\n",
       "<!-- 17&#45;&gt;19 -->\n",
       "<g id=\"edge19\" class=\"edge\">\n",
       "<title>17&#45;&gt;19</title>\n",
       "<path fill=\"none\" stroke=\"black\" d=\"M643.58,-106.75C643.72,-98.96 643.88,-90.69 644.02,-82.66\"/>\n",
       "<polygon fill=\"black\" stroke=\"black\" points=\"647.52,-82.73 644.21,-72.66 640.52,-82.6 647.52,-82.73\"/>\n",
       "</g>\n",
       "<!-- 21 -->\n",
       "<g id=\"node22\" class=\"node\">\n",
       "<title>21</title>\n",
       "<path fill=\"#e58139\" stroke=\"black\" d=\"M812.12,-71C812.12,-71 731.62,-71 731.62,-71 725.62,-71 719.62,-65 719.62,-59 719.62,-59 719.62,-12 719.62,-12 719.62,-6 725.62,0 731.62,0 731.62,0 812.12,0 812.12,0 818.12,0 824.12,-6 824.12,-12 824.12,-12 824.12,-59 824.12,-59 824.12,-65 818.12,-71 812.12,-71\"/>\n",
       "<text text-anchor=\"start\" x=\"732.12\" y=\"-53.7\" font-family=\"Helvetica,sans-Serif\" font-size=\"14.00\">entropy = 0.0</text>\n",
       "<text text-anchor=\"start\" x=\"734.75\" y=\"-37.95\" font-family=\"Helvetica,sans-Serif\" font-size=\"14.00\">samples = 5</text>\n",
       "<text text-anchor=\"start\" x=\"732.88\" y=\"-22.2\" font-family=\"Helvetica,sans-Serif\" font-size=\"14.00\">value = [5, 0]</text>\n",
       "<text text-anchor=\"start\" x=\"727.62\" y=\"-6.45\" font-family=\"Helvetica,sans-Serif\" font-size=\"14.00\">class = Benign</text>\n",
       "</g>\n",
       "<!-- 20&#45;&gt;21 -->\n",
       "<g id=\"edge21\" class=\"edge\">\n",
       "<title>20&#45;&gt;21</title>\n",
       "<path fill=\"none\" stroke=\"black\" d=\"M773.17,-106.75C773.03,-98.96 772.87,-90.69 772.73,-82.66\"/>\n",
       "<polygon fill=\"black\" stroke=\"black\" points=\"776.23,-82.6 772.54,-72.66 769.23,-82.73 776.23,-82.6\"/>\n",
       "</g>\n",
       "<!-- 22 -->\n",
       "<g id=\"node23\" class=\"node\">\n",
       "<title>22</title>\n",
       "<path fill=\"#399de5\" stroke=\"black\" d=\"M951.75,-71C951.75,-71 854,-71 854,-71 848,-71 842,-65 842,-59 842,-59 842,-12 842,-12 842,-6 848,0 854,0 854,0 951.75,0 951.75,0 957.75,0 963.75,-6 963.75,-12 963.75,-12 963.75,-59 963.75,-59 963.75,-65 957.75,-71 951.75,-71\"/>\n",
       "<text text-anchor=\"start\" x=\"863.12\" y=\"-53.7\" font-family=\"Helvetica,sans-Serif\" font-size=\"14.00\">entropy = 0.0</text>\n",
       "<text text-anchor=\"start\" x=\"865.75\" y=\"-37.95\" font-family=\"Helvetica,sans-Serif\" font-size=\"14.00\">samples = 1</text>\n",
       "<text text-anchor=\"start\" x=\"863.88\" y=\"-22.2\" font-family=\"Helvetica,sans-Serif\" font-size=\"14.00\">value = [0, 1]</text>\n",
       "<text text-anchor=\"start\" x=\"850\" y=\"-6.45\" font-family=\"Helvetica,sans-Serif\" font-size=\"14.00\">class = Malignant</text>\n",
       "</g>\n",
       "<!-- 20&#45;&gt;22 -->\n",
       "<g id=\"edge22\" class=\"edge\">\n",
       "<title>20&#45;&gt;22</title>\n",
       "<path fill=\"none\" stroke=\"black\" d=\"M819.36,-106.75C830.23,-97.6 841.9,-87.79 852.96,-78.48\"/>\n",
       "<polygon fill=\"black\" stroke=\"black\" points=\"855.12,-81.24 860.52,-72.12 850.61,-75.88 855.12,-81.24\"/>\n",
       "</g>\n",
       "<!-- 24 -->\n",
       "<g id=\"node25\" class=\"node\">\n",
       "<title>24</title>\n",
       "<path fill=\"#e58139\" stroke=\"black\" d=\"M880.12,-295.5C880.12,-295.5 799.62,-295.5 799.62,-295.5 793.62,-295.5 787.62,-289.5 787.62,-283.5 787.62,-283.5 787.62,-236.5 787.62,-236.5 787.62,-230.5 793.62,-224.5 799.62,-224.5 799.62,-224.5 880.12,-224.5 880.12,-224.5 886.12,-224.5 892.12,-230.5 892.12,-236.5 892.12,-236.5 892.12,-283.5 892.12,-283.5 892.12,-289.5 886.12,-295.5 880.12,-295.5\"/>\n",
       "<text text-anchor=\"start\" x=\"800.12\" y=\"-278.2\" font-family=\"Helvetica,sans-Serif\" font-size=\"14.00\">entropy = 0.0</text>\n",
       "<text text-anchor=\"start\" x=\"802.75\" y=\"-262.45\" font-family=\"Helvetica,sans-Serif\" font-size=\"14.00\">samples = 1</text>\n",
       "<text text-anchor=\"start\" x=\"800.88\" y=\"-246.7\" font-family=\"Helvetica,sans-Serif\" font-size=\"14.00\">value = [1, 0]</text>\n",
       "<text text-anchor=\"start\" x=\"795.62\" y=\"-230.95\" font-family=\"Helvetica,sans-Serif\" font-size=\"14.00\">class = Benign</text>\n",
       "</g>\n",
       "<!-- 23&#45;&gt;24 -->\n",
       "<g id=\"edge24\" class=\"edge\">\n",
       "<title>23&#45;&gt;24</title>\n",
       "<path fill=\"none\" stroke=\"black\" d=\"M839.88,-334.77C839.88,-325.86 839.88,-316.28 839.88,-307.07\"/>\n",
       "<polygon fill=\"black\" stroke=\"black\" points=\"843.38,-307.19 839.88,-297.19 836.38,-307.19 843.38,-307.19\"/>\n",
       "</g>\n",
       "<!-- 25 -->\n",
       "<g id=\"node26\" class=\"node\">\n",
       "<title>25</title>\n",
       "<path fill=\"#399de5\" stroke=\"black\" d=\"M1019.75,-295.5C1019.75,-295.5 922,-295.5 922,-295.5 916,-295.5 910,-289.5 910,-283.5 910,-283.5 910,-236.5 910,-236.5 910,-230.5 916,-224.5 922,-224.5 922,-224.5 1019.75,-224.5 1019.75,-224.5 1025.75,-224.5 1031.75,-230.5 1031.75,-236.5 1031.75,-236.5 1031.75,-283.5 1031.75,-283.5 1031.75,-289.5 1025.75,-295.5 1019.75,-295.5\"/>\n",
       "<text text-anchor=\"start\" x=\"931.12\" y=\"-278.2\" font-family=\"Helvetica,sans-Serif\" font-size=\"14.00\">entropy = 0.0</text>\n",
       "<text text-anchor=\"start\" x=\"930\" y=\"-262.45\" font-family=\"Helvetica,sans-Serif\" font-size=\"14.00\">samples = 24</text>\n",
       "<text text-anchor=\"start\" x=\"928.12\" y=\"-246.7\" font-family=\"Helvetica,sans-Serif\" font-size=\"14.00\">value = [0, 24]</text>\n",
       "<text text-anchor=\"start\" x=\"918\" y=\"-230.95\" font-family=\"Helvetica,sans-Serif\" font-size=\"14.00\">class = Malignant</text>\n",
       "</g>\n",
       "<!-- 23&#45;&gt;25 -->\n",
       "<g id=\"edge25\" class=\"edge\">\n",
       "<title>23&#45;&gt;25</title>\n",
       "<path fill=\"none\" stroke=\"black\" d=\"M884.59,-334.77C896.52,-324.57 909.47,-313.49 921.63,-303.1\"/>\n",
       "<polygon fill=\"black\" stroke=\"black\" points=\"923.84,-305.82 929.17,-296.66 919.29,-300.5 923.84,-305.82\"/>\n",
       "</g>\n",
       "</g>\n",
       "</svg>\n"
      ],
      "text/plain": [
       "<graphviz.sources.Source at 0x18d0a3b33d0>"
      ]
     },
     "metadata": {},
     "output_type": "display_data"
    },
    {
     "name": "stdout",
     "output_type": "stream",
     "text": [
      "Decision tree classifier for train/test split 80:20 built, visualized, and saved.\n"
     ]
    },
    {
     "data": {
      "image/svg+xml": [
       "<?xml version=\"1.0\" encoding=\"UTF-8\" standalone=\"no\"?>\n",
       "<!DOCTYPE svg PUBLIC \"-//W3C//DTD SVG 1.1//EN\"\n",
       " \"http://www.w3.org/Graphics/SVG/1.1/DTD/svg11.dtd\">\n",
       "<!-- Generated by graphviz version 12.1.0 (20240811.2233)\n",
       " -->\n",
       "<!-- Title: Tree Pages: 1 -->\n",
       "<svg width=\"1425pt\" height=\"763pt\"\n",
       " viewBox=\"0.00 0.00 1425.38 763.00\" xmlns=\"http://www.w3.org/2000/svg\" xmlns:xlink=\"http://www.w3.org/1999/xlink\">\n",
       "<g id=\"graph0\" class=\"graph\" transform=\"scale(1 1) rotate(0) translate(4 759)\">\n",
       "<title>Tree</title>\n",
       "<polygon fill=\"white\" stroke=\"none\" points=\"-4,4 -4,-759 1421.38,-759 1421.38,4 -4,4\"/>\n",
       "<!-- 0 -->\n",
       "<g id=\"node1\" class=\"node\">\n",
       "<title>0</title>\n",
       "<path fill=\"#f4ccaf\" stroke=\"black\" d=\"M782.5,-755C782.5,-755 682.5,-755 682.5,-755 676.5,-755 670.5,-749 670.5,-743 670.5,-743 670.5,-689 670.5,-689 670.5,-683 676.5,-677 682.5,-677 682.5,-677 782.5,-677 782.5,-677 788.5,-677 794.5,-683 794.5,-689 794.5,-689 794.5,-743 794.5,-743 794.5,-749 788.5,-755 782.5,-755\"/>\n",
       "<text text-anchor=\"start\" x=\"698\" y=\"-738.7\" font-family=\"Helvetica,sans-Serif\" font-size=\"14.00\">x</text>\n",
       "<text text-anchor=\"start\" x=\"704.75\" y=\"-738.7\" font-family=\"Helvetica,sans-Serif\" baseline-shift=\"sub\" font-size=\"14.00\">22</text>\n",
       "<text text-anchor=\"start\" x=\"718.25\" y=\"-738.7\" font-family=\"Helvetica,sans-Serif\" font-size=\"14.00\"> ≤ 106.1</text>\n",
       "<text text-anchor=\"start\" x=\"685.25\" y=\"-724.7\" font-family=\"Helvetica,sans-Serif\" font-size=\"14.00\">entropy = 0.953</text>\n",
       "<text text-anchor=\"start\" x=\"687.88\" y=\"-710.7\" font-family=\"Helvetica,sans-Serif\" font-size=\"14.00\">samples = 512</text>\n",
       "<text text-anchor=\"start\" x=\"678.5\" y=\"-696.7\" font-family=\"Helvetica,sans-Serif\" font-size=\"14.00\">value = [321, 191]</text>\n",
       "<text text-anchor=\"start\" x=\"688.25\" y=\"-682.7\" font-family=\"Helvetica,sans-Serif\" font-size=\"14.00\">class = Benign</text>\n",
       "</g>\n",
       "<!-- 1 -->\n",
       "<g id=\"node2\" class=\"node\">\n",
       "<title>1</title>\n",
       "<path fill=\"#e68743\" stroke=\"black\" d=\"M649.75,-641C649.75,-641 557.25,-641 557.25,-641 551.25,-641 545.25,-635 545.25,-629 545.25,-629 545.25,-575 545.25,-575 545.25,-569 551.25,-563 557.25,-563 557.25,-563 649.75,-563 649.75,-563 655.75,-563 661.75,-569 661.75,-575 661.75,-575 661.75,-629 661.75,-629 661.75,-635 655.75,-641 649.75,-641\"/>\n",
       "<text text-anchor=\"start\" x=\"569\" y=\"-624.7\" font-family=\"Helvetica,sans-Serif\" font-size=\"14.00\">x</text>\n",
       "<text text-anchor=\"start\" x=\"575.75\" y=\"-624.7\" font-family=\"Helvetica,sans-Serif\" baseline-shift=\"sub\" font-size=\"14.00\">27</text>\n",
       "<text text-anchor=\"start\" x=\"589.25\" y=\"-624.7\" font-family=\"Helvetica,sans-Serif\" font-size=\"14.00\"> ≤ 0.135</text>\n",
       "<text text-anchor=\"start\" x=\"560\" y=\"-610.7\" font-family=\"Helvetica,sans-Serif\" font-size=\"14.00\">entropy = 0.28</text>\n",
       "<text text-anchor=\"start\" x=\"558.88\" y=\"-596.7\" font-family=\"Helvetica,sans-Serif\" font-size=\"14.00\">samples = 310</text>\n",
       "<text text-anchor=\"start\" x=\"553.25\" y=\"-582.7\" font-family=\"Helvetica,sans-Serif\" font-size=\"14.00\">value = [295, 15]</text>\n",
       "<text text-anchor=\"start\" x=\"559.25\" y=\"-568.7\" font-family=\"Helvetica,sans-Serif\" font-size=\"14.00\">class = Benign</text>\n",
       "</g>\n",
       "<!-- 0&#45;&gt;1 -->\n",
       "<g id=\"edge1\" class=\"edge\">\n",
       "<title>0&#45;&gt;1</title>\n",
       "<path fill=\"none\" stroke=\"black\" d=\"M688.47,-676.77C678.1,-667.77 666.95,-658.08 656.24,-648.79\"/>\n",
       "<polygon fill=\"black\" stroke=\"black\" points=\"658.76,-646.34 648.92,-642.43 654.17,-651.63 658.76,-646.34\"/>\n",
       "<text text-anchor=\"middle\" x=\"649.53\" y=\"-660.95\" font-family=\"Helvetica,sans-Serif\" font-size=\"14.00\">True</text>\n",
       "</g>\n",
       "<!-- 18 -->\n",
       "<g id=\"node19\" class=\"node\">\n",
       "<title>18</title>\n",
       "<path fill=\"#56abe9\" stroke=\"black\" d=\"M1071.38,-641C1071.38,-641 973.62,-641 973.62,-641 967.62,-641 961.62,-635 961.62,-629 961.62,-629 961.62,-575 961.62,-575 961.62,-569 967.62,-563 973.62,-563 973.62,-563 1071.38,-563 1071.38,-563 1077.38,-563 1083.38,-569 1083.38,-575 1083.38,-575 1083.38,-629 1083.38,-629 1083.38,-635 1077.38,-641 1071.38,-641\"/>\n",
       "<text text-anchor=\"start\" x=\"984.62\" y=\"-624.7\" font-family=\"Helvetica,sans-Serif\" font-size=\"14.00\">x</text>\n",
       "<text text-anchor=\"start\" x=\"991.38\" y=\"-624.7\" font-family=\"Helvetica,sans-Serif\" baseline-shift=\"sub\" font-size=\"14.00\">22</text>\n",
       "<text text-anchor=\"start\" x=\"1004.88\" y=\"-624.7\" font-family=\"Helvetica,sans-Serif\" font-size=\"14.00\"> ≤ 117.45</text>\n",
       "<text text-anchor=\"start\" x=\"975.25\" y=\"-610.7\" font-family=\"Helvetica,sans-Serif\" font-size=\"14.00\">entropy = 0.554</text>\n",
       "<text text-anchor=\"start\" x=\"977.88\" y=\"-596.7\" font-family=\"Helvetica,sans-Serif\" font-size=\"14.00\">samples = 202</text>\n",
       "<text text-anchor=\"start\" x=\"972.25\" y=\"-582.7\" font-family=\"Helvetica,sans-Serif\" font-size=\"14.00\">value = [26, 176]</text>\n",
       "<text text-anchor=\"start\" x=\"969.62\" y=\"-568.7\" font-family=\"Helvetica,sans-Serif\" font-size=\"14.00\">class = Malignant</text>\n",
       "</g>\n",
       "<!-- 0&#45;&gt;18 -->\n",
       "<g id=\"edge18\" class=\"edge\">\n",
       "<title>0&#45;&gt;18</title>\n",
       "<path fill=\"none\" stroke=\"black\" d=\"M794.71,-690.97C840.51,-673.29 902.88,-649.2 950.78,-630.7\"/>\n",
       "<polygon fill=\"black\" stroke=\"black\" points=\"951.91,-634.02 959.97,-627.15 949.38,-627.49 951.91,-634.02\"/>\n",
       "<text text-anchor=\"middle\" x=\"951.26\" y=\"-644.04\" font-family=\"Helvetica,sans-Serif\" font-size=\"14.00\">False</text>\n",
       "</g>\n",
       "<!-- 2 -->\n",
       "<g id=\"node3\" class=\"node\">\n",
       "<title>2</title>\n",
       "<path fill=\"#e5833c\" stroke=\"black\" d=\"M424.75,-527C424.75,-527 338.25,-527 338.25,-527 332.25,-527 326.25,-521 326.25,-515 326.25,-515 326.25,-461 326.25,-461 326.25,-455 332.25,-449 338.25,-449 338.25,-449 424.75,-449 424.75,-449 430.75,-449 436.75,-455 436.75,-461 436.75,-461 436.75,-515 436.75,-515 436.75,-521 430.75,-527 424.75,-527\"/>\n",
       "<text text-anchor=\"start\" x=\"343.25\" y=\"-510.7\" font-family=\"Helvetica,sans-Serif\" font-size=\"14.00\">x</text>\n",
       "<text text-anchor=\"start\" x=\"350\" y=\"-510.7\" font-family=\"Helvetica,sans-Serif\" baseline-shift=\"sub\" font-size=\"14.00\">13</text>\n",
       "<text text-anchor=\"start\" x=\"363.5\" y=\"-510.7\" font-family=\"Helvetica,sans-Serif\" font-size=\"14.00\"> ≤ 48.975</text>\n",
       "<text text-anchor=\"start\" x=\"334.25\" y=\"-496.7\" font-family=\"Helvetica,sans-Serif\" font-size=\"14.00\">entropy = 0.105</text>\n",
       "<text text-anchor=\"start\" x=\"336.88\" y=\"-482.7\" font-family=\"Helvetica,sans-Serif\" font-size=\"14.00\">samples = 289</text>\n",
       "<text text-anchor=\"start\" x=\"335\" y=\"-468.7\" font-family=\"Helvetica,sans-Serif\" font-size=\"14.00\">value = [285, 4]</text>\n",
       "<text text-anchor=\"start\" x=\"337.25\" y=\"-454.7\" font-family=\"Helvetica,sans-Serif\" font-size=\"14.00\">class = Benign</text>\n",
       "</g>\n",
       "<!-- 1&#45;&gt;2 -->\n",
       "<g id=\"edge2\" class=\"edge\">\n",
       "<title>1&#45;&gt;2</title>\n",
       "<path fill=\"none\" stroke=\"black\" d=\"M544.88,-571.43C514.87,-556.29 478.24,-537.81 447.27,-522.18\"/>\n",
       "<polygon fill=\"black\" stroke=\"black\" points=\"448.86,-519.06 438.35,-517.68 445.71,-525.31 448.86,-519.06\"/>\n",
       "</g>\n",
       "<!-- 13 -->\n",
       "<g id=\"node14\" class=\"node\">\n",
       "<title>13</title>\n",
       "<path fill=\"#edf6fd\" stroke=\"black\" d=\"M652.38,-527C652.38,-527 554.62,-527 554.62,-527 548.62,-527 542.62,-521 542.62,-515 542.62,-515 542.62,-461 542.62,-461 542.62,-455 548.62,-449 554.62,-449 554.62,-449 652.38,-449 652.38,-449 658.38,-449 664.38,-455 664.38,-461 664.38,-461 664.38,-515 664.38,-515 664.38,-521 658.38,-527 652.38,-527\"/>\n",
       "<text text-anchor=\"start\" x=\"569\" y=\"-510.7\" font-family=\"Helvetica,sans-Serif\" font-size=\"14.00\">x</text>\n",
       "<text text-anchor=\"start\" x=\"575.75\" y=\"-510.7\" font-family=\"Helvetica,sans-Serif\" baseline-shift=\"sub\" font-size=\"14.00\">21</text>\n",
       "<text text-anchor=\"start\" x=\"589.25\" y=\"-510.7\" font-family=\"Helvetica,sans-Serif\" font-size=\"14.00\"> ≤ 25.89</text>\n",
       "<text text-anchor=\"start\" x=\"556.25\" y=\"-496.7\" font-family=\"Helvetica,sans-Serif\" font-size=\"14.00\">entropy = 0.998</text>\n",
       "<text text-anchor=\"start\" x=\"562.62\" y=\"-482.7\" font-family=\"Helvetica,sans-Serif\" font-size=\"14.00\">samples = 21</text>\n",
       "<text text-anchor=\"start\" x=\"557.38\" y=\"-468.7\" font-family=\"Helvetica,sans-Serif\" font-size=\"14.00\">value = [10, 11]</text>\n",
       "<text text-anchor=\"start\" x=\"550.62\" y=\"-454.7\" font-family=\"Helvetica,sans-Serif\" font-size=\"14.00\">class = Malignant</text>\n",
       "</g>\n",
       "<!-- 1&#45;&gt;13 -->\n",
       "<g id=\"edge13\" class=\"edge\">\n",
       "<title>1&#45;&gt;13</title>\n",
       "<path fill=\"none\" stroke=\"black\" d=\"M603.5,-562.77C603.5,-555.02 603.5,-546.76 603.5,-538.67\"/>\n",
       "<polygon fill=\"black\" stroke=\"black\" points=\"607,-538.95 603.5,-528.95 600,-538.95 607,-538.95\"/>\n",
       "</g>\n",
       "<!-- 3 -->\n",
       "<g id=\"node4\" class=\"node\">\n",
       "<title>3</title>\n",
       "<path fill=\"#e5823a\" stroke=\"black\" d=\"M225,-413C225,-413 140,-413 140,-413 134,-413 128,-407 128,-401 128,-401 128,-347 128,-347 128,-341 134,-335 140,-335 140,-335 225,-335 225,-335 231,-335 237,-341 237,-347 237,-347 237,-401 237,-401 237,-407 231,-413 225,-413\"/>\n",
       "<text text-anchor=\"start\" x=\"144.25\" y=\"-396.7\" font-family=\"Helvetica,sans-Serif\" font-size=\"14.00\">x</text>\n",
       "<text text-anchor=\"start\" x=\"151\" y=\"-396.7\" font-family=\"Helvetica,sans-Serif\" baseline-shift=\"sub\" font-size=\"14.00\">21</text>\n",
       "<text text-anchor=\"start\" x=\"164.5\" y=\"-396.7\" font-family=\"Helvetica,sans-Serif\" font-size=\"14.00\"> ≤ 30.145</text>\n",
       "<text text-anchor=\"start\" x=\"139\" y=\"-382.7\" font-family=\"Helvetica,sans-Serif\" font-size=\"14.00\">entropy = 0.06</text>\n",
       "<text text-anchor=\"start\" x=\"137.88\" y=\"-368.7\" font-family=\"Helvetica,sans-Serif\" font-size=\"14.00\">samples = 285</text>\n",
       "<text text-anchor=\"start\" x=\"136\" y=\"-354.7\" font-family=\"Helvetica,sans-Serif\" font-size=\"14.00\">value = [283, 2]</text>\n",
       "<text text-anchor=\"start\" x=\"138.25\" y=\"-340.7\" font-family=\"Helvetica,sans-Serif\" font-size=\"14.00\">class = Benign</text>\n",
       "</g>\n",
       "<!-- 2&#45;&gt;3 -->\n",
       "<g id=\"edge3\" class=\"edge\">\n",
       "<title>2&#45;&gt;3</title>\n",
       "<path fill=\"none\" stroke=\"black\" d=\"M325.8,-455.65C301.44,-441.94 272.7,-425.77 247.38,-411.52\"/>\n",
       "<polygon fill=\"black\" stroke=\"black\" points=\"249.25,-408.55 238.81,-406.69 245.81,-414.65 249.25,-408.55\"/>\n",
       "</g>\n",
       "<!-- 10 -->\n",
       "<g id=\"node11\" class=\"node\">\n",
       "<title>10</title>\n",
       "<path fill=\"#ffffff\" stroke=\"black\" d=\"M421.75,-413C421.75,-413 341.25,-413 341.25,-413 335.25,-413 329.25,-407 329.25,-401 329.25,-401 329.25,-347 329.25,-347 329.25,-341 335.25,-335 341.25,-335 341.25,-335 421.75,-335 421.75,-335 427.75,-335 433.75,-341 433.75,-347 433.75,-347 433.75,-401 433.75,-401 433.75,-407 427.75,-413 421.75,-413\"/>\n",
       "<text text-anchor=\"start\" x=\"347\" y=\"-396.7\" font-family=\"Helvetica,sans-Serif\" font-size=\"14.00\">x</text>\n",
       "<text text-anchor=\"start\" x=\"353.75\" y=\"-396.7\" font-family=\"Helvetica,sans-Serif\" baseline-shift=\"sub\" font-size=\"14.00\">25</text>\n",
       "<text text-anchor=\"start\" x=\"367.25\" y=\"-396.7\" font-family=\"Helvetica,sans-Serif\" font-size=\"14.00\"> ≤ 0.085</text>\n",
       "<text text-anchor=\"start\" x=\"341.75\" y=\"-382.7\" font-family=\"Helvetica,sans-Serif\" font-size=\"14.00\">entropy = 1.0</text>\n",
       "<text text-anchor=\"start\" x=\"344.38\" y=\"-368.7\" font-family=\"Helvetica,sans-Serif\" font-size=\"14.00\">samples = 4</text>\n",
       "<text text-anchor=\"start\" x=\"342.5\" y=\"-354.7\" font-family=\"Helvetica,sans-Serif\" font-size=\"14.00\">value = [2, 2]</text>\n",
       "<text text-anchor=\"start\" x=\"337.25\" y=\"-340.7\" font-family=\"Helvetica,sans-Serif\" font-size=\"14.00\">class = Benign</text>\n",
       "</g>\n",
       "<!-- 2&#45;&gt;10 -->\n",
       "<g id=\"edge10\" class=\"edge\">\n",
       "<title>2&#45;&gt;10</title>\n",
       "<path fill=\"none\" stroke=\"black\" d=\"M381.5,-448.77C381.5,-441.02 381.5,-432.76 381.5,-424.67\"/>\n",
       "<polygon fill=\"black\" stroke=\"black\" points=\"385,-424.95 381.5,-414.95 378,-424.95 385,-424.95\"/>\n",
       "</g>\n",
       "<!-- 4 -->\n",
       "<g id=\"node5\" class=\"node\">\n",
       "<title>4</title>\n",
       "<path fill=\"#e58139\" stroke=\"black\" d=\"M97,-295.5C97,-295.5 12,-295.5 12,-295.5 6,-295.5 0,-289.5 0,-283.5 0,-283.5 0,-236.5 0,-236.5 0,-230.5 6,-224.5 12,-224.5 12,-224.5 97,-224.5 97,-224.5 103,-224.5 109,-230.5 109,-236.5 109,-236.5 109,-283.5 109,-283.5 109,-289.5 103,-295.5 97,-295.5\"/>\n",
       "<text text-anchor=\"start\" x=\"14.75\" y=\"-278.2\" font-family=\"Helvetica,sans-Serif\" font-size=\"14.00\">entropy = 0.0</text>\n",
       "<text text-anchor=\"start\" x=\"9.88\" y=\"-262.45\" font-family=\"Helvetica,sans-Serif\" font-size=\"14.00\">samples = 248</text>\n",
       "<text text-anchor=\"start\" x=\"8\" y=\"-246.7\" font-family=\"Helvetica,sans-Serif\" font-size=\"14.00\">value = [248, 0]</text>\n",
       "<text text-anchor=\"start\" x=\"10.25\" y=\"-230.95\" font-family=\"Helvetica,sans-Serif\" font-size=\"14.00\">class = Benign</text>\n",
       "</g>\n",
       "<!-- 3&#45;&gt;4 -->\n",
       "<g id=\"edge4\" class=\"edge\">\n",
       "<title>3&#45;&gt;4</title>\n",
       "<path fill=\"none\" stroke=\"black\" d=\"M138.81,-334.77C127.15,-324.57 114.49,-313.49 102.62,-303.1\"/>\n",
       "<polygon fill=\"black\" stroke=\"black\" points=\"105.1,-300.62 95.27,-296.67 100.49,-305.89 105.1,-300.62\"/>\n",
       "</g>\n",
       "<!-- 5 -->\n",
       "<g id=\"node6\" class=\"node\">\n",
       "<title>5</title>\n",
       "<path fill=\"#e68844\" stroke=\"black\" d=\"M225.75,-299C225.75,-299 139.25,-299 139.25,-299 133.25,-299 127.25,-293 127.25,-287 127.25,-287 127.25,-233 127.25,-233 127.25,-227 133.25,-221 139.25,-221 139.25,-221 225.75,-221 225.75,-221 231.75,-221 237.75,-227 237.75,-233 237.75,-233 237.75,-287 237.75,-287 237.75,-293 231.75,-299 225.75,-299\"/>\n",
       "<text text-anchor=\"start\" x=\"148\" y=\"-282.7\" font-family=\"Helvetica,sans-Serif\" font-size=\"14.00\">x</text>\n",
       "<text text-anchor=\"start\" x=\"154.75\" y=\"-282.7\" font-family=\"Helvetica,sans-Serif\" baseline-shift=\"sub\" font-size=\"14.00\">20</text>\n",
       "<text text-anchor=\"start\" x=\"168.25\" y=\"-282.7\" font-family=\"Helvetica,sans-Serif\" font-size=\"14.00\"> ≤ 14.43</text>\n",
       "<text text-anchor=\"start\" x=\"135.25\" y=\"-268.7\" font-family=\"Helvetica,sans-Serif\" font-size=\"14.00\">entropy = 0.303</text>\n",
       "<text text-anchor=\"start\" x=\"141.62\" y=\"-254.7\" font-family=\"Helvetica,sans-Serif\" font-size=\"14.00\">samples = 37</text>\n",
       "<text text-anchor=\"start\" x=\"139.75\" y=\"-240.7\" font-family=\"Helvetica,sans-Serif\" font-size=\"14.00\">value = [35, 2]</text>\n",
       "<text text-anchor=\"start\" x=\"138.25\" y=\"-226.7\" font-family=\"Helvetica,sans-Serif\" font-size=\"14.00\">class = Benign</text>\n",
       "</g>\n",
       "<!-- 3&#45;&gt;5 -->\n",
       "<g id=\"edge5\" class=\"edge\">\n",
       "<title>3&#45;&gt;5</title>\n",
       "<path fill=\"none\" stroke=\"black\" d=\"M182.5,-334.77C182.5,-327.02 182.5,-318.76 182.5,-310.67\"/>\n",
       "<polygon fill=\"black\" stroke=\"black\" points=\"186,-310.95 182.5,-300.95 179,-310.95 186,-310.95\"/>\n",
       "</g>\n",
       "<!-- 6 -->\n",
       "<g id=\"node7\" class=\"node\">\n",
       "<title>6</title>\n",
       "<path fill=\"#e58139\" stroke=\"black\" d=\"M159.75,-181.5C159.75,-181.5 79.25,-181.5 79.25,-181.5 73.25,-181.5 67.25,-175.5 67.25,-169.5 67.25,-169.5 67.25,-122.5 67.25,-122.5 67.25,-116.5 73.25,-110.5 79.25,-110.5 79.25,-110.5 159.75,-110.5 159.75,-110.5 165.75,-110.5 171.75,-116.5 171.75,-122.5 171.75,-122.5 171.75,-169.5 171.75,-169.5 171.75,-175.5 165.75,-181.5 159.75,-181.5\"/>\n",
       "<text text-anchor=\"start\" x=\"79.75\" y=\"-164.2\" font-family=\"Helvetica,sans-Serif\" font-size=\"14.00\">entropy = 0.0</text>\n",
       "<text text-anchor=\"start\" x=\"78.62\" y=\"-148.45\" font-family=\"Helvetica,sans-Serif\" font-size=\"14.00\">samples = 29</text>\n",
       "<text text-anchor=\"start\" x=\"76.75\" y=\"-132.7\" font-family=\"Helvetica,sans-Serif\" font-size=\"14.00\">value = [29, 0]</text>\n",
       "<text text-anchor=\"start\" x=\"75.25\" y=\"-116.95\" font-family=\"Helvetica,sans-Serif\" font-size=\"14.00\">class = Benign</text>\n",
       "</g>\n",
       "<!-- 5&#45;&gt;6 -->\n",
       "<g id=\"edge6\" class=\"edge\">\n",
       "<title>5&#45;&gt;6</title>\n",
       "<path fill=\"none\" stroke=\"black\" d=\"M161,-220.77C155.7,-211.36 149.99,-201.21 144.55,-191.53\"/>\n",
       "<polygon fill=\"black\" stroke=\"black\" points=\"147.7,-189.99 139.75,-182.99 141.6,-193.43 147.7,-189.99\"/>\n",
       "</g>\n",
       "<!-- 7 -->\n",
       "<g id=\"node8\" class=\"node\">\n",
       "<title>7</title>\n",
       "<path fill=\"#eeab7b\" stroke=\"black\" d=\"M287.38,-185C287.38,-185 201.62,-185 201.62,-185 195.62,-185 189.62,-179 189.62,-173 189.62,-173 189.62,-119 189.62,-119 189.62,-113 195.62,-107 201.62,-107 201.62,-107 287.38,-107 287.38,-107 293.38,-107 299.38,-113 299.38,-119 299.38,-119 299.38,-173 299.38,-173 299.38,-179 293.38,-185 287.38,-185\"/>\n",
       "<text text-anchor=\"start\" x=\"210\" y=\"-168.7\" font-family=\"Helvetica,sans-Serif\" font-size=\"14.00\">x</text>\n",
       "<text text-anchor=\"start\" x=\"216.75\" y=\"-168.7\" font-family=\"Helvetica,sans-Serif\" baseline-shift=\"sub\" font-size=\"14.00\">15</text>\n",
       "<text text-anchor=\"start\" x=\"230.25\" y=\"-168.7\" font-family=\"Helvetica,sans-Serif\" font-size=\"14.00\"> ≤ 0.012</text>\n",
       "<text text-anchor=\"start\" x=\"197.62\" y=\"-154.7\" font-family=\"Helvetica,sans-Serif\" font-size=\"14.00\">entropy = 0.811</text>\n",
       "<text text-anchor=\"start\" x=\"207.38\" y=\"-140.7\" font-family=\"Helvetica,sans-Serif\" font-size=\"14.00\">samples = 8</text>\n",
       "<text text-anchor=\"start\" x=\"205.5\" y=\"-126.7\" font-family=\"Helvetica,sans-Serif\" font-size=\"14.00\">value = [6, 2]</text>\n",
       "<text text-anchor=\"start\" x=\"200.25\" y=\"-112.7\" font-family=\"Helvetica,sans-Serif\" font-size=\"14.00\">class = Benign</text>\n",
       "</g>\n",
       "<!-- 5&#45;&gt;7 -->\n",
       "<g id=\"edge7\" class=\"edge\">\n",
       "<title>5&#45;&gt;7</title>\n",
       "<path fill=\"none\" stroke=\"black\" d=\"M203.66,-220.77C208.2,-212.57 213.05,-203.81 217.77,-195.28\"/>\n",
       "<polygon fill=\"black\" stroke=\"black\" points=\"220.71,-197.21 222.49,-186.76 214.58,-193.82 220.71,-197.21\"/>\n",
       "</g>\n",
       "<!-- 8 -->\n",
       "<g id=\"node9\" class=\"node\">\n",
       "<title>8</title>\n",
       "<path fill=\"#399de5\" stroke=\"black\" d=\"M228.38,-71C228.38,-71 130.62,-71 130.62,-71 124.62,-71 118.62,-65 118.62,-59 118.62,-59 118.62,-12 118.62,-12 118.62,-6 124.62,0 130.62,0 130.62,0 228.38,0 228.38,0 234.38,0 240.38,-6 240.38,-12 240.38,-12 240.38,-59 240.38,-59 240.38,-65 234.38,-71 228.38,-71\"/>\n",
       "<text text-anchor=\"start\" x=\"139.75\" y=\"-53.7\" font-family=\"Helvetica,sans-Serif\" font-size=\"14.00\">entropy = 0.0</text>\n",
       "<text text-anchor=\"start\" x=\"142.38\" y=\"-37.95\" font-family=\"Helvetica,sans-Serif\" font-size=\"14.00\">samples = 2</text>\n",
       "<text text-anchor=\"start\" x=\"140.5\" y=\"-22.2\" font-family=\"Helvetica,sans-Serif\" font-size=\"14.00\">value = [0, 2]</text>\n",
       "<text text-anchor=\"start\" x=\"126.62\" y=\"-6.45\" font-family=\"Helvetica,sans-Serif\" font-size=\"14.00\">class = Malignant</text>\n",
       "</g>\n",
       "<!-- 7&#45;&gt;8 -->\n",
       "<g id=\"edge8\" class=\"edge\">\n",
       "<title>7&#45;&gt;8</title>\n",
       "<path fill=\"none\" stroke=\"black\" d=\"M221.58,-106.75C216.59,-98.42 211.27,-89.53 206.15,-80.98\"/>\n",
       "<polygon fill=\"black\" stroke=\"black\" points=\"209.18,-79.23 201.04,-72.45 203.17,-82.83 209.18,-79.23\"/>\n",
       "</g>\n",
       "<!-- 9 -->\n",
       "<g id=\"node10\" class=\"node\">\n",
       "<title>9</title>\n",
       "<path fill=\"#e58139\" stroke=\"black\" d=\"M350.75,-71C350.75,-71 270.25,-71 270.25,-71 264.25,-71 258.25,-65 258.25,-59 258.25,-59 258.25,-12 258.25,-12 258.25,-6 264.25,0 270.25,0 270.25,0 350.75,0 350.75,0 356.75,0 362.75,-6 362.75,-12 362.75,-12 362.75,-59 362.75,-59 362.75,-65 356.75,-71 350.75,-71\"/>\n",
       "<text text-anchor=\"start\" x=\"270.75\" y=\"-53.7\" font-family=\"Helvetica,sans-Serif\" font-size=\"14.00\">entropy = 0.0</text>\n",
       "<text text-anchor=\"start\" x=\"273.38\" y=\"-37.95\" font-family=\"Helvetica,sans-Serif\" font-size=\"14.00\">samples = 6</text>\n",
       "<text text-anchor=\"start\" x=\"271.5\" y=\"-22.2\" font-family=\"Helvetica,sans-Serif\" font-size=\"14.00\">value = [6, 0]</text>\n",
       "<text text-anchor=\"start\" x=\"266.25\" y=\"-6.45\" font-family=\"Helvetica,sans-Serif\" font-size=\"14.00\">class = Benign</text>\n",
       "</g>\n",
       "<!-- 7&#45;&gt;9 -->\n",
       "<g id=\"edge9\" class=\"edge\">\n",
       "<title>7&#45;&gt;9</title>\n",
       "<path fill=\"none\" stroke=\"black\" d=\"M267.77,-106.75C272.84,-98.42 278.24,-89.53 283.44,-80.98\"/>\n",
       "<polygon fill=\"black\" stroke=\"black\" points=\"286.43,-82.81 288.64,-72.44 280.45,-79.17 286.43,-82.81\"/>\n",
       "</g>\n",
       "<!-- 11 -->\n",
       "<g id=\"node12\" class=\"node\">\n",
       "<title>11</title>\n",
       "<path fill=\"#399de5\" stroke=\"black\" d=\"M365.38,-295.5C365.38,-295.5 267.62,-295.5 267.62,-295.5 261.62,-295.5 255.62,-289.5 255.62,-283.5 255.62,-283.5 255.62,-236.5 255.62,-236.5 255.62,-230.5 261.62,-224.5 267.62,-224.5 267.62,-224.5 365.38,-224.5 365.38,-224.5 371.38,-224.5 377.38,-230.5 377.38,-236.5 377.38,-236.5 377.38,-283.5 377.38,-283.5 377.38,-289.5 371.38,-295.5 365.38,-295.5\"/>\n",
       "<text text-anchor=\"start\" x=\"276.75\" y=\"-278.2\" font-family=\"Helvetica,sans-Serif\" font-size=\"14.00\">entropy = 0.0</text>\n",
       "<text text-anchor=\"start\" x=\"279.38\" y=\"-262.45\" font-family=\"Helvetica,sans-Serif\" font-size=\"14.00\">samples = 2</text>\n",
       "<text text-anchor=\"start\" x=\"277.5\" y=\"-246.7\" font-family=\"Helvetica,sans-Serif\" font-size=\"14.00\">value = [0, 2]</text>\n",
       "<text text-anchor=\"start\" x=\"263.62\" y=\"-230.95\" font-family=\"Helvetica,sans-Serif\" font-size=\"14.00\">class = Malignant</text>\n",
       "</g>\n",
       "<!-- 10&#45;&gt;11 -->\n",
       "<g id=\"edge11\" class=\"edge\">\n",
       "<title>10&#45;&gt;11</title>\n",
       "<path fill=\"none\" stroke=\"black\" d=\"M359.31,-334.77C353.85,-325.36 347.96,-315.21 342.35,-305.53\"/>\n",
       "<polygon fill=\"black\" stroke=\"black\" points=\"345.43,-303.88 337.38,-296.98 339.38,-307.39 345.43,-303.88\"/>\n",
       "</g>\n",
       "<!-- 12 -->\n",
       "<g id=\"node13\" class=\"node\">\n",
       "<title>12</title>\n",
       "<path fill=\"#e58139\" stroke=\"black\" d=\"M487.75,-295.5C487.75,-295.5 407.25,-295.5 407.25,-295.5 401.25,-295.5 395.25,-289.5 395.25,-283.5 395.25,-283.5 395.25,-236.5 395.25,-236.5 395.25,-230.5 401.25,-224.5 407.25,-224.5 407.25,-224.5 487.75,-224.5 487.75,-224.5 493.75,-224.5 499.75,-230.5 499.75,-236.5 499.75,-236.5 499.75,-283.5 499.75,-283.5 499.75,-289.5 493.75,-295.5 487.75,-295.5\"/>\n",
       "<text text-anchor=\"start\" x=\"407.75\" y=\"-278.2\" font-family=\"Helvetica,sans-Serif\" font-size=\"14.00\">entropy = 0.0</text>\n",
       "<text text-anchor=\"start\" x=\"410.38\" y=\"-262.45\" font-family=\"Helvetica,sans-Serif\" font-size=\"14.00\">samples = 2</text>\n",
       "<text text-anchor=\"start\" x=\"408.5\" y=\"-246.7\" font-family=\"Helvetica,sans-Serif\" font-size=\"14.00\">value = [2, 0]</text>\n",
       "<text text-anchor=\"start\" x=\"403.25\" y=\"-230.95\" font-family=\"Helvetica,sans-Serif\" font-size=\"14.00\">class = Benign</text>\n",
       "</g>\n",
       "<!-- 10&#45;&gt;12 -->\n",
       "<g id=\"edge12\" class=\"edge\">\n",
       "<title>10&#45;&gt;12</title>\n",
       "<path fill=\"none\" stroke=\"black\" d=\"M404.03,-334.77C409.57,-325.36 415.55,-315.21 421.26,-305.53\"/>\n",
       "<polygon fill=\"black\" stroke=\"black\" points=\"424.24,-307.37 426.3,-296.98 418.21,-303.82 424.24,-307.37\"/>\n",
       "</g>\n",
       "<!-- 14 -->\n",
       "<g id=\"node15\" class=\"node\">\n",
       "<title>14</title>\n",
       "<path fill=\"#e58139\" stroke=\"black\" d=\"M577.75,-409.5C577.75,-409.5 497.25,-409.5 497.25,-409.5 491.25,-409.5 485.25,-403.5 485.25,-397.5 485.25,-397.5 485.25,-350.5 485.25,-350.5 485.25,-344.5 491.25,-338.5 497.25,-338.5 497.25,-338.5 577.75,-338.5 577.75,-338.5 583.75,-338.5 589.75,-344.5 589.75,-350.5 589.75,-350.5 589.75,-397.5 589.75,-397.5 589.75,-403.5 583.75,-409.5 577.75,-409.5\"/>\n",
       "<text text-anchor=\"start\" x=\"497.75\" y=\"-392.2\" font-family=\"Helvetica,sans-Serif\" font-size=\"14.00\">entropy = 0.0</text>\n",
       "<text text-anchor=\"start\" x=\"500.38\" y=\"-376.45\" font-family=\"Helvetica,sans-Serif\" font-size=\"14.00\">samples = 8</text>\n",
       "<text text-anchor=\"start\" x=\"498.5\" y=\"-360.7\" font-family=\"Helvetica,sans-Serif\" font-size=\"14.00\">value = [8, 0]</text>\n",
       "<text text-anchor=\"start\" x=\"493.25\" y=\"-344.95\" font-family=\"Helvetica,sans-Serif\" font-size=\"14.00\">class = Benign</text>\n",
       "</g>\n",
       "<!-- 13&#45;&gt;14 -->\n",
       "<g id=\"edge14\" class=\"edge\">\n",
       "<title>13&#45;&gt;14</title>\n",
       "<path fill=\"none\" stroke=\"black\" d=\"M580.97,-448.77C575.43,-439.36 569.45,-429.21 563.74,-419.53\"/>\n",
       "<polygon fill=\"black\" stroke=\"black\" points=\"566.79,-417.82 558.7,-410.98 560.76,-421.37 566.79,-417.82\"/>\n",
       "</g>\n",
       "<!-- 15 -->\n",
       "<g id=\"node16\" class=\"node\">\n",
       "<title>15</title>\n",
       "<path fill=\"#5dafea\" stroke=\"black\" d=\"M717.38,-413C717.38,-413 619.62,-413 619.62,-413 613.62,-413 607.62,-407 607.62,-401 607.62,-401 607.62,-347 607.62,-347 607.62,-341 613.62,-335 619.62,-335 619.62,-335 717.38,-335 717.38,-335 723.38,-335 729.38,-341 729.38,-347 729.38,-347 729.38,-401 729.38,-401 729.38,-407 723.38,-413 717.38,-413\"/>\n",
       "<text text-anchor=\"start\" x=\"634\" y=\"-396.7\" font-family=\"Helvetica,sans-Serif\" font-size=\"14.00\">x</text>\n",
       "<text text-anchor=\"start\" x=\"640.75\" y=\"-396.7\" font-family=\"Helvetica,sans-Serif\" baseline-shift=\"sub\" font-size=\"14.00\">28</text>\n",
       "<text text-anchor=\"start\" x=\"654.25\" y=\"-396.7\" font-family=\"Helvetica,sans-Serif\" font-size=\"14.00\"> ≤ 0.268</text>\n",
       "<text text-anchor=\"start\" x=\"621.25\" y=\"-382.7\" font-family=\"Helvetica,sans-Serif\" font-size=\"14.00\">entropy = 0.619</text>\n",
       "<text text-anchor=\"start\" x=\"627.62\" y=\"-368.7\" font-family=\"Helvetica,sans-Serif\" font-size=\"14.00\">samples = 13</text>\n",
       "<text text-anchor=\"start\" x=\"626.12\" y=\"-354.7\" font-family=\"Helvetica,sans-Serif\" font-size=\"14.00\">value = [2, 11]</text>\n",
       "<text text-anchor=\"start\" x=\"615.62\" y=\"-340.7\" font-family=\"Helvetica,sans-Serif\" font-size=\"14.00\">class = Malignant</text>\n",
       "</g>\n",
       "<!-- 13&#45;&gt;15 -->\n",
       "<g id=\"edge15\" class=\"edge\">\n",
       "<title>13&#45;&gt;15</title>\n",
       "<path fill=\"none\" stroke=\"black\" d=\"M625.69,-448.77C630.45,-440.57 635.53,-431.81 640.48,-423.28\"/>\n",
       "<polygon fill=\"black\" stroke=\"black\" points=\"643.44,-425.15 645.43,-414.75 637.39,-421.64 643.44,-425.15\"/>\n",
       "</g>\n",
       "<!-- 16 -->\n",
       "<g id=\"node17\" class=\"node\">\n",
       "<title>16</title>\n",
       "<path fill=\"#e58139\" stroke=\"black\" d=\"M610.75,-295.5C610.75,-295.5 530.25,-295.5 530.25,-295.5 524.25,-295.5 518.25,-289.5 518.25,-283.5 518.25,-283.5 518.25,-236.5 518.25,-236.5 518.25,-230.5 524.25,-224.5 530.25,-224.5 530.25,-224.5 610.75,-224.5 610.75,-224.5 616.75,-224.5 622.75,-230.5 622.75,-236.5 622.75,-236.5 622.75,-283.5 622.75,-283.5 622.75,-289.5 616.75,-295.5 610.75,-295.5\"/>\n",
       "<text text-anchor=\"start\" x=\"530.75\" y=\"-278.2\" font-family=\"Helvetica,sans-Serif\" font-size=\"14.00\">entropy = 0.0</text>\n",
       "<text text-anchor=\"start\" x=\"533.38\" y=\"-262.45\" font-family=\"Helvetica,sans-Serif\" font-size=\"14.00\">samples = 2</text>\n",
       "<text text-anchor=\"start\" x=\"531.5\" y=\"-246.7\" font-family=\"Helvetica,sans-Serif\" font-size=\"14.00\">value = [2, 0]</text>\n",
       "<text text-anchor=\"start\" x=\"526.25\" y=\"-230.95\" font-family=\"Helvetica,sans-Serif\" font-size=\"14.00\">class = Benign</text>\n",
       "</g>\n",
       "<!-- 15&#45;&gt;16 -->\n",
       "<g id=\"edge16\" class=\"edge\">\n",
       "<title>15&#45;&gt;16</title>\n",
       "<path fill=\"none\" stroke=\"black\" d=\"M635.05,-334.77C626.47,-324.97 617.18,-314.35 608.4,-304.31\"/>\n",
       "<polygon fill=\"black\" stroke=\"black\" points=\"611.06,-302.04 601.84,-296.81 605.79,-306.64 611.06,-302.04\"/>\n",
       "</g>\n",
       "<!-- 17 -->\n",
       "<g id=\"node18\" class=\"node\">\n",
       "<title>17</title>\n",
       "<path fill=\"#399de5\" stroke=\"black\" d=\"M750.38,-295.5C750.38,-295.5 652.62,-295.5 652.62,-295.5 646.62,-295.5 640.62,-289.5 640.62,-283.5 640.62,-283.5 640.62,-236.5 640.62,-236.5 640.62,-230.5 646.62,-224.5 652.62,-224.5 652.62,-224.5 750.38,-224.5 750.38,-224.5 756.38,-224.5 762.38,-230.5 762.38,-236.5 762.38,-236.5 762.38,-283.5 762.38,-283.5 762.38,-289.5 756.38,-295.5 750.38,-295.5\"/>\n",
       "<text text-anchor=\"start\" x=\"661.75\" y=\"-278.2\" font-family=\"Helvetica,sans-Serif\" font-size=\"14.00\">entropy = 0.0</text>\n",
       "<text text-anchor=\"start\" x=\"661\" y=\"-262.45\" font-family=\"Helvetica,sans-Serif\" font-size=\"14.00\">samples = 11</text>\n",
       "<text text-anchor=\"start\" x=\"659.12\" y=\"-246.7\" font-family=\"Helvetica,sans-Serif\" font-size=\"14.00\">value = [0, 11]</text>\n",
       "<text text-anchor=\"start\" x=\"648.62\" y=\"-230.95\" font-family=\"Helvetica,sans-Serif\" font-size=\"14.00\">class = Malignant</text>\n",
       "</g>\n",
       "<!-- 15&#45;&gt;17 -->\n",
       "<g id=\"edge17\" class=\"edge\">\n",
       "<title>15&#45;&gt;17</title>\n",
       "<path fill=\"none\" stroke=\"black\" d=\"M679.76,-334.77C682.45,-325.66 685.34,-315.85 688.11,-306.45\"/>\n",
       "<polygon fill=\"black\" stroke=\"black\" points=\"691.39,-307.71 690.86,-297.13 684.67,-305.73 691.39,-307.71\"/>\n",
       "</g>\n",
       "<!-- 19 -->\n",
       "<g id=\"node20\" class=\"node\">\n",
       "<title>19</title>\n",
       "<path fill=\"#e9f4fc\" stroke=\"black\" d=\"M1071.38,-527C1071.38,-527 973.62,-527 973.62,-527 967.62,-527 961.62,-521 961.62,-515 961.62,-515 961.62,-461 961.62,-461 961.62,-455 967.62,-449 973.62,-449 973.62,-449 1071.38,-449 1071.38,-449 1077.38,-449 1083.38,-455 1083.38,-461 1083.38,-461 1083.38,-515 1083.38,-515 1083.38,-521 1077.38,-527 1071.38,-527\"/>\n",
       "<text text-anchor=\"start\" x=\"988\" y=\"-510.7\" font-family=\"Helvetica,sans-Serif\" font-size=\"14.00\">x</text>\n",
       "<text text-anchor=\"start\" x=\"994.75\" y=\"-510.7\" font-family=\"Helvetica,sans-Serif\" baseline-shift=\"sub\" font-size=\"14.00\">24</text>\n",
       "<text text-anchor=\"start\" x=\"1008.25\" y=\"-510.7\" font-family=\"Helvetica,sans-Serif\" font-size=\"14.00\"> ≤ 0.136</text>\n",
       "<text text-anchor=\"start\" x=\"975.25\" y=\"-496.7\" font-family=\"Helvetica,sans-Serif\" font-size=\"14.00\">entropy = 0.998</text>\n",
       "<text text-anchor=\"start\" x=\"981.62\" y=\"-482.7\" font-family=\"Helvetica,sans-Serif\" font-size=\"14.00\">samples = 51</text>\n",
       "<text text-anchor=\"start\" x=\"976\" y=\"-468.7\" font-family=\"Helvetica,sans-Serif\" font-size=\"14.00\">value = [24, 27]</text>\n",
       "<text text-anchor=\"start\" x=\"969.62\" y=\"-454.7\" font-family=\"Helvetica,sans-Serif\" font-size=\"14.00\">class = Malignant</text>\n",
       "</g>\n",
       "<!-- 18&#45;&gt;19 -->\n",
       "<g id=\"edge19\" class=\"edge\">\n",
       "<title>18&#45;&gt;19</title>\n",
       "<path fill=\"none\" stroke=\"black\" d=\"M1022.5,-562.77C1022.5,-555.02 1022.5,-546.76 1022.5,-538.67\"/>\n",
       "<polygon fill=\"black\" stroke=\"black\" points=\"1026,-538.95 1022.5,-528.95 1019,-538.95 1026,-538.95\"/>\n",
       "</g>\n",
       "<!-- 30 -->\n",
       "<g id=\"node31\" class=\"node\">\n",
       "<title>30</title>\n",
       "<path fill=\"#3c9ee5\" stroke=\"black\" d=\"M1274.38,-527C1274.38,-527 1176.62,-527 1176.62,-527 1170.62,-527 1164.62,-521 1164.62,-515 1164.62,-515 1164.62,-461 1164.62,-461 1164.62,-455 1170.62,-449 1176.62,-449 1176.62,-449 1274.38,-449 1274.38,-449 1280.38,-449 1286.38,-455 1286.38,-461 1286.38,-461 1286.38,-515 1286.38,-515 1286.38,-521 1280.38,-527 1274.38,-527\"/>\n",
       "<text text-anchor=\"start\" x=\"1191\" y=\"-510.7\" font-family=\"Helvetica,sans-Serif\" font-size=\"14.00\">x</text>\n",
       "<text text-anchor=\"start\" x=\"1197.75\" y=\"-510.7\" font-family=\"Helvetica,sans-Serif\" baseline-shift=\"sub\" font-size=\"14.00\">19</text>\n",
       "<text text-anchor=\"start\" x=\"1211.25\" y=\"-510.7\" font-family=\"Helvetica,sans-Serif\" font-size=\"14.00\"> ≤ 0.002</text>\n",
       "<text text-anchor=\"start\" x=\"1178.25\" y=\"-496.7\" font-family=\"Helvetica,sans-Serif\" font-size=\"14.00\">entropy = 0.102</text>\n",
       "<text text-anchor=\"start\" x=\"1180.88\" y=\"-482.7\" font-family=\"Helvetica,sans-Serif\" font-size=\"14.00\">samples = 151</text>\n",
       "<text text-anchor=\"start\" x=\"1179\" y=\"-468.7\" font-family=\"Helvetica,sans-Serif\" font-size=\"14.00\">value = [2, 149]</text>\n",
       "<text text-anchor=\"start\" x=\"1172.62\" y=\"-454.7\" font-family=\"Helvetica,sans-Serif\" font-size=\"14.00\">class = Malignant</text>\n",
       "</g>\n",
       "<!-- 18&#45;&gt;30 -->\n",
       "<g id=\"edge30\" class=\"edge\">\n",
       "<title>18&#45;&gt;30</title>\n",
       "<path fill=\"none\" stroke=\"black\" d=\"M1083.68,-567.24C1105.95,-554.96 1131.32,-540.96 1154.38,-528.24\"/>\n",
       "<polygon fill=\"black\" stroke=\"black\" points=\"1156.05,-531.31 1163.12,-523.42 1152.67,-525.18 1156.05,-531.31\"/>\n",
       "</g>\n",
       "<!-- 20 -->\n",
       "<g id=\"node21\" class=\"node\">\n",
       "<title>20</title>\n",
       "<path fill=\"#eead7e\" stroke=\"black\" d=\"M1003.75,-413C1003.75,-413 917.25,-413 917.25,-413 911.25,-413 905.25,-407 905.25,-401 905.25,-401 905.25,-347 905.25,-347 905.25,-341 911.25,-335 917.25,-335 917.25,-335 1003.75,-335 1003.75,-335 1009.75,-335 1015.75,-341 1015.75,-347 1015.75,-347 1015.75,-401 1015.75,-401 1015.75,-407 1009.75,-413 1003.75,-413\"/>\n",
       "<text text-anchor=\"start\" x=\"926\" y=\"-396.7\" font-family=\"Helvetica,sans-Serif\" font-size=\"14.00\">x</text>\n",
       "<text text-anchor=\"start\" x=\"932.75\" y=\"-396.7\" font-family=\"Helvetica,sans-Serif\" baseline-shift=\"sub\" font-size=\"14.00\">21</text>\n",
       "<text text-anchor=\"start\" x=\"946.25\" y=\"-396.7\" font-family=\"Helvetica,sans-Serif\" font-size=\"14.00\"> ≤ 25.67</text>\n",
       "<text text-anchor=\"start\" x=\"913.25\" y=\"-382.7\" font-family=\"Helvetica,sans-Serif\" font-size=\"14.00\">entropy = 0.824</text>\n",
       "<text text-anchor=\"start\" x=\"919.62\" y=\"-368.7\" font-family=\"Helvetica,sans-Serif\" font-size=\"14.00\">samples = 31</text>\n",
       "<text text-anchor=\"start\" x=\"917.75\" y=\"-354.7\" font-family=\"Helvetica,sans-Serif\" font-size=\"14.00\">value = [23, 8]</text>\n",
       "<text text-anchor=\"start\" x=\"916.25\" y=\"-340.7\" font-family=\"Helvetica,sans-Serif\" font-size=\"14.00\">class = Benign</text>\n",
       "</g>\n",
       "<!-- 19&#45;&gt;20 -->\n",
       "<g id=\"edge20\" class=\"edge\">\n",
       "<title>19&#45;&gt;20</title>\n",
       "<path fill=\"none\" stroke=\"black\" d=\"M1001.34,-448.77C996.8,-440.57 991.95,-431.81 987.23,-423.28\"/>\n",
       "<polygon fill=\"black\" stroke=\"black\" points=\"990.42,-421.82 982.51,-414.76 984.29,-425.21 990.42,-421.82\"/>\n",
       "</g>\n",
       "<!-- 27 -->\n",
       "<g id=\"node28\" class=\"node\">\n",
       "<title>27</title>\n",
       "<path fill=\"#43a2e6\" stroke=\"black\" d=\"M1143.38,-413C1143.38,-413 1045.62,-413 1045.62,-413 1039.62,-413 1033.62,-407 1033.62,-401 1033.62,-401 1033.62,-347 1033.62,-347 1033.62,-341 1039.62,-335 1045.62,-335 1045.62,-335 1143.38,-335 1143.38,-335 1149.38,-335 1155.38,-341 1155.38,-347 1155.38,-347 1155.38,-401 1155.38,-401 1155.38,-407 1149.38,-413 1143.38,-413\"/>\n",
       "<text text-anchor=\"start\" x=\"1060\" y=\"-396.7\" font-family=\"Helvetica,sans-Serif\" font-size=\"14.00\">x</text>\n",
       "<text text-anchor=\"start\" x=\"1066.75\" y=\"-396.7\" font-family=\"Helvetica,sans-Serif\" baseline-shift=\"sub\" font-size=\"14.00\">18</text>\n",
       "<text text-anchor=\"start\" x=\"1080.25\" y=\"-396.7\" font-family=\"Helvetica,sans-Serif\" font-size=\"14.00\"> ≤ 0.012</text>\n",
       "<text text-anchor=\"start\" x=\"1047.25\" y=\"-382.7\" font-family=\"Helvetica,sans-Serif\" font-size=\"14.00\">entropy = 0.286</text>\n",
       "<text text-anchor=\"start\" x=\"1053.62\" y=\"-368.7\" font-family=\"Helvetica,sans-Serif\" font-size=\"14.00\">samples = 20</text>\n",
       "<text text-anchor=\"start\" x=\"1051.75\" y=\"-354.7\" font-family=\"Helvetica,sans-Serif\" font-size=\"14.00\">value = [1, 19]</text>\n",
       "<text text-anchor=\"start\" x=\"1041.62\" y=\"-340.7\" font-family=\"Helvetica,sans-Serif\" font-size=\"14.00\">class = Malignant</text>\n",
       "</g>\n",
       "<!-- 19&#45;&gt;27 -->\n",
       "<g id=\"edge27\" class=\"edge\">\n",
       "<title>19&#45;&gt;27</title>\n",
       "<path fill=\"none\" stroke=\"black\" d=\"M1047.08,-448.77C1052.4,-440.48 1058.1,-431.61 1063.64,-423.01\"/>\n",
       "<polygon fill=\"black\" stroke=\"black\" points=\"1066.51,-425.02 1068.97,-414.71 1060.62,-421.23 1066.51,-425.02\"/>\n",
       "</g>\n",
       "<!-- 21 -->\n",
       "<g id=\"node22\" class=\"node\">\n",
       "<title>21</title>\n",
       "<path fill=\"#e58139\" stroke=\"black\" d=\"M872.75,-295.5C872.75,-295.5 792.25,-295.5 792.25,-295.5 786.25,-295.5 780.25,-289.5 780.25,-283.5 780.25,-283.5 780.25,-236.5 780.25,-236.5 780.25,-230.5 786.25,-224.5 792.25,-224.5 792.25,-224.5 872.75,-224.5 872.75,-224.5 878.75,-224.5 884.75,-230.5 884.75,-236.5 884.75,-236.5 884.75,-283.5 884.75,-283.5 884.75,-289.5 878.75,-295.5 872.75,-295.5\"/>\n",
       "<text text-anchor=\"start\" x=\"792.75\" y=\"-278.2\" font-family=\"Helvetica,sans-Serif\" font-size=\"14.00\">entropy = 0.0</text>\n",
       "<text text-anchor=\"start\" x=\"791.62\" y=\"-262.45\" font-family=\"Helvetica,sans-Serif\" font-size=\"14.00\">samples = 17</text>\n",
       "<text text-anchor=\"start\" x=\"789.75\" y=\"-246.7\" font-family=\"Helvetica,sans-Serif\" font-size=\"14.00\">value = [17, 0]</text>\n",
       "<text text-anchor=\"start\" x=\"788.25\" y=\"-230.95\" font-family=\"Helvetica,sans-Serif\" font-size=\"14.00\">class = Benign</text>\n",
       "</g>\n",
       "<!-- 20&#45;&gt;21 -->\n",
       "<g id=\"edge21\" class=\"edge\">\n",
       "<title>20&#45;&gt;21</title>\n",
       "<path fill=\"none\" stroke=\"black\" d=\"M916.81,-334.77C905.15,-324.57 892.49,-313.49 880.62,-303.1\"/>\n",
       "<polygon fill=\"black\" stroke=\"black\" points=\"883.1,-300.62 873.27,-296.67 878.49,-305.89 883.1,-300.62\"/>\n",
       "</g>\n",
       "<!-- 22 -->\n",
       "<g id=\"node23\" class=\"node\">\n",
       "<title>22</title>\n",
       "<path fill=\"#cee6f8\" stroke=\"black\" d=\"M1012.38,-299C1012.38,-299 914.62,-299 914.62,-299 908.62,-299 902.62,-293 902.62,-287 902.62,-287 902.62,-233 902.62,-233 902.62,-227 908.62,-221 914.62,-221 914.62,-221 1012.38,-221 1012.38,-221 1018.38,-221 1024.38,-227 1024.38,-233 1024.38,-233 1024.38,-287 1024.38,-287 1024.38,-293 1018.38,-299 1012.38,-299\"/>\n",
       "<text text-anchor=\"start\" x=\"932.75\" y=\"-282.7\" font-family=\"Helvetica,sans-Serif\" font-size=\"14.00\">x</text>\n",
       "<text text-anchor=\"start\" x=\"939.5\" y=\"-282.7\" font-family=\"Helvetica,sans-Serif\" baseline-shift=\"sub\" font-size=\"14.00\">20</text>\n",
       "<text text-anchor=\"start\" x=\"953\" y=\"-282.7\" font-family=\"Helvetica,sans-Serif\" font-size=\"14.00\"> ≤ 16.8</text>\n",
       "<text text-anchor=\"start\" x=\"916.25\" y=\"-268.7\" font-family=\"Helvetica,sans-Serif\" font-size=\"14.00\">entropy = 0.985</text>\n",
       "<text text-anchor=\"start\" x=\"922.62\" y=\"-254.7\" font-family=\"Helvetica,sans-Serif\" font-size=\"14.00\">samples = 14</text>\n",
       "<text text-anchor=\"start\" x=\"924.5\" y=\"-240.7\" font-family=\"Helvetica,sans-Serif\" font-size=\"14.00\">value = [6, 8]</text>\n",
       "<text text-anchor=\"start\" x=\"910.62\" y=\"-226.7\" font-family=\"Helvetica,sans-Serif\" font-size=\"14.00\">class = Malignant</text>\n",
       "</g>\n",
       "<!-- 20&#45;&gt;22 -->\n",
       "<g id=\"edge22\" class=\"edge\">\n",
       "<title>20&#45;&gt;22</title>\n",
       "<path fill=\"none\" stroke=\"black\" d=\"M961.52,-334.77C961.73,-327.02 961.95,-318.76 962.17,-310.67\"/>\n",
       "<polygon fill=\"black\" stroke=\"black\" points=\"965.66,-311.04 962.43,-300.95 958.66,-310.85 965.66,-311.04\"/>\n",
       "</g>\n",
       "<!-- 23 -->\n",
       "<g id=\"node24\" class=\"node\">\n",
       "<title>23</title>\n",
       "<path fill=\"#eeab7b\" stroke=\"black\" d=\"M939.38,-185C939.38,-185 853.62,-185 853.62,-185 847.62,-185 841.62,-179 841.62,-173 841.62,-173 841.62,-119 841.62,-119 841.62,-113 847.62,-107 853.62,-107 853.62,-107 939.38,-107 939.38,-107 945.38,-107 951.38,-113 951.38,-119 951.38,-119 951.38,-173 951.38,-173 951.38,-179 945.38,-185 939.38,-185\"/>\n",
       "<text text-anchor=\"start\" x=\"865.38\" y=\"-168.7\" font-family=\"Helvetica,sans-Serif\" font-size=\"14.00\">x</text>\n",
       "<text text-anchor=\"start\" x=\"872.12\" y=\"-168.7\" font-family=\"Helvetica,sans-Serif\" baseline-shift=\"sub\" font-size=\"14.00\">6</text>\n",
       "<text text-anchor=\"start\" x=\"878.88\" y=\"-168.7\" font-family=\"Helvetica,sans-Serif\" font-size=\"14.00\"> ≤ 0.107</text>\n",
       "<text text-anchor=\"start\" x=\"849.62\" y=\"-154.7\" font-family=\"Helvetica,sans-Serif\" font-size=\"14.00\">entropy = 0.811</text>\n",
       "<text text-anchor=\"start\" x=\"859.38\" y=\"-140.7\" font-family=\"Helvetica,sans-Serif\" font-size=\"14.00\">samples = 8</text>\n",
       "<text text-anchor=\"start\" x=\"857.5\" y=\"-126.7\" font-family=\"Helvetica,sans-Serif\" font-size=\"14.00\">value = [6, 2]</text>\n",
       "<text text-anchor=\"start\" x=\"852.25\" y=\"-112.7\" font-family=\"Helvetica,sans-Serif\" font-size=\"14.00\">class = Benign</text>\n",
       "</g>\n",
       "<!-- 22&#45;&gt;23 -->\n",
       "<g id=\"edge23\" class=\"edge\">\n",
       "<title>22&#45;&gt;23</title>\n",
       "<path fill=\"none\" stroke=\"black\" d=\"M940.63,-220.77C935.73,-212.57 930.48,-203.81 925.38,-195.28\"/>\n",
       "<polygon fill=\"black\" stroke=\"black\" points=\"928.41,-193.52 920.27,-186.74 922.4,-197.12 928.41,-193.52\"/>\n",
       "</g>\n",
       "<!-- 26 -->\n",
       "<g id=\"node27\" class=\"node\">\n",
       "<title>26</title>\n",
       "<path fill=\"#399de5\" stroke=\"black\" d=\"M1079.38,-181.5C1079.38,-181.5 981.62,-181.5 981.62,-181.5 975.62,-181.5 969.62,-175.5 969.62,-169.5 969.62,-169.5 969.62,-122.5 969.62,-122.5 969.62,-116.5 975.62,-110.5 981.62,-110.5 981.62,-110.5 1079.38,-110.5 1079.38,-110.5 1085.38,-110.5 1091.38,-116.5 1091.38,-122.5 1091.38,-122.5 1091.38,-169.5 1091.38,-169.5 1091.38,-175.5 1085.38,-181.5 1079.38,-181.5\"/>\n",
       "<text text-anchor=\"start\" x=\"990.75\" y=\"-164.2\" font-family=\"Helvetica,sans-Serif\" font-size=\"14.00\">entropy = 0.0</text>\n",
       "<text text-anchor=\"start\" x=\"993.38\" y=\"-148.45\" font-family=\"Helvetica,sans-Serif\" font-size=\"14.00\">samples = 6</text>\n",
       "<text text-anchor=\"start\" x=\"991.5\" y=\"-132.7\" font-family=\"Helvetica,sans-Serif\" font-size=\"14.00\">value = [0, 6]</text>\n",
       "<text text-anchor=\"start\" x=\"977.62\" y=\"-116.95\" font-family=\"Helvetica,sans-Serif\" font-size=\"14.00\">class = Malignant</text>\n",
       "</g>\n",
       "<!-- 22&#45;&gt;26 -->\n",
       "<g id=\"edge26\" class=\"edge\">\n",
       "<title>22&#45;&gt;26</title>\n",
       "<path fill=\"none\" stroke=\"black\" d=\"M986.37,-220.77C992,-211.36 998.07,-201.21 1003.86,-191.53\"/>\n",
       "<polygon fill=\"black\" stroke=\"black\" points=\"1006.85,-193.35 1008.98,-182.97 1000.84,-189.76 1006.85,-193.35\"/>\n",
       "</g>\n",
       "<!-- 24 -->\n",
       "<g id=\"node25\" class=\"node\">\n",
       "<title>24</title>\n",
       "<path fill=\"#e58139\" stroke=\"black\" d=\"M871.75,-71C871.75,-71 791.25,-71 791.25,-71 785.25,-71 779.25,-65 779.25,-59 779.25,-59 779.25,-12 779.25,-12 779.25,-6 785.25,0 791.25,0 791.25,0 871.75,0 871.75,0 877.75,0 883.75,-6 883.75,-12 883.75,-12 883.75,-59 883.75,-59 883.75,-65 877.75,-71 871.75,-71\"/>\n",
       "<text text-anchor=\"start\" x=\"791.75\" y=\"-53.7\" font-family=\"Helvetica,sans-Serif\" font-size=\"14.00\">entropy = 0.0</text>\n",
       "<text text-anchor=\"start\" x=\"794.38\" y=\"-37.95\" font-family=\"Helvetica,sans-Serif\" font-size=\"14.00\">samples = 6</text>\n",
       "<text text-anchor=\"start\" x=\"792.5\" y=\"-22.2\" font-family=\"Helvetica,sans-Serif\" font-size=\"14.00\">value = [6, 0]</text>\n",
       "<text text-anchor=\"start\" x=\"787.25\" y=\"-6.45\" font-family=\"Helvetica,sans-Serif\" font-size=\"14.00\">class = Benign</text>\n",
       "</g>\n",
       "<!-- 23&#45;&gt;24 -->\n",
       "<g id=\"edge24\" class=\"edge\">\n",
       "<title>23&#45;&gt;24</title>\n",
       "<path fill=\"none\" stroke=\"black\" d=\"M873.58,-106.75C868.59,-98.42 863.27,-89.53 858.15,-80.98\"/>\n",
       "<polygon fill=\"black\" stroke=\"black\" points=\"861.18,-79.23 853.04,-72.45 855.17,-82.83 861.18,-79.23\"/>\n",
       "</g>\n",
       "<!-- 25 -->\n",
       "<g id=\"node26\" class=\"node\">\n",
       "<title>25</title>\n",
       "<path fill=\"#399de5\" stroke=\"black\" d=\"M1011.38,-71C1011.38,-71 913.62,-71 913.62,-71 907.62,-71 901.62,-65 901.62,-59 901.62,-59 901.62,-12 901.62,-12 901.62,-6 907.62,0 913.62,0 913.62,0 1011.38,0 1011.38,0 1017.38,0 1023.38,-6 1023.38,-12 1023.38,-12 1023.38,-59 1023.38,-59 1023.38,-65 1017.38,-71 1011.38,-71\"/>\n",
       "<text text-anchor=\"start\" x=\"922.75\" y=\"-53.7\" font-family=\"Helvetica,sans-Serif\" font-size=\"14.00\">entropy = 0.0</text>\n",
       "<text text-anchor=\"start\" x=\"925.38\" y=\"-37.95\" font-family=\"Helvetica,sans-Serif\" font-size=\"14.00\">samples = 2</text>\n",
       "<text text-anchor=\"start\" x=\"923.5\" y=\"-22.2\" font-family=\"Helvetica,sans-Serif\" font-size=\"14.00\">value = [0, 2]</text>\n",
       "<text text-anchor=\"start\" x=\"909.62\" y=\"-6.45\" font-family=\"Helvetica,sans-Serif\" font-size=\"14.00\">class = Malignant</text>\n",
       "</g>\n",
       "<!-- 23&#45;&gt;25 -->\n",
       "<g id=\"edge25\" class=\"edge\">\n",
       "<title>23&#45;&gt;25</title>\n",
       "<path fill=\"none\" stroke=\"black\" d=\"M919.77,-106.75C924.84,-98.42 930.24,-89.53 935.44,-80.98\"/>\n",
       "<polygon fill=\"black\" stroke=\"black\" points=\"938.43,-82.81 940.64,-72.44 932.45,-79.17 938.43,-82.81\"/>\n",
       "</g>\n",
       "<!-- 28 -->\n",
       "<g id=\"node29\" class=\"node\">\n",
       "<title>28</title>\n",
       "<path fill=\"#e58139\" stroke=\"black\" d=\"M1134.75,-295.5C1134.75,-295.5 1054.25,-295.5 1054.25,-295.5 1048.25,-295.5 1042.25,-289.5 1042.25,-283.5 1042.25,-283.5 1042.25,-236.5 1042.25,-236.5 1042.25,-230.5 1048.25,-224.5 1054.25,-224.5 1054.25,-224.5 1134.75,-224.5 1134.75,-224.5 1140.75,-224.5 1146.75,-230.5 1146.75,-236.5 1146.75,-236.5 1146.75,-283.5 1146.75,-283.5 1146.75,-289.5 1140.75,-295.5 1134.75,-295.5\"/>\n",
       "<text text-anchor=\"start\" x=\"1054.75\" y=\"-278.2\" font-family=\"Helvetica,sans-Serif\" font-size=\"14.00\">entropy = 0.0</text>\n",
       "<text text-anchor=\"start\" x=\"1057.38\" y=\"-262.45\" font-family=\"Helvetica,sans-Serif\" font-size=\"14.00\">samples = 1</text>\n",
       "<text text-anchor=\"start\" x=\"1055.5\" y=\"-246.7\" font-family=\"Helvetica,sans-Serif\" font-size=\"14.00\">value = [1, 0]</text>\n",
       "<text text-anchor=\"start\" x=\"1050.25\" y=\"-230.95\" font-family=\"Helvetica,sans-Serif\" font-size=\"14.00\">class = Benign</text>\n",
       "</g>\n",
       "<!-- 27&#45;&gt;28 -->\n",
       "<g id=\"edge28\" class=\"edge\">\n",
       "<title>27&#45;&gt;28</title>\n",
       "<path fill=\"none\" stroke=\"black\" d=\"M1094.5,-334.77C1094.5,-325.86 1094.5,-316.28 1094.5,-307.07\"/>\n",
       "<polygon fill=\"black\" stroke=\"black\" points=\"1098,-307.19 1094.5,-297.19 1091,-307.19 1098,-307.19\"/>\n",
       "</g>\n",
       "<!-- 29 -->\n",
       "<g id=\"node30\" class=\"node\">\n",
       "<title>29</title>\n",
       "<path fill=\"#399de5\" stroke=\"black\" d=\"M1274.38,-295.5C1274.38,-295.5 1176.62,-295.5 1176.62,-295.5 1170.62,-295.5 1164.62,-289.5 1164.62,-283.5 1164.62,-283.5 1164.62,-236.5 1164.62,-236.5 1164.62,-230.5 1170.62,-224.5 1176.62,-224.5 1176.62,-224.5 1274.38,-224.5 1274.38,-224.5 1280.38,-224.5 1286.38,-230.5 1286.38,-236.5 1286.38,-236.5 1286.38,-283.5 1286.38,-283.5 1286.38,-289.5 1280.38,-295.5 1274.38,-295.5\"/>\n",
       "<text text-anchor=\"start\" x=\"1185.75\" y=\"-278.2\" font-family=\"Helvetica,sans-Serif\" font-size=\"14.00\">entropy = 0.0</text>\n",
       "<text text-anchor=\"start\" x=\"1184.62\" y=\"-262.45\" font-family=\"Helvetica,sans-Serif\" font-size=\"14.00\">samples = 19</text>\n",
       "<text text-anchor=\"start\" x=\"1182.75\" y=\"-246.7\" font-family=\"Helvetica,sans-Serif\" font-size=\"14.00\">value = [0, 19]</text>\n",
       "<text text-anchor=\"start\" x=\"1172.62\" y=\"-230.95\" font-family=\"Helvetica,sans-Serif\" font-size=\"14.00\">class = Malignant</text>\n",
       "</g>\n",
       "<!-- 27&#45;&gt;29 -->\n",
       "<g id=\"edge29\" class=\"edge\">\n",
       "<title>27&#45;&gt;29</title>\n",
       "<path fill=\"none\" stroke=\"black\" d=\"M1139.22,-334.77C1151.15,-324.57 1164.1,-313.49 1176.26,-303.1\"/>\n",
       "<polygon fill=\"black\" stroke=\"black\" points=\"1178.47,-305.82 1183.79,-296.66 1173.92,-300.5 1178.47,-305.82\"/>\n",
       "</g>\n",
       "<!-- 31 -->\n",
       "<g id=\"node32\" class=\"node\">\n",
       "<title>31</title>\n",
       "<path fill=\"#e58139\" stroke=\"black\" d=\"M1265.75,-409.5C1265.75,-409.5 1185.25,-409.5 1185.25,-409.5 1179.25,-409.5 1173.25,-403.5 1173.25,-397.5 1173.25,-397.5 1173.25,-350.5 1173.25,-350.5 1173.25,-344.5 1179.25,-338.5 1185.25,-338.5 1185.25,-338.5 1265.75,-338.5 1265.75,-338.5 1271.75,-338.5 1277.75,-344.5 1277.75,-350.5 1277.75,-350.5 1277.75,-397.5 1277.75,-397.5 1277.75,-403.5 1271.75,-409.5 1265.75,-409.5\"/>\n",
       "<text text-anchor=\"start\" x=\"1185.75\" y=\"-392.2\" font-family=\"Helvetica,sans-Serif\" font-size=\"14.00\">entropy = 0.0</text>\n",
       "<text text-anchor=\"start\" x=\"1188.38\" y=\"-376.45\" font-family=\"Helvetica,sans-Serif\" font-size=\"14.00\">samples = 2</text>\n",
       "<text text-anchor=\"start\" x=\"1186.5\" y=\"-360.7\" font-family=\"Helvetica,sans-Serif\" font-size=\"14.00\">value = [2, 0]</text>\n",
       "<text text-anchor=\"start\" x=\"1181.25\" y=\"-344.95\" font-family=\"Helvetica,sans-Serif\" font-size=\"14.00\">class = Benign</text>\n",
       "</g>\n",
       "<!-- 30&#45;&gt;31 -->\n",
       "<g id=\"edge31\" class=\"edge\">\n",
       "<title>30&#45;&gt;31</title>\n",
       "<path fill=\"none\" stroke=\"black\" d=\"M1225.5,-448.77C1225.5,-439.86 1225.5,-430.28 1225.5,-421.07\"/>\n",
       "<polygon fill=\"black\" stroke=\"black\" points=\"1229,-421.19 1225.5,-411.19 1222,-421.19 1229,-421.19\"/>\n",
       "</g>\n",
       "<!-- 32 -->\n",
       "<g id=\"node33\" class=\"node\">\n",
       "<title>32</title>\n",
       "<path fill=\"#399de5\" stroke=\"black\" d=\"M1405.38,-409.5C1405.38,-409.5 1307.62,-409.5 1307.62,-409.5 1301.62,-409.5 1295.62,-403.5 1295.62,-397.5 1295.62,-397.5 1295.62,-350.5 1295.62,-350.5 1295.62,-344.5 1301.62,-338.5 1307.62,-338.5 1307.62,-338.5 1405.38,-338.5 1405.38,-338.5 1411.38,-338.5 1417.38,-344.5 1417.38,-350.5 1417.38,-350.5 1417.38,-397.5 1417.38,-397.5 1417.38,-403.5 1411.38,-409.5 1405.38,-409.5\"/>\n",
       "<text text-anchor=\"start\" x=\"1316.75\" y=\"-392.2\" font-family=\"Helvetica,sans-Serif\" font-size=\"14.00\">entropy = 0.0</text>\n",
       "<text text-anchor=\"start\" x=\"1311.88\" y=\"-376.45\" font-family=\"Helvetica,sans-Serif\" font-size=\"14.00\">samples = 149</text>\n",
       "<text text-anchor=\"start\" x=\"1310\" y=\"-360.7\" font-family=\"Helvetica,sans-Serif\" font-size=\"14.00\">value = [0, 149]</text>\n",
       "<text text-anchor=\"start\" x=\"1303.62\" y=\"-344.95\" font-family=\"Helvetica,sans-Serif\" font-size=\"14.00\">class = Malignant</text>\n",
       "</g>\n",
       "<!-- 30&#45;&gt;32 -->\n",
       "<g id=\"edge32\" class=\"edge\">\n",
       "<title>30&#45;&gt;32</title>\n",
       "<path fill=\"none\" stroke=\"black\" d=\"M1270.22,-448.77C1282.15,-438.57 1295.1,-427.49 1307.26,-417.1\"/>\n",
       "<polygon fill=\"black\" stroke=\"black\" points=\"1309.47,-419.82 1314.79,-410.66 1304.92,-414.5 1309.47,-419.82\"/>\n",
       "</g>\n",
       "</g>\n",
       "</svg>\n"
      ],
      "text/plain": [
       "<graphviz.sources.Source at 0x18d0248c210>"
      ]
     },
     "metadata": {},
     "output_type": "display_data"
    },
    {
     "name": "stdout",
     "output_type": "stream",
     "text": [
      "Decision tree classifier for train/test split 90:10 built, visualized, and saved.\n"
     ]
    }
   ],
   "source": [
    "class_name = [\"Benign\", \"Malignant\"]\n",
    "visualize_decision_tree(list_models, split_ratios, features_name, class_name)\n"
   ]
  },
  {
   "cell_type": "markdown",
   "metadata": {},
   "source": [
    "# **4. Evaluating the decision tree classifiers**\n",
    "\n",
    "## **4.1 Visualize confusion matrix and classification report**\n"
   ]
  },
  {
   "cell_type": "code",
   "execution_count": 337,
   "metadata": {},
   "outputs": [],
   "source": [
    "def evaluating_models(list_models, datasets, split_ratios):\n",
    "    \"\"\"\n",
    "    Evaluates a list of machine learning models on given datasets and generates\n",
    "    classification reports and confusion matrices visualized as heatmaps.\n",
    "\n",
    "    Args:\n",
    "        list_models (list): List of trained machine learning models.\n",
    "        datasets (list): List of tuples, where each tuple contains the training and\n",
    "                         test features and labels (feature_train, feature_test,\n",
    "                         label_train, label_test).\n",
    "        split_ratios (list): List of tuples representing the training and testing\n",
    "                             split ratios.\n",
    "\n",
    "    Returns:\n",
    "        None: Saves the classification report and heatmap as an image file for each model.\n",
    "    \"\"\"\n",
    "    for (\n",
    "        model,\n",
    "        (feature_train, feature_test, label_train, label_test),\n",
    "        proportion,\n",
    "    ) in zip(list_models, datasets, split_ratios):\n",
    "        # Predict labels using the trained model\n",
    "        label_prediction = model.predict(feature_test)\n",
    "\n",
    "        # Generate a classification report based on true and predicted labels\n",
    "        report = classification_report(\n",
    "            label_test, label_prediction, zero_division=1, digits=4\n",
    "        )\n",
    "\n",
    "        # Generate a confusion matrix based on true and predicted labels\n",
    "        matrix = confusion_matrix(label_test, label_prediction)\n",
    "\n",
    "        # Create a new figure for the plots, adjusting the figure size\n",
    "        plt.figure(figsize=(15, 8))  # Adjusted figure size\n",
    "\n",
    "        # Left subplot for the classification report table\n",
    "        plt.subplot(1, 2, 1)\n",
    "\n",
    "        # Split the classification report into lines\n",
    "        report_lines = report.strip().split(\"\\n\")\n",
    "\n",
    "        # Extract class labels from the report lines\n",
    "        class_labels = [line.split()[0] for line in report_lines[2:-4]]\n",
    "\n",
    "        # Extract the data for precision, recall, f1-score, and support for each class\n",
    "        data = [line.split()[1:] for line in report_lines[2:-4]]\n",
    "\n",
    "        # Labels and data for the accuracy, macro avg, and weighted avg\n",
    "        statistical_class_labels = [\"accuracy\", \"macro avg\", \"weighted avg\"]\n",
    "        statistical_data = []\n",
    "        for i in range(-3, 0):\n",
    "            if i == -3:\n",
    "                # Special case for accuracy, which has a slightly different format\n",
    "                lst = [\" \", \" \"]  # Empty cells for class label and first column\n",
    "                lst += report_lines[i].split()[1:]  # Append the remaining data\n",
    "                statistical_data.append(lst)\n",
    "            else:\n",
    "                # Extract data for macro avg and weighted avg\n",
    "                statistical_data.append(report_lines[i].split()[2:])\n",
    "\n",
    "        # Create a table for the main classification metrics (precision, recall, f1-score, support)\n",
    "        table = plt.table(\n",
    "            cellText=data,\n",
    "            colLabels=[\"precision\", \"recall\", \"f1-score\", \"support\"],\n",
    "            rowLabels=class_labels,\n",
    "            loc=\"center\",\n",
    "            cellLoc=\"center\",\n",
    "            colWidths=[0.15, 0.15, 0.15, 0.15],  # Adjusted column widths\n",
    "            bbox=[\n",
    "                0.2,  # Adjust this value to move the table horizontally (increase to move right)\n",
    "                0.45,\n",
    "                0.6,  # Adjust this value to change the width of the table (increase to center)\n",
    "                0.4,\n",
    "            ],  # Adjust the bounding box (left, bottom, width, height)\n",
    "        )\n",
    "\n",
    "        # Scale the table and adjust the font size\n",
    "        table.auto_set_font_size(False)\n",
    "        table.set_fontsize(10)\n",
    "\n",
    "        # Adjust the height of each row in the table\n",
    "        for (i, j), cell in table.get_celld().items():\n",
    "            cell.set_edgecolor(\n",
    "                \"white\"\n",
    "            )  # Set cell edge color to white (or background color)\n",
    "            cell.set_height(0.1)  # Adjust the height to make rows evenly spaced\n",
    "            cell.set_width(0.2)  # Adjust the width to make columns evenly spaced\n",
    "            cell.set_text_props(\n",
    "                ha=\"center\", va=\"center\"\n",
    "            )  # Center align the text horizontally and vertically\n",
    "\n",
    "        # Create a table for statistical metrics (accuracy, macro avg, weighted avg)\n",
    "        statistical_table = plt.table(\n",
    "            cellText=statistical_data,\n",
    "            rowLabels=statistical_class_labels,\n",
    "            loc=\"lower center\",\n",
    "            cellLoc=\"center\",\n",
    "            colWidths=[0.15, 0.15, 0.15, 0.15],  # Adjusted column widths\n",
    "            bbox=[\n",
    "                0.3,\n",
    "                0,\n",
    "                0.5,\n",
    "                0.4,\n",
    "            ],  # Adjust the bounding box (left, bottom, width, height)\n",
    "        )\n",
    "\n",
    "        # Scale the statistical table and adjust the font size\n",
    "        statistical_table.auto_set_font_size(False)\n",
    "        statistical_table.set_fontsize(10)\n",
    "\n",
    "        # Adjust the height of each row in the statistical table\n",
    "        for (i, j), cell in statistical_table.get_celld().items():\n",
    "            cell.set_edgecolor(\n",
    "                \"white\"\n",
    "            )  # Set cell edge color to white (or background color)\n",
    "            cell.set_height(0.1)  # Adjust the height to make rows evenly spaced\n",
    "            cell.set_width(0.2)  # Adjust the width to make columns evenly spaced\n",
    "            cell.set_text_props(\n",
    "                ha=\"center\", va=\"center\"\n",
    "            )  # Center align the text horizontally and vertically\n",
    "\n",
    "        # Turn off the axes for the table subplot\n",
    "        plt.axis(\"off\")\n",
    "\n",
    "        # Set the title for the classification report subplot\n",
    "        plt.title(\"Classification Report\")\n",
    "\n",
    "        # Right subplot for the confusion matrix heatmap\n",
    "        plt.subplot(1, 2, 2)\n",
    "\n",
    "        # Generate a heatmap for the confusion matrix without cell lines\n",
    "        sns.heatmap(\n",
    "            matrix,\n",
    "            annot=True,  # Annotate the cells with the confusion matrix values\n",
    "            cmap=\"magma\",  # Set the colormap for the heatmap\n",
    "            fmt=\"d\",  # Format the annotation as integers\n",
    "            cbar=True,  # Include the color bar\n",
    "            xticklabels=model.classes_,  # Set the x-axis tick labels to class names\n",
    "            yticklabels=model.classes_,  # Set the y-axis tick labels to class names\n",
    "            linewidths=0,  # Remove lines to separate cells\n",
    "        )\n",
    "\n",
    "        # Set the x-axis and y-axis labels\n",
    "        plt.xlabel(\"Predicted Label\")\n",
    "        plt.ylabel(\"True Label\")\n",
    "\n",
    "        # Set the title for the heatmap subplot\n",
    "        plt.title(\"Confusion Matrix\")\n",
    "\n",
    "        # Set the main title for the figure\n",
    "        plt.suptitle(f\"Decision Tree Classifier, Proportion: {proportion}\", fontsize=16)\n",
    "\n",
    "        # Adjust the layout and title space to prevent overlap\n",
    "        plt.tight_layout(rect=[0, 0.03, 1, 0.95])\n",
    "\n",
    "        # Save the figure to a file\n",
    "        plt.savefig(\n",
    "            f\"output/report/split_ratios_ver/report_model_{int(proportion[0]*100)}_{int(proportion[1]*100)}.png\"\n",
    "        )\n",
    "\n",
    "        # Display the figure\n",
    "        plt.show()  # Display the plot immediately after creation\n"
   ]
  },
  {
   "cell_type": "code",
   "execution_count": 338,
   "metadata": {},
   "outputs": [
    {
     "data": {
      "image/png": "[encoded data removed]",
      "text/plain": [
       "<Figure size 1500x800 with 3 Axes>"
      ]
     },
     "metadata": {},
     "output_type": "display_data"
    },
    {
     "data": {
      "image/png": "[encoded data removed]",
      "text/plain": [
       "<Figure size 1500x800 with 3 Axes>"
      ]
     },
     "metadata": {},
     "output_type": "display_data"
    },
    {
     "data": {
      "image/png": "[encoded data removed]",
      "text/plain": [
       "<Figure size 1500x800 with 3 Axes>"
      ]
     },
     "metadata": {},
     "output_type": "display_data"
    },
    {
     "data": {
      "image/png": "[encoded data removed]",
      "text/plain": [
       "<Figure size 1500x800 with 3 Axes>"
      ]
     },
     "metadata": {},
     "output_type": "display_data"
    }
   ],
   "source": [
    "evaluating_models(list_models, datasets, split_ratios)\n"
   ]
  },
  {
   "cell_type": "markdown",
   "metadata": {},
   "source": [
    "## **4.2 Comments on the performances of those decision tree classifiers**\n"
   ]
  },
  {
   "cell_type": "markdown",
   "metadata": {},
   "source": [
    "- **Decision Tree Classifiers with Proportion 40 Train - 60 Test**\n",
    "  - _Classification Report_\n",
    "    - Accuracy: the overall accuracy is $92.98\\%$.\n",
    "    - Precision, Recall, F1-Score, Support\n",
    "      - Class `Benign` (B)\n",
    "        - Precision: $95.69\\% \\to$ out of all instances predicted as \"Benign\" (B), $96\\%$ were actually benign. This is high precision score, indicating that model has few false positive for benign cases.\n",
    "        - Recall: $93.02\\% \\to$ the model correctly identified $93\\%$ of the actual benign cases. This indicates a strong ability to capture most benign cases, though it missed about $7%$.\n",
    "        - F1-Score: $94.34\\% \\to$ the F1-Score is $94\\%$, which is a good balance between precision and recall, indicating strong performance in predicting benign cases.\n",
    "      - Class `Malignant` (M)\n",
    "        - Precision: $88.72\\% \\to$ out of all instances predicted as malignant, $89\\%$ were actually. While slightly lower than for benign cases, this is still a relatively high precision, showing the model's reliability in predicting malignant cases.\n",
    "        - Recall: $92.91\\% \\to$ Similarly, the model correctly identified $93\\%$ of the actual malignant cases. This high recall means the model is effective at detecting malignant tumors.\n",
    "        - F1-Score: $90.77\\% \\to$ the F1-Score is $91\\%$, which is a good balance between precision and recall, reflecting solid performance in predicting malignant cases.\n",
    "  - _Comments_\n",
    "    - The model performs well on both benign and malignant cases, with slightly better performance on benign cases.\n",
    "    - The high precision and recall for both classes indicate that the model has a good balance of sensitivity (ability to correctly identify positives) and specificity (ability to correctly identify negatives).\n",
    "    - The slight drop in precision for malignant cases suggests that there may be some instances where benign cases are incorrectly classified as malignant, but this is not a major concern given the overall high scores.\n",
    "  - _Confusion Matrix_\n",
    "    - True Positive (TP) for B: $200 \\to$ the number of benign cases correctly predicted.\n",
    "    - True Positive (TP) for M: $118 \\to$ the number of malignant cases correctly predicted.\n",
    "    - False Positive (FP) for B: $15 \\to$ the number of cases predicted as benign but are actually malignant.\n",
    "    - False Positive (FP) for M: $9 \\to$ the number of cases predicted as malignant but are actually benign.\n",
    "- **Decision Tree Classifiers with Proportion 60 Train - 40 Test**\n",
    "  - _Classification Report_\n",
    "    - Accuracy: the overall accuracy is $91.23\\to$ the lowest accuracy score, indicates that the model correctly classified about $92\\%$ of the cases in the test set $\\to$ still demonstrates a fairly strong performance.\n",
    "    - Precision, Recall, F1-Score, Support\n",
    "      - Class `Benign` (B)\n",
    "        - Precision: $93.62\\% \\to$ Very high, meaning that $93.62\\%$ of the cases predicted as benign are actually benign.\n",
    "        - Recall: The ability to correctly identify benign cases is approximately $92.31\\%$.\n",
    "        - F1-Score: $92.96\\% \\to$ This is a balance between precision and recall, showing strong performance in predicting benign cases.\n",
    "      - Class `Malignant` (M)\n",
    "        - Precision: $87.36\\% \\to$ Slightly lower than benign, but still good with $87.36\\%$ of the cases predicted as malignant being correct.\n",
    "        - Recall: $89.41\\% \\to$ Very high, indicating that the model correctly identifies 94.12% of malignant cases.\n",
    "        - F1-Score: $88.37\\%$ Strong enough to suggest that the model doesn't miss too many malignant cases, with a relatively low number of false negatives and false positives.\n",
    "  - _Comments_\n",
    "    - The model with the 60/40 data split performs quite well with high accuracy, especially in detecting malignant cases (M). However, the precision for the malignant class is slightly lower, which means the model may need further improvement to reduce the number of false positives in the malignant class.\n",
    "  - _Confusion Matrix_\n",
    "    - True Positive (TP) for B: 132 - The number of benign cases correctly predicted.\n",
    "    - True Positive (TP) for M: 76 - The number of malignant cases correctly predicted.\n",
    "    - False Positive (FP) for B: 11 - The number of cases predicted as benign but are actually malignant.\n",
    "    - False Negative (FN) for M: 9 - The number of cases predicted as malignant but are actually benign.\n",
    "- **Decision Tree Classifiers with Proportion 80 Train - 20 Test**\n",
    "  - _Classification Report_\n",
    "    - Accuracy: the overall accuracy is $92.11\\%$\n",
    "    - Precision, Recall, F1-Score, Support\n",
    "      - Class `Benign` (B)\n",
    "        - Precision: $90.91\\% \\to$ Very High, meaning that $90.91\\%$ of the cases predicted as benign are actually benign.\n",
    "        - Recall: $97.22\\% \\to$ The ability to correctly identify benign cases is approximately $97.22\\%$.\n",
    "        - F1-Score: $93.96\\% \\to$ This is a balance between precision and recall, showing strong performance in predicting benign cases.\n",
    "      - Class `Malignant` (M)\n",
    "        - Precision: $94.59\\% \\to$ Slightly higher than benign, but still good with $94.59\\%$ of the cases predicted as malignant being correct.\n",
    "        - Recall: $83.33\\% \\to$ Very low, indicating that the model correctly identifies $83.33\\%$ of malignant cases.\n",
    "        - F1-Score: $88.61\\% \\to$ Strong enough to suggest that the model doesn't miss too many malignant cases, with a relatively low number of false negatives and false positives.\n",
    "  - _Confusion Matrix_\n",
    "    - True Positive (TP) for B: 70 - The number of benign cases correctly predicted.\n",
    "    - True Positive (TP) for M: 35 - The number of malignant cases correctly predicted.\n",
    "    - False Positive (FP) for B: 2 - The number of cases predicted as benign but are actually malignant.\n",
    "    - False Negative (FN) for M: 8 - The number of cases predicted as malignant but are actually benign.\n",
    "- **Decision Tree Classifiers with Proportion 90 Train - 10 Test**\n",
    "  - _Classification Report_\n",
    "    - Accuracy: the overall accuracy is $94.74\\% \\to$ the highest accuracy score.\n",
    "    - Precision, Recall, F1-Score, Support\n",
    "      - Class `Benign` (B)\n",
    "        - Precision: $92.31\\% \\to$ Very high, meaning that $92.31\\%$ of the cases predicted as benign are actually benign.\n",
    "        - Recall: $100\\% \\to$ The ability to correctly identify benign cases is approximately $100\\%$.\n",
    "        - F1-Score: $96\\% \\to$ This is a balance between precision and recall, showing strong performance in predicting benign cases.\n",
    "      - Class `Malignant` (M)\n",
    "        - Precision: $100\\% \\to$ is good with $100\\%$ of the cases predicted as malignant being correct.\n",
    "        - Recall: $85.71\\% \\to$ Very high, indicating that the model correctly identifies $85.71\\%$ of malignant cases.\n",
    "        - F1-Score: $92.31\\% \\to$ the F1-Score is $92.31\\%$, which is a good balance between precision and recall, reflecting solid performance in predicting malignant cases.\n",
    "  - _Confusion Matrix_\n",
    "    - True Positive (TP) for B: 36 - The number of benign cases correctly predicted.\n",
    "    - True Positive (TP) for M: 18 - The number of malignant cases correctly predicted.\n",
    "    - False Positive (FP) for B: 0 - The number of cases predicted as benign but are actually malignant.\n",
    "    - False Negative (FN) for M: 3 - The number of cases predicted as malignant but are actually benign.\n"
   ]
  },
  {
   "cell_type": "markdown",
   "metadata": {},
   "source": [
    "# **5. The depth and accuracy of a decision tree**\n"
   ]
  },
  {
   "cell_type": "markdown",
   "metadata": {},
   "source": [
    "## **5.1 Training model with max depth of decision tree**\n"
   ]
  },
  {
   "cell_type": "code",
   "execution_count": 339,
   "metadata": {},
   "outputs": [],
   "source": [
    "list_max_depth = [2, 3, 4, 5, 6, 7, None]\n",
    "\n",
    "\n",
    "def max_depth_model_decision_tree(datasets, list_max_depth):\n",
    "    \"\"\"\n",
    "    Trains decision tree classifiers with varying maximum depths and evaluates their accuracy.\n",
    "\n",
    "    Args:\n",
    "        datasets (tuple): A tuple containing the training and testing features and labels.\n",
    "        list_max_depth (list of int): A list of integers representing the maximum depth values to be used for training different decision tree models.\n",
    "\n",
    "    Returns:\n",
    "        tuple: A tuple containing:\n",
    "            - list: A list of trained DecisionTreeClassifier models, each corresponding to a max_depth from list_max_depth.\n",
    "            - dict: A dictionary mapping each max_depth to its corresponding accuracy on the test set.\n",
    "    \"\"\"\n",
    "\n",
    "    # Initialize an empty dictionary to store accuracy results for each max_depth\n",
    "    accuracy_results_dict = {}\n",
    "\n",
    "    # Extract the training and testing data from the datasets (corresponding to a proportion of 80/20)\n",
    "    feature_train, feature_test, label_train, label_test = datasets[2]\n",
    "\n",
    "    # Initialize an empty list to store the trained models\n",
    "    list_max_depth_model: list[DecisionTreeClassifier] = []\n",
    "\n",
    "    # Iterate over the list of max_depth values\n",
    "    for max_depth in list_max_depth:\n",
    "        # Initialize a Decision Tree classifier with the specified max_depth and entropy as the criterion\n",
    "        model = DecisionTreeClassifier(\n",
    "            criterion=\"entropy\",  # Use 'entropy' to measure the quality of a split\n",
    "            max_depth=max_depth,  # Set the maximum depth of the tree\n",
    "            random_state=42,  # Ensure reproducibility of the model\n",
    "        )\n",
    "\n",
    "        # Train the model on the training data\n",
    "        model.fit(feature_train, label_train)\n",
    "\n",
    "        # Append the trained model to the list\n",
    "        list_max_depth_model.append(model)\n",
    "\n",
    "        # Make predictions on the test data\n",
    "        label_pred = model.predict(feature_test)\n",
    "\n",
    "        # Calculate the accuracy of the model\n",
    "        accuracy_result = accuracy_score(label_test, label_pred)\n",
    "\n",
    "        # Store the accuracy result in the dictionary with max_depth as the key\n",
    "        accuracy_results_dict[max_depth] = accuracy_result\n",
    "\n",
    "        # Save the trained model to a file with a name reflecting the max_depth\n",
    "        model_filename = (\n",
    "            f\"model/max_depth_ver/model_decision_tree_max_depth_{max_depth}.pkl\"\n",
    "        )\n",
    "        joblib.dump(model, model_filename)\n",
    "        print(f\"Model saved to {model_filename}\")\n",
    "\n",
    "    # Return the list of models and the dictionary of accuracy results\n",
    "    return list_max_depth_model, accuracy_results_dict\n"
   ]
  },
  {
   "cell_type": "code",
   "execution_count": 340,
   "metadata": {},
   "outputs": [
    {
     "name": "stdout",
     "output_type": "stream",
     "text": [
      "Model saved to model/max_depth_ver/model_decision_tree_max_depth_2.pkl\n",
      "Model saved to model/max_depth_ver/model_decision_tree_max_depth_3.pkl\n",
      "Model saved to model/max_depth_ver/model_decision_tree_max_depth_4.pkl\n",
      "Model saved to model/max_depth_ver/model_decision_tree_max_depth_5.pkl\n",
      "Model saved to model/max_depth_ver/model_decision_tree_max_depth_6.pkl\n",
      "Model saved to model/max_depth_ver/model_decision_tree_max_depth_7.pkl\n",
      "Model saved to model/max_depth_ver/model_decision_tree_max_depth_None.pkl\n"
     ]
    }
   ],
   "source": [
    "list_max_depth_model, accuracy_results = max_depth_model_decision_tree(\n",
    "    datasets, list_max_depth\n",
    ")\n"
   ]
  },
  {
   "cell_type": "markdown",
   "metadata": {},
   "source": [
    "## **5.2 Visualize decision trees with each `max_depth` value.**\n"
   ]
  },
  {
   "cell_type": "code",
   "execution_count": 341,
   "metadata": {},
   "outputs": [],
   "source": [
    "def visualize_max_depth(\n",
    "    list_max_depth_model, list_max_depth, features_name, class_name\n",
    "):\n",
    "    \"\"\"\n",
    "    Visualizes and saves decision tree models with varying maximum depths.\n",
    "\n",
    "    Args:\n",
    "        list_max_depth_model (list of DecisionTreeClassifier):\n",
    "            A list of trained DecisionTreeClassifier models, each with a different maximum depth.\n",
    "        list_max_depth (list of int):\n",
    "            A list of integers representing the maximum depths used to train the models.\n",
    "        features_name (list of str):\n",
    "            A list of feature names used in the decision tree models.\n",
    "        class_name (list of str):\n",
    "            A list of class names corresponding to the target variable in the dataset.\n",
    "    \"\"\"\n",
    "\n",
    "    # Iterate over the list of models and corresponding max_depth values\n",
    "    for model, max_depth in zip(list_max_depth_model, list_max_depth):\n",
    "\n",
    "        # Export the decision tree model into Graphviz dot format\n",
    "        dot_data = export_graphviz(\n",
    "            model,\n",
    "            feature_names=features_name,  # Feature names for splitting\n",
    "            class_names=class_name,  # Class names for output labels\n",
    "            filled=True,  # Color nodes to reflect class purity\n",
    "            rounded=True,  # Rounded corners for better visualization\n",
    "            special_characters=True,  # Use special characters in class names\n",
    "        )\n",
    "\n",
    "        # Create a Graphviz graph object from the dot data\n",
    "        graph = graphviz.Source(dot_data)\n",
    "        graph.engine = \"dot\"  # Set the engine to 'dot' for rendering the graph\n",
    "\n",
    "        # Render and save the graph as a PNG image in the specified directory\n",
    "        graph.render(\n",
    "            f\"output/max_depth_graphviz/graph_model_80_20_with_depth_{max_depth}\",\n",
    "            format=\"png\",  # Save the file as a PNG image\n",
    "            cleanup=True,  # Remove intermediate files after rendering\n",
    "        )\n",
    "\n",
    "        # Display the graph inline (useful in Jupyter notebooks or similar environments)\n",
    "        display(graph)\n",
    "\n",
    "        # Print a confirmation message with the max_depth value\n",
    "        print(\n",
    "            f\"Decision tree classifier for train/test split 80:20 with max depth of {max_depth} built, visualized, and saved.\"\n",
    "        )\n"
   ]
  },
  {
   "cell_type": "code",
   "execution_count": 342,
   "metadata": {},
   "outputs": [
    {
     "data": {
      "image/svg+xml": [
       "<?xml version=\"1.0\" encoding=\"UTF-8\" standalone=\"no\"?>\n",
       "<!DOCTYPE svg PUBLIC \"-//W3C//DTD SVG 1.1//EN\"\n",
       " \"http://www.w3.org/Graphics/SVG/1.1/DTD/svg11.dtd\">\n",
       "<!-- Generated by graphviz version 12.1.0 (20240811.2233)\n",
       " -->\n",
       "<!-- Title: Tree Pages: 1 -->\n",
       "<svg width=\"542pt\" height=\"307pt\"\n",
       " viewBox=\"0.00 0.00 542.12 307.00\" xmlns=\"http://www.w3.org/2000/svg\" xmlns:xlink=\"http://www.w3.org/1999/xlink\">\n",
       "<g id=\"graph0\" class=\"graph\" transform=\"scale(1 1) rotate(0) translate(4 303)\">\n",
       "<title>Tree</title>\n",
       "<polygon fill=\"white\" stroke=\"none\" points=\"-4,4 -4,-303 538.12,-303 538.12,4 -4,4\"/>\n",
       "<!-- 0 -->\n",
       "<g id=\"node1\" class=\"node\">\n",
       "<title>0</title>\n",
       "<path fill=\"#f5ccaf\" stroke=\"black\" d=\"M311.25,-299C311.25,-299 211.25,-299 211.25,-299 205.25,-299 199.25,-293 199.25,-287 199.25,-287 199.25,-233 199.25,-233 199.25,-227 205.25,-221 211.25,-221 211.25,-221 311.25,-221 311.25,-221 317.25,-221 323.25,-227 323.25,-233 323.25,-233 323.25,-287 323.25,-287 323.25,-293 317.25,-299 311.25,-299\"/>\n",
       "<text text-anchor=\"start\" x=\"226.75\" y=\"-282.7\" font-family=\"Helvetica,sans-Serif\" font-size=\"14.00\">x</text>\n",
       "<text text-anchor=\"start\" x=\"233.5\" y=\"-282.7\" font-family=\"Helvetica,sans-Serif\" baseline-shift=\"sub\" font-size=\"14.00\">22</text>\n",
       "<text text-anchor=\"start\" x=\"247\" y=\"-282.7\" font-family=\"Helvetica,sans-Serif\" font-size=\"14.00\"> ≤ 106.1</text>\n",
       "<text text-anchor=\"start\" x=\"214\" y=\"-268.7\" font-family=\"Helvetica,sans-Serif\" font-size=\"14.00\">entropy = 0.953</text>\n",
       "<text text-anchor=\"start\" x=\"216.62\" y=\"-254.7\" font-family=\"Helvetica,sans-Serif\" font-size=\"14.00\">samples = 455</text>\n",
       "<text text-anchor=\"start\" x=\"207.25\" y=\"-240.7\" font-family=\"Helvetica,sans-Serif\" font-size=\"14.00\">value = [285, 170]</text>\n",
       "<text text-anchor=\"start\" x=\"217\" y=\"-226.7\" font-family=\"Helvetica,sans-Serif\" font-size=\"14.00\">class = Benign</text>\n",
       "</g>\n",
       "<!-- 1 -->\n",
       "<g id=\"node2\" class=\"node\">\n",
       "<title>1</title>\n",
       "<path fill=\"#e68742\" stroke=\"black\" d=\"M244.75,-185C244.75,-185 129.75,-185 129.75,-185 123.75,-185 117.75,-179 117.75,-173 117.75,-173 117.75,-119 117.75,-119 117.75,-113 123.75,-107 129.75,-107 129.75,-107 244.75,-107 244.75,-107 250.75,-107 256.75,-113 256.75,-119 256.75,-119 256.75,-173 256.75,-173 256.75,-179 250.75,-185 244.75,-185\"/>\n",
       "<text text-anchor=\"start\" x=\"152.75\" y=\"-168.7\" font-family=\"Helvetica,sans-Serif\" font-size=\"14.00\">x</text>\n",
       "<text text-anchor=\"start\" x=\"159.5\" y=\"-168.7\" font-family=\"Helvetica,sans-Serif\" baseline-shift=\"sub\" font-size=\"14.00\">26</text>\n",
       "<text text-anchor=\"start\" x=\"173\" y=\"-168.7\" font-family=\"Helvetica,sans-Serif\" font-size=\"14.00\"> ≤ 0.369</text>\n",
       "<text text-anchor=\"start\" x=\"140\" y=\"-154.7\" font-family=\"Helvetica,sans-Serif\" font-size=\"14.00\">entropy = 0.259</text>\n",
       "<text text-anchor=\"start\" x=\"142.62\" y=\"-140.7\" font-family=\"Helvetica,sans-Serif\" font-size=\"14.00\">samples = 275</text>\n",
       "<text text-anchor=\"start\" x=\"125.75\" y=\"-126.7\" font-family=\"Helvetica,sans-Serif\" font-size=\"14.00\">value = [263.0, 12.0]</text>\n",
       "<text text-anchor=\"start\" x=\"143\" y=\"-112.7\" font-family=\"Helvetica,sans-Serif\" font-size=\"14.00\">class = Benign</text>\n",
       "</g>\n",
       "<!-- 0&#45;&gt;1 -->\n",
       "<g id=\"edge1\" class=\"edge\">\n",
       "<title>0&#45;&gt;1</title>\n",
       "<path fill=\"none\" stroke=\"black\" d=\"M235.99,-220.77C230.51,-212.48 224.66,-203.61 218.97,-195.01\"/>\n",
       "<polygon fill=\"black\" stroke=\"black\" points=\"221.91,-193.12 213.48,-186.7 216.07,-196.97 221.91,-193.12\"/>\n",
       "<text text-anchor=\"middle\" x=\"207.64\" y=\"-204.51\" font-family=\"Helvetica,sans-Serif\" font-size=\"14.00\">True</text>\n",
       "</g>\n",
       "<!-- 4 -->\n",
       "<g id=\"node5\" class=\"node\">\n",
       "<title>4</title>\n",
       "<path fill=\"#55abe9\" stroke=\"black\" d=\"M384.12,-185C384.12,-185 286.38,-185 286.38,-185 280.38,-185 274.38,-179 274.38,-173 274.38,-173 274.38,-119 274.38,-119 274.38,-113 280.38,-107 286.38,-107 286.38,-107 384.12,-107 384.12,-107 390.12,-107 396.12,-113 396.12,-119 396.12,-119 396.12,-173 396.12,-173 396.12,-179 390.12,-185 384.12,-185\"/>\n",
       "<text text-anchor=\"start\" x=\"297\" y=\"-168.7\" font-family=\"Helvetica,sans-Serif\" font-size=\"14.00\">x</text>\n",
       "<text text-anchor=\"start\" x=\"303.75\" y=\"-168.7\" font-family=\"Helvetica,sans-Serif\" baseline-shift=\"sub\" font-size=\"14.00\">22</text>\n",
       "<text text-anchor=\"start\" x=\"317.25\" y=\"-168.7\" font-family=\"Helvetica,sans-Serif\" font-size=\"14.00\"> ≤ 120.35</text>\n",
       "<text text-anchor=\"start\" x=\"288\" y=\"-154.7\" font-family=\"Helvetica,sans-Serif\" font-size=\"14.00\">entropy = 0.536</text>\n",
       "<text text-anchor=\"start\" x=\"290.62\" y=\"-140.7\" font-family=\"Helvetica,sans-Serif\" font-size=\"14.00\">samples = 180</text>\n",
       "<text text-anchor=\"start\" x=\"285\" y=\"-126.7\" font-family=\"Helvetica,sans-Serif\" font-size=\"14.00\">value = [22, 158]</text>\n",
       "<text text-anchor=\"start\" x=\"282.38\" y=\"-112.7\" font-family=\"Helvetica,sans-Serif\" font-size=\"14.00\">class = Malignant</text>\n",
       "</g>\n",
       "<!-- 0&#45;&gt;4 -->\n",
       "<g id=\"edge4\" class=\"edge\">\n",
       "<title>0&#45;&gt;4</title>\n",
       "<path fill=\"none\" stroke=\"black\" d=\"M286.51,-220.77C291.99,-212.48 297.84,-203.61 303.53,-195.01\"/>\n",
       "<polygon fill=\"black\" stroke=\"black\" points=\"306.43,-196.97 309.02,-186.7 300.59,-193.12 306.43,-196.97\"/>\n",
       "<text text-anchor=\"middle\" x=\"314.86\" y=\"-204.51\" font-family=\"Helvetica,sans-Serif\" font-size=\"14.00\">False</text>\n",
       "</g>\n",
       "<!-- 2 -->\n",
       "<g id=\"node3\" class=\"node\">\n",
       "<title>2</title>\n",
       "<path fill=\"#e5813a\" stroke=\"black\" d=\"M98.5,-71C98.5,-71 12,-71 12,-71 6,-71 0,-65 0,-59 0,-59 0,-12 0,-12 0,-6 6,0 12,0 12,0 98.5,0 98.5,0 104.5,0 110.5,-6 110.5,-12 110.5,-12 110.5,-59 110.5,-59 110.5,-65 104.5,-71 98.5,-71\"/>\n",
       "<text text-anchor=\"start\" x=\"8\" y=\"-53.7\" font-family=\"Helvetica,sans-Serif\" font-size=\"14.00\">entropy = 0.037</text>\n",
       "<text text-anchor=\"start\" x=\"10.62\" y=\"-37.95\" font-family=\"Helvetica,sans-Serif\" font-size=\"14.00\">samples = 255</text>\n",
       "<text text-anchor=\"start\" x=\"8.75\" y=\"-22.2\" font-family=\"Helvetica,sans-Serif\" font-size=\"14.00\">value = [254, 1]</text>\n",
       "<text text-anchor=\"start\" x=\"11\" y=\"-6.45\" font-family=\"Helvetica,sans-Serif\" font-size=\"14.00\">class = Benign</text>\n",
       "</g>\n",
       "<!-- 1&#45;&gt;2 -->\n",
       "<g id=\"edge2\" class=\"edge\">\n",
       "<title>1&#45;&gt;2</title>\n",
       "<path fill=\"none\" stroke=\"black\" d=\"M140.71,-106.75C129.47,-97.51 117.41,-87.59 105.99,-78.21\"/>\n",
       "<polygon fill=\"black\" stroke=\"black\" points=\"108.52,-75.76 98.57,-72.11 104.08,-81.17 108.52,-75.76\"/>\n",
       "</g>\n",
       "<!-- 3 -->\n",
       "<g id=\"node4\" class=\"node\">\n",
       "<title>3</title>\n",
       "<path fill=\"#dbedfa\" stroke=\"black\" d=\"M238.12,-71C238.12,-71 140.38,-71 140.38,-71 134.38,-71 128.38,-65 128.38,-59 128.38,-59 128.38,-12 128.38,-12 128.38,-6 134.38,0 140.38,0 140.38,0 238.12,0 238.12,0 244.12,0 250.12,-6 250.12,-12 250.12,-12 250.12,-59 250.12,-59 250.12,-65 244.12,-71 238.12,-71\"/>\n",
       "<text text-anchor=\"start\" x=\"142\" y=\"-53.7\" font-family=\"Helvetica,sans-Serif\" font-size=\"14.00\">entropy = 0.993</text>\n",
       "<text text-anchor=\"start\" x=\"148.38\" y=\"-37.95\" font-family=\"Helvetica,sans-Serif\" font-size=\"14.00\">samples = 20</text>\n",
       "<text text-anchor=\"start\" x=\"146.88\" y=\"-22.2\" font-family=\"Helvetica,sans-Serif\" font-size=\"14.00\">value = [9, 11]</text>\n",
       "<text text-anchor=\"start\" x=\"136.38\" y=\"-6.45\" font-family=\"Helvetica,sans-Serif\" font-size=\"14.00\">class = Malignant</text>\n",
       "</g>\n",
       "<!-- 1&#45;&gt;3 -->\n",
       "<g id=\"edge3\" class=\"edge\">\n",
       "<title>1&#45;&gt;3</title>\n",
       "<path fill=\"none\" stroke=\"black\" d=\"M187.96,-106.75C188.1,-98.96 188.25,-90.69 188.4,-82.66\"/>\n",
       "<polygon fill=\"black\" stroke=\"black\" points=\"191.9,-82.73 188.58,-72.66 184.9,-82.6 191.9,-82.73\"/>\n",
       "</g>\n",
       "<!-- 5 -->\n",
       "<g id=\"node6\" class=\"node\">\n",
       "<title>5</title>\n",
       "<path fill=\"#c1e0f7\" stroke=\"black\" d=\"M382.12,-71C382.12,-71 284.38,-71 284.38,-71 278.38,-71 272.38,-65 272.38,-59 272.38,-59 272.38,-12 272.38,-12 272.38,-6 278.38,0 284.38,0 284.38,0 382.12,0 382.12,0 388.12,0 394.12,-6 394.12,-12 394.12,-12 394.12,-59 394.12,-59 394.12,-65 388.12,-71 382.12,-71\"/>\n",
       "<text text-anchor=\"start\" x=\"286\" y=\"-53.7\" font-family=\"Helvetica,sans-Serif\" font-size=\"14.00\">entropy = 0.975</text>\n",
       "<text text-anchor=\"start\" x=\"292.38\" y=\"-37.95\" font-family=\"Helvetica,sans-Serif\" font-size=\"14.00\">samples = 54</text>\n",
       "<text text-anchor=\"start\" x=\"286.75\" y=\"-22.2\" font-family=\"Helvetica,sans-Serif\" font-size=\"14.00\">value = [22, 32]</text>\n",
       "<text text-anchor=\"start\" x=\"280.38\" y=\"-6.45\" font-family=\"Helvetica,sans-Serif\" font-size=\"14.00\">class = Malignant</text>\n",
       "</g>\n",
       "<!-- 4&#45;&gt;5 -->\n",
       "<g id=\"edge5\" class=\"edge\">\n",
       "<title>4&#45;&gt;5</title>\n",
       "<path fill=\"none\" stroke=\"black\" d=\"M334.54,-106.75C334.4,-98.96 334.25,-90.69 334.1,-82.66\"/>\n",
       "<polygon fill=\"black\" stroke=\"black\" points=\"337.6,-82.6 333.92,-72.66 330.6,-82.73 337.6,-82.6\"/>\n",
       "</g>\n",
       "<!-- 6 -->\n",
       "<g id=\"node7\" class=\"node\">\n",
       "<title>6</title>\n",
       "<path fill=\"#399de5\" stroke=\"black\" d=\"M522.12,-71C522.12,-71 424.38,-71 424.38,-71 418.38,-71 412.38,-65 412.38,-59 412.38,-59 412.38,-12 412.38,-12 412.38,-6 418.38,0 424.38,0 424.38,0 522.12,0 522.12,0 528.12,0 534.12,-6 534.12,-12 534.12,-12 534.12,-59 534.12,-59 534.12,-65 528.12,-71 522.12,-71\"/>\n",
       "<text text-anchor=\"start\" x=\"433.5\" y=\"-53.7\" font-family=\"Helvetica,sans-Serif\" font-size=\"14.00\">entropy = 0.0</text>\n",
       "<text text-anchor=\"start\" x=\"428.62\" y=\"-37.95\" font-family=\"Helvetica,sans-Serif\" font-size=\"14.00\">samples = 126</text>\n",
       "<text text-anchor=\"start\" x=\"426.75\" y=\"-22.2\" font-family=\"Helvetica,sans-Serif\" font-size=\"14.00\">value = [0, 126]</text>\n",
       "<text text-anchor=\"start\" x=\"420.38\" y=\"-6.45\" font-family=\"Helvetica,sans-Serif\" font-size=\"14.00\">class = Malignant</text>\n",
       "</g>\n",
       "<!-- 4&#45;&gt;6 -->\n",
       "<g id=\"edge6\" class=\"edge\">\n",
       "<title>4&#45;&gt;6</title>\n",
       "<path fill=\"none\" stroke=\"black\" d=\"M383.9,-106.75C395.65,-97.51 408.27,-87.59 420.21,-78.21\"/>\n",
       "<polygon fill=\"black\" stroke=\"black\" points=\"422.29,-81.02 427.99,-72.09 417.96,-75.52 422.29,-81.02\"/>\n",
       "</g>\n",
       "</g>\n",
       "</svg>\n"
      ],
      "text/plain": [
       "<graphviz.sources.Source at 0x18d026d9b90>"
      ]
     },
     "metadata": {},
     "output_type": "display_data"
    },
    {
     "name": "stdout",
     "output_type": "stream",
     "text": [
      "Decision tree classifier for train/test split 80:20 with max depth of 2 built, visualized, and saved.\n"
     ]
    },
    {
     "data": {
      "image/svg+xml": [
       "<?xml version=\"1.0\" encoding=\"UTF-8\" standalone=\"no\"?>\n",
       "<!DOCTYPE svg PUBLIC \"-//W3C//DTD SVG 1.1//EN\"\n",
       " \"http://www.w3.org/Graphics/SVG/1.1/DTD/svg11.dtd\">\n",
       "<!-- Generated by graphviz version 12.1.0 (20240811.2233)\n",
       " -->\n",
       "<!-- Title: Tree Pages: 1 -->\n",
       "<svg width=\"779pt\" height=\"421pt\"\n",
       " viewBox=\"0.00 0.00 779.38 421.00\" xmlns=\"http://www.w3.org/2000/svg\" xmlns:xlink=\"http://www.w3.org/1999/xlink\">\n",
       "<g id=\"graph0\" class=\"graph\" transform=\"scale(1 1) rotate(0) translate(4 417)\">\n",
       "<title>Tree</title>\n",
       "<polygon fill=\"white\" stroke=\"none\" points=\"-4,4 -4,-417 775.38,-417 775.38,4 -4,4\"/>\n",
       "<!-- 0 -->\n",
       "<g id=\"node1\" class=\"node\">\n",
       "<title>0</title>\n",
       "<path fill=\"#f5ccaf\" stroke=\"black\" d=\"M546.5,-413C546.5,-413 446.5,-413 446.5,-413 440.5,-413 434.5,-407 434.5,-401 434.5,-401 434.5,-347 434.5,-347 434.5,-341 440.5,-335 446.5,-335 446.5,-335 546.5,-335 546.5,-335 552.5,-335 558.5,-341 558.5,-347 558.5,-347 558.5,-401 558.5,-401 558.5,-407 552.5,-413 546.5,-413\"/>\n",
       "<text text-anchor=\"start\" x=\"462\" y=\"-396.7\" font-family=\"Helvetica,sans-Serif\" font-size=\"14.00\">x</text>\n",
       "<text text-anchor=\"start\" x=\"468.75\" y=\"-396.7\" font-family=\"Helvetica,sans-Serif\" baseline-shift=\"sub\" font-size=\"14.00\">22</text>\n",
       "<text text-anchor=\"start\" x=\"482.25\" y=\"-396.7\" font-family=\"Helvetica,sans-Serif\" font-size=\"14.00\"> ≤ 106.1</text>\n",
       "<text text-anchor=\"start\" x=\"449.25\" y=\"-382.7\" font-family=\"Helvetica,sans-Serif\" font-size=\"14.00\">entropy = 0.953</text>\n",
       "<text text-anchor=\"start\" x=\"451.88\" y=\"-368.7\" font-family=\"Helvetica,sans-Serif\" font-size=\"14.00\">samples = 455</text>\n",
       "<text text-anchor=\"start\" x=\"442.5\" y=\"-354.7\" font-family=\"Helvetica,sans-Serif\" font-size=\"14.00\">value = [285, 170]</text>\n",
       "<text text-anchor=\"start\" x=\"452.25\" y=\"-340.7\" font-family=\"Helvetica,sans-Serif\" font-size=\"14.00\">class = Benign</text>\n",
       "</g>\n",
       "<!-- 1 -->\n",
       "<g id=\"node2\" class=\"node\">\n",
       "<title>1</title>\n",
       "<path fill=\"#e68742\" stroke=\"black\" d=\"M427,-299C427,-299 312,-299 312,-299 306,-299 300,-293 300,-287 300,-287 300,-233 300,-233 300,-227 306,-221 312,-221 312,-221 427,-221 427,-221 433,-221 439,-227 439,-233 439,-233 439,-287 439,-287 439,-293 433,-299 427,-299\"/>\n",
       "<text text-anchor=\"start\" x=\"335\" y=\"-282.7\" font-family=\"Helvetica,sans-Serif\" font-size=\"14.00\">x</text>\n",
       "<text text-anchor=\"start\" x=\"341.75\" y=\"-282.7\" font-family=\"Helvetica,sans-Serif\" baseline-shift=\"sub\" font-size=\"14.00\">26</text>\n",
       "<text text-anchor=\"start\" x=\"355.25\" y=\"-282.7\" font-family=\"Helvetica,sans-Serif\" font-size=\"14.00\"> ≤ 0.369</text>\n",
       "<text text-anchor=\"start\" x=\"322.25\" y=\"-268.7\" font-family=\"Helvetica,sans-Serif\" font-size=\"14.00\">entropy = 0.259</text>\n",
       "<text text-anchor=\"start\" x=\"324.88\" y=\"-254.7\" font-family=\"Helvetica,sans-Serif\" font-size=\"14.00\">samples = 275</text>\n",
       "<text text-anchor=\"start\" x=\"308\" y=\"-240.7\" font-family=\"Helvetica,sans-Serif\" font-size=\"14.00\">value = [263.0, 12.0]</text>\n",
       "<text text-anchor=\"start\" x=\"325.25\" y=\"-226.7\" font-family=\"Helvetica,sans-Serif\" font-size=\"14.00\">class = Benign</text>\n",
       "</g>\n",
       "<!-- 0&#45;&gt;1 -->\n",
       "<g id=\"edge1\" class=\"edge\">\n",
       "<title>0&#45;&gt;1</title>\n",
       "<path fill=\"none\" stroke=\"black\" d=\"M453.15,-334.77C442.94,-325.77 431.96,-316.08 421.42,-306.79\"/>\n",
       "<polygon fill=\"black\" stroke=\"black\" points=\"424.04,-304.43 414.22,-300.44 419.41,-309.68 424.04,-304.43\"/>\n",
       "<text text-anchor=\"middle\" x=\"414.65\" y=\"-318.96\" font-family=\"Helvetica,sans-Serif\" font-size=\"14.00\">True</text>\n",
       "</g>\n",
       "<!-- 8 -->\n",
       "<g id=\"node9\" class=\"node\">\n",
       "<title>8</title>\n",
       "<path fill=\"#55abe9\" stroke=\"black\" d=\"M619.38,-299C619.38,-299 521.62,-299 521.62,-299 515.62,-299 509.62,-293 509.62,-287 509.62,-287 509.62,-233 509.62,-233 509.62,-227 515.62,-221 521.62,-221 521.62,-221 619.38,-221 619.38,-221 625.38,-221 631.38,-227 631.38,-233 631.38,-233 631.38,-287 631.38,-287 631.38,-293 625.38,-299 619.38,-299\"/>\n",
       "<text text-anchor=\"start\" x=\"532.25\" y=\"-282.7\" font-family=\"Helvetica,sans-Serif\" font-size=\"14.00\">x</text>\n",
       "<text text-anchor=\"start\" x=\"539\" y=\"-282.7\" font-family=\"Helvetica,sans-Serif\" baseline-shift=\"sub\" font-size=\"14.00\">22</text>\n",
       "<text text-anchor=\"start\" x=\"552.5\" y=\"-282.7\" font-family=\"Helvetica,sans-Serif\" font-size=\"14.00\"> ≤ 120.35</text>\n",
       "<text text-anchor=\"start\" x=\"523.25\" y=\"-268.7\" font-family=\"Helvetica,sans-Serif\" font-size=\"14.00\">entropy = 0.536</text>\n",
       "<text text-anchor=\"start\" x=\"525.88\" y=\"-254.7\" font-family=\"Helvetica,sans-Serif\" font-size=\"14.00\">samples = 180</text>\n",
       "<text text-anchor=\"start\" x=\"520.25\" y=\"-240.7\" font-family=\"Helvetica,sans-Serif\" font-size=\"14.00\">value = [22, 158]</text>\n",
       "<text text-anchor=\"start\" x=\"517.62\" y=\"-226.7\" font-family=\"Helvetica,sans-Serif\" font-size=\"14.00\">class = Malignant</text>\n",
       "</g>\n",
       "<!-- 0&#45;&gt;8 -->\n",
       "<g id=\"edge8\" class=\"edge\">\n",
       "<title>0&#45;&gt;8</title>\n",
       "<path fill=\"none\" stroke=\"black\" d=\"M521.76,-334.77C527.24,-326.48 533.09,-317.61 538.78,-309.01\"/>\n",
       "<polygon fill=\"black\" stroke=\"black\" points=\"541.68,-310.97 544.27,-300.7 535.84,-307.12 541.68,-310.97\"/>\n",
       "<text text-anchor=\"middle\" x=\"550.11\" y=\"-318.51\" font-family=\"Helvetica,sans-Serif\" font-size=\"14.00\">False</text>\n",
       "</g>\n",
       "<!-- 2 -->\n",
       "<g id=\"node3\" class=\"node\">\n",
       "<title>2</title>\n",
       "<path fill=\"#e5813a\" stroke=\"black\" d=\"M225.75,-185C225.75,-185 139.25,-185 139.25,-185 133.25,-185 127.25,-179 127.25,-173 127.25,-173 127.25,-119 127.25,-119 127.25,-113 133.25,-107 139.25,-107 139.25,-107 225.75,-107 225.75,-107 231.75,-107 237.75,-113 237.75,-119 237.75,-119 237.75,-173 237.75,-173 237.75,-179 231.75,-185 225.75,-185\"/>\n",
       "<text text-anchor=\"start\" x=\"148\" y=\"-168.7\" font-family=\"Helvetica,sans-Serif\" font-size=\"14.00\">x</text>\n",
       "<text text-anchor=\"start\" x=\"154.75\" y=\"-168.7\" font-family=\"Helvetica,sans-Serif\" baseline-shift=\"sub\" font-size=\"14.00\">21</text>\n",
       "<text text-anchor=\"start\" x=\"168.25\" y=\"-168.7\" font-family=\"Helvetica,sans-Serif\" font-size=\"14.00\"> ≤ 33.35</text>\n",
       "<text text-anchor=\"start\" x=\"135.25\" y=\"-154.7\" font-family=\"Helvetica,sans-Serif\" font-size=\"14.00\">entropy = 0.037</text>\n",
       "<text text-anchor=\"start\" x=\"137.88\" y=\"-140.7\" font-family=\"Helvetica,sans-Serif\" font-size=\"14.00\">samples = 255</text>\n",
       "<text text-anchor=\"start\" x=\"136\" y=\"-126.7\" font-family=\"Helvetica,sans-Serif\" font-size=\"14.00\">value = [254, 1]</text>\n",
       "<text text-anchor=\"start\" x=\"138.25\" y=\"-112.7\" font-family=\"Helvetica,sans-Serif\" font-size=\"14.00\">class = Benign</text>\n",
       "</g>\n",
       "<!-- 1&#45;&gt;2 -->\n",
       "<g id=\"edge2\" class=\"edge\">\n",
       "<title>1&#45;&gt;2</title>\n",
       "<path fill=\"none\" stroke=\"black\" d=\"M305.41,-220.61C286.86,-209.5 266.58,-197.36 247.95,-186.2\"/>\n",
       "<polygon fill=\"black\" stroke=\"black\" points=\"249.76,-183.2 239.38,-181.07 246.16,-189.21 249.76,-183.2\"/>\n",
       "</g>\n",
       "<!-- 5 -->\n",
       "<g id=\"node6\" class=\"node\">\n",
       "<title>5</title>\n",
       "<path fill=\"#dbedfa\" stroke=\"black\" d=\"M418.38,-185C418.38,-185 320.62,-185 320.62,-185 314.62,-185 308.62,-179 308.62,-173 308.62,-173 308.62,-119 308.62,-119 308.62,-113 314.62,-107 320.62,-107 320.62,-107 418.38,-107 418.38,-107 424.38,-107 430.38,-113 430.38,-119 430.38,-119 430.38,-173 430.38,-173 430.38,-179 424.38,-185 418.38,-185\"/>\n",
       "<text text-anchor=\"start\" x=\"338.38\" y=\"-168.7\" font-family=\"Helvetica,sans-Serif\" font-size=\"14.00\">x</text>\n",
       "<text text-anchor=\"start\" x=\"345.12\" y=\"-168.7\" font-family=\"Helvetica,sans-Serif\" baseline-shift=\"sub\" font-size=\"14.00\">4</text>\n",
       "<text text-anchor=\"start\" x=\"351.88\" y=\"-168.7\" font-family=\"Helvetica,sans-Serif\" font-size=\"14.00\"> ≤ 0.096</text>\n",
       "<text text-anchor=\"start\" x=\"322.25\" y=\"-154.7\" font-family=\"Helvetica,sans-Serif\" font-size=\"14.00\">entropy = 0.993</text>\n",
       "<text text-anchor=\"start\" x=\"328.62\" y=\"-140.7\" font-family=\"Helvetica,sans-Serif\" font-size=\"14.00\">samples = 20</text>\n",
       "<text text-anchor=\"start\" x=\"327.12\" y=\"-126.7\" font-family=\"Helvetica,sans-Serif\" font-size=\"14.00\">value = [9, 11]</text>\n",
       "<text text-anchor=\"start\" x=\"316.62\" y=\"-112.7\" font-family=\"Helvetica,sans-Serif\" font-size=\"14.00\">class = Malignant</text>\n",
       "</g>\n",
       "<!-- 1&#45;&gt;5 -->\n",
       "<g id=\"edge5\" class=\"edge\">\n",
       "<title>1&#45;&gt;5</title>\n",
       "<path fill=\"none\" stroke=\"black\" d=\"M369.5,-220.77C369.5,-213.02 369.5,-204.76 369.5,-196.67\"/>\n",
       "<polygon fill=\"black\" stroke=\"black\" points=\"373,-196.95 369.5,-186.95 366,-196.95 373,-196.95\"/>\n",
       "</g>\n",
       "<!-- 3 -->\n",
       "<g id=\"node4\" class=\"node\">\n",
       "<title>3</title>\n",
       "<path fill=\"#e58139\" stroke=\"black\" d=\"M97,-71C97,-71 12,-71 12,-71 6,-71 0,-65 0,-59 0,-59 0,-12 0,-12 0,-6 6,0 12,0 12,0 97,0 97,0 103,0 109,-6 109,-12 109,-12 109,-59 109,-59 109,-65 103,-71 97,-71\"/>\n",
       "<text text-anchor=\"start\" x=\"14.75\" y=\"-53.7\" font-family=\"Helvetica,sans-Serif\" font-size=\"14.00\">entropy = 0.0</text>\n",
       "<text text-anchor=\"start\" x=\"9.88\" y=\"-37.95\" font-family=\"Helvetica,sans-Serif\" font-size=\"14.00\">samples = 236</text>\n",
       "<text text-anchor=\"start\" x=\"8\" y=\"-22.2\" font-family=\"Helvetica,sans-Serif\" font-size=\"14.00\">value = [236, 0]</text>\n",
       "<text text-anchor=\"start\" x=\"10.25\" y=\"-6.45\" font-family=\"Helvetica,sans-Serif\" font-size=\"14.00\">class = Benign</text>\n",
       "</g>\n",
       "<!-- 2&#45;&gt;3 -->\n",
       "<g id=\"edge3\" class=\"edge\">\n",
       "<title>2&#45;&gt;3</title>\n",
       "<path fill=\"none\" stroke=\"black\" d=\"M137.37,-106.75C126.58,-97.6 115,-87.79 104.03,-78.48\"/>\n",
       "<polygon fill=\"black\" stroke=\"black\" points=\"106.42,-75.93 96.53,-72.13 101.9,-81.27 106.42,-75.93\"/>\n",
       "</g>\n",
       "<!-- 4 -->\n",
       "<g id=\"node5\" class=\"node\">\n",
       "<title>4</title>\n",
       "<path fill=\"#e68844\" stroke=\"black\" d=\"M225.75,-71C225.75,-71 139.25,-71 139.25,-71 133.25,-71 127.25,-65 127.25,-59 127.25,-59 127.25,-12 127.25,-12 127.25,-6 133.25,0 139.25,0 139.25,0 225.75,0 225.75,0 231.75,0 237.75,-6 237.75,-12 237.75,-12 237.75,-59 237.75,-59 237.75,-65 231.75,-71 225.75,-71\"/>\n",
       "<text text-anchor=\"start\" x=\"135.25\" y=\"-53.7\" font-family=\"Helvetica,sans-Serif\" font-size=\"14.00\">entropy = 0.297</text>\n",
       "<text text-anchor=\"start\" x=\"141.62\" y=\"-37.95\" font-family=\"Helvetica,sans-Serif\" font-size=\"14.00\">samples = 19</text>\n",
       "<text text-anchor=\"start\" x=\"139.75\" y=\"-22.2\" font-family=\"Helvetica,sans-Serif\" font-size=\"14.00\">value = [18, 1]</text>\n",
       "<text text-anchor=\"start\" x=\"138.25\" y=\"-6.45\" font-family=\"Helvetica,sans-Serif\" font-size=\"14.00\">class = Benign</text>\n",
       "</g>\n",
       "<!-- 2&#45;&gt;4 -->\n",
       "<g id=\"edge4\" class=\"edge\">\n",
       "<title>2&#45;&gt;4</title>\n",
       "<path fill=\"none\" stroke=\"black\" d=\"M182.5,-106.75C182.5,-98.96 182.5,-90.69 182.5,-82.66\"/>\n",
       "<polygon fill=\"black\" stroke=\"black\" points=\"186,-82.66 182.5,-72.66 179,-82.66 186,-82.66\"/>\n",
       "</g>\n",
       "<!-- 6 -->\n",
       "<g id=\"node7\" class=\"node\">\n",
       "<title>6</title>\n",
       "<path fill=\"#e58139\" stroke=\"black\" d=\"M348.75,-71C348.75,-71 268.25,-71 268.25,-71 262.25,-71 256.25,-65 256.25,-59 256.25,-59 256.25,-12 256.25,-12 256.25,-6 262.25,0 268.25,0 268.25,0 348.75,0 348.75,0 354.75,0 360.75,-6 360.75,-12 360.75,-12 360.75,-59 360.75,-59 360.75,-65 354.75,-71 348.75,-71\"/>\n",
       "<text text-anchor=\"start\" x=\"268.75\" y=\"-53.7\" font-family=\"Helvetica,sans-Serif\" font-size=\"14.00\">entropy = 0.0</text>\n",
       "<text text-anchor=\"start\" x=\"271.38\" y=\"-37.95\" font-family=\"Helvetica,sans-Serif\" font-size=\"14.00\">samples = 7</text>\n",
       "<text text-anchor=\"start\" x=\"269.5\" y=\"-22.2\" font-family=\"Helvetica,sans-Serif\" font-size=\"14.00\">value = [7, 0]</text>\n",
       "<text text-anchor=\"start\" x=\"264.25\" y=\"-6.45\" font-family=\"Helvetica,sans-Serif\" font-size=\"14.00\">class = Benign</text>\n",
       "</g>\n",
       "<!-- 5&#45;&gt;6 -->\n",
       "<g id=\"edge6\" class=\"edge\">\n",
       "<title>5&#45;&gt;6</title>\n",
       "<path fill=\"none\" stroke=\"black\" d=\"M347.99,-106.75C343.31,-98.42 338.31,-89.53 333.51,-80.98\"/>\n",
       "<polygon fill=\"black\" stroke=\"black\" points=\"336.67,-79.47 328.72,-72.47 330.57,-82.9 336.67,-79.47\"/>\n",
       "</g>\n",
       "<!-- 7 -->\n",
       "<g id=\"node8\" class=\"node\">\n",
       "<title>7</title>\n",
       "<path fill=\"#5dafea\" stroke=\"black\" d=\"M488.38,-71C488.38,-71 390.62,-71 390.62,-71 384.62,-71 378.62,-65 378.62,-59 378.62,-59 378.62,-12 378.62,-12 378.62,-6 384.62,0 390.62,0 390.62,0 488.38,0 488.38,0 494.38,0 500.38,-6 500.38,-12 500.38,-12 500.38,-59 500.38,-59 500.38,-65 494.38,-71 488.38,-71\"/>\n",
       "<text text-anchor=\"start\" x=\"392.25\" y=\"-53.7\" font-family=\"Helvetica,sans-Serif\" font-size=\"14.00\">entropy = 0.619</text>\n",
       "<text text-anchor=\"start\" x=\"398.62\" y=\"-37.95\" font-family=\"Helvetica,sans-Serif\" font-size=\"14.00\">samples = 13</text>\n",
       "<text text-anchor=\"start\" x=\"397.12\" y=\"-22.2\" font-family=\"Helvetica,sans-Serif\" font-size=\"14.00\">value = [2, 11]</text>\n",
       "<text text-anchor=\"start\" x=\"386.62\" y=\"-6.45\" font-family=\"Helvetica,sans-Serif\" font-size=\"14.00\">class = Malignant</text>\n",
       "</g>\n",
       "<!-- 5&#45;&gt;7 -->\n",
       "<g id=\"edge7\" class=\"edge\">\n",
       "<title>5&#45;&gt;7</title>\n",
       "<path fill=\"none\" stroke=\"black\" d=\"M394.18,-106.75C399.61,-98.32 405.41,-89.34 410.98,-80.7\"/>\n",
       "<polygon fill=\"black\" stroke=\"black\" points=\"413.84,-82.72 416.32,-72.42 407.96,-78.93 413.84,-82.72\"/>\n",
       "</g>\n",
       "<!-- 9 -->\n",
       "<g id=\"node10\" class=\"node\">\n",
       "<title>9</title>\n",
       "<path fill=\"#c1e0f7\" stroke=\"black\" d=\"M619.38,-185C619.38,-185 521.62,-185 521.62,-185 515.62,-185 509.62,-179 509.62,-173 509.62,-173 509.62,-119 509.62,-119 509.62,-113 515.62,-107 521.62,-107 521.62,-107 619.38,-107 619.38,-107 625.38,-107 631.38,-113 631.38,-119 631.38,-119 631.38,-173 631.38,-173 631.38,-179 625.38,-185 619.38,-185\"/>\n",
       "<text text-anchor=\"start\" x=\"536\" y=\"-168.7\" font-family=\"Helvetica,sans-Serif\" font-size=\"14.00\">x</text>\n",
       "<text text-anchor=\"start\" x=\"542.75\" y=\"-168.7\" font-family=\"Helvetica,sans-Serif\" baseline-shift=\"sub\" font-size=\"14.00\">24</text>\n",
       "<text text-anchor=\"start\" x=\"556.25\" y=\"-168.7\" font-family=\"Helvetica,sans-Serif\" font-size=\"14.00\"> ≤ 0.136</text>\n",
       "<text text-anchor=\"start\" x=\"523.25\" y=\"-154.7\" font-family=\"Helvetica,sans-Serif\" font-size=\"14.00\">entropy = 0.975</text>\n",
       "<text text-anchor=\"start\" x=\"529.62\" y=\"-140.7\" font-family=\"Helvetica,sans-Serif\" font-size=\"14.00\">samples = 54</text>\n",
       "<text text-anchor=\"start\" x=\"524\" y=\"-126.7\" font-family=\"Helvetica,sans-Serif\" font-size=\"14.00\">value = [22, 32]</text>\n",
       "<text text-anchor=\"start\" x=\"517.62\" y=\"-112.7\" font-family=\"Helvetica,sans-Serif\" font-size=\"14.00\">class = Malignant</text>\n",
       "</g>\n",
       "<!-- 8&#45;&gt;9 -->\n",
       "<g id=\"edge9\" class=\"edge\">\n",
       "<title>8&#45;&gt;9</title>\n",
       "<path fill=\"none\" stroke=\"black\" d=\"M570.5,-220.77C570.5,-213.02 570.5,-204.76 570.5,-196.67\"/>\n",
       "<polygon fill=\"black\" stroke=\"black\" points=\"574,-196.95 570.5,-186.95 567,-196.95 574,-196.95\"/>\n",
       "</g>\n",
       "<!-- 12 -->\n",
       "<g id=\"node13\" class=\"node\">\n",
       "<title>12</title>\n",
       "<path fill=\"#399de5\" stroke=\"black\" d=\"M759.38,-181.5C759.38,-181.5 661.62,-181.5 661.62,-181.5 655.62,-181.5 649.62,-175.5 649.62,-169.5 649.62,-169.5 649.62,-122.5 649.62,-122.5 649.62,-116.5 655.62,-110.5 661.62,-110.5 661.62,-110.5 759.38,-110.5 759.38,-110.5 765.38,-110.5 771.38,-116.5 771.38,-122.5 771.38,-122.5 771.38,-169.5 771.38,-169.5 771.38,-175.5 765.38,-181.5 759.38,-181.5\"/>\n",
       "<text text-anchor=\"start\" x=\"670.75\" y=\"-164.2\" font-family=\"Helvetica,sans-Serif\" font-size=\"14.00\">entropy = 0.0</text>\n",
       "<text text-anchor=\"start\" x=\"665.88\" y=\"-148.45\" font-family=\"Helvetica,sans-Serif\" font-size=\"14.00\">samples = 126</text>\n",
       "<text text-anchor=\"start\" x=\"664\" y=\"-132.7\" font-family=\"Helvetica,sans-Serif\" font-size=\"14.00\">value = [0, 126]</text>\n",
       "<text text-anchor=\"start\" x=\"657.62\" y=\"-116.95\" font-family=\"Helvetica,sans-Serif\" font-size=\"14.00\">class = Malignant</text>\n",
       "</g>\n",
       "<!-- 8&#45;&gt;12 -->\n",
       "<g id=\"edge12\" class=\"edge\">\n",
       "<title>8&#45;&gt;12</title>\n",
       "<path fill=\"none\" stroke=\"black\" d=\"M618.29,-220.77C631.16,-210.47 645.15,-199.28 658.25,-188.8\"/>\n",
       "<polygon fill=\"black\" stroke=\"black\" points=\"660.35,-191.6 665.97,-182.62 655.98,-186.13 660.35,-191.6\"/>\n",
       "</g>\n",
       "<!-- 10 -->\n",
       "<g id=\"node11\" class=\"node\">\n",
       "<title>10</title>\n",
       "<path fill=\"#efb184\" stroke=\"black\" d=\"M610.75,-71C610.75,-71 530.25,-71 530.25,-71 524.25,-71 518.25,-65 518.25,-59 518.25,-59 518.25,-12 518.25,-12 518.25,-6 524.25,0 530.25,0 530.25,0 610.75,0 610.75,0 616.75,0 622.75,-6 622.75,-12 622.75,-12 622.75,-59 622.75,-59 622.75,-65 616.75,-71 610.75,-71\"/>\n",
       "<text text-anchor=\"start\" x=\"527\" y=\"-53.7\" font-family=\"Helvetica,sans-Serif\" font-size=\"14.00\">entropy = 0.85</text>\n",
       "<text text-anchor=\"start\" x=\"529.62\" y=\"-37.95\" font-family=\"Helvetica,sans-Serif\" font-size=\"14.00\">samples = 29</text>\n",
       "<text text-anchor=\"start\" x=\"527.75\" y=\"-22.2\" font-family=\"Helvetica,sans-Serif\" font-size=\"14.00\">value = [21, 8]</text>\n",
       "<text text-anchor=\"start\" x=\"526.25\" y=\"-6.45\" font-family=\"Helvetica,sans-Serif\" font-size=\"14.00\">class = Benign</text>\n",
       "</g>\n",
       "<!-- 9&#45;&gt;10 -->\n",
       "<g id=\"edge10\" class=\"edge\">\n",
       "<title>9&#45;&gt;10</title>\n",
       "<path fill=\"none\" stroke=\"black\" d=\"M570.5,-106.75C570.5,-98.96 570.5,-90.69 570.5,-82.66\"/>\n",
       "<polygon fill=\"black\" stroke=\"black\" points=\"574,-82.66 570.5,-72.66 567,-82.66 574,-82.66\"/>\n",
       "</g>\n",
       "<!-- 11 -->\n",
       "<g id=\"node12\" class=\"node\">\n",
       "<title>11</title>\n",
       "<path fill=\"#41a1e6\" stroke=\"black\" d=\"M750.38,-71C750.38,-71 652.62,-71 652.62,-71 646.62,-71 640.62,-65 640.62,-59 640.62,-59 640.62,-12 640.62,-12 640.62,-6 646.62,0 652.62,0 652.62,0 750.38,0 750.38,0 756.38,0 762.38,-6 762.38,-12 762.38,-12 762.38,-59 762.38,-59 762.38,-65 756.38,-71 750.38,-71\"/>\n",
       "<text text-anchor=\"start\" x=\"654.25\" y=\"-53.7\" font-family=\"Helvetica,sans-Serif\" font-size=\"14.00\">entropy = 0.242</text>\n",
       "<text text-anchor=\"start\" x=\"660.62\" y=\"-37.95\" font-family=\"Helvetica,sans-Serif\" font-size=\"14.00\">samples = 25</text>\n",
       "<text text-anchor=\"start\" x=\"658.75\" y=\"-22.2\" font-family=\"Helvetica,sans-Serif\" font-size=\"14.00\">value = [1, 24]</text>\n",
       "<text text-anchor=\"start\" x=\"648.62\" y=\"-6.45\" font-family=\"Helvetica,sans-Serif\" font-size=\"14.00\">class = Malignant</text>\n",
       "</g>\n",
       "<!-- 9&#45;&gt;11 -->\n",
       "<g id=\"edge11\" class=\"edge\">\n",
       "<title>9&#45;&gt;11</title>\n",
       "<path fill=\"none\" stroke=\"black\" d=\"M616.69,-106.75C627.73,-97.6 639.58,-87.79 650.81,-78.48\"/>\n",
       "<polygon fill=\"black\" stroke=\"black\" points=\"653.03,-81.19 658.5,-72.12 648.56,-75.8 653.03,-81.19\"/>\n",
       "</g>\n",
       "</g>\n",
       "</svg>\n"
      ],
      "text/plain": [
       "<graphviz.sources.Source at 0x18d05a9b790>"
      ]
     },
     "metadata": {},
     "output_type": "display_data"
    },
    {
     "name": "stdout",
     "output_type": "stream",
     "text": [
      "Decision tree classifier for train/test split 80:20 with max depth of 3 built, visualized, and saved.\n"
     ]
    },
    {
     "data": {
      "image/svg+xml": [
       "<?xml version=\"1.0\" encoding=\"UTF-8\" standalone=\"no\"?>\n",
       "<!DOCTYPE svg PUBLIC \"-//W3C//DTD SVG 1.1//EN\"\n",
       " \"http://www.w3.org/Graphics/SVG/1.1/DTD/svg11.dtd\">\n",
       "<!-- Generated by graphviz version 12.1.0 (20240811.2233)\n",
       " -->\n",
       "<!-- Title: Tree Pages: 1 -->\n",
       "<svg width=\"1040pt\" height=\"535pt\"\n",
       " viewBox=\"0.00 0.00 1039.75 535.00\" xmlns=\"http://www.w3.org/2000/svg\" xmlns:xlink=\"http://www.w3.org/1999/xlink\">\n",
       "<g id=\"graph0\" class=\"graph\" transform=\"scale(1 1) rotate(0) translate(4 531)\">\n",
       "<title>Tree</title>\n",
       "<polygon fill=\"white\" stroke=\"none\" points=\"-4,4 -4,-531 1035.75,-531 1035.75,4 -4,4\"/>\n",
       "<!-- 0 -->\n",
       "<g id=\"node1\" class=\"node\">\n",
       "<title>0</title>\n",
       "<path fill=\"#f5ccaf\" stroke=\"black\" d=\"M626.88,-527C626.88,-527 526.88,-527 526.88,-527 520.88,-527 514.88,-521 514.88,-515 514.88,-515 514.88,-461 514.88,-461 514.88,-455 520.88,-449 526.88,-449 526.88,-449 626.88,-449 626.88,-449 632.88,-449 638.88,-455 638.88,-461 638.88,-461 638.88,-515 638.88,-515 638.88,-521 632.88,-527 626.88,-527\"/>\n",
       "<text text-anchor=\"start\" x=\"542.38\" y=\"-510.7\" font-family=\"Helvetica,sans-Serif\" font-size=\"14.00\">x</text>\n",
       "<text text-anchor=\"start\" x=\"549.12\" y=\"-510.7\" font-family=\"Helvetica,sans-Serif\" baseline-shift=\"sub\" font-size=\"14.00\">22</text>\n",
       "<text text-anchor=\"start\" x=\"562.62\" y=\"-510.7\" font-family=\"Helvetica,sans-Serif\" font-size=\"14.00\"> ≤ 106.1</text>\n",
       "<text text-anchor=\"start\" x=\"529.62\" y=\"-496.7\" font-family=\"Helvetica,sans-Serif\" font-size=\"14.00\">entropy = 0.953</text>\n",
       "<text text-anchor=\"start\" x=\"532.25\" y=\"-482.7\" font-family=\"Helvetica,sans-Serif\" font-size=\"14.00\">samples = 455</text>\n",
       "<text text-anchor=\"start\" x=\"522.88\" y=\"-468.7\" font-family=\"Helvetica,sans-Serif\" font-size=\"14.00\">value = [285, 170]</text>\n",
       "<text text-anchor=\"start\" x=\"532.62\" y=\"-454.7\" font-family=\"Helvetica,sans-Serif\" font-size=\"14.00\">class = Benign</text>\n",
       "</g>\n",
       "<!-- 1 -->\n",
       "<g id=\"node2\" class=\"node\">\n",
       "<title>1</title>\n",
       "<path fill=\"#e68742\" stroke=\"black\" d=\"M442.38,-413C442.38,-413 327.38,-413 327.38,-413 321.38,-413 315.38,-407 315.38,-401 315.38,-401 315.38,-347 315.38,-347 315.38,-341 321.38,-335 327.38,-335 327.38,-335 442.38,-335 442.38,-335 448.38,-335 454.38,-341 454.38,-347 454.38,-347 454.38,-401 454.38,-401 454.38,-407 448.38,-413 442.38,-413\"/>\n",
       "<text text-anchor=\"start\" x=\"350.38\" y=\"-396.7\" font-family=\"Helvetica,sans-Serif\" font-size=\"14.00\">x</text>\n",
       "<text text-anchor=\"start\" x=\"357.12\" y=\"-396.7\" font-family=\"Helvetica,sans-Serif\" baseline-shift=\"sub\" font-size=\"14.00\">26</text>\n",
       "<text text-anchor=\"start\" x=\"370.62\" y=\"-396.7\" font-family=\"Helvetica,sans-Serif\" font-size=\"14.00\"> ≤ 0.369</text>\n",
       "<text text-anchor=\"start\" x=\"337.62\" y=\"-382.7\" font-family=\"Helvetica,sans-Serif\" font-size=\"14.00\">entropy = 0.259</text>\n",
       "<text text-anchor=\"start\" x=\"340.25\" y=\"-368.7\" font-family=\"Helvetica,sans-Serif\" font-size=\"14.00\">samples = 275</text>\n",
       "<text text-anchor=\"start\" x=\"323.38\" y=\"-354.7\" font-family=\"Helvetica,sans-Serif\" font-size=\"14.00\">value = [263.0, 12.0]</text>\n",
       "<text text-anchor=\"start\" x=\"340.62\" y=\"-340.7\" font-family=\"Helvetica,sans-Serif\" font-size=\"14.00\">class = Benign</text>\n",
       "</g>\n",
       "<!-- 0&#45;&gt;1 -->\n",
       "<g id=\"edge1\" class=\"edge\">\n",
       "<title>0&#45;&gt;1</title>\n",
       "<path fill=\"none\" stroke=\"black\" d=\"M514.54,-450.64C497.35,-440.61 478.52,-429.63 460.67,-419.21\"/>\n",
       "<polygon fill=\"black\" stroke=\"black\" points=\"462.57,-416.27 452.17,-414.26 459.05,-422.32 462.57,-416.27\"/>\n",
       "<text text-anchor=\"middle\" x=\"457.23\" y=\"-432.25\" font-family=\"Helvetica,sans-Serif\" font-size=\"14.00\">True</text>\n",
       "</g>\n",
       "<!-- 12 -->\n",
       "<g id=\"node13\" class=\"node\">\n",
       "<title>12</title>\n",
       "<path fill=\"#55abe9\" stroke=\"black\" d=\"M692.75,-413C692.75,-413 595,-413 595,-413 589,-413 583,-407 583,-401 583,-401 583,-347 583,-347 583,-341 589,-335 595,-335 595,-335 692.75,-335 692.75,-335 698.75,-335 704.75,-341 704.75,-347 704.75,-347 704.75,-401 704.75,-401 704.75,-407 698.75,-413 692.75,-413\"/>\n",
       "<text text-anchor=\"start\" x=\"605.62\" y=\"-396.7\" font-family=\"Helvetica,sans-Serif\" font-size=\"14.00\">x</text>\n",
       "<text text-anchor=\"start\" x=\"612.38\" y=\"-396.7\" font-family=\"Helvetica,sans-Serif\" baseline-shift=\"sub\" font-size=\"14.00\">22</text>\n",
       "<text text-anchor=\"start\" x=\"625.88\" y=\"-396.7\" font-family=\"Helvetica,sans-Serif\" font-size=\"14.00\"> ≤ 120.35</text>\n",
       "<text text-anchor=\"start\" x=\"596.62\" y=\"-382.7\" font-family=\"Helvetica,sans-Serif\" font-size=\"14.00\">entropy = 0.536</text>\n",
       "<text text-anchor=\"start\" x=\"599.25\" y=\"-368.7\" font-family=\"Helvetica,sans-Serif\" font-size=\"14.00\">samples = 180</text>\n",
       "<text text-anchor=\"start\" x=\"593.62\" y=\"-354.7\" font-family=\"Helvetica,sans-Serif\" font-size=\"14.00\">value = [22, 158]</text>\n",
       "<text text-anchor=\"start\" x=\"591\" y=\"-340.7\" font-family=\"Helvetica,sans-Serif\" font-size=\"14.00\">class = Malignant</text>\n",
       "</g>\n",
       "<!-- 0&#45;&gt;12 -->\n",
       "<g id=\"edge12\" class=\"edge\">\n",
       "<title>0&#45;&gt;12</title>\n",
       "<path fill=\"none\" stroke=\"black\" d=\"M599.75,-448.77C604.65,-440.57 609.89,-431.81 614.99,-423.28\"/>\n",
       "<polygon fill=\"black\" stroke=\"black\" points=\"617.97,-425.12 620.1,-414.74 611.97,-421.52 617.97,-425.12\"/>\n",
       "<text text-anchor=\"middle\" x=\"626.98\" y=\"-432.26\" font-family=\"Helvetica,sans-Serif\" font-size=\"14.00\">False</text>\n",
       "</g>\n",
       "<!-- 2 -->\n",
       "<g id=\"node3\" class=\"node\">\n",
       "<title>2</title>\n",
       "<path fill=\"#e5813a\" stroke=\"black\" d=\"M233.12,-299C233.12,-299 146.62,-299 146.62,-299 140.62,-299 134.62,-293 134.62,-287 134.62,-287 134.62,-233 134.62,-233 134.62,-227 140.62,-221 146.62,-221 146.62,-221 233.12,-221 233.12,-221 239.12,-221 245.12,-227 245.12,-233 245.12,-233 245.12,-287 245.12,-287 245.12,-293 239.12,-299 233.12,-299\"/>\n",
       "<text text-anchor=\"start\" x=\"155.38\" y=\"-282.7\" font-family=\"Helvetica,sans-Serif\" font-size=\"14.00\">x</text>\n",
       "<text text-anchor=\"start\" x=\"162.12\" y=\"-282.7\" font-family=\"Helvetica,sans-Serif\" baseline-shift=\"sub\" font-size=\"14.00\">21</text>\n",
       "<text text-anchor=\"start\" x=\"175.62\" y=\"-282.7\" font-family=\"Helvetica,sans-Serif\" font-size=\"14.00\"> ≤ 33.35</text>\n",
       "<text text-anchor=\"start\" x=\"142.62\" y=\"-268.7\" font-family=\"Helvetica,sans-Serif\" font-size=\"14.00\">entropy = 0.037</text>\n",
       "<text text-anchor=\"start\" x=\"145.25\" y=\"-254.7\" font-family=\"Helvetica,sans-Serif\" font-size=\"14.00\">samples = 255</text>\n",
       "<text text-anchor=\"start\" x=\"143.38\" y=\"-240.7\" font-family=\"Helvetica,sans-Serif\" font-size=\"14.00\">value = [254, 1]</text>\n",
       "<text text-anchor=\"start\" x=\"145.62\" y=\"-226.7\" font-family=\"Helvetica,sans-Serif\" font-size=\"14.00\">class = Benign</text>\n",
       "</g>\n",
       "<!-- 1&#45;&gt;2 -->\n",
       "<g id=\"edge2\" class=\"edge\">\n",
       "<title>1&#45;&gt;2</title>\n",
       "<path fill=\"none\" stroke=\"black\" d=\"M318.04,-334.61C297.76,-322.97 275.52,-310.19 255.33,-298.6\"/>\n",
       "<polygon fill=\"black\" stroke=\"black\" points=\"257.34,-295.71 246.92,-293.76 253.85,-301.78 257.34,-295.71\"/>\n",
       "</g>\n",
       "<!-- 7 -->\n",
       "<g id=\"node8\" class=\"node\">\n",
       "<title>7</title>\n",
       "<path fill=\"#dbedfa\" stroke=\"black\" d=\"M433.75,-299C433.75,-299 336,-299 336,-299 330,-299 324,-293 324,-287 324,-287 324,-233 324,-233 324,-227 330,-221 336,-221 336,-221 433.75,-221 433.75,-221 439.75,-221 445.75,-227 445.75,-233 445.75,-233 445.75,-287 445.75,-287 445.75,-293 439.75,-299 433.75,-299\"/>\n",
       "<text text-anchor=\"start\" x=\"353.75\" y=\"-282.7\" font-family=\"Helvetica,sans-Serif\" font-size=\"14.00\">x</text>\n",
       "<text text-anchor=\"start\" x=\"360.5\" y=\"-282.7\" font-family=\"Helvetica,sans-Serif\" baseline-shift=\"sub\" font-size=\"14.00\">4</text>\n",
       "<text text-anchor=\"start\" x=\"367.25\" y=\"-282.7\" font-family=\"Helvetica,sans-Serif\" font-size=\"14.00\"> ≤ 0.096</text>\n",
       "<text text-anchor=\"start\" x=\"337.62\" y=\"-268.7\" font-family=\"Helvetica,sans-Serif\" font-size=\"14.00\">entropy = 0.993</text>\n",
       "<text text-anchor=\"start\" x=\"344\" y=\"-254.7\" font-family=\"Helvetica,sans-Serif\" font-size=\"14.00\">samples = 20</text>\n",
       "<text text-anchor=\"start\" x=\"342.5\" y=\"-240.7\" font-family=\"Helvetica,sans-Serif\" font-size=\"14.00\">value = [9, 11]</text>\n",
       "<text text-anchor=\"start\" x=\"332\" y=\"-226.7\" font-family=\"Helvetica,sans-Serif\" font-size=\"14.00\">class = Malignant</text>\n",
       "</g>\n",
       "<!-- 1&#45;&gt;7 -->\n",
       "<g id=\"edge7\" class=\"edge\">\n",
       "<title>1&#45;&gt;7</title>\n",
       "<path fill=\"none\" stroke=\"black\" d=\"M384.88,-334.77C384.88,-327.02 384.88,-318.76 384.88,-310.67\"/>\n",
       "<polygon fill=\"black\" stroke=\"black\" points=\"388.38,-310.95 384.88,-300.95 381.38,-310.95 388.38,-310.95\"/>\n",
       "</g>\n",
       "<!-- 3 -->\n",
       "<g id=\"node4\" class=\"node\">\n",
       "<title>3</title>\n",
       "<path fill=\"#e58139\" stroke=\"black\" d=\"M104.38,-181.5C104.38,-181.5 19.38,-181.5 19.38,-181.5 13.38,-181.5 7.38,-175.5 7.38,-169.5 7.38,-169.5 7.38,-122.5 7.38,-122.5 7.38,-116.5 13.38,-110.5 19.38,-110.5 19.38,-110.5 104.38,-110.5 104.38,-110.5 110.38,-110.5 116.38,-116.5 116.38,-122.5 116.38,-122.5 116.38,-169.5 116.38,-169.5 116.38,-175.5 110.38,-181.5 104.38,-181.5\"/>\n",
       "<text text-anchor=\"start\" x=\"22.12\" y=\"-164.2\" font-family=\"Helvetica,sans-Serif\" font-size=\"14.00\">entropy = 0.0</text>\n",
       "<text text-anchor=\"start\" x=\"17.25\" y=\"-148.45\" font-family=\"Helvetica,sans-Serif\" font-size=\"14.00\">samples = 236</text>\n",
       "<text text-anchor=\"start\" x=\"15.38\" y=\"-132.7\" font-family=\"Helvetica,sans-Serif\" font-size=\"14.00\">value = [236, 0]</text>\n",
       "<text text-anchor=\"start\" x=\"17.62\" y=\"-116.95\" font-family=\"Helvetica,sans-Serif\" font-size=\"14.00\">class = Benign</text>\n",
       "</g>\n",
       "<!-- 2&#45;&gt;3 -->\n",
       "<g id=\"edge3\" class=\"edge\">\n",
       "<title>2&#45;&gt;3</title>\n",
       "<path fill=\"none\" stroke=\"black\" d=\"M146.18,-220.77C134.53,-210.57 121.87,-199.49 109.99,-189.1\"/>\n",
       "<polygon fill=\"black\" stroke=\"black\" points=\"112.47,-186.62 102.64,-182.67 107.86,-191.89 112.47,-186.62\"/>\n",
       "</g>\n",
       "<!-- 4 -->\n",
       "<g id=\"node5\" class=\"node\">\n",
       "<title>4</title>\n",
       "<path fill=\"#e68844\" stroke=\"black\" d=\"M233.12,-185C233.12,-185 146.62,-185 146.62,-185 140.62,-185 134.62,-179 134.62,-173 134.62,-173 134.62,-119 134.62,-119 134.62,-113 140.62,-107 146.62,-107 146.62,-107 233.12,-107 233.12,-107 239.12,-107 245.12,-113 245.12,-119 245.12,-119 245.12,-173 245.12,-173 245.12,-179 239.12,-185 233.12,-185\"/>\n",
       "<text text-anchor=\"start\" x=\"155.38\" y=\"-168.7\" font-family=\"Helvetica,sans-Serif\" font-size=\"14.00\">x</text>\n",
       "<text text-anchor=\"start\" x=\"162.12\" y=\"-168.7\" font-family=\"Helvetica,sans-Serif\" baseline-shift=\"sub\" font-size=\"14.00\">21</text>\n",
       "<text text-anchor=\"start\" x=\"175.62\" y=\"-168.7\" font-family=\"Helvetica,sans-Serif\" font-size=\"14.00\"> ≤ 33.56</text>\n",
       "<text text-anchor=\"start\" x=\"142.62\" y=\"-154.7\" font-family=\"Helvetica,sans-Serif\" font-size=\"14.00\">entropy = 0.297</text>\n",
       "<text text-anchor=\"start\" x=\"149\" y=\"-140.7\" font-family=\"Helvetica,sans-Serif\" font-size=\"14.00\">samples = 19</text>\n",
       "<text text-anchor=\"start\" x=\"147.12\" y=\"-126.7\" font-family=\"Helvetica,sans-Serif\" font-size=\"14.00\">value = [18, 1]</text>\n",
       "<text text-anchor=\"start\" x=\"145.62\" y=\"-112.7\" font-family=\"Helvetica,sans-Serif\" font-size=\"14.00\">class = Benign</text>\n",
       "</g>\n",
       "<!-- 2&#45;&gt;4 -->\n",
       "<g id=\"edge4\" class=\"edge\">\n",
       "<title>2&#45;&gt;4</title>\n",
       "<path fill=\"none\" stroke=\"black\" d=\"M189.88,-220.77C189.88,-213.02 189.88,-204.76 189.88,-196.67\"/>\n",
       "<polygon fill=\"black\" stroke=\"black\" points=\"193.38,-196.95 189.88,-186.95 186.38,-196.95 193.38,-196.95\"/>\n",
       "</g>\n",
       "<!-- 5 -->\n",
       "<g id=\"node6\" class=\"node\">\n",
       "<title>5</title>\n",
       "<path fill=\"#399de5\" stroke=\"black\" d=\"M109.75,-71C109.75,-71 12,-71 12,-71 6,-71 0,-65 0,-59 0,-59 0,-12 0,-12 0,-6 6,0 12,0 12,0 109.75,0 109.75,0 115.75,0 121.75,-6 121.75,-12 121.75,-12 121.75,-59 121.75,-59 121.75,-65 115.75,-71 109.75,-71\"/>\n",
       "<text text-anchor=\"start\" x=\"21.12\" y=\"-53.7\" font-family=\"Helvetica,sans-Serif\" font-size=\"14.00\">entropy = 0.0</text>\n",
       "<text text-anchor=\"start\" x=\"23.75\" y=\"-37.95\" font-family=\"Helvetica,sans-Serif\" font-size=\"14.00\">samples = 1</text>\n",
       "<text text-anchor=\"start\" x=\"21.88\" y=\"-22.2\" font-family=\"Helvetica,sans-Serif\" font-size=\"14.00\">value = [0, 1]</text>\n",
       "<text text-anchor=\"start\" x=\"8\" y=\"-6.45\" font-family=\"Helvetica,sans-Serif\" font-size=\"14.00\">class = Malignant</text>\n",
       "</g>\n",
       "<!-- 4&#45;&gt;5 -->\n",
       "<g id=\"edge5\" class=\"edge\">\n",
       "<title>4&#45;&gt;5</title>\n",
       "<path fill=\"none\" stroke=\"black\" d=\"M144.39,-106.75C133.52,-97.6 121.85,-87.79 110.79,-78.48\"/>\n",
       "<polygon fill=\"black\" stroke=\"black\" points=\"113.14,-75.88 103.23,-72.12 108.63,-81.24 113.14,-75.88\"/>\n",
       "</g>\n",
       "<!-- 6 -->\n",
       "<g id=\"node7\" class=\"node\">\n",
       "<title>6</title>\n",
       "<path fill=\"#e58139\" stroke=\"black\" d=\"M232.12,-71C232.12,-71 151.62,-71 151.62,-71 145.62,-71 139.62,-65 139.62,-59 139.62,-59 139.62,-12 139.62,-12 139.62,-6 145.62,0 151.62,0 151.62,0 232.12,0 232.12,0 238.12,0 244.12,-6 244.12,-12 244.12,-12 244.12,-59 244.12,-59 244.12,-65 238.12,-71 232.12,-71\"/>\n",
       "<text text-anchor=\"start\" x=\"152.12\" y=\"-53.7\" font-family=\"Helvetica,sans-Serif\" font-size=\"14.00\">entropy = 0.0</text>\n",
       "<text text-anchor=\"start\" x=\"151\" y=\"-37.95\" font-family=\"Helvetica,sans-Serif\" font-size=\"14.00\">samples = 18</text>\n",
       "<text text-anchor=\"start\" x=\"149.12\" y=\"-22.2\" font-family=\"Helvetica,sans-Serif\" font-size=\"14.00\">value = [18, 0]</text>\n",
       "<text text-anchor=\"start\" x=\"147.62\" y=\"-6.45\" font-family=\"Helvetica,sans-Serif\" font-size=\"14.00\">class = Benign</text>\n",
       "</g>\n",
       "<!-- 4&#45;&gt;6 -->\n",
       "<g id=\"edge6\" class=\"edge\">\n",
       "<title>4&#45;&gt;6</title>\n",
       "<path fill=\"none\" stroke=\"black\" d=\"M190.58,-106.75C190.72,-98.96 190.88,-90.69 191.02,-82.66\"/>\n",
       "<polygon fill=\"black\" stroke=\"black\" points=\"194.52,-82.73 191.21,-72.66 187.52,-82.6 194.52,-82.73\"/>\n",
       "</g>\n",
       "<!-- 8 -->\n",
       "<g id=\"node9\" class=\"node\">\n",
       "<title>8</title>\n",
       "<path fill=\"#e58139\" stroke=\"black\" d=\"M356.12,-181.5C356.12,-181.5 275.62,-181.5 275.62,-181.5 269.62,-181.5 263.62,-175.5 263.62,-169.5 263.62,-169.5 263.62,-122.5 263.62,-122.5 263.62,-116.5 269.62,-110.5 275.62,-110.5 275.62,-110.5 356.12,-110.5 356.12,-110.5 362.12,-110.5 368.12,-116.5 368.12,-122.5 368.12,-122.5 368.12,-169.5 368.12,-169.5 368.12,-175.5 362.12,-181.5 356.12,-181.5\"/>\n",
       "<text text-anchor=\"start\" x=\"276.12\" y=\"-164.2\" font-family=\"Helvetica,sans-Serif\" font-size=\"14.00\">entropy = 0.0</text>\n",
       "<text text-anchor=\"start\" x=\"278.75\" y=\"-148.45\" font-family=\"Helvetica,sans-Serif\" font-size=\"14.00\">samples = 7</text>\n",
       "<text text-anchor=\"start\" x=\"276.88\" y=\"-132.7\" font-family=\"Helvetica,sans-Serif\" font-size=\"14.00\">value = [7, 0]</text>\n",
       "<text text-anchor=\"start\" x=\"271.62\" y=\"-116.95\" font-family=\"Helvetica,sans-Serif\" font-size=\"14.00\">class = Benign</text>\n",
       "</g>\n",
       "<!-- 7&#45;&gt;8 -->\n",
       "<g id=\"edge8\" class=\"edge\">\n",
       "<title>7&#45;&gt;8</title>\n",
       "<path fill=\"none\" stroke=\"black\" d=\"M361.32,-220.77C355.47,-211.26 349.14,-201 343.12,-191.23\"/>\n",
       "<polygon fill=\"black\" stroke=\"black\" points=\"346.26,-189.64 338.03,-182.96 340.3,-193.31 346.26,-189.64\"/>\n",
       "</g>\n",
       "<!-- 9 -->\n",
       "<g id=\"node10\" class=\"node\">\n",
       "<title>9</title>\n",
       "<path fill=\"#5dafea\" stroke=\"black\" d=\"M495.75,-185C495.75,-185 398,-185 398,-185 392,-185 386,-179 386,-173 386,-173 386,-119 386,-119 386,-113 392,-107 398,-107 398,-107 495.75,-107 495.75,-107 501.75,-107 507.75,-113 507.75,-119 507.75,-119 507.75,-173 507.75,-173 507.75,-179 501.75,-185 495.75,-185\"/>\n",
       "<text text-anchor=\"start\" x=\"408.62\" y=\"-168.7\" font-family=\"Helvetica,sans-Serif\" font-size=\"14.00\">x</text>\n",
       "<text text-anchor=\"start\" x=\"415.38\" y=\"-168.7\" font-family=\"Helvetica,sans-Serif\" baseline-shift=\"sub\" font-size=\"14.00\">21</text>\n",
       "<text text-anchor=\"start\" x=\"428.88\" y=\"-168.7\" font-family=\"Helvetica,sans-Serif\" font-size=\"14.00\"> ≤ 24.785</text>\n",
       "<text text-anchor=\"start\" x=\"399.62\" y=\"-154.7\" font-family=\"Helvetica,sans-Serif\" font-size=\"14.00\">entropy = 0.619</text>\n",
       "<text text-anchor=\"start\" x=\"406\" y=\"-140.7\" font-family=\"Helvetica,sans-Serif\" font-size=\"14.00\">samples = 13</text>\n",
       "<text text-anchor=\"start\" x=\"404.5\" y=\"-126.7\" font-family=\"Helvetica,sans-Serif\" font-size=\"14.00\">value = [2, 11]</text>\n",
       "<text text-anchor=\"start\" x=\"394\" y=\"-112.7\" font-family=\"Helvetica,sans-Serif\" font-size=\"14.00\">class = Malignant</text>\n",
       "</g>\n",
       "<!-- 7&#45;&gt;9 -->\n",
       "<g id=\"edge9\" class=\"edge\">\n",
       "<title>7&#45;&gt;9</title>\n",
       "<path fill=\"none\" stroke=\"black\" d=\"M406.04,-220.77C410.58,-212.57 415.43,-203.81 420.15,-195.28\"/>\n",
       "<polygon fill=\"black\" stroke=\"black\" points=\"423.08,-197.21 424.86,-186.76 416.96,-193.82 423.08,-197.21\"/>\n",
       "</g>\n",
       "<!-- 10 -->\n",
       "<g id=\"node11\" class=\"node\">\n",
       "<title>10</title>\n",
       "<path fill=\"#e58139\" stroke=\"black\" d=\"M356.12,-71C356.12,-71 275.62,-71 275.62,-71 269.62,-71 263.62,-65 263.62,-59 263.62,-59 263.62,-12 263.62,-12 263.62,-6 269.62,0 275.62,0 275.62,0 356.12,0 356.12,0 362.12,0 368.12,-6 368.12,-12 368.12,-12 368.12,-59 368.12,-59 368.12,-65 362.12,-71 356.12,-71\"/>\n",
       "<text text-anchor=\"start\" x=\"276.12\" y=\"-53.7\" font-family=\"Helvetica,sans-Serif\" font-size=\"14.00\">entropy = 0.0</text>\n",
       "<text text-anchor=\"start\" x=\"278.75\" y=\"-37.95\" font-family=\"Helvetica,sans-Serif\" font-size=\"14.00\">samples = 2</text>\n",
       "<text text-anchor=\"start\" x=\"276.88\" y=\"-22.2\" font-family=\"Helvetica,sans-Serif\" font-size=\"14.00\">value = [2, 0]</text>\n",
       "<text text-anchor=\"start\" x=\"271.62\" y=\"-6.45\" font-family=\"Helvetica,sans-Serif\" font-size=\"14.00\">class = Benign</text>\n",
       "</g>\n",
       "<!-- 9&#45;&gt;10 -->\n",
       "<g id=\"edge10\" class=\"edge\">\n",
       "<title>9&#45;&gt;10</title>\n",
       "<path fill=\"none\" stroke=\"black\" d=\"M400.69,-106.75C389.65,-97.6 377.8,-87.79 366.56,-78.48\"/>\n",
       "<polygon fill=\"black\" stroke=\"black\" points=\"368.81,-75.8 358.88,-72.12 364.35,-81.19 368.81,-75.8\"/>\n",
       "</g>\n",
       "<!-- 11 -->\n",
       "<g id=\"node12\" class=\"node\">\n",
       "<title>11</title>\n",
       "<path fill=\"#399de5\" stroke=\"black\" d=\"M495.75,-71C495.75,-71 398,-71 398,-71 392,-71 386,-65 386,-59 386,-59 386,-12 386,-12 386,-6 392,0 398,0 398,0 495.75,0 495.75,0 501.75,0 507.75,-6 507.75,-12 507.75,-12 507.75,-59 507.75,-59 507.75,-65 501.75,-71 495.75,-71\"/>\n",
       "<text text-anchor=\"start\" x=\"407.12\" y=\"-53.7\" font-family=\"Helvetica,sans-Serif\" font-size=\"14.00\">entropy = 0.0</text>\n",
       "<text text-anchor=\"start\" x=\"406.38\" y=\"-37.95\" font-family=\"Helvetica,sans-Serif\" font-size=\"14.00\">samples = 11</text>\n",
       "<text text-anchor=\"start\" x=\"404.5\" y=\"-22.2\" font-family=\"Helvetica,sans-Serif\" font-size=\"14.00\">value = [0, 11]</text>\n",
       "<text text-anchor=\"start\" x=\"394\" y=\"-6.45\" font-family=\"Helvetica,sans-Serif\" font-size=\"14.00\">class = Malignant</text>\n",
       "</g>\n",
       "<!-- 9&#45;&gt;11 -->\n",
       "<g id=\"edge11\" class=\"edge\">\n",
       "<title>9&#45;&gt;11</title>\n",
       "<path fill=\"none\" stroke=\"black\" d=\"M446.88,-106.75C446.88,-98.96 446.88,-90.69 446.88,-82.66\"/>\n",
       "<polygon fill=\"black\" stroke=\"black\" points=\"450.38,-82.66 446.88,-72.66 443.38,-82.66 450.38,-82.66\"/>\n",
       "</g>\n",
       "<!-- 13 -->\n",
       "<g id=\"node14\" class=\"node\">\n",
       "<title>13</title>\n",
       "<path fill=\"#c1e0f7\" stroke=\"black\" d=\"M692.75,-299C692.75,-299 595,-299 595,-299 589,-299 583,-293 583,-287 583,-287 583,-233 583,-233 583,-227 589,-221 595,-221 595,-221 692.75,-221 692.75,-221 698.75,-221 704.75,-227 704.75,-233 704.75,-233 704.75,-287 704.75,-287 704.75,-293 698.75,-299 692.75,-299\"/>\n",
       "<text text-anchor=\"start\" x=\"609.38\" y=\"-282.7\" font-family=\"Helvetica,sans-Serif\" font-size=\"14.00\">x</text>\n",
       "<text text-anchor=\"start\" x=\"616.12\" y=\"-282.7\" font-family=\"Helvetica,sans-Serif\" baseline-shift=\"sub\" font-size=\"14.00\">24</text>\n",
       "<text text-anchor=\"start\" x=\"629.62\" y=\"-282.7\" font-family=\"Helvetica,sans-Serif\" font-size=\"14.00\"> ≤ 0.136</text>\n",
       "<text text-anchor=\"start\" x=\"596.62\" y=\"-268.7\" font-family=\"Helvetica,sans-Serif\" font-size=\"14.00\">entropy = 0.975</text>\n",
       "<text text-anchor=\"start\" x=\"603\" y=\"-254.7\" font-family=\"Helvetica,sans-Serif\" font-size=\"14.00\">samples = 54</text>\n",
       "<text text-anchor=\"start\" x=\"597.38\" y=\"-240.7\" font-family=\"Helvetica,sans-Serif\" font-size=\"14.00\">value = [22, 32]</text>\n",
       "<text text-anchor=\"start\" x=\"591\" y=\"-226.7\" font-family=\"Helvetica,sans-Serif\" font-size=\"14.00\">class = Malignant</text>\n",
       "</g>\n",
       "<!-- 12&#45;&gt;13 -->\n",
       "<g id=\"edge13\" class=\"edge\">\n",
       "<title>12&#45;&gt;13</title>\n",
       "<path fill=\"none\" stroke=\"black\" d=\"M643.88,-334.77C643.88,-327.02 643.88,-318.76 643.88,-310.67\"/>\n",
       "<polygon fill=\"black\" stroke=\"black\" points=\"647.38,-310.95 643.88,-300.95 640.38,-310.95 647.38,-310.95\"/>\n",
       "</g>\n",
       "<!-- 20 -->\n",
       "<g id=\"node21\" class=\"node\">\n",
       "<title>20</title>\n",
       "<path fill=\"#399de5\" stroke=\"black\" d=\"M832.75,-295.5C832.75,-295.5 735,-295.5 735,-295.5 729,-295.5 723,-289.5 723,-283.5 723,-283.5 723,-236.5 723,-236.5 723,-230.5 729,-224.5 735,-224.5 735,-224.5 832.75,-224.5 832.75,-224.5 838.75,-224.5 844.75,-230.5 844.75,-236.5 844.75,-236.5 844.75,-283.5 844.75,-283.5 844.75,-289.5 838.75,-295.5 832.75,-295.5\"/>\n",
       "<text text-anchor=\"start\" x=\"744.12\" y=\"-278.2\" font-family=\"Helvetica,sans-Serif\" font-size=\"14.00\">entropy = 0.0</text>\n",
       "<text text-anchor=\"start\" x=\"739.25\" y=\"-262.45\" font-family=\"Helvetica,sans-Serif\" font-size=\"14.00\">samples = 126</text>\n",
       "<text text-anchor=\"start\" x=\"737.38\" y=\"-246.7\" font-family=\"Helvetica,sans-Serif\" font-size=\"14.00\">value = [0, 126]</text>\n",
       "<text text-anchor=\"start\" x=\"731\" y=\"-230.95\" font-family=\"Helvetica,sans-Serif\" font-size=\"14.00\">class = Malignant</text>\n",
       "</g>\n",
       "<!-- 12&#45;&gt;20 -->\n",
       "<g id=\"edge20\" class=\"edge\">\n",
       "<title>12&#45;&gt;20</title>\n",
       "<path fill=\"none\" stroke=\"black\" d=\"M691.66,-334.77C704.54,-324.47 718.53,-313.28 731.63,-302.8\"/>\n",
       "<polygon fill=\"black\" stroke=\"black\" points=\"733.73,-305.6 739.35,-296.62 729.35,-300.13 733.73,-305.6\"/>\n",
       "</g>\n",
       "<!-- 14 -->\n",
       "<g id=\"node15\" class=\"node\">\n",
       "<title>14</title>\n",
       "<path fill=\"#efb184\" stroke=\"black\" d=\"M684.12,-185C684.12,-185 603.62,-185 603.62,-185 597.62,-185 591.62,-179 591.62,-173 591.62,-173 591.62,-119 591.62,-119 591.62,-113 597.62,-107 603.62,-107 603.62,-107 684.12,-107 684.12,-107 690.12,-107 696.12,-113 696.12,-119 696.12,-119 696.12,-173 696.12,-173 696.12,-179 690.12,-185 684.12,-185\"/>\n",
       "<text text-anchor=\"start\" x=\"609.38\" y=\"-168.7\" font-family=\"Helvetica,sans-Serif\" font-size=\"14.00\">x</text>\n",
       "<text text-anchor=\"start\" x=\"616.12\" y=\"-168.7\" font-family=\"Helvetica,sans-Serif\" baseline-shift=\"sub\" font-size=\"14.00\">21</text>\n",
       "<text text-anchor=\"start\" x=\"629.62\" y=\"-168.7\" font-family=\"Helvetica,sans-Serif\" font-size=\"14.00\"> ≤ 25.67</text>\n",
       "<text text-anchor=\"start\" x=\"600.38\" y=\"-154.7\" font-family=\"Helvetica,sans-Serif\" font-size=\"14.00\">entropy = 0.85</text>\n",
       "<text text-anchor=\"start\" x=\"603\" y=\"-140.7\" font-family=\"Helvetica,sans-Serif\" font-size=\"14.00\">samples = 29</text>\n",
       "<text text-anchor=\"start\" x=\"601.12\" y=\"-126.7\" font-family=\"Helvetica,sans-Serif\" font-size=\"14.00\">value = [21, 8]</text>\n",
       "<text text-anchor=\"start\" x=\"599.62\" y=\"-112.7\" font-family=\"Helvetica,sans-Serif\" font-size=\"14.00\">class = Benign</text>\n",
       "</g>\n",
       "<!-- 13&#45;&gt;14 -->\n",
       "<g id=\"edge14\" class=\"edge\">\n",
       "<title>13&#45;&gt;14</title>\n",
       "<path fill=\"none\" stroke=\"black\" d=\"M643.88,-220.77C643.88,-213.02 643.88,-204.76 643.88,-196.67\"/>\n",
       "<polygon fill=\"black\" stroke=\"black\" points=\"647.38,-196.95 643.88,-186.95 640.38,-196.95 647.38,-196.95\"/>\n",
       "</g>\n",
       "<!-- 17 -->\n",
       "<g id=\"node18\" class=\"node\">\n",
       "<title>17</title>\n",
       "<path fill=\"#41a1e6\" stroke=\"black\" d=\"M888.75,-185C888.75,-185 791,-185 791,-185 785,-185 779,-179 779,-173 779,-173 779,-119 779,-119 779,-113 785,-107 791,-107 791,-107 888.75,-107 888.75,-107 894.75,-107 900.75,-113 900.75,-119 900.75,-119 900.75,-173 900.75,-173 900.75,-179 894.75,-185 888.75,-185\"/>\n",
       "<text text-anchor=\"start\" x=\"801.62\" y=\"-168.7\" font-family=\"Helvetica,sans-Serif\" font-size=\"14.00\">x</text>\n",
       "<text text-anchor=\"start\" x=\"808.38\" y=\"-168.7\" font-family=\"Helvetica,sans-Serif\" baseline-shift=\"sub\" font-size=\"14.00\">13</text>\n",
       "<text text-anchor=\"start\" x=\"821.88\" y=\"-168.7\" font-family=\"Helvetica,sans-Serif\" font-size=\"14.00\"> ≤ 16.195</text>\n",
       "<text text-anchor=\"start\" x=\"792.62\" y=\"-154.7\" font-family=\"Helvetica,sans-Serif\" font-size=\"14.00\">entropy = 0.242</text>\n",
       "<text text-anchor=\"start\" x=\"799\" y=\"-140.7\" font-family=\"Helvetica,sans-Serif\" font-size=\"14.00\">samples = 25</text>\n",
       "<text text-anchor=\"start\" x=\"797.12\" y=\"-126.7\" font-family=\"Helvetica,sans-Serif\" font-size=\"14.00\">value = [1, 24]</text>\n",
       "<text text-anchor=\"start\" x=\"787\" y=\"-112.7\" font-family=\"Helvetica,sans-Serif\" font-size=\"14.00\">class = Malignant</text>\n",
       "</g>\n",
       "<!-- 13&#45;&gt;17 -->\n",
       "<g id=\"edge17\" class=\"edge\">\n",
       "<title>13&#45;&gt;17</title>\n",
       "<path fill=\"none\" stroke=\"black\" d=\"M705.08,-224.02C725.35,-212.44 748.07,-199.46 769,-187.5\"/>\n",
       "<polygon fill=\"black\" stroke=\"black\" points=\"770.53,-190.66 777.48,-182.65 767.06,-184.58 770.53,-190.66\"/>\n",
       "</g>\n",
       "<!-- 15 -->\n",
       "<g id=\"node16\" class=\"node\">\n",
       "<title>15</title>\n",
       "<path fill=\"#e58139\" stroke=\"black\" d=\"M618.12,-71C618.12,-71 537.62,-71 537.62,-71 531.62,-71 525.62,-65 525.62,-59 525.62,-59 525.62,-12 525.62,-12 525.62,-6 531.62,0 537.62,0 537.62,0 618.12,0 618.12,0 624.12,0 630.12,-6 630.12,-12 630.12,-12 630.12,-59 630.12,-59 630.12,-65 624.12,-71 618.12,-71\"/>\n",
       "<text text-anchor=\"start\" x=\"538.12\" y=\"-53.7\" font-family=\"Helvetica,sans-Serif\" font-size=\"14.00\">entropy = 0.0</text>\n",
       "<text text-anchor=\"start\" x=\"537\" y=\"-37.95\" font-family=\"Helvetica,sans-Serif\" font-size=\"14.00\">samples = 15</text>\n",
       "<text text-anchor=\"start\" x=\"535.12\" y=\"-22.2\" font-family=\"Helvetica,sans-Serif\" font-size=\"14.00\">value = [15, 0]</text>\n",
       "<text text-anchor=\"start\" x=\"533.62\" y=\"-6.45\" font-family=\"Helvetica,sans-Serif\" font-size=\"14.00\">class = Benign</text>\n",
       "</g>\n",
       "<!-- 14&#45;&gt;15 -->\n",
       "<g id=\"edge15\" class=\"edge\">\n",
       "<title>14&#45;&gt;15</title>\n",
       "<path fill=\"none\" stroke=\"black\" d=\"M620.61,-106.75C615.54,-98.42 610.13,-89.53 604.93,-80.98\"/>\n",
       "<polygon fill=\"black\" stroke=\"black\" points=\"607.93,-79.17 599.74,-72.44 601.95,-82.81 607.93,-79.17\"/>\n",
       "</g>\n",
       "<!-- 16 -->\n",
       "<g id=\"node17\" class=\"node\">\n",
       "<title>16</title>\n",
       "<path fill=\"#cee6f8\" stroke=\"black\" d=\"M757.75,-71C757.75,-71 660,-71 660,-71 654,-71 648,-65 648,-59 648,-59 648,-12 648,-12 648,-6 654,0 660,0 660,0 757.75,0 757.75,0 763.75,0 769.75,-6 769.75,-12 769.75,-12 769.75,-59 769.75,-59 769.75,-65 763.75,-71 757.75,-71\"/>\n",
       "<text text-anchor=\"start\" x=\"661.62\" y=\"-53.7\" font-family=\"Helvetica,sans-Serif\" font-size=\"14.00\">entropy = 0.985</text>\n",
       "<text text-anchor=\"start\" x=\"668\" y=\"-37.95\" font-family=\"Helvetica,sans-Serif\" font-size=\"14.00\">samples = 14</text>\n",
       "<text text-anchor=\"start\" x=\"669.88\" y=\"-22.2\" font-family=\"Helvetica,sans-Serif\" font-size=\"14.00\">value = [6, 8]</text>\n",
       "<text text-anchor=\"start\" x=\"656\" y=\"-6.45\" font-family=\"Helvetica,sans-Serif\" font-size=\"14.00\">class = Malignant</text>\n",
       "</g>\n",
       "<!-- 14&#45;&gt;16 -->\n",
       "<g id=\"edge16\" class=\"edge\">\n",
       "<title>14&#45;&gt;16</title>\n",
       "<path fill=\"none\" stroke=\"black\" d=\"M666.79,-106.75C671.78,-98.42 677.11,-89.53 682.23,-80.98\"/>\n",
       "<polygon fill=\"black\" stroke=\"black\" points=\"685.2,-82.83 687.34,-72.45 679.2,-79.23 685.2,-82.83\"/>\n",
       "</g>\n",
       "<!-- 18 -->\n",
       "<g id=\"node19\" class=\"node\">\n",
       "<title>18</title>\n",
       "<path fill=\"#e58139\" stroke=\"black\" d=\"M880.12,-71C880.12,-71 799.62,-71 799.62,-71 793.62,-71 787.62,-65 787.62,-59 787.62,-59 787.62,-12 787.62,-12 787.62,-6 793.62,0 799.62,0 799.62,0 880.12,0 880.12,0 886.12,0 892.12,-6 892.12,-12 892.12,-12 892.12,-59 892.12,-59 892.12,-65 886.12,-71 880.12,-71\"/>\n",
       "<text text-anchor=\"start\" x=\"800.12\" y=\"-53.7\" font-family=\"Helvetica,sans-Serif\" font-size=\"14.00\">entropy = 0.0</text>\n",
       "<text text-anchor=\"start\" x=\"802.75\" y=\"-37.95\" font-family=\"Helvetica,sans-Serif\" font-size=\"14.00\">samples = 1</text>\n",
       "<text text-anchor=\"start\" x=\"800.88\" y=\"-22.2\" font-family=\"Helvetica,sans-Serif\" font-size=\"14.00\">value = [1, 0]</text>\n",
       "<text text-anchor=\"start\" x=\"795.62\" y=\"-6.45\" font-family=\"Helvetica,sans-Serif\" font-size=\"14.00\">class = Benign</text>\n",
       "</g>\n",
       "<!-- 17&#45;&gt;18 -->\n",
       "<g id=\"edge18\" class=\"edge\">\n",
       "<title>17&#45;&gt;18</title>\n",
       "<path fill=\"none\" stroke=\"black\" d=\"M839.88,-106.75C839.88,-98.96 839.88,-90.69 839.88,-82.66\"/>\n",
       "<polygon fill=\"black\" stroke=\"black\" points=\"843.38,-82.66 839.88,-72.66 836.38,-82.66 843.38,-82.66\"/>\n",
       "</g>\n",
       "<!-- 19 -->\n",
       "<g id=\"node20\" class=\"node\">\n",
       "<title>19</title>\n",
       "<path fill=\"#399de5\" stroke=\"black\" d=\"M1019.75,-71C1019.75,-71 922,-71 922,-71 916,-71 910,-65 910,-59 910,-59 910,-12 910,-12 910,-6 916,0 922,0 922,0 1019.75,0 1019.75,0 1025.75,0 1031.75,-6 1031.75,-12 1031.75,-12 1031.75,-59 1031.75,-59 1031.75,-65 1025.75,-71 1019.75,-71\"/>\n",
       "<text text-anchor=\"start\" x=\"931.12\" y=\"-53.7\" font-family=\"Helvetica,sans-Serif\" font-size=\"14.00\">entropy = 0.0</text>\n",
       "<text text-anchor=\"start\" x=\"930\" y=\"-37.95\" font-family=\"Helvetica,sans-Serif\" font-size=\"14.00\">samples = 24</text>\n",
       "<text text-anchor=\"start\" x=\"928.12\" y=\"-22.2\" font-family=\"Helvetica,sans-Serif\" font-size=\"14.00\">value = [0, 24]</text>\n",
       "<text text-anchor=\"start\" x=\"918\" y=\"-6.45\" font-family=\"Helvetica,sans-Serif\" font-size=\"14.00\">class = Malignant</text>\n",
       "</g>\n",
       "<!-- 17&#45;&gt;19 -->\n",
       "<g id=\"edge19\" class=\"edge\">\n",
       "<title>17&#45;&gt;19</title>\n",
       "<path fill=\"none\" stroke=\"black\" d=\"M886.06,-106.75C897.1,-97.6 908.95,-87.79 920.19,-78.48\"/>\n",
       "<polygon fill=\"black\" stroke=\"black\" points=\"922.4,-81.19 927.87,-72.12 917.94,-75.8 922.4,-81.19\"/>\n",
       "</g>\n",
       "</g>\n",
       "</svg>\n"
      ],
      "text/plain": [
       "<graphviz.sources.Source at 0x18d0418a0d0>"
      ]
     },
     "metadata": {},
     "output_type": "display_data"
    },
    {
     "name": "stdout",
     "output_type": "stream",
     "text": [
      "Decision tree classifier for train/test split 80:20 with max depth of 4 built, visualized, and saved.\n"
     ]
    },
    {
     "data": {
      "image/svg+xml": [
       "<?xml version=\"1.0\" encoding=\"UTF-8\" standalone=\"no\"?>\n",
       "<!DOCTYPE svg PUBLIC \"-//W3C//DTD SVG 1.1//EN\"\n",
       " \"http://www.w3.org/Graphics/SVG/1.1/DTD/svg11.dtd\">\n",
       "<!-- Generated by graphviz version 12.1.0 (20240811.2233)\n",
       " -->\n",
       "<!-- Title: Tree Pages: 1 -->\n",
       "<svg width=\"1040pt\" height=\"649pt\"\n",
       " viewBox=\"0.00 0.00 1039.75 649.00\" xmlns=\"http://www.w3.org/2000/svg\" xmlns:xlink=\"http://www.w3.org/1999/xlink\">\n",
       "<g id=\"graph0\" class=\"graph\" transform=\"scale(1 1) rotate(0) translate(4 645)\">\n",
       "<title>Tree</title>\n",
       "<polygon fill=\"white\" stroke=\"none\" points=\"-4,4 -4,-645 1035.75,-645 1035.75,4 -4,4\"/>\n",
       "<!-- 0 -->\n",
       "<g id=\"node1\" class=\"node\">\n",
       "<title>0</title>\n",
       "<path fill=\"#f5ccaf\" stroke=\"black\" d=\"M626.88,-641C626.88,-641 526.88,-641 526.88,-641 520.88,-641 514.88,-635 514.88,-629 514.88,-629 514.88,-575 514.88,-575 514.88,-569 520.88,-563 526.88,-563 526.88,-563 626.88,-563 626.88,-563 632.88,-563 638.88,-569 638.88,-575 638.88,-575 638.88,-629 638.88,-629 638.88,-635 632.88,-641 626.88,-641\"/>\n",
       "<text text-anchor=\"start\" x=\"542.38\" y=\"-624.7\" font-family=\"Helvetica,sans-Serif\" font-size=\"14.00\">x</text>\n",
       "<text text-anchor=\"start\" x=\"549.12\" y=\"-624.7\" font-family=\"Helvetica,sans-Serif\" baseline-shift=\"sub\" font-size=\"14.00\">22</text>\n",
       "<text text-anchor=\"start\" x=\"562.62\" y=\"-624.7\" font-family=\"Helvetica,sans-Serif\" font-size=\"14.00\"> ≤ 106.1</text>\n",
       "<text text-anchor=\"start\" x=\"529.62\" y=\"-610.7\" font-family=\"Helvetica,sans-Serif\" font-size=\"14.00\">entropy = 0.953</text>\n",
       "<text text-anchor=\"start\" x=\"532.25\" y=\"-596.7\" font-family=\"Helvetica,sans-Serif\" font-size=\"14.00\">samples = 455</text>\n",
       "<text text-anchor=\"start\" x=\"522.88\" y=\"-582.7\" font-family=\"Helvetica,sans-Serif\" font-size=\"14.00\">value = [285, 170]</text>\n",
       "<text text-anchor=\"start\" x=\"532.62\" y=\"-568.7\" font-family=\"Helvetica,sans-Serif\" font-size=\"14.00\">class = Benign</text>\n",
       "</g>\n",
       "<!-- 1 -->\n",
       "<g id=\"node2\" class=\"node\">\n",
       "<title>1</title>\n",
       "<path fill=\"#e68742\" stroke=\"black\" d=\"M442.38,-527C442.38,-527 327.38,-527 327.38,-527 321.38,-527 315.38,-521 315.38,-515 315.38,-515 315.38,-461 315.38,-461 315.38,-455 321.38,-449 327.38,-449 327.38,-449 442.38,-449 442.38,-449 448.38,-449 454.38,-455 454.38,-461 454.38,-461 454.38,-515 454.38,-515 454.38,-521 448.38,-527 442.38,-527\"/>\n",
       "<text text-anchor=\"start\" x=\"350.38\" y=\"-510.7\" font-family=\"Helvetica,sans-Serif\" font-size=\"14.00\">x</text>\n",
       "<text text-anchor=\"start\" x=\"357.12\" y=\"-510.7\" font-family=\"Helvetica,sans-Serif\" baseline-shift=\"sub\" font-size=\"14.00\">26</text>\n",
       "<text text-anchor=\"start\" x=\"370.62\" y=\"-510.7\" font-family=\"Helvetica,sans-Serif\" font-size=\"14.00\"> ≤ 0.369</text>\n",
       "<text text-anchor=\"start\" x=\"337.62\" y=\"-496.7\" font-family=\"Helvetica,sans-Serif\" font-size=\"14.00\">entropy = 0.259</text>\n",
       "<text text-anchor=\"start\" x=\"340.25\" y=\"-482.7\" font-family=\"Helvetica,sans-Serif\" font-size=\"14.00\">samples = 275</text>\n",
       "<text text-anchor=\"start\" x=\"323.38\" y=\"-468.7\" font-family=\"Helvetica,sans-Serif\" font-size=\"14.00\">value = [263.0, 12.0]</text>\n",
       "<text text-anchor=\"start\" x=\"340.62\" y=\"-454.7\" font-family=\"Helvetica,sans-Serif\" font-size=\"14.00\">class = Benign</text>\n",
       "</g>\n",
       "<!-- 0&#45;&gt;1 -->\n",
       "<g id=\"edge1\" class=\"edge\">\n",
       "<title>0&#45;&gt;1</title>\n",
       "<path fill=\"none\" stroke=\"black\" d=\"M514.54,-564.64C497.35,-554.61 478.52,-543.63 460.67,-533.21\"/>\n",
       "<polygon fill=\"black\" stroke=\"black\" points=\"462.57,-530.27 452.17,-528.26 459.05,-536.32 462.57,-530.27\"/>\n",
       "<text text-anchor=\"middle\" x=\"457.23\" y=\"-546.25\" font-family=\"Helvetica,sans-Serif\" font-size=\"14.00\">True</text>\n",
       "</g>\n",
       "<!-- 12 -->\n",
       "<g id=\"node13\" class=\"node\">\n",
       "<title>12</title>\n",
       "<path fill=\"#55abe9\" stroke=\"black\" d=\"M692.75,-527C692.75,-527 595,-527 595,-527 589,-527 583,-521 583,-515 583,-515 583,-461 583,-461 583,-455 589,-449 595,-449 595,-449 692.75,-449 692.75,-449 698.75,-449 704.75,-455 704.75,-461 704.75,-461 704.75,-515 704.75,-515 704.75,-521 698.75,-527 692.75,-527\"/>\n",
       "<text text-anchor=\"start\" x=\"605.62\" y=\"-510.7\" font-family=\"Helvetica,sans-Serif\" font-size=\"14.00\">x</text>\n",
       "<text text-anchor=\"start\" x=\"612.38\" y=\"-510.7\" font-family=\"Helvetica,sans-Serif\" baseline-shift=\"sub\" font-size=\"14.00\">22</text>\n",
       "<text text-anchor=\"start\" x=\"625.88\" y=\"-510.7\" font-family=\"Helvetica,sans-Serif\" font-size=\"14.00\"> ≤ 120.35</text>\n",
       "<text text-anchor=\"start\" x=\"596.62\" y=\"-496.7\" font-family=\"Helvetica,sans-Serif\" font-size=\"14.00\">entropy = 0.536</text>\n",
       "<text text-anchor=\"start\" x=\"599.25\" y=\"-482.7\" font-family=\"Helvetica,sans-Serif\" font-size=\"14.00\">samples = 180</text>\n",
       "<text text-anchor=\"start\" x=\"593.62\" y=\"-468.7\" font-family=\"Helvetica,sans-Serif\" font-size=\"14.00\">value = [22, 158]</text>\n",
       "<text text-anchor=\"start\" x=\"591\" y=\"-454.7\" font-family=\"Helvetica,sans-Serif\" font-size=\"14.00\">class = Malignant</text>\n",
       "</g>\n",
       "<!-- 0&#45;&gt;12 -->\n",
       "<g id=\"edge12\" class=\"edge\">\n",
       "<title>0&#45;&gt;12</title>\n",
       "<path fill=\"none\" stroke=\"black\" d=\"M599.75,-562.77C604.65,-554.57 609.89,-545.81 614.99,-537.28\"/>\n",
       "<polygon fill=\"black\" stroke=\"black\" points=\"617.97,-539.12 620.1,-528.74 611.97,-535.52 617.97,-539.12\"/>\n",
       "<text text-anchor=\"middle\" x=\"626.98\" y=\"-546.26\" font-family=\"Helvetica,sans-Serif\" font-size=\"14.00\">False</text>\n",
       "</g>\n",
       "<!-- 2 -->\n",
       "<g id=\"node3\" class=\"node\">\n",
       "<title>2</title>\n",
       "<path fill=\"#e5813a\" stroke=\"black\" d=\"M233.12,-413C233.12,-413 146.62,-413 146.62,-413 140.62,-413 134.62,-407 134.62,-401 134.62,-401 134.62,-347 134.62,-347 134.62,-341 140.62,-335 146.62,-335 146.62,-335 233.12,-335 233.12,-335 239.12,-335 245.12,-341 245.12,-347 245.12,-347 245.12,-401 245.12,-401 245.12,-407 239.12,-413 233.12,-413\"/>\n",
       "<text text-anchor=\"start\" x=\"155.38\" y=\"-396.7\" font-family=\"Helvetica,sans-Serif\" font-size=\"14.00\">x</text>\n",
       "<text text-anchor=\"start\" x=\"162.12\" y=\"-396.7\" font-family=\"Helvetica,sans-Serif\" baseline-shift=\"sub\" font-size=\"14.00\">21</text>\n",
       "<text text-anchor=\"start\" x=\"175.62\" y=\"-396.7\" font-family=\"Helvetica,sans-Serif\" font-size=\"14.00\"> ≤ 33.35</text>\n",
       "<text text-anchor=\"start\" x=\"142.62\" y=\"-382.7\" font-family=\"Helvetica,sans-Serif\" font-size=\"14.00\">entropy = 0.037</text>\n",
       "<text text-anchor=\"start\" x=\"145.25\" y=\"-368.7\" font-family=\"Helvetica,sans-Serif\" font-size=\"14.00\">samples = 255</text>\n",
       "<text text-anchor=\"start\" x=\"143.38\" y=\"-354.7\" font-family=\"Helvetica,sans-Serif\" font-size=\"14.00\">value = [254, 1]</text>\n",
       "<text text-anchor=\"start\" x=\"145.62\" y=\"-340.7\" font-family=\"Helvetica,sans-Serif\" font-size=\"14.00\">class = Benign</text>\n",
       "</g>\n",
       "<!-- 1&#45;&gt;2 -->\n",
       "<g id=\"edge2\" class=\"edge\">\n",
       "<title>1&#45;&gt;2</title>\n",
       "<path fill=\"none\" stroke=\"black\" d=\"M318.04,-448.61C297.76,-436.97 275.52,-424.19 255.33,-412.6\"/>\n",
       "<polygon fill=\"black\" stroke=\"black\" points=\"257.34,-409.71 246.92,-407.76 253.85,-415.78 257.34,-409.71\"/>\n",
       "</g>\n",
       "<!-- 7 -->\n",
       "<g id=\"node8\" class=\"node\">\n",
       "<title>7</title>\n",
       "<path fill=\"#dbedfa\" stroke=\"black\" d=\"M433.75,-413C433.75,-413 336,-413 336,-413 330,-413 324,-407 324,-401 324,-401 324,-347 324,-347 324,-341 330,-335 336,-335 336,-335 433.75,-335 433.75,-335 439.75,-335 445.75,-341 445.75,-347 445.75,-347 445.75,-401 445.75,-401 445.75,-407 439.75,-413 433.75,-413\"/>\n",
       "<text text-anchor=\"start\" x=\"353.75\" y=\"-396.7\" font-family=\"Helvetica,sans-Serif\" font-size=\"14.00\">x</text>\n",
       "<text text-anchor=\"start\" x=\"360.5\" y=\"-396.7\" font-family=\"Helvetica,sans-Serif\" baseline-shift=\"sub\" font-size=\"14.00\">4</text>\n",
       "<text text-anchor=\"start\" x=\"367.25\" y=\"-396.7\" font-family=\"Helvetica,sans-Serif\" font-size=\"14.00\"> ≤ 0.096</text>\n",
       "<text text-anchor=\"start\" x=\"337.62\" y=\"-382.7\" font-family=\"Helvetica,sans-Serif\" font-size=\"14.00\">entropy = 0.993</text>\n",
       "<text text-anchor=\"start\" x=\"344\" y=\"-368.7\" font-family=\"Helvetica,sans-Serif\" font-size=\"14.00\">samples = 20</text>\n",
       "<text text-anchor=\"start\" x=\"342.5\" y=\"-354.7\" font-family=\"Helvetica,sans-Serif\" font-size=\"14.00\">value = [9, 11]</text>\n",
       "<text text-anchor=\"start\" x=\"332\" y=\"-340.7\" font-family=\"Helvetica,sans-Serif\" font-size=\"14.00\">class = Malignant</text>\n",
       "</g>\n",
       "<!-- 1&#45;&gt;7 -->\n",
       "<g id=\"edge7\" class=\"edge\">\n",
       "<title>1&#45;&gt;7</title>\n",
       "<path fill=\"none\" stroke=\"black\" d=\"M384.88,-448.77C384.88,-441.02 384.88,-432.76 384.88,-424.67\"/>\n",
       "<polygon fill=\"black\" stroke=\"black\" points=\"388.38,-424.95 384.88,-414.95 381.38,-424.95 388.38,-424.95\"/>\n",
       "</g>\n",
       "<!-- 3 -->\n",
       "<g id=\"node4\" class=\"node\">\n",
       "<title>3</title>\n",
       "<path fill=\"#e58139\" stroke=\"black\" d=\"M104.38,-295.5C104.38,-295.5 19.38,-295.5 19.38,-295.5 13.38,-295.5 7.38,-289.5 7.38,-283.5 7.38,-283.5 7.38,-236.5 7.38,-236.5 7.38,-230.5 13.38,-224.5 19.38,-224.5 19.38,-224.5 104.38,-224.5 104.38,-224.5 110.38,-224.5 116.38,-230.5 116.38,-236.5 116.38,-236.5 116.38,-283.5 116.38,-283.5 116.38,-289.5 110.38,-295.5 104.38,-295.5\"/>\n",
       "<text text-anchor=\"start\" x=\"22.12\" y=\"-278.2\" font-family=\"Helvetica,sans-Serif\" font-size=\"14.00\">entropy = 0.0</text>\n",
       "<text text-anchor=\"start\" x=\"17.25\" y=\"-262.45\" font-family=\"Helvetica,sans-Serif\" font-size=\"14.00\">samples = 236</text>\n",
       "<text text-anchor=\"start\" x=\"15.38\" y=\"-246.7\" font-family=\"Helvetica,sans-Serif\" font-size=\"14.00\">value = [236, 0]</text>\n",
       "<text text-anchor=\"start\" x=\"17.62\" y=\"-230.95\" font-family=\"Helvetica,sans-Serif\" font-size=\"14.00\">class = Benign</text>\n",
       "</g>\n",
       "<!-- 2&#45;&gt;3 -->\n",
       "<g id=\"edge3\" class=\"edge\">\n",
       "<title>2&#45;&gt;3</title>\n",
       "<path fill=\"none\" stroke=\"black\" d=\"M146.18,-334.77C134.53,-324.57 121.87,-313.49 109.99,-303.1\"/>\n",
       "<polygon fill=\"black\" stroke=\"black\" points=\"112.47,-300.62 102.64,-296.67 107.86,-305.89 112.47,-300.62\"/>\n",
       "</g>\n",
       "<!-- 4 -->\n",
       "<g id=\"node5\" class=\"node\">\n",
       "<title>4</title>\n",
       "<path fill=\"#e68844\" stroke=\"black\" d=\"M233.12,-299C233.12,-299 146.62,-299 146.62,-299 140.62,-299 134.62,-293 134.62,-287 134.62,-287 134.62,-233 134.62,-233 134.62,-227 140.62,-221 146.62,-221 146.62,-221 233.12,-221 233.12,-221 239.12,-221 245.12,-227 245.12,-233 245.12,-233 245.12,-287 245.12,-287 245.12,-293 239.12,-299 233.12,-299\"/>\n",
       "<text text-anchor=\"start\" x=\"155.38\" y=\"-282.7\" font-family=\"Helvetica,sans-Serif\" font-size=\"14.00\">x</text>\n",
       "<text text-anchor=\"start\" x=\"162.12\" y=\"-282.7\" font-family=\"Helvetica,sans-Serif\" baseline-shift=\"sub\" font-size=\"14.00\">21</text>\n",
       "<text text-anchor=\"start\" x=\"175.62\" y=\"-282.7\" font-family=\"Helvetica,sans-Serif\" font-size=\"14.00\"> ≤ 33.56</text>\n",
       "<text text-anchor=\"start\" x=\"142.62\" y=\"-268.7\" font-family=\"Helvetica,sans-Serif\" font-size=\"14.00\">entropy = 0.297</text>\n",
       "<text text-anchor=\"start\" x=\"149\" y=\"-254.7\" font-family=\"Helvetica,sans-Serif\" font-size=\"14.00\">samples = 19</text>\n",
       "<text text-anchor=\"start\" x=\"147.12\" y=\"-240.7\" font-family=\"Helvetica,sans-Serif\" font-size=\"14.00\">value = [18, 1]</text>\n",
       "<text text-anchor=\"start\" x=\"145.62\" y=\"-226.7\" font-family=\"Helvetica,sans-Serif\" font-size=\"14.00\">class = Benign</text>\n",
       "</g>\n",
       "<!-- 2&#45;&gt;4 -->\n",
       "<g id=\"edge4\" class=\"edge\">\n",
       "<title>2&#45;&gt;4</title>\n",
       "<path fill=\"none\" stroke=\"black\" d=\"M189.88,-334.77C189.88,-327.02 189.88,-318.76 189.88,-310.67\"/>\n",
       "<polygon fill=\"black\" stroke=\"black\" points=\"193.38,-310.95 189.88,-300.95 186.38,-310.95 193.38,-310.95\"/>\n",
       "</g>\n",
       "<!-- 5 -->\n",
       "<g id=\"node6\" class=\"node\">\n",
       "<title>5</title>\n",
       "<path fill=\"#399de5\" stroke=\"black\" d=\"M109.75,-181.5C109.75,-181.5 12,-181.5 12,-181.5 6,-181.5 0,-175.5 0,-169.5 0,-169.5 0,-122.5 0,-122.5 0,-116.5 6,-110.5 12,-110.5 12,-110.5 109.75,-110.5 109.75,-110.5 115.75,-110.5 121.75,-116.5 121.75,-122.5 121.75,-122.5 121.75,-169.5 121.75,-169.5 121.75,-175.5 115.75,-181.5 109.75,-181.5\"/>\n",
       "<text text-anchor=\"start\" x=\"21.12\" y=\"-164.2\" font-family=\"Helvetica,sans-Serif\" font-size=\"14.00\">entropy = 0.0</text>\n",
       "<text text-anchor=\"start\" x=\"23.75\" y=\"-148.45\" font-family=\"Helvetica,sans-Serif\" font-size=\"14.00\">samples = 1</text>\n",
       "<text text-anchor=\"start\" x=\"21.88\" y=\"-132.7\" font-family=\"Helvetica,sans-Serif\" font-size=\"14.00\">value = [0, 1]</text>\n",
       "<text text-anchor=\"start\" x=\"8\" y=\"-116.95\" font-family=\"Helvetica,sans-Serif\" font-size=\"14.00\">class = Malignant</text>\n",
       "</g>\n",
       "<!-- 4&#45;&gt;5 -->\n",
       "<g id=\"edge5\" class=\"edge\">\n",
       "<title>4&#45;&gt;5</title>\n",
       "<path fill=\"none\" stroke=\"black\" d=\"M145.84,-220.77C134.09,-210.57 121.34,-199.49 109.37,-189.1\"/>\n",
       "<polygon fill=\"black\" stroke=\"black\" points=\"111.8,-186.58 101.96,-182.67 107.21,-191.87 111.8,-186.58\"/>\n",
       "</g>\n",
       "<!-- 6 -->\n",
       "<g id=\"node7\" class=\"node\">\n",
       "<title>6</title>\n",
       "<path fill=\"#e58139\" stroke=\"black\" d=\"M232.12,-181.5C232.12,-181.5 151.62,-181.5 151.62,-181.5 145.62,-181.5 139.62,-175.5 139.62,-169.5 139.62,-169.5 139.62,-122.5 139.62,-122.5 139.62,-116.5 145.62,-110.5 151.62,-110.5 151.62,-110.5 232.12,-110.5 232.12,-110.5 238.12,-110.5 244.12,-116.5 244.12,-122.5 244.12,-122.5 244.12,-169.5 244.12,-169.5 244.12,-175.5 238.12,-181.5 232.12,-181.5\"/>\n",
       "<text text-anchor=\"start\" x=\"152.12\" y=\"-164.2\" font-family=\"Helvetica,sans-Serif\" font-size=\"14.00\">entropy = 0.0</text>\n",
       "<text text-anchor=\"start\" x=\"151\" y=\"-148.45\" font-family=\"Helvetica,sans-Serif\" font-size=\"14.00\">samples = 18</text>\n",
       "<text text-anchor=\"start\" x=\"149.12\" y=\"-132.7\" font-family=\"Helvetica,sans-Serif\" font-size=\"14.00\">value = [18, 0]</text>\n",
       "<text text-anchor=\"start\" x=\"147.62\" y=\"-116.95\" font-family=\"Helvetica,sans-Serif\" font-size=\"14.00\">class = Benign</text>\n",
       "</g>\n",
       "<!-- 4&#45;&gt;6 -->\n",
       "<g id=\"edge6\" class=\"edge\">\n",
       "<title>4&#45;&gt;6</title>\n",
       "<path fill=\"none\" stroke=\"black\" d=\"M190.56,-220.77C190.72,-211.86 190.89,-202.28 191.05,-193.07\"/>\n",
       "<polygon fill=\"black\" stroke=\"black\" points=\"194.55,-193.25 191.23,-183.19 187.55,-193.12 194.55,-193.25\"/>\n",
       "</g>\n",
       "<!-- 8 -->\n",
       "<g id=\"node9\" class=\"node\">\n",
       "<title>8</title>\n",
       "<path fill=\"#e58139\" stroke=\"black\" d=\"M356.12,-295.5C356.12,-295.5 275.62,-295.5 275.62,-295.5 269.62,-295.5 263.62,-289.5 263.62,-283.5 263.62,-283.5 263.62,-236.5 263.62,-236.5 263.62,-230.5 269.62,-224.5 275.62,-224.5 275.62,-224.5 356.12,-224.5 356.12,-224.5 362.12,-224.5 368.12,-230.5 368.12,-236.5 368.12,-236.5 368.12,-283.5 368.12,-283.5 368.12,-289.5 362.12,-295.5 356.12,-295.5\"/>\n",
       "<text text-anchor=\"start\" x=\"276.12\" y=\"-278.2\" font-family=\"Helvetica,sans-Serif\" font-size=\"14.00\">entropy = 0.0</text>\n",
       "<text text-anchor=\"start\" x=\"278.75\" y=\"-262.45\" font-family=\"Helvetica,sans-Serif\" font-size=\"14.00\">samples = 7</text>\n",
       "<text text-anchor=\"start\" x=\"276.88\" y=\"-246.7\" font-family=\"Helvetica,sans-Serif\" font-size=\"14.00\">value = [7, 0]</text>\n",
       "<text text-anchor=\"start\" x=\"271.62\" y=\"-230.95\" font-family=\"Helvetica,sans-Serif\" font-size=\"14.00\">class = Benign</text>\n",
       "</g>\n",
       "<!-- 7&#45;&gt;8 -->\n",
       "<g id=\"edge8\" class=\"edge\">\n",
       "<title>7&#45;&gt;8</title>\n",
       "<path fill=\"none\" stroke=\"black\" d=\"M361.32,-334.77C355.47,-325.26 349.14,-315 343.12,-305.23\"/>\n",
       "<polygon fill=\"black\" stroke=\"black\" points=\"346.26,-303.64 338.03,-296.96 340.3,-307.31 346.26,-303.64\"/>\n",
       "</g>\n",
       "<!-- 9 -->\n",
       "<g id=\"node10\" class=\"node\">\n",
       "<title>9</title>\n",
       "<path fill=\"#5dafea\" stroke=\"black\" d=\"M495.75,-299C495.75,-299 398,-299 398,-299 392,-299 386,-293 386,-287 386,-287 386,-233 386,-233 386,-227 392,-221 398,-221 398,-221 495.75,-221 495.75,-221 501.75,-221 507.75,-227 507.75,-233 507.75,-233 507.75,-287 507.75,-287 507.75,-293 501.75,-299 495.75,-299\"/>\n",
       "<text text-anchor=\"start\" x=\"408.62\" y=\"-282.7\" font-family=\"Helvetica,sans-Serif\" font-size=\"14.00\">x</text>\n",
       "<text text-anchor=\"start\" x=\"415.38\" y=\"-282.7\" font-family=\"Helvetica,sans-Serif\" baseline-shift=\"sub\" font-size=\"14.00\">21</text>\n",
       "<text text-anchor=\"start\" x=\"428.88\" y=\"-282.7\" font-family=\"Helvetica,sans-Serif\" font-size=\"14.00\"> ≤ 24.785</text>\n",
       "<text text-anchor=\"start\" x=\"399.62\" y=\"-268.7\" font-family=\"Helvetica,sans-Serif\" font-size=\"14.00\">entropy = 0.619</text>\n",
       "<text text-anchor=\"start\" x=\"406\" y=\"-254.7\" font-family=\"Helvetica,sans-Serif\" font-size=\"14.00\">samples = 13</text>\n",
       "<text text-anchor=\"start\" x=\"404.5\" y=\"-240.7\" font-family=\"Helvetica,sans-Serif\" font-size=\"14.00\">value = [2, 11]</text>\n",
       "<text text-anchor=\"start\" x=\"394\" y=\"-226.7\" font-family=\"Helvetica,sans-Serif\" font-size=\"14.00\">class = Malignant</text>\n",
       "</g>\n",
       "<!-- 7&#45;&gt;9 -->\n",
       "<g id=\"edge9\" class=\"edge\">\n",
       "<title>7&#45;&gt;9</title>\n",
       "<path fill=\"none\" stroke=\"black\" d=\"M406.04,-334.77C410.58,-326.57 415.43,-317.81 420.15,-309.28\"/>\n",
       "<polygon fill=\"black\" stroke=\"black\" points=\"423.08,-311.21 424.86,-300.76 416.96,-307.82 423.08,-311.21\"/>\n",
       "</g>\n",
       "<!-- 10 -->\n",
       "<g id=\"node11\" class=\"node\">\n",
       "<title>10</title>\n",
       "<path fill=\"#e58139\" stroke=\"black\" d=\"M356.12,-181.5C356.12,-181.5 275.62,-181.5 275.62,-181.5 269.62,-181.5 263.62,-175.5 263.62,-169.5 263.62,-169.5 263.62,-122.5 263.62,-122.5 263.62,-116.5 269.62,-110.5 275.62,-110.5 275.62,-110.5 356.12,-110.5 356.12,-110.5 362.12,-110.5 368.12,-116.5 368.12,-122.5 368.12,-122.5 368.12,-169.5 368.12,-169.5 368.12,-175.5 362.12,-181.5 356.12,-181.5\"/>\n",
       "<text text-anchor=\"start\" x=\"276.12\" y=\"-164.2\" font-family=\"Helvetica,sans-Serif\" font-size=\"14.00\">entropy = 0.0</text>\n",
       "<text text-anchor=\"start\" x=\"278.75\" y=\"-148.45\" font-family=\"Helvetica,sans-Serif\" font-size=\"14.00\">samples = 2</text>\n",
       "<text text-anchor=\"start\" x=\"276.88\" y=\"-132.7\" font-family=\"Helvetica,sans-Serif\" font-size=\"14.00\">value = [2, 0]</text>\n",
       "<text text-anchor=\"start\" x=\"271.62\" y=\"-116.95\" font-family=\"Helvetica,sans-Serif\" font-size=\"14.00\">class = Benign</text>\n",
       "</g>\n",
       "<!-- 9&#45;&gt;10 -->\n",
       "<g id=\"edge10\" class=\"edge\">\n",
       "<title>9&#45;&gt;10</title>\n",
       "<path fill=\"none\" stroke=\"black\" d=\"M402.16,-220.77C390.23,-210.57 377.28,-199.49 365.12,-189.1\"/>\n",
       "<polygon fill=\"black\" stroke=\"black\" points=\"367.46,-186.5 357.58,-182.66 362.91,-191.82 367.46,-186.5\"/>\n",
       "</g>\n",
       "<!-- 11 -->\n",
       "<g id=\"node12\" class=\"node\">\n",
       "<title>11</title>\n",
       "<path fill=\"#399de5\" stroke=\"black\" d=\"M495.75,-181.5C495.75,-181.5 398,-181.5 398,-181.5 392,-181.5 386,-175.5 386,-169.5 386,-169.5 386,-122.5 386,-122.5 386,-116.5 392,-110.5 398,-110.5 398,-110.5 495.75,-110.5 495.75,-110.5 501.75,-110.5 507.75,-116.5 507.75,-122.5 507.75,-122.5 507.75,-169.5 507.75,-169.5 507.75,-175.5 501.75,-181.5 495.75,-181.5\"/>\n",
       "<text text-anchor=\"start\" x=\"407.12\" y=\"-164.2\" font-family=\"Helvetica,sans-Serif\" font-size=\"14.00\">entropy = 0.0</text>\n",
       "<text text-anchor=\"start\" x=\"406.38\" y=\"-148.45\" font-family=\"Helvetica,sans-Serif\" font-size=\"14.00\">samples = 11</text>\n",
       "<text text-anchor=\"start\" x=\"404.5\" y=\"-132.7\" font-family=\"Helvetica,sans-Serif\" font-size=\"14.00\">value = [0, 11]</text>\n",
       "<text text-anchor=\"start\" x=\"394\" y=\"-116.95\" font-family=\"Helvetica,sans-Serif\" font-size=\"14.00\">class = Malignant</text>\n",
       "</g>\n",
       "<!-- 9&#45;&gt;11 -->\n",
       "<g id=\"edge11\" class=\"edge\">\n",
       "<title>9&#45;&gt;11</title>\n",
       "<path fill=\"none\" stroke=\"black\" d=\"M446.88,-220.77C446.88,-211.86 446.88,-202.28 446.88,-193.07\"/>\n",
       "<polygon fill=\"black\" stroke=\"black\" points=\"450.38,-193.19 446.88,-183.19 443.38,-193.19 450.38,-193.19\"/>\n",
       "</g>\n",
       "<!-- 13 -->\n",
       "<g id=\"node14\" class=\"node\">\n",
       "<title>13</title>\n",
       "<path fill=\"#c1e0f7\" stroke=\"black\" d=\"M692.75,-413C692.75,-413 595,-413 595,-413 589,-413 583,-407 583,-401 583,-401 583,-347 583,-347 583,-341 589,-335 595,-335 595,-335 692.75,-335 692.75,-335 698.75,-335 704.75,-341 704.75,-347 704.75,-347 704.75,-401 704.75,-401 704.75,-407 698.75,-413 692.75,-413\"/>\n",
       "<text text-anchor=\"start\" x=\"609.38\" y=\"-396.7\" font-family=\"Helvetica,sans-Serif\" font-size=\"14.00\">x</text>\n",
       "<text text-anchor=\"start\" x=\"616.12\" y=\"-396.7\" font-family=\"Helvetica,sans-Serif\" baseline-shift=\"sub\" font-size=\"14.00\">24</text>\n",
       "<text text-anchor=\"start\" x=\"629.62\" y=\"-396.7\" font-family=\"Helvetica,sans-Serif\" font-size=\"14.00\"> ≤ 0.136</text>\n",
       "<text text-anchor=\"start\" x=\"596.62\" y=\"-382.7\" font-family=\"Helvetica,sans-Serif\" font-size=\"14.00\">entropy = 0.975</text>\n",
       "<text text-anchor=\"start\" x=\"603\" y=\"-368.7\" font-family=\"Helvetica,sans-Serif\" font-size=\"14.00\">samples = 54</text>\n",
       "<text text-anchor=\"start\" x=\"597.38\" y=\"-354.7\" font-family=\"Helvetica,sans-Serif\" font-size=\"14.00\">value = [22, 32]</text>\n",
       "<text text-anchor=\"start\" x=\"591\" y=\"-340.7\" font-family=\"Helvetica,sans-Serif\" font-size=\"14.00\">class = Malignant</text>\n",
       "</g>\n",
       "<!-- 12&#45;&gt;13 -->\n",
       "<g id=\"edge13\" class=\"edge\">\n",
       "<title>12&#45;&gt;13</title>\n",
       "<path fill=\"none\" stroke=\"black\" d=\"M643.88,-448.77C643.88,-441.02 643.88,-432.76 643.88,-424.67\"/>\n",
       "<polygon fill=\"black\" stroke=\"black\" points=\"647.38,-424.95 643.88,-414.95 640.38,-424.95 647.38,-424.95\"/>\n",
       "</g>\n",
       "<!-- 22 -->\n",
       "<g id=\"node23\" class=\"node\">\n",
       "<title>22</title>\n",
       "<path fill=\"#399de5\" stroke=\"black\" d=\"M832.75,-409.5C832.75,-409.5 735,-409.5 735,-409.5 729,-409.5 723,-403.5 723,-397.5 723,-397.5 723,-350.5 723,-350.5 723,-344.5 729,-338.5 735,-338.5 735,-338.5 832.75,-338.5 832.75,-338.5 838.75,-338.5 844.75,-344.5 844.75,-350.5 844.75,-350.5 844.75,-397.5 844.75,-397.5 844.75,-403.5 838.75,-409.5 832.75,-409.5\"/>\n",
       "<text text-anchor=\"start\" x=\"744.12\" y=\"-392.2\" font-family=\"Helvetica,sans-Serif\" font-size=\"14.00\">entropy = 0.0</text>\n",
       "<text text-anchor=\"start\" x=\"739.25\" y=\"-376.45\" font-family=\"Helvetica,sans-Serif\" font-size=\"14.00\">samples = 126</text>\n",
       "<text text-anchor=\"start\" x=\"737.38\" y=\"-360.7\" font-family=\"Helvetica,sans-Serif\" font-size=\"14.00\">value = [0, 126]</text>\n",
       "<text text-anchor=\"start\" x=\"731\" y=\"-344.95\" font-family=\"Helvetica,sans-Serif\" font-size=\"14.00\">class = Malignant</text>\n",
       "</g>\n",
       "<!-- 12&#45;&gt;22 -->\n",
       "<g id=\"edge22\" class=\"edge\">\n",
       "<title>12&#45;&gt;22</title>\n",
       "<path fill=\"none\" stroke=\"black\" d=\"M691.66,-448.77C704.54,-438.47 718.53,-427.28 731.63,-416.8\"/>\n",
       "<polygon fill=\"black\" stroke=\"black\" points=\"733.73,-419.6 739.35,-410.62 729.35,-414.13 733.73,-419.6\"/>\n",
       "</g>\n",
       "<!-- 14 -->\n",
       "<g id=\"node15\" class=\"node\">\n",
       "<title>14</title>\n",
       "<path fill=\"#efb184\" stroke=\"black\" d=\"M684.12,-299C684.12,-299 603.62,-299 603.62,-299 597.62,-299 591.62,-293 591.62,-287 591.62,-287 591.62,-233 591.62,-233 591.62,-227 597.62,-221 603.62,-221 603.62,-221 684.12,-221 684.12,-221 690.12,-221 696.12,-227 696.12,-233 696.12,-233 696.12,-287 696.12,-287 696.12,-293 690.12,-299 684.12,-299\"/>\n",
       "<text text-anchor=\"start\" x=\"609.38\" y=\"-282.7\" font-family=\"Helvetica,sans-Serif\" font-size=\"14.00\">x</text>\n",
       "<text text-anchor=\"start\" x=\"616.12\" y=\"-282.7\" font-family=\"Helvetica,sans-Serif\" baseline-shift=\"sub\" font-size=\"14.00\">21</text>\n",
       "<text text-anchor=\"start\" x=\"629.62\" y=\"-282.7\" font-family=\"Helvetica,sans-Serif\" font-size=\"14.00\"> ≤ 25.67</text>\n",
       "<text text-anchor=\"start\" x=\"600.38\" y=\"-268.7\" font-family=\"Helvetica,sans-Serif\" font-size=\"14.00\">entropy = 0.85</text>\n",
       "<text text-anchor=\"start\" x=\"603\" y=\"-254.7\" font-family=\"Helvetica,sans-Serif\" font-size=\"14.00\">samples = 29</text>\n",
       "<text text-anchor=\"start\" x=\"601.12\" y=\"-240.7\" font-family=\"Helvetica,sans-Serif\" font-size=\"14.00\">value = [21, 8]</text>\n",
       "<text text-anchor=\"start\" x=\"599.62\" y=\"-226.7\" font-family=\"Helvetica,sans-Serif\" font-size=\"14.00\">class = Benign</text>\n",
       "</g>\n",
       "<!-- 13&#45;&gt;14 -->\n",
       "<g id=\"edge14\" class=\"edge\">\n",
       "<title>13&#45;&gt;14</title>\n",
       "<path fill=\"none\" stroke=\"black\" d=\"M643.88,-334.77C643.88,-327.02 643.88,-318.76 643.88,-310.67\"/>\n",
       "<polygon fill=\"black\" stroke=\"black\" points=\"647.38,-310.95 643.88,-300.95 640.38,-310.95 647.38,-310.95\"/>\n",
       "</g>\n",
       "<!-- 19 -->\n",
       "<g id=\"node20\" class=\"node\">\n",
       "<title>19</title>\n",
       "<path fill=\"#41a1e6\" stroke=\"black\" d=\"M888.75,-299C888.75,-299 791,-299 791,-299 785,-299 779,-293 779,-287 779,-287 779,-233 779,-233 779,-227 785,-221 791,-221 791,-221 888.75,-221 888.75,-221 894.75,-221 900.75,-227 900.75,-233 900.75,-233 900.75,-287 900.75,-287 900.75,-293 894.75,-299 888.75,-299\"/>\n",
       "<text text-anchor=\"start\" x=\"808.75\" y=\"-282.7\" font-family=\"Helvetica,sans-Serif\" font-size=\"14.00\">x</text>\n",
       "<text text-anchor=\"start\" x=\"815.5\" y=\"-282.7\" font-family=\"Helvetica,sans-Serif\" baseline-shift=\"sub\" font-size=\"14.00\">1</text>\n",
       "<text text-anchor=\"start\" x=\"822.25\" y=\"-282.7\" font-family=\"Helvetica,sans-Serif\" font-size=\"14.00\"> ≤ 13.42</text>\n",
       "<text text-anchor=\"start\" x=\"792.62\" y=\"-268.7\" font-family=\"Helvetica,sans-Serif\" font-size=\"14.00\">entropy = 0.242</text>\n",
       "<text text-anchor=\"start\" x=\"799\" y=\"-254.7\" font-family=\"Helvetica,sans-Serif\" font-size=\"14.00\">samples = 25</text>\n",
       "<text text-anchor=\"start\" x=\"797.12\" y=\"-240.7\" font-family=\"Helvetica,sans-Serif\" font-size=\"14.00\">value = [1, 24]</text>\n",
       "<text text-anchor=\"start\" x=\"787\" y=\"-226.7\" font-family=\"Helvetica,sans-Serif\" font-size=\"14.00\">class = Malignant</text>\n",
       "</g>\n",
       "<!-- 13&#45;&gt;19 -->\n",
       "<g id=\"edge19\" class=\"edge\">\n",
       "<title>13&#45;&gt;19</title>\n",
       "<path fill=\"none\" stroke=\"black\" d=\"M705.08,-338.02C725.35,-326.44 748.07,-313.46 769,-301.5\"/>\n",
       "<polygon fill=\"black\" stroke=\"black\" points=\"770.53,-304.66 777.48,-296.65 767.06,-298.58 770.53,-304.66\"/>\n",
       "</g>\n",
       "<!-- 15 -->\n",
       "<g id=\"node16\" class=\"node\">\n",
       "<title>15</title>\n",
       "<path fill=\"#e58139\" stroke=\"black\" d=\"M618.12,-181.5C618.12,-181.5 537.62,-181.5 537.62,-181.5 531.62,-181.5 525.62,-175.5 525.62,-169.5 525.62,-169.5 525.62,-122.5 525.62,-122.5 525.62,-116.5 531.62,-110.5 537.62,-110.5 537.62,-110.5 618.12,-110.5 618.12,-110.5 624.12,-110.5 630.12,-116.5 630.12,-122.5 630.12,-122.5 630.12,-169.5 630.12,-169.5 630.12,-175.5 624.12,-181.5 618.12,-181.5\"/>\n",
       "<text text-anchor=\"start\" x=\"538.12\" y=\"-164.2\" font-family=\"Helvetica,sans-Serif\" font-size=\"14.00\">entropy = 0.0</text>\n",
       "<text text-anchor=\"start\" x=\"537\" y=\"-148.45\" font-family=\"Helvetica,sans-Serif\" font-size=\"14.00\">samples = 15</text>\n",
       "<text text-anchor=\"start\" x=\"535.12\" y=\"-132.7\" font-family=\"Helvetica,sans-Serif\" font-size=\"14.00\">value = [15, 0]</text>\n",
       "<text text-anchor=\"start\" x=\"533.62\" y=\"-116.95\" font-family=\"Helvetica,sans-Serif\" font-size=\"14.00\">class = Benign</text>\n",
       "</g>\n",
       "<!-- 14&#45;&gt;15 -->\n",
       "<g id=\"edge15\" class=\"edge\">\n",
       "<title>14&#45;&gt;15</title>\n",
       "<path fill=\"none\" stroke=\"black\" d=\"M621.35,-220.77C615.8,-211.36 609.82,-201.21 604.12,-191.53\"/>\n",
       "<polygon fill=\"black\" stroke=\"black\" points=\"607.17,-189.82 599.08,-182.98 601.14,-193.37 607.17,-189.82\"/>\n",
       "</g>\n",
       "<!-- 16 -->\n",
       "<g id=\"node17\" class=\"node\">\n",
       "<title>16</title>\n",
       "<path fill=\"#cee6f8\" stroke=\"black\" d=\"M757.75,-185C757.75,-185 660,-185 660,-185 654,-185 648,-179 648,-173 648,-173 648,-119 648,-119 648,-113 654,-107 660,-107 660,-107 757.75,-107 757.75,-107 763.75,-107 769.75,-113 769.75,-119 769.75,-119 769.75,-173 769.75,-173 769.75,-179 763.75,-185 757.75,-185\"/>\n",
       "<text text-anchor=\"start\" x=\"674.38\" y=\"-168.7\" font-family=\"Helvetica,sans-Serif\" font-size=\"14.00\">x</text>\n",
       "<text text-anchor=\"start\" x=\"681.12\" y=\"-168.7\" font-family=\"Helvetica,sans-Serif\" baseline-shift=\"sub\" font-size=\"14.00\">25</text>\n",
       "<text text-anchor=\"start\" x=\"694.62\" y=\"-168.7\" font-family=\"Helvetica,sans-Serif\" font-size=\"14.00\"> ≤ 0.237</text>\n",
       "<text text-anchor=\"start\" x=\"661.62\" y=\"-154.7\" font-family=\"Helvetica,sans-Serif\" font-size=\"14.00\">entropy = 0.985</text>\n",
       "<text text-anchor=\"start\" x=\"668\" y=\"-140.7\" font-family=\"Helvetica,sans-Serif\" font-size=\"14.00\">samples = 14</text>\n",
       "<text text-anchor=\"start\" x=\"669.88\" y=\"-126.7\" font-family=\"Helvetica,sans-Serif\" font-size=\"14.00\">value = [6, 8]</text>\n",
       "<text text-anchor=\"start\" x=\"656\" y=\"-112.7\" font-family=\"Helvetica,sans-Serif\" font-size=\"14.00\">class = Malignant</text>\n",
       "</g>\n",
       "<!-- 14&#45;&gt;16 -->\n",
       "<g id=\"edge16\" class=\"edge\">\n",
       "<title>14&#45;&gt;16</title>\n",
       "<path fill=\"none\" stroke=\"black\" d=\"M666.06,-220.77C670.82,-212.57 675.91,-203.81 680.85,-195.28\"/>\n",
       "<polygon fill=\"black\" stroke=\"black\" points=\"683.81,-197.15 685.81,-186.75 677.76,-193.64 683.81,-197.15\"/>\n",
       "</g>\n",
       "<!-- 17 -->\n",
       "<g id=\"node18\" class=\"node\">\n",
       "<title>17</title>\n",
       "<path fill=\"#55abe9\" stroke=\"black\" d=\"M691.75,-71C691.75,-71 594,-71 594,-71 588,-71 582,-65 582,-59 582,-59 582,-12 582,-12 582,-6 588,0 594,0 594,0 691.75,0 691.75,0 697.75,0 703.75,-6 703.75,-12 703.75,-12 703.75,-59 703.75,-59 703.75,-65 697.75,-71 691.75,-71\"/>\n",
       "<text text-anchor=\"start\" x=\"595.62\" y=\"-53.7\" font-family=\"Helvetica,sans-Serif\" font-size=\"14.00\">entropy = 0.544</text>\n",
       "<text text-anchor=\"start\" x=\"605.75\" y=\"-37.95\" font-family=\"Helvetica,sans-Serif\" font-size=\"14.00\">samples = 8</text>\n",
       "<text text-anchor=\"start\" x=\"603.88\" y=\"-22.2\" font-family=\"Helvetica,sans-Serif\" font-size=\"14.00\">value = [1, 7]</text>\n",
       "<text text-anchor=\"start\" x=\"590\" y=\"-6.45\" font-family=\"Helvetica,sans-Serif\" font-size=\"14.00\">class = Malignant</text>\n",
       "</g>\n",
       "<!-- 16&#45;&gt;17 -->\n",
       "<g id=\"edge17\" class=\"edge\">\n",
       "<title>16&#45;&gt;17</title>\n",
       "<path fill=\"none\" stroke=\"black\" d=\"M685.61,-106.75C680.54,-98.42 675.13,-89.53 669.93,-80.98\"/>\n",
       "<polygon fill=\"black\" stroke=\"black\" points=\"672.93,-79.17 664.74,-72.44 666.95,-82.81 672.93,-79.17\"/>\n",
       "</g>\n",
       "<!-- 18 -->\n",
       "<g id=\"node19\" class=\"node\">\n",
       "<title>18</title>\n",
       "<path fill=\"#ea9a61\" stroke=\"black\" d=\"M814.12,-71C814.12,-71 733.62,-71 733.62,-71 727.62,-71 721.62,-65 721.62,-59 721.62,-59 721.62,-12 721.62,-12 721.62,-6 727.62,0 733.62,0 733.62,0 814.12,0 814.12,0 820.12,0 826.12,-6 826.12,-12 826.12,-12 826.12,-59 826.12,-59 826.12,-65 820.12,-71 814.12,-71\"/>\n",
       "<text text-anchor=\"start\" x=\"730.38\" y=\"-53.7\" font-family=\"Helvetica,sans-Serif\" font-size=\"14.00\">entropy = 0.65</text>\n",
       "<text text-anchor=\"start\" x=\"736.75\" y=\"-37.95\" font-family=\"Helvetica,sans-Serif\" font-size=\"14.00\">samples = 6</text>\n",
       "<text text-anchor=\"start\" x=\"734.88\" y=\"-22.2\" font-family=\"Helvetica,sans-Serif\" font-size=\"14.00\">value = [5, 1]</text>\n",
       "<text text-anchor=\"start\" x=\"729.62\" y=\"-6.45\" font-family=\"Helvetica,sans-Serif\" font-size=\"14.00\">class = Benign</text>\n",
       "</g>\n",
       "<!-- 16&#45;&gt;18 -->\n",
       "<g id=\"edge18\" class=\"edge\">\n",
       "<title>16&#45;&gt;18</title>\n",
       "<path fill=\"none\" stroke=\"black\" d=\"M731.79,-106.75C736.78,-98.42 742.11,-89.53 747.23,-80.98\"/>\n",
       "<polygon fill=\"black\" stroke=\"black\" points=\"750.2,-82.83 752.34,-72.45 744.2,-79.23 750.2,-82.83\"/>\n",
       "</g>\n",
       "<!-- 20 -->\n",
       "<g id=\"node21\" class=\"node\">\n",
       "<title>20</title>\n",
       "<path fill=\"#e58139\" stroke=\"black\" d=\"M880.12,-181.5C880.12,-181.5 799.62,-181.5 799.62,-181.5 793.62,-181.5 787.62,-175.5 787.62,-169.5 787.62,-169.5 787.62,-122.5 787.62,-122.5 787.62,-116.5 793.62,-110.5 799.62,-110.5 799.62,-110.5 880.12,-110.5 880.12,-110.5 886.12,-110.5 892.12,-116.5 892.12,-122.5 892.12,-122.5 892.12,-169.5 892.12,-169.5 892.12,-175.5 886.12,-181.5 880.12,-181.5\"/>\n",
       "<text text-anchor=\"start\" x=\"800.12\" y=\"-164.2\" font-family=\"Helvetica,sans-Serif\" font-size=\"14.00\">entropy = 0.0</text>\n",
       "<text text-anchor=\"start\" x=\"802.75\" y=\"-148.45\" font-family=\"Helvetica,sans-Serif\" font-size=\"14.00\">samples = 1</text>\n",
       "<text text-anchor=\"start\" x=\"800.88\" y=\"-132.7\" font-family=\"Helvetica,sans-Serif\" font-size=\"14.00\">value = [1, 0]</text>\n",
       "<text text-anchor=\"start\" x=\"795.62\" y=\"-116.95\" font-family=\"Helvetica,sans-Serif\" font-size=\"14.00\">class = Benign</text>\n",
       "</g>\n",
       "<!-- 19&#45;&gt;20 -->\n",
       "<g id=\"edge20\" class=\"edge\">\n",
       "<title>19&#45;&gt;20</title>\n",
       "<path fill=\"none\" stroke=\"black\" d=\"M839.88,-220.77C839.88,-211.86 839.88,-202.28 839.88,-193.07\"/>\n",
       "<polygon fill=\"black\" stroke=\"black\" points=\"843.38,-193.19 839.88,-183.19 836.38,-193.19 843.38,-193.19\"/>\n",
       "</g>\n",
       "<!-- 21 -->\n",
       "<g id=\"node22\" class=\"node\">\n",
       "<title>21</title>\n",
       "<path fill=\"#399de5\" stroke=\"black\" d=\"M1019.75,-181.5C1019.75,-181.5 922,-181.5 922,-181.5 916,-181.5 910,-175.5 910,-169.5 910,-169.5 910,-122.5 910,-122.5 910,-116.5 916,-110.5 922,-110.5 922,-110.5 1019.75,-110.5 1019.75,-110.5 1025.75,-110.5 1031.75,-116.5 1031.75,-122.5 1031.75,-122.5 1031.75,-169.5 1031.75,-169.5 1031.75,-175.5 1025.75,-181.5 1019.75,-181.5\"/>\n",
       "<text text-anchor=\"start\" x=\"931.12\" y=\"-164.2\" font-family=\"Helvetica,sans-Serif\" font-size=\"14.00\">entropy = 0.0</text>\n",
       "<text text-anchor=\"start\" x=\"930\" y=\"-148.45\" font-family=\"Helvetica,sans-Serif\" font-size=\"14.00\">samples = 24</text>\n",
       "<text text-anchor=\"start\" x=\"928.12\" y=\"-132.7\" font-family=\"Helvetica,sans-Serif\" font-size=\"14.00\">value = [0, 24]</text>\n",
       "<text text-anchor=\"start\" x=\"918\" y=\"-116.95\" font-family=\"Helvetica,sans-Serif\" font-size=\"14.00\">class = Malignant</text>\n",
       "</g>\n",
       "<!-- 19&#45;&gt;21 -->\n",
       "<g id=\"edge21\" class=\"edge\">\n",
       "<title>19&#45;&gt;21</title>\n",
       "<path fill=\"none\" stroke=\"black\" d=\"M884.59,-220.77C896.52,-210.57 909.47,-199.49 921.63,-189.1\"/>\n",
       "<polygon fill=\"black\" stroke=\"black\" points=\"923.84,-191.82 929.17,-182.66 919.29,-186.5 923.84,-191.82\"/>\n",
       "</g>\n",
       "</g>\n",
       "</svg>\n"
      ],
      "text/plain": [
       "<graphviz.sources.Source at 0x18d026d9b90>"
      ]
     },
     "metadata": {},
     "output_type": "display_data"
    },
    {
     "name": "stdout",
     "output_type": "stream",
     "text": [
      "Decision tree classifier for train/test split 80:20 with max depth of 5 built, visualized, and saved.\n"
     ]
    },
    {
     "data": {
      "image/svg+xml": [
       "<?xml version=\"1.0\" encoding=\"UTF-8\" standalone=\"no\"?>\n",
       "<!DOCTYPE svg PUBLIC \"-//W3C//DTD SVG 1.1//EN\"\n",
       " \"http://www.w3.org/Graphics/SVG/1.1/DTD/svg11.dtd\">\n",
       "<!-- Generated by graphviz version 12.1.0 (20240811.2233)\n",
       " -->\n",
       "<!-- Title: Tree Pages: 1 -->\n",
       "<svg width=\"1040pt\" height=\"763pt\"\n",
       " viewBox=\"0.00 0.00 1039.75 763.00\" xmlns=\"http://www.w3.org/2000/svg\" xmlns:xlink=\"http://www.w3.org/1999/xlink\">\n",
       "<g id=\"graph0\" class=\"graph\" transform=\"scale(1 1) rotate(0) translate(4 759)\">\n",
       "<title>Tree</title>\n",
       "<polygon fill=\"white\" stroke=\"none\" points=\"-4,4 -4,-759 1035.75,-759 1035.75,4 -4,4\"/>\n",
       "<!-- 0 -->\n",
       "<g id=\"node1\" class=\"node\">\n",
       "<title>0</title>\n",
       "<path fill=\"#f5ccaf\" stroke=\"black\" d=\"M626.88,-755C626.88,-755 526.88,-755 526.88,-755 520.88,-755 514.88,-749 514.88,-743 514.88,-743 514.88,-689 514.88,-689 514.88,-683 520.88,-677 526.88,-677 526.88,-677 626.88,-677 626.88,-677 632.88,-677 638.88,-683 638.88,-689 638.88,-689 638.88,-743 638.88,-743 638.88,-749 632.88,-755 626.88,-755\"/>\n",
       "<text text-anchor=\"start\" x=\"542.38\" y=\"-738.7\" font-family=\"Helvetica,sans-Serif\" font-size=\"14.00\">x</text>\n",
       "<text text-anchor=\"start\" x=\"549.12\" y=\"-738.7\" font-family=\"Helvetica,sans-Serif\" baseline-shift=\"sub\" font-size=\"14.00\">22</text>\n",
       "<text text-anchor=\"start\" x=\"562.62\" y=\"-738.7\" font-family=\"Helvetica,sans-Serif\" font-size=\"14.00\"> ≤ 106.1</text>\n",
       "<text text-anchor=\"start\" x=\"529.62\" y=\"-724.7\" font-family=\"Helvetica,sans-Serif\" font-size=\"14.00\">entropy = 0.953</text>\n",
       "<text text-anchor=\"start\" x=\"532.25\" y=\"-710.7\" font-family=\"Helvetica,sans-Serif\" font-size=\"14.00\">samples = 455</text>\n",
       "<text text-anchor=\"start\" x=\"522.88\" y=\"-696.7\" font-family=\"Helvetica,sans-Serif\" font-size=\"14.00\">value = [285, 170]</text>\n",
       "<text text-anchor=\"start\" x=\"532.62\" y=\"-682.7\" font-family=\"Helvetica,sans-Serif\" font-size=\"14.00\">class = Benign</text>\n",
       "</g>\n",
       "<!-- 1 -->\n",
       "<g id=\"node2\" class=\"node\">\n",
       "<title>1</title>\n",
       "<path fill=\"#e68742\" stroke=\"black\" d=\"M442.38,-641C442.38,-641 327.38,-641 327.38,-641 321.38,-641 315.38,-635 315.38,-629 315.38,-629 315.38,-575 315.38,-575 315.38,-569 321.38,-563 327.38,-563 327.38,-563 442.38,-563 442.38,-563 448.38,-563 454.38,-569 454.38,-575 454.38,-575 454.38,-629 454.38,-629 454.38,-635 448.38,-641 442.38,-641\"/>\n",
       "<text text-anchor=\"start\" x=\"350.38\" y=\"-624.7\" font-family=\"Helvetica,sans-Serif\" font-size=\"14.00\">x</text>\n",
       "<text text-anchor=\"start\" x=\"357.12\" y=\"-624.7\" font-family=\"Helvetica,sans-Serif\" baseline-shift=\"sub\" font-size=\"14.00\">26</text>\n",
       "<text text-anchor=\"start\" x=\"370.62\" y=\"-624.7\" font-family=\"Helvetica,sans-Serif\" font-size=\"14.00\"> ≤ 0.369</text>\n",
       "<text text-anchor=\"start\" x=\"337.62\" y=\"-610.7\" font-family=\"Helvetica,sans-Serif\" font-size=\"14.00\">entropy = 0.259</text>\n",
       "<text text-anchor=\"start\" x=\"340.25\" y=\"-596.7\" font-family=\"Helvetica,sans-Serif\" font-size=\"14.00\">samples = 275</text>\n",
       "<text text-anchor=\"start\" x=\"323.38\" y=\"-582.7\" font-family=\"Helvetica,sans-Serif\" font-size=\"14.00\">value = [263.0, 12.0]</text>\n",
       "<text text-anchor=\"start\" x=\"340.62\" y=\"-568.7\" font-family=\"Helvetica,sans-Serif\" font-size=\"14.00\">class = Benign</text>\n",
       "</g>\n",
       "<!-- 0&#45;&gt;1 -->\n",
       "<g id=\"edge1\" class=\"edge\">\n",
       "<title>0&#45;&gt;1</title>\n",
       "<path fill=\"none\" stroke=\"black\" d=\"M514.54,-678.64C497.35,-668.61 478.52,-657.63 460.67,-647.21\"/>\n",
       "<polygon fill=\"black\" stroke=\"black\" points=\"462.57,-644.27 452.17,-642.26 459.05,-650.32 462.57,-644.27\"/>\n",
       "<text text-anchor=\"middle\" x=\"457.23\" y=\"-660.25\" font-family=\"Helvetica,sans-Serif\" font-size=\"14.00\">True</text>\n",
       "</g>\n",
       "<!-- 12 -->\n",
       "<g id=\"node13\" class=\"node\">\n",
       "<title>12</title>\n",
       "<path fill=\"#55abe9\" stroke=\"black\" d=\"M692.75,-641C692.75,-641 595,-641 595,-641 589,-641 583,-635 583,-629 583,-629 583,-575 583,-575 583,-569 589,-563 595,-563 595,-563 692.75,-563 692.75,-563 698.75,-563 704.75,-569 704.75,-575 704.75,-575 704.75,-629 704.75,-629 704.75,-635 698.75,-641 692.75,-641\"/>\n",
       "<text text-anchor=\"start\" x=\"605.62\" y=\"-624.7\" font-family=\"Helvetica,sans-Serif\" font-size=\"14.00\">x</text>\n",
       "<text text-anchor=\"start\" x=\"612.38\" y=\"-624.7\" font-family=\"Helvetica,sans-Serif\" baseline-shift=\"sub\" font-size=\"14.00\">22</text>\n",
       "<text text-anchor=\"start\" x=\"625.88\" y=\"-624.7\" font-family=\"Helvetica,sans-Serif\" font-size=\"14.00\"> ≤ 120.35</text>\n",
       "<text text-anchor=\"start\" x=\"596.62\" y=\"-610.7\" font-family=\"Helvetica,sans-Serif\" font-size=\"14.00\">entropy = 0.536</text>\n",
       "<text text-anchor=\"start\" x=\"599.25\" y=\"-596.7\" font-family=\"Helvetica,sans-Serif\" font-size=\"14.00\">samples = 180</text>\n",
       "<text text-anchor=\"start\" x=\"593.62\" y=\"-582.7\" font-family=\"Helvetica,sans-Serif\" font-size=\"14.00\">value = [22, 158]</text>\n",
       "<text text-anchor=\"start\" x=\"591\" y=\"-568.7\" font-family=\"Helvetica,sans-Serif\" font-size=\"14.00\">class = Malignant</text>\n",
       "</g>\n",
       "<!-- 0&#45;&gt;12 -->\n",
       "<g id=\"edge12\" class=\"edge\">\n",
       "<title>0&#45;&gt;12</title>\n",
       "<path fill=\"none\" stroke=\"black\" d=\"M599.75,-676.77C604.65,-668.57 609.89,-659.81 614.99,-651.28\"/>\n",
       "<polygon fill=\"black\" stroke=\"black\" points=\"617.97,-653.12 620.1,-642.74 611.97,-649.52 617.97,-653.12\"/>\n",
       "<text text-anchor=\"middle\" x=\"626.98\" y=\"-660.26\" font-family=\"Helvetica,sans-Serif\" font-size=\"14.00\">False</text>\n",
       "</g>\n",
       "<!-- 2 -->\n",
       "<g id=\"node3\" class=\"node\">\n",
       "<title>2</title>\n",
       "<path fill=\"#e5813a\" stroke=\"black\" d=\"M233.12,-527C233.12,-527 146.62,-527 146.62,-527 140.62,-527 134.62,-521 134.62,-515 134.62,-515 134.62,-461 134.62,-461 134.62,-455 140.62,-449 146.62,-449 146.62,-449 233.12,-449 233.12,-449 239.12,-449 245.12,-455 245.12,-461 245.12,-461 245.12,-515 245.12,-515 245.12,-521 239.12,-527 233.12,-527\"/>\n",
       "<text text-anchor=\"start\" x=\"155.38\" y=\"-510.7\" font-family=\"Helvetica,sans-Serif\" font-size=\"14.00\">x</text>\n",
       "<text text-anchor=\"start\" x=\"162.12\" y=\"-510.7\" font-family=\"Helvetica,sans-Serif\" baseline-shift=\"sub\" font-size=\"14.00\">21</text>\n",
       "<text text-anchor=\"start\" x=\"175.62\" y=\"-510.7\" font-family=\"Helvetica,sans-Serif\" font-size=\"14.00\"> ≤ 33.35</text>\n",
       "<text text-anchor=\"start\" x=\"142.62\" y=\"-496.7\" font-family=\"Helvetica,sans-Serif\" font-size=\"14.00\">entropy = 0.037</text>\n",
       "<text text-anchor=\"start\" x=\"145.25\" y=\"-482.7\" font-family=\"Helvetica,sans-Serif\" font-size=\"14.00\">samples = 255</text>\n",
       "<text text-anchor=\"start\" x=\"143.38\" y=\"-468.7\" font-family=\"Helvetica,sans-Serif\" font-size=\"14.00\">value = [254, 1]</text>\n",
       "<text text-anchor=\"start\" x=\"145.62\" y=\"-454.7\" font-family=\"Helvetica,sans-Serif\" font-size=\"14.00\">class = Benign</text>\n",
       "</g>\n",
       "<!-- 1&#45;&gt;2 -->\n",
       "<g id=\"edge2\" class=\"edge\">\n",
       "<title>1&#45;&gt;2</title>\n",
       "<path fill=\"none\" stroke=\"black\" d=\"M318.04,-562.61C297.76,-550.97 275.52,-538.19 255.33,-526.6\"/>\n",
       "<polygon fill=\"black\" stroke=\"black\" points=\"257.34,-523.71 246.92,-521.76 253.85,-529.78 257.34,-523.71\"/>\n",
       "</g>\n",
       "<!-- 7 -->\n",
       "<g id=\"node8\" class=\"node\">\n",
       "<title>7</title>\n",
       "<path fill=\"#dbedfa\" stroke=\"black\" d=\"M433.75,-527C433.75,-527 336,-527 336,-527 330,-527 324,-521 324,-515 324,-515 324,-461 324,-461 324,-455 330,-449 336,-449 336,-449 433.75,-449 433.75,-449 439.75,-449 445.75,-455 445.75,-461 445.75,-461 445.75,-515 445.75,-515 445.75,-521 439.75,-527 433.75,-527\"/>\n",
       "<text text-anchor=\"start\" x=\"353.75\" y=\"-510.7\" font-family=\"Helvetica,sans-Serif\" font-size=\"14.00\">x</text>\n",
       "<text text-anchor=\"start\" x=\"360.5\" y=\"-510.7\" font-family=\"Helvetica,sans-Serif\" baseline-shift=\"sub\" font-size=\"14.00\">4</text>\n",
       "<text text-anchor=\"start\" x=\"367.25\" y=\"-510.7\" font-family=\"Helvetica,sans-Serif\" font-size=\"14.00\"> ≤ 0.096</text>\n",
       "<text text-anchor=\"start\" x=\"337.62\" y=\"-496.7\" font-family=\"Helvetica,sans-Serif\" font-size=\"14.00\">entropy = 0.993</text>\n",
       "<text text-anchor=\"start\" x=\"344\" y=\"-482.7\" font-family=\"Helvetica,sans-Serif\" font-size=\"14.00\">samples = 20</text>\n",
       "<text text-anchor=\"start\" x=\"342.5\" y=\"-468.7\" font-family=\"Helvetica,sans-Serif\" font-size=\"14.00\">value = [9, 11]</text>\n",
       "<text text-anchor=\"start\" x=\"332\" y=\"-454.7\" font-family=\"Helvetica,sans-Serif\" font-size=\"14.00\">class = Malignant</text>\n",
       "</g>\n",
       "<!-- 1&#45;&gt;7 -->\n",
       "<g id=\"edge7\" class=\"edge\">\n",
       "<title>1&#45;&gt;7</title>\n",
       "<path fill=\"none\" stroke=\"black\" d=\"M384.88,-562.77C384.88,-555.02 384.88,-546.76 384.88,-538.67\"/>\n",
       "<polygon fill=\"black\" stroke=\"black\" points=\"388.38,-538.95 384.88,-528.95 381.38,-538.95 388.38,-538.95\"/>\n",
       "</g>\n",
       "<!-- 3 -->\n",
       "<g id=\"node4\" class=\"node\">\n",
       "<title>3</title>\n",
       "<path fill=\"#e58139\" stroke=\"black\" d=\"M104.38,-409.5C104.38,-409.5 19.38,-409.5 19.38,-409.5 13.38,-409.5 7.38,-403.5 7.38,-397.5 7.38,-397.5 7.38,-350.5 7.38,-350.5 7.38,-344.5 13.38,-338.5 19.38,-338.5 19.38,-338.5 104.38,-338.5 104.38,-338.5 110.38,-338.5 116.38,-344.5 116.38,-350.5 116.38,-350.5 116.38,-397.5 116.38,-397.5 116.38,-403.5 110.38,-409.5 104.38,-409.5\"/>\n",
       "<text text-anchor=\"start\" x=\"22.12\" y=\"-392.2\" font-family=\"Helvetica,sans-Serif\" font-size=\"14.00\">entropy = 0.0</text>\n",
       "<text text-anchor=\"start\" x=\"17.25\" y=\"-376.45\" font-family=\"Helvetica,sans-Serif\" font-size=\"14.00\">samples = 236</text>\n",
       "<text text-anchor=\"start\" x=\"15.38\" y=\"-360.7\" font-family=\"Helvetica,sans-Serif\" font-size=\"14.00\">value = [236, 0]</text>\n",
       "<text text-anchor=\"start\" x=\"17.62\" y=\"-344.95\" font-family=\"Helvetica,sans-Serif\" font-size=\"14.00\">class = Benign</text>\n",
       "</g>\n",
       "<!-- 2&#45;&gt;3 -->\n",
       "<g id=\"edge3\" class=\"edge\">\n",
       "<title>2&#45;&gt;3</title>\n",
       "<path fill=\"none\" stroke=\"black\" d=\"M146.18,-448.77C134.53,-438.57 121.87,-427.49 109.99,-417.1\"/>\n",
       "<polygon fill=\"black\" stroke=\"black\" points=\"112.47,-414.62 102.64,-410.67 107.86,-419.89 112.47,-414.62\"/>\n",
       "</g>\n",
       "<!-- 4 -->\n",
       "<g id=\"node5\" class=\"node\">\n",
       "<title>4</title>\n",
       "<path fill=\"#e68844\" stroke=\"black\" d=\"M233.12,-413C233.12,-413 146.62,-413 146.62,-413 140.62,-413 134.62,-407 134.62,-401 134.62,-401 134.62,-347 134.62,-347 134.62,-341 140.62,-335 146.62,-335 146.62,-335 233.12,-335 233.12,-335 239.12,-335 245.12,-341 245.12,-347 245.12,-347 245.12,-401 245.12,-401 245.12,-407 239.12,-413 233.12,-413\"/>\n",
       "<text text-anchor=\"start\" x=\"155.38\" y=\"-396.7\" font-family=\"Helvetica,sans-Serif\" font-size=\"14.00\">x</text>\n",
       "<text text-anchor=\"start\" x=\"162.12\" y=\"-396.7\" font-family=\"Helvetica,sans-Serif\" baseline-shift=\"sub\" font-size=\"14.00\">21</text>\n",
       "<text text-anchor=\"start\" x=\"175.62\" y=\"-396.7\" font-family=\"Helvetica,sans-Serif\" font-size=\"14.00\"> ≤ 33.56</text>\n",
       "<text text-anchor=\"start\" x=\"142.62\" y=\"-382.7\" font-family=\"Helvetica,sans-Serif\" font-size=\"14.00\">entropy = 0.297</text>\n",
       "<text text-anchor=\"start\" x=\"149\" y=\"-368.7\" font-family=\"Helvetica,sans-Serif\" font-size=\"14.00\">samples = 19</text>\n",
       "<text text-anchor=\"start\" x=\"147.12\" y=\"-354.7\" font-family=\"Helvetica,sans-Serif\" font-size=\"14.00\">value = [18, 1]</text>\n",
       "<text text-anchor=\"start\" x=\"145.62\" y=\"-340.7\" font-family=\"Helvetica,sans-Serif\" font-size=\"14.00\">class = Benign</text>\n",
       "</g>\n",
       "<!-- 2&#45;&gt;4 -->\n",
       "<g id=\"edge4\" class=\"edge\">\n",
       "<title>2&#45;&gt;4</title>\n",
       "<path fill=\"none\" stroke=\"black\" d=\"M189.88,-448.77C189.88,-441.02 189.88,-432.76 189.88,-424.67\"/>\n",
       "<polygon fill=\"black\" stroke=\"black\" points=\"193.38,-424.95 189.88,-414.95 186.38,-424.95 193.38,-424.95\"/>\n",
       "</g>\n",
       "<!-- 5 -->\n",
       "<g id=\"node6\" class=\"node\">\n",
       "<title>5</title>\n",
       "<path fill=\"#399de5\" stroke=\"black\" d=\"M109.75,-295.5C109.75,-295.5 12,-295.5 12,-295.5 6,-295.5 0,-289.5 0,-283.5 0,-283.5 0,-236.5 0,-236.5 0,-230.5 6,-224.5 12,-224.5 12,-224.5 109.75,-224.5 109.75,-224.5 115.75,-224.5 121.75,-230.5 121.75,-236.5 121.75,-236.5 121.75,-283.5 121.75,-283.5 121.75,-289.5 115.75,-295.5 109.75,-295.5\"/>\n",
       "<text text-anchor=\"start\" x=\"21.12\" y=\"-278.2\" font-family=\"Helvetica,sans-Serif\" font-size=\"14.00\">entropy = 0.0</text>\n",
       "<text text-anchor=\"start\" x=\"23.75\" y=\"-262.45\" font-family=\"Helvetica,sans-Serif\" font-size=\"14.00\">samples = 1</text>\n",
       "<text text-anchor=\"start\" x=\"21.88\" y=\"-246.7\" font-family=\"Helvetica,sans-Serif\" font-size=\"14.00\">value = [0, 1]</text>\n",
       "<text text-anchor=\"start\" x=\"8\" y=\"-230.95\" font-family=\"Helvetica,sans-Serif\" font-size=\"14.00\">class = Malignant</text>\n",
       "</g>\n",
       "<!-- 4&#45;&gt;5 -->\n",
       "<g id=\"edge5\" class=\"edge\">\n",
       "<title>4&#45;&gt;5</title>\n",
       "<path fill=\"none\" stroke=\"black\" d=\"M145.84,-334.77C134.09,-324.57 121.34,-313.49 109.37,-303.1\"/>\n",
       "<polygon fill=\"black\" stroke=\"black\" points=\"111.8,-300.58 101.96,-296.67 107.21,-305.87 111.8,-300.58\"/>\n",
       "</g>\n",
       "<!-- 6 -->\n",
       "<g id=\"node7\" class=\"node\">\n",
       "<title>6</title>\n",
       "<path fill=\"#e58139\" stroke=\"black\" d=\"M232.12,-295.5C232.12,-295.5 151.62,-295.5 151.62,-295.5 145.62,-295.5 139.62,-289.5 139.62,-283.5 139.62,-283.5 139.62,-236.5 139.62,-236.5 139.62,-230.5 145.62,-224.5 151.62,-224.5 151.62,-224.5 232.12,-224.5 232.12,-224.5 238.12,-224.5 244.12,-230.5 244.12,-236.5 244.12,-236.5 244.12,-283.5 244.12,-283.5 244.12,-289.5 238.12,-295.5 232.12,-295.5\"/>\n",
       "<text text-anchor=\"start\" x=\"152.12\" y=\"-278.2\" font-family=\"Helvetica,sans-Serif\" font-size=\"14.00\">entropy = 0.0</text>\n",
       "<text text-anchor=\"start\" x=\"151\" y=\"-262.45\" font-family=\"Helvetica,sans-Serif\" font-size=\"14.00\">samples = 18</text>\n",
       "<text text-anchor=\"start\" x=\"149.12\" y=\"-246.7\" font-family=\"Helvetica,sans-Serif\" font-size=\"14.00\">value = [18, 0]</text>\n",
       "<text text-anchor=\"start\" x=\"147.62\" y=\"-230.95\" font-family=\"Helvetica,sans-Serif\" font-size=\"14.00\">class = Benign</text>\n",
       "</g>\n",
       "<!-- 4&#45;&gt;6 -->\n",
       "<g id=\"edge6\" class=\"edge\">\n",
       "<title>4&#45;&gt;6</title>\n",
       "<path fill=\"none\" stroke=\"black\" d=\"M190.56,-334.77C190.72,-325.86 190.89,-316.28 191.05,-307.07\"/>\n",
       "<polygon fill=\"black\" stroke=\"black\" points=\"194.55,-307.25 191.23,-297.19 187.55,-307.12 194.55,-307.25\"/>\n",
       "</g>\n",
       "<!-- 8 -->\n",
       "<g id=\"node9\" class=\"node\">\n",
       "<title>8</title>\n",
       "<path fill=\"#e58139\" stroke=\"black\" d=\"M356.12,-409.5C356.12,-409.5 275.62,-409.5 275.62,-409.5 269.62,-409.5 263.62,-403.5 263.62,-397.5 263.62,-397.5 263.62,-350.5 263.62,-350.5 263.62,-344.5 269.62,-338.5 275.62,-338.5 275.62,-338.5 356.12,-338.5 356.12,-338.5 362.12,-338.5 368.12,-344.5 368.12,-350.5 368.12,-350.5 368.12,-397.5 368.12,-397.5 368.12,-403.5 362.12,-409.5 356.12,-409.5\"/>\n",
       "<text text-anchor=\"start\" x=\"276.12\" y=\"-392.2\" font-family=\"Helvetica,sans-Serif\" font-size=\"14.00\">entropy = 0.0</text>\n",
       "<text text-anchor=\"start\" x=\"278.75\" y=\"-376.45\" font-family=\"Helvetica,sans-Serif\" font-size=\"14.00\">samples = 7</text>\n",
       "<text text-anchor=\"start\" x=\"276.88\" y=\"-360.7\" font-family=\"Helvetica,sans-Serif\" font-size=\"14.00\">value = [7, 0]</text>\n",
       "<text text-anchor=\"start\" x=\"271.62\" y=\"-344.95\" font-family=\"Helvetica,sans-Serif\" font-size=\"14.00\">class = Benign</text>\n",
       "</g>\n",
       "<!-- 7&#45;&gt;8 -->\n",
       "<g id=\"edge8\" class=\"edge\">\n",
       "<title>7&#45;&gt;8</title>\n",
       "<path fill=\"none\" stroke=\"black\" d=\"M361.32,-448.77C355.47,-439.26 349.14,-429 343.12,-419.23\"/>\n",
       "<polygon fill=\"black\" stroke=\"black\" points=\"346.26,-417.64 338.03,-410.96 340.3,-421.31 346.26,-417.64\"/>\n",
       "</g>\n",
       "<!-- 9 -->\n",
       "<g id=\"node10\" class=\"node\">\n",
       "<title>9</title>\n",
       "<path fill=\"#5dafea\" stroke=\"black\" d=\"M495.75,-413C495.75,-413 398,-413 398,-413 392,-413 386,-407 386,-401 386,-401 386,-347 386,-347 386,-341 392,-335 398,-335 398,-335 495.75,-335 495.75,-335 501.75,-335 507.75,-341 507.75,-347 507.75,-347 507.75,-401 507.75,-401 507.75,-407 501.75,-413 495.75,-413\"/>\n",
       "<text text-anchor=\"start\" x=\"408.62\" y=\"-396.7\" font-family=\"Helvetica,sans-Serif\" font-size=\"14.00\">x</text>\n",
       "<text text-anchor=\"start\" x=\"415.38\" y=\"-396.7\" font-family=\"Helvetica,sans-Serif\" baseline-shift=\"sub\" font-size=\"14.00\">21</text>\n",
       "<text text-anchor=\"start\" x=\"428.88\" y=\"-396.7\" font-family=\"Helvetica,sans-Serif\" font-size=\"14.00\"> ≤ 24.785</text>\n",
       "<text text-anchor=\"start\" x=\"399.62\" y=\"-382.7\" font-family=\"Helvetica,sans-Serif\" font-size=\"14.00\">entropy = 0.619</text>\n",
       "<text text-anchor=\"start\" x=\"406\" y=\"-368.7\" font-family=\"Helvetica,sans-Serif\" font-size=\"14.00\">samples = 13</text>\n",
       "<text text-anchor=\"start\" x=\"404.5\" y=\"-354.7\" font-family=\"Helvetica,sans-Serif\" font-size=\"14.00\">value = [2, 11]</text>\n",
       "<text text-anchor=\"start\" x=\"394\" y=\"-340.7\" font-family=\"Helvetica,sans-Serif\" font-size=\"14.00\">class = Malignant</text>\n",
       "</g>\n",
       "<!-- 7&#45;&gt;9 -->\n",
       "<g id=\"edge9\" class=\"edge\">\n",
       "<title>7&#45;&gt;9</title>\n",
       "<path fill=\"none\" stroke=\"black\" d=\"M406.04,-448.77C410.58,-440.57 415.43,-431.81 420.15,-423.28\"/>\n",
       "<polygon fill=\"black\" stroke=\"black\" points=\"423.08,-425.21 424.86,-414.76 416.96,-421.82 423.08,-425.21\"/>\n",
       "</g>\n",
       "<!-- 10 -->\n",
       "<g id=\"node11\" class=\"node\">\n",
       "<title>10</title>\n",
       "<path fill=\"#e58139\" stroke=\"black\" d=\"M356.12,-295.5C356.12,-295.5 275.62,-295.5 275.62,-295.5 269.62,-295.5 263.62,-289.5 263.62,-283.5 263.62,-283.5 263.62,-236.5 263.62,-236.5 263.62,-230.5 269.62,-224.5 275.62,-224.5 275.62,-224.5 356.12,-224.5 356.12,-224.5 362.12,-224.5 368.12,-230.5 368.12,-236.5 368.12,-236.5 368.12,-283.5 368.12,-283.5 368.12,-289.5 362.12,-295.5 356.12,-295.5\"/>\n",
       "<text text-anchor=\"start\" x=\"276.12\" y=\"-278.2\" font-family=\"Helvetica,sans-Serif\" font-size=\"14.00\">entropy = 0.0</text>\n",
       "<text text-anchor=\"start\" x=\"278.75\" y=\"-262.45\" font-family=\"Helvetica,sans-Serif\" font-size=\"14.00\">samples = 2</text>\n",
       "<text text-anchor=\"start\" x=\"276.88\" y=\"-246.7\" font-family=\"Helvetica,sans-Serif\" font-size=\"14.00\">value = [2, 0]</text>\n",
       "<text text-anchor=\"start\" x=\"271.62\" y=\"-230.95\" font-family=\"Helvetica,sans-Serif\" font-size=\"14.00\">class = Benign</text>\n",
       "</g>\n",
       "<!-- 9&#45;&gt;10 -->\n",
       "<g id=\"edge10\" class=\"edge\">\n",
       "<title>9&#45;&gt;10</title>\n",
       "<path fill=\"none\" stroke=\"black\" d=\"M402.16,-334.77C390.23,-324.57 377.28,-313.49 365.12,-303.1\"/>\n",
       "<polygon fill=\"black\" stroke=\"black\" points=\"367.46,-300.5 357.58,-296.66 362.91,-305.82 367.46,-300.5\"/>\n",
       "</g>\n",
       "<!-- 11 -->\n",
       "<g id=\"node12\" class=\"node\">\n",
       "<title>11</title>\n",
       "<path fill=\"#399de5\" stroke=\"black\" d=\"M495.75,-295.5C495.75,-295.5 398,-295.5 398,-295.5 392,-295.5 386,-289.5 386,-283.5 386,-283.5 386,-236.5 386,-236.5 386,-230.5 392,-224.5 398,-224.5 398,-224.5 495.75,-224.5 495.75,-224.5 501.75,-224.5 507.75,-230.5 507.75,-236.5 507.75,-236.5 507.75,-283.5 507.75,-283.5 507.75,-289.5 501.75,-295.5 495.75,-295.5\"/>\n",
       "<text text-anchor=\"start\" x=\"407.12\" y=\"-278.2\" font-family=\"Helvetica,sans-Serif\" font-size=\"14.00\">entropy = 0.0</text>\n",
       "<text text-anchor=\"start\" x=\"406.38\" y=\"-262.45\" font-family=\"Helvetica,sans-Serif\" font-size=\"14.00\">samples = 11</text>\n",
       "<text text-anchor=\"start\" x=\"404.5\" y=\"-246.7\" font-family=\"Helvetica,sans-Serif\" font-size=\"14.00\">value = [0, 11]</text>\n",
       "<text text-anchor=\"start\" x=\"394\" y=\"-230.95\" font-family=\"Helvetica,sans-Serif\" font-size=\"14.00\">class = Malignant</text>\n",
       "</g>\n",
       "<!-- 9&#45;&gt;11 -->\n",
       "<g id=\"edge11\" class=\"edge\">\n",
       "<title>9&#45;&gt;11</title>\n",
       "<path fill=\"none\" stroke=\"black\" d=\"M446.88,-334.77C446.88,-325.86 446.88,-316.28 446.88,-307.07\"/>\n",
       "<polygon fill=\"black\" stroke=\"black\" points=\"450.38,-307.19 446.88,-297.19 443.38,-307.19 450.38,-307.19\"/>\n",
       "</g>\n",
       "<!-- 13 -->\n",
       "<g id=\"node14\" class=\"node\">\n",
       "<title>13</title>\n",
       "<path fill=\"#c1e0f7\" stroke=\"black\" d=\"M692.75,-527C692.75,-527 595,-527 595,-527 589,-527 583,-521 583,-515 583,-515 583,-461 583,-461 583,-455 589,-449 595,-449 595,-449 692.75,-449 692.75,-449 698.75,-449 704.75,-455 704.75,-461 704.75,-461 704.75,-515 704.75,-515 704.75,-521 698.75,-527 692.75,-527\"/>\n",
       "<text text-anchor=\"start\" x=\"609.38\" y=\"-510.7\" font-family=\"Helvetica,sans-Serif\" font-size=\"14.00\">x</text>\n",
       "<text text-anchor=\"start\" x=\"616.12\" y=\"-510.7\" font-family=\"Helvetica,sans-Serif\" baseline-shift=\"sub\" font-size=\"14.00\">24</text>\n",
       "<text text-anchor=\"start\" x=\"629.62\" y=\"-510.7\" font-family=\"Helvetica,sans-Serif\" font-size=\"14.00\"> ≤ 0.136</text>\n",
       "<text text-anchor=\"start\" x=\"596.62\" y=\"-496.7\" font-family=\"Helvetica,sans-Serif\" font-size=\"14.00\">entropy = 0.975</text>\n",
       "<text text-anchor=\"start\" x=\"603\" y=\"-482.7\" font-family=\"Helvetica,sans-Serif\" font-size=\"14.00\">samples = 54</text>\n",
       "<text text-anchor=\"start\" x=\"597.38\" y=\"-468.7\" font-family=\"Helvetica,sans-Serif\" font-size=\"14.00\">value = [22, 32]</text>\n",
       "<text text-anchor=\"start\" x=\"591\" y=\"-454.7\" font-family=\"Helvetica,sans-Serif\" font-size=\"14.00\">class = Malignant</text>\n",
       "</g>\n",
       "<!-- 12&#45;&gt;13 -->\n",
       "<g id=\"edge13\" class=\"edge\">\n",
       "<title>12&#45;&gt;13</title>\n",
       "<path fill=\"none\" stroke=\"black\" d=\"M643.88,-562.77C643.88,-555.02 643.88,-546.76 643.88,-538.67\"/>\n",
       "<polygon fill=\"black\" stroke=\"black\" points=\"647.38,-538.95 643.88,-528.95 640.38,-538.95 647.38,-538.95\"/>\n",
       "</g>\n",
       "<!-- 26 -->\n",
       "<g id=\"node27\" class=\"node\">\n",
       "<title>26</title>\n",
       "<path fill=\"#399de5\" stroke=\"black\" d=\"M832.75,-523.5C832.75,-523.5 735,-523.5 735,-523.5 729,-523.5 723,-517.5 723,-511.5 723,-511.5 723,-464.5 723,-464.5 723,-458.5 729,-452.5 735,-452.5 735,-452.5 832.75,-452.5 832.75,-452.5 838.75,-452.5 844.75,-458.5 844.75,-464.5 844.75,-464.5 844.75,-511.5 844.75,-511.5 844.75,-517.5 838.75,-523.5 832.75,-523.5\"/>\n",
       "<text text-anchor=\"start\" x=\"744.12\" y=\"-506.2\" font-family=\"Helvetica,sans-Serif\" font-size=\"14.00\">entropy = 0.0</text>\n",
       "<text text-anchor=\"start\" x=\"739.25\" y=\"-490.45\" font-family=\"Helvetica,sans-Serif\" font-size=\"14.00\">samples = 126</text>\n",
       "<text text-anchor=\"start\" x=\"737.38\" y=\"-474.7\" font-family=\"Helvetica,sans-Serif\" font-size=\"14.00\">value = [0, 126]</text>\n",
       "<text text-anchor=\"start\" x=\"731\" y=\"-458.95\" font-family=\"Helvetica,sans-Serif\" font-size=\"14.00\">class = Malignant</text>\n",
       "</g>\n",
       "<!-- 12&#45;&gt;26 -->\n",
       "<g id=\"edge26\" class=\"edge\">\n",
       "<title>12&#45;&gt;26</title>\n",
       "<path fill=\"none\" stroke=\"black\" d=\"M691.66,-562.77C704.54,-552.47 718.53,-541.28 731.63,-530.8\"/>\n",
       "<polygon fill=\"black\" stroke=\"black\" points=\"733.73,-533.6 739.35,-524.62 729.35,-528.13 733.73,-533.6\"/>\n",
       "</g>\n",
       "<!-- 14 -->\n",
       "<g id=\"node15\" class=\"node\">\n",
       "<title>14</title>\n",
       "<path fill=\"#efb184\" stroke=\"black\" d=\"M684.12,-413C684.12,-413 603.62,-413 603.62,-413 597.62,-413 591.62,-407 591.62,-401 591.62,-401 591.62,-347 591.62,-347 591.62,-341 597.62,-335 603.62,-335 603.62,-335 684.12,-335 684.12,-335 690.12,-335 696.12,-341 696.12,-347 696.12,-347 696.12,-401 696.12,-401 696.12,-407 690.12,-413 684.12,-413\"/>\n",
       "<text text-anchor=\"start\" x=\"609.38\" y=\"-396.7\" font-family=\"Helvetica,sans-Serif\" font-size=\"14.00\">x</text>\n",
       "<text text-anchor=\"start\" x=\"616.12\" y=\"-396.7\" font-family=\"Helvetica,sans-Serif\" baseline-shift=\"sub\" font-size=\"14.00\">21</text>\n",
       "<text text-anchor=\"start\" x=\"629.62\" y=\"-396.7\" font-family=\"Helvetica,sans-Serif\" font-size=\"14.00\"> ≤ 25.67</text>\n",
       "<text text-anchor=\"start\" x=\"600.38\" y=\"-382.7\" font-family=\"Helvetica,sans-Serif\" font-size=\"14.00\">entropy = 0.85</text>\n",
       "<text text-anchor=\"start\" x=\"603\" y=\"-368.7\" font-family=\"Helvetica,sans-Serif\" font-size=\"14.00\">samples = 29</text>\n",
       "<text text-anchor=\"start\" x=\"601.12\" y=\"-354.7\" font-family=\"Helvetica,sans-Serif\" font-size=\"14.00\">value = [21, 8]</text>\n",
       "<text text-anchor=\"start\" x=\"599.62\" y=\"-340.7\" font-family=\"Helvetica,sans-Serif\" font-size=\"14.00\">class = Benign</text>\n",
       "</g>\n",
       "<!-- 13&#45;&gt;14 -->\n",
       "<g id=\"edge14\" class=\"edge\">\n",
       "<title>13&#45;&gt;14</title>\n",
       "<path fill=\"none\" stroke=\"black\" d=\"M643.88,-448.77C643.88,-441.02 643.88,-432.76 643.88,-424.67\"/>\n",
       "<polygon fill=\"black\" stroke=\"black\" points=\"647.38,-424.95 643.88,-414.95 640.38,-424.95 647.38,-424.95\"/>\n",
       "</g>\n",
       "<!-- 23 -->\n",
       "<g id=\"node24\" class=\"node\">\n",
       "<title>23</title>\n",
       "<path fill=\"#41a1e6\" stroke=\"black\" d=\"M888.75,-413C888.75,-413 791,-413 791,-413 785,-413 779,-407 779,-401 779,-401 779,-347 779,-347 779,-341 785,-335 791,-335 791,-335 888.75,-335 888.75,-335 894.75,-335 900.75,-341 900.75,-347 900.75,-347 900.75,-401 900.75,-401 900.75,-407 894.75,-413 888.75,-413\"/>\n",
       "<text text-anchor=\"start\" x=\"805.38\" y=\"-396.7\" font-family=\"Helvetica,sans-Serif\" font-size=\"14.00\">x</text>\n",
       "<text text-anchor=\"start\" x=\"812.12\" y=\"-396.7\" font-family=\"Helvetica,sans-Serif\" baseline-shift=\"sub\" font-size=\"14.00\">12</text>\n",
       "<text text-anchor=\"start\" x=\"825.62\" y=\"-396.7\" font-family=\"Helvetica,sans-Serif\" font-size=\"14.00\"> ≤ 1.344</text>\n",
       "<text text-anchor=\"start\" x=\"792.62\" y=\"-382.7\" font-family=\"Helvetica,sans-Serif\" font-size=\"14.00\">entropy = 0.242</text>\n",
       "<text text-anchor=\"start\" x=\"799\" y=\"-368.7\" font-family=\"Helvetica,sans-Serif\" font-size=\"14.00\">samples = 25</text>\n",
       "<text text-anchor=\"start\" x=\"797.12\" y=\"-354.7\" font-family=\"Helvetica,sans-Serif\" font-size=\"14.00\">value = [1, 24]</text>\n",
       "<text text-anchor=\"start\" x=\"787\" y=\"-340.7\" font-family=\"Helvetica,sans-Serif\" font-size=\"14.00\">class = Malignant</text>\n",
       "</g>\n",
       "<!-- 13&#45;&gt;23 -->\n",
       "<g id=\"edge23\" class=\"edge\">\n",
       "<title>13&#45;&gt;23</title>\n",
       "<path fill=\"none\" stroke=\"black\" d=\"M705.08,-452.02C725.35,-440.44 748.07,-427.46 769,-415.5\"/>\n",
       "<polygon fill=\"black\" stroke=\"black\" points=\"770.53,-418.66 777.48,-410.65 767.06,-412.58 770.53,-418.66\"/>\n",
       "</g>\n",
       "<!-- 15 -->\n",
       "<g id=\"node16\" class=\"node\">\n",
       "<title>15</title>\n",
       "<path fill=\"#e58139\" stroke=\"black\" d=\"M618.12,-295.5C618.12,-295.5 537.62,-295.5 537.62,-295.5 531.62,-295.5 525.62,-289.5 525.62,-283.5 525.62,-283.5 525.62,-236.5 525.62,-236.5 525.62,-230.5 531.62,-224.5 537.62,-224.5 537.62,-224.5 618.12,-224.5 618.12,-224.5 624.12,-224.5 630.12,-230.5 630.12,-236.5 630.12,-236.5 630.12,-283.5 630.12,-283.5 630.12,-289.5 624.12,-295.5 618.12,-295.5\"/>\n",
       "<text text-anchor=\"start\" x=\"538.12\" y=\"-278.2\" font-family=\"Helvetica,sans-Serif\" font-size=\"14.00\">entropy = 0.0</text>\n",
       "<text text-anchor=\"start\" x=\"537\" y=\"-262.45\" font-family=\"Helvetica,sans-Serif\" font-size=\"14.00\">samples = 15</text>\n",
       "<text text-anchor=\"start\" x=\"535.12\" y=\"-246.7\" font-family=\"Helvetica,sans-Serif\" font-size=\"14.00\">value = [15, 0]</text>\n",
       "<text text-anchor=\"start\" x=\"533.62\" y=\"-230.95\" font-family=\"Helvetica,sans-Serif\" font-size=\"14.00\">class = Benign</text>\n",
       "</g>\n",
       "<!-- 14&#45;&gt;15 -->\n",
       "<g id=\"edge15\" class=\"edge\">\n",
       "<title>14&#45;&gt;15</title>\n",
       "<path fill=\"none\" stroke=\"black\" d=\"M621.35,-334.77C615.8,-325.36 609.82,-315.21 604.12,-305.53\"/>\n",
       "<polygon fill=\"black\" stroke=\"black\" points=\"607.17,-303.82 599.08,-296.98 601.14,-307.37 607.17,-303.82\"/>\n",
       "</g>\n",
       "<!-- 16 -->\n",
       "<g id=\"node17\" class=\"node\">\n",
       "<title>16</title>\n",
       "<path fill=\"#cee6f8\" stroke=\"black\" d=\"M757.75,-299C757.75,-299 660,-299 660,-299 654,-299 648,-293 648,-287 648,-287 648,-233 648,-233 648,-227 654,-221 660,-221 660,-221 757.75,-221 757.75,-221 763.75,-221 769.75,-227 769.75,-233 769.75,-233 769.75,-287 769.75,-287 769.75,-293 763.75,-299 757.75,-299\"/>\n",
       "<text text-anchor=\"start\" x=\"674.38\" y=\"-282.7\" font-family=\"Helvetica,sans-Serif\" font-size=\"14.00\">x</text>\n",
       "<text text-anchor=\"start\" x=\"681.12\" y=\"-282.7\" font-family=\"Helvetica,sans-Serif\" baseline-shift=\"sub\" font-size=\"14.00\">25</text>\n",
       "<text text-anchor=\"start\" x=\"694.62\" y=\"-282.7\" font-family=\"Helvetica,sans-Serif\" font-size=\"14.00\"> ≤ 0.237</text>\n",
       "<text text-anchor=\"start\" x=\"661.62\" y=\"-268.7\" font-family=\"Helvetica,sans-Serif\" font-size=\"14.00\">entropy = 0.985</text>\n",
       "<text text-anchor=\"start\" x=\"668\" y=\"-254.7\" font-family=\"Helvetica,sans-Serif\" font-size=\"14.00\">samples = 14</text>\n",
       "<text text-anchor=\"start\" x=\"669.88\" y=\"-240.7\" font-family=\"Helvetica,sans-Serif\" font-size=\"14.00\">value = [6, 8]</text>\n",
       "<text text-anchor=\"start\" x=\"656\" y=\"-226.7\" font-family=\"Helvetica,sans-Serif\" font-size=\"14.00\">class = Malignant</text>\n",
       "</g>\n",
       "<!-- 14&#45;&gt;16 -->\n",
       "<g id=\"edge16\" class=\"edge\">\n",
       "<title>14&#45;&gt;16</title>\n",
       "<path fill=\"none\" stroke=\"black\" d=\"M666.06,-334.77C670.82,-326.57 675.91,-317.81 680.85,-309.28\"/>\n",
       "<polygon fill=\"black\" stroke=\"black\" points=\"683.81,-311.15 685.81,-300.75 677.76,-307.64 683.81,-311.15\"/>\n",
       "</g>\n",
       "<!-- 17 -->\n",
       "<g id=\"node18\" class=\"node\">\n",
       "<title>17</title>\n",
       "<path fill=\"#55abe9\" stroke=\"black\" d=\"M691.75,-185C691.75,-185 594,-185 594,-185 588,-185 582,-179 582,-173 582,-173 582,-119 582,-119 582,-113 588,-107 594,-107 594,-107 691.75,-107 691.75,-107 697.75,-107 703.75,-113 703.75,-119 703.75,-119 703.75,-173 703.75,-173 703.75,-179 697.75,-185 691.75,-185\"/>\n",
       "<text text-anchor=\"start\" x=\"608\" y=\"-168.7\" font-family=\"Helvetica,sans-Serif\" font-size=\"14.00\">x</text>\n",
       "<text text-anchor=\"start\" x=\"614.75\" y=\"-168.7\" font-family=\"Helvetica,sans-Serif\" baseline-shift=\"sub\" font-size=\"14.00\">2</text>\n",
       "<text text-anchor=\"start\" x=\"621.5\" y=\"-168.7\" font-family=\"Helvetica,sans-Serif\" font-size=\"14.00\"> ≤ 106.05</text>\n",
       "<text text-anchor=\"start\" x=\"595.62\" y=\"-154.7\" font-family=\"Helvetica,sans-Serif\" font-size=\"14.00\">entropy = 0.544</text>\n",
       "<text text-anchor=\"start\" x=\"605.75\" y=\"-140.7\" font-family=\"Helvetica,sans-Serif\" font-size=\"14.00\">samples = 8</text>\n",
       "<text text-anchor=\"start\" x=\"603.88\" y=\"-126.7\" font-family=\"Helvetica,sans-Serif\" font-size=\"14.00\">value = [1, 7]</text>\n",
       "<text text-anchor=\"start\" x=\"590\" y=\"-112.7\" font-family=\"Helvetica,sans-Serif\" font-size=\"14.00\">class = Malignant</text>\n",
       "</g>\n",
       "<!-- 16&#45;&gt;17 -->\n",
       "<g id=\"edge17\" class=\"edge\">\n",
       "<title>16&#45;&gt;17</title>\n",
       "<path fill=\"none\" stroke=\"black\" d=\"M686.35,-220.77C681.51,-212.57 676.35,-203.81 671.33,-195.28\"/>\n",
       "<polygon fill=\"black\" stroke=\"black\" points=\"674.39,-193.58 666.29,-186.74 668.36,-197.14 674.39,-193.58\"/>\n",
       "</g>\n",
       "<!-- 20 -->\n",
       "<g id=\"node21\" class=\"node\">\n",
       "<title>20</title>\n",
       "<path fill=\"#ea9a61\" stroke=\"black\" d=\"M814.12,-185C814.12,-185 733.62,-185 733.62,-185 727.62,-185 721.62,-179 721.62,-173 721.62,-173 721.62,-119 721.62,-119 721.62,-113 727.62,-107 733.62,-107 733.62,-107 814.12,-107 814.12,-107 820.12,-107 826.12,-113 826.12,-119 826.12,-119 826.12,-173 826.12,-173 826.12,-179 820.12,-185 814.12,-185\"/>\n",
       "<text text-anchor=\"start\" x=\"739\" y=\"-168.7\" font-family=\"Helvetica,sans-Serif\" font-size=\"14.00\">x</text>\n",
       "<text text-anchor=\"start\" x=\"745.75\" y=\"-168.7\" font-family=\"Helvetica,sans-Serif\" baseline-shift=\"sub\" font-size=\"14.00\">2</text>\n",
       "<text text-anchor=\"start\" x=\"752.5\" y=\"-168.7\" font-family=\"Helvetica,sans-Serif\" font-size=\"14.00\"> ≤ 98.965</text>\n",
       "<text text-anchor=\"start\" x=\"730.38\" y=\"-154.7\" font-family=\"Helvetica,sans-Serif\" font-size=\"14.00\">entropy = 0.65</text>\n",
       "<text text-anchor=\"start\" x=\"736.75\" y=\"-140.7\" font-family=\"Helvetica,sans-Serif\" font-size=\"14.00\">samples = 6</text>\n",
       "<text text-anchor=\"start\" x=\"734.88\" y=\"-126.7\" font-family=\"Helvetica,sans-Serif\" font-size=\"14.00\">value = [5, 1]</text>\n",
       "<text text-anchor=\"start\" x=\"729.62\" y=\"-112.7\" font-family=\"Helvetica,sans-Serif\" font-size=\"14.00\">class = Benign</text>\n",
       "</g>\n",
       "<!-- 16&#45;&gt;20 -->\n",
       "<g id=\"edge20\" class=\"edge\">\n",
       "<title>16&#45;&gt;20</title>\n",
       "<path fill=\"none\" stroke=\"black\" d=\"M731.06,-220.77C735.82,-212.57 740.91,-203.81 745.85,-195.28\"/>\n",
       "<polygon fill=\"black\" stroke=\"black\" points=\"748.81,-197.15 750.81,-186.75 742.76,-193.64 748.81,-197.15\"/>\n",
       "</g>\n",
       "<!-- 18 -->\n",
       "<g id=\"node19\" class=\"node\">\n",
       "<title>18</title>\n",
       "<path fill=\"#399de5\" stroke=\"black\" d=\"M562.75,-71C562.75,-71 465,-71 465,-71 459,-71 453,-65 453,-59 453,-59 453,-12 453,-12 453,-6 459,0 465,0 465,0 562.75,0 562.75,0 568.75,0 574.75,-6 574.75,-12 574.75,-12 574.75,-59 574.75,-59 574.75,-65 568.75,-71 562.75,-71\"/>\n",
       "<text text-anchor=\"start\" x=\"474.12\" y=\"-53.7\" font-family=\"Helvetica,sans-Serif\" font-size=\"14.00\">entropy = 0.0</text>\n",
       "<text text-anchor=\"start\" x=\"476.75\" y=\"-37.95\" font-family=\"Helvetica,sans-Serif\" font-size=\"14.00\">samples = 7</text>\n",
       "<text text-anchor=\"start\" x=\"474.88\" y=\"-22.2\" font-family=\"Helvetica,sans-Serif\" font-size=\"14.00\">value = [0, 7]</text>\n",
       "<text text-anchor=\"start\" x=\"461\" y=\"-6.45\" font-family=\"Helvetica,sans-Serif\" font-size=\"14.00\">class = Malignant</text>\n",
       "</g>\n",
       "<!-- 17&#45;&gt;18 -->\n",
       "<g id=\"edge18\" class=\"edge\">\n",
       "<title>17&#45;&gt;18</title>\n",
       "<path fill=\"none\" stroke=\"black\" d=\"M597.39,-106.75C586.52,-97.6 574.85,-87.79 563.79,-78.48\"/>\n",
       "<polygon fill=\"black\" stroke=\"black\" points=\"566.14,-75.88 556.23,-72.12 561.63,-81.24 566.14,-75.88\"/>\n",
       "</g>\n",
       "<!-- 19 -->\n",
       "<g id=\"node20\" class=\"node\">\n",
       "<title>19</title>\n",
       "<path fill=\"#e58139\" stroke=\"black\" d=\"M685.12,-71C685.12,-71 604.62,-71 604.62,-71 598.62,-71 592.62,-65 592.62,-59 592.62,-59 592.62,-12 592.62,-12 592.62,-6 598.62,0 604.62,0 604.62,0 685.12,0 685.12,0 691.12,0 697.12,-6 697.12,-12 697.12,-12 697.12,-59 697.12,-59 697.12,-65 691.12,-71 685.12,-71\"/>\n",
       "<text text-anchor=\"start\" x=\"605.12\" y=\"-53.7\" font-family=\"Helvetica,sans-Serif\" font-size=\"14.00\">entropy = 0.0</text>\n",
       "<text text-anchor=\"start\" x=\"607.75\" y=\"-37.95\" font-family=\"Helvetica,sans-Serif\" font-size=\"14.00\">samples = 1</text>\n",
       "<text text-anchor=\"start\" x=\"605.88\" y=\"-22.2\" font-family=\"Helvetica,sans-Serif\" font-size=\"14.00\">value = [1, 0]</text>\n",
       "<text text-anchor=\"start\" x=\"600.62\" y=\"-6.45\" font-family=\"Helvetica,sans-Serif\" font-size=\"14.00\">class = Benign</text>\n",
       "</g>\n",
       "<!-- 17&#45;&gt;19 -->\n",
       "<g id=\"edge19\" class=\"edge\">\n",
       "<title>17&#45;&gt;19</title>\n",
       "<path fill=\"none\" stroke=\"black\" d=\"M643.58,-106.75C643.72,-98.96 643.88,-90.69 644.02,-82.66\"/>\n",
       "<polygon fill=\"black\" stroke=\"black\" points=\"647.52,-82.73 644.21,-72.66 640.52,-82.6 647.52,-82.73\"/>\n",
       "</g>\n",
       "<!-- 21 -->\n",
       "<g id=\"node22\" class=\"node\">\n",
       "<title>21</title>\n",
       "<path fill=\"#e58139\" stroke=\"black\" d=\"M812.12,-71C812.12,-71 731.62,-71 731.62,-71 725.62,-71 719.62,-65 719.62,-59 719.62,-59 719.62,-12 719.62,-12 719.62,-6 725.62,0 731.62,0 731.62,0 812.12,0 812.12,0 818.12,0 824.12,-6 824.12,-12 824.12,-12 824.12,-59 824.12,-59 824.12,-65 818.12,-71 812.12,-71\"/>\n",
       "<text text-anchor=\"start\" x=\"732.12\" y=\"-53.7\" font-family=\"Helvetica,sans-Serif\" font-size=\"14.00\">entropy = 0.0</text>\n",
       "<text text-anchor=\"start\" x=\"734.75\" y=\"-37.95\" font-family=\"Helvetica,sans-Serif\" font-size=\"14.00\">samples = 5</text>\n",
       "<text text-anchor=\"start\" x=\"732.88\" y=\"-22.2\" font-family=\"Helvetica,sans-Serif\" font-size=\"14.00\">value = [5, 0]</text>\n",
       "<text text-anchor=\"start\" x=\"727.62\" y=\"-6.45\" font-family=\"Helvetica,sans-Serif\" font-size=\"14.00\">class = Benign</text>\n",
       "</g>\n",
       "<!-- 20&#45;&gt;21 -->\n",
       "<g id=\"edge21\" class=\"edge\">\n",
       "<title>20&#45;&gt;21</title>\n",
       "<path fill=\"none\" stroke=\"black\" d=\"M773.17,-106.75C773.03,-98.96 772.87,-90.69 772.73,-82.66\"/>\n",
       "<polygon fill=\"black\" stroke=\"black\" points=\"776.23,-82.6 772.54,-72.66 769.23,-82.73 776.23,-82.6\"/>\n",
       "</g>\n",
       "<!-- 22 -->\n",
       "<g id=\"node23\" class=\"node\">\n",
       "<title>22</title>\n",
       "<path fill=\"#399de5\" stroke=\"black\" d=\"M951.75,-71C951.75,-71 854,-71 854,-71 848,-71 842,-65 842,-59 842,-59 842,-12 842,-12 842,-6 848,0 854,0 854,0 951.75,0 951.75,0 957.75,0 963.75,-6 963.75,-12 963.75,-12 963.75,-59 963.75,-59 963.75,-65 957.75,-71 951.75,-71\"/>\n",
       "<text text-anchor=\"start\" x=\"863.12\" y=\"-53.7\" font-family=\"Helvetica,sans-Serif\" font-size=\"14.00\">entropy = 0.0</text>\n",
       "<text text-anchor=\"start\" x=\"865.75\" y=\"-37.95\" font-family=\"Helvetica,sans-Serif\" font-size=\"14.00\">samples = 1</text>\n",
       "<text text-anchor=\"start\" x=\"863.88\" y=\"-22.2\" font-family=\"Helvetica,sans-Serif\" font-size=\"14.00\">value = [0, 1]</text>\n",
       "<text text-anchor=\"start\" x=\"850\" y=\"-6.45\" font-family=\"Helvetica,sans-Serif\" font-size=\"14.00\">class = Malignant</text>\n",
       "</g>\n",
       "<!-- 20&#45;&gt;22 -->\n",
       "<g id=\"edge22\" class=\"edge\">\n",
       "<title>20&#45;&gt;22</title>\n",
       "<path fill=\"none\" stroke=\"black\" d=\"M819.36,-106.75C830.23,-97.6 841.9,-87.79 852.96,-78.48\"/>\n",
       "<polygon fill=\"black\" stroke=\"black\" points=\"855.12,-81.24 860.52,-72.12 850.61,-75.88 855.12,-81.24\"/>\n",
       "</g>\n",
       "<!-- 24 -->\n",
       "<g id=\"node25\" class=\"node\">\n",
       "<title>24</title>\n",
       "<path fill=\"#e58139\" stroke=\"black\" d=\"M880.12,-295.5C880.12,-295.5 799.62,-295.5 799.62,-295.5 793.62,-295.5 787.62,-289.5 787.62,-283.5 787.62,-283.5 787.62,-236.5 787.62,-236.5 787.62,-230.5 793.62,-224.5 799.62,-224.5 799.62,-224.5 880.12,-224.5 880.12,-224.5 886.12,-224.5 892.12,-230.5 892.12,-236.5 892.12,-236.5 892.12,-283.5 892.12,-283.5 892.12,-289.5 886.12,-295.5 880.12,-295.5\"/>\n",
       "<text text-anchor=\"start\" x=\"800.12\" y=\"-278.2\" font-family=\"Helvetica,sans-Serif\" font-size=\"14.00\">entropy = 0.0</text>\n",
       "<text text-anchor=\"start\" x=\"802.75\" y=\"-262.45\" font-family=\"Helvetica,sans-Serif\" font-size=\"14.00\">samples = 1</text>\n",
       "<text text-anchor=\"start\" x=\"800.88\" y=\"-246.7\" font-family=\"Helvetica,sans-Serif\" font-size=\"14.00\">value = [1, 0]</text>\n",
       "<text text-anchor=\"start\" x=\"795.62\" y=\"-230.95\" font-family=\"Helvetica,sans-Serif\" font-size=\"14.00\">class = Benign</text>\n",
       "</g>\n",
       "<!-- 23&#45;&gt;24 -->\n",
       "<g id=\"edge24\" class=\"edge\">\n",
       "<title>23&#45;&gt;24</title>\n",
       "<path fill=\"none\" stroke=\"black\" d=\"M839.88,-334.77C839.88,-325.86 839.88,-316.28 839.88,-307.07\"/>\n",
       "<polygon fill=\"black\" stroke=\"black\" points=\"843.38,-307.19 839.88,-297.19 836.38,-307.19 843.38,-307.19\"/>\n",
       "</g>\n",
       "<!-- 25 -->\n",
       "<g id=\"node26\" class=\"node\">\n",
       "<title>25</title>\n",
       "<path fill=\"#399de5\" stroke=\"black\" d=\"M1019.75,-295.5C1019.75,-295.5 922,-295.5 922,-295.5 916,-295.5 910,-289.5 910,-283.5 910,-283.5 910,-236.5 910,-236.5 910,-230.5 916,-224.5 922,-224.5 922,-224.5 1019.75,-224.5 1019.75,-224.5 1025.75,-224.5 1031.75,-230.5 1031.75,-236.5 1031.75,-236.5 1031.75,-283.5 1031.75,-283.5 1031.75,-289.5 1025.75,-295.5 1019.75,-295.5\"/>\n",
       "<text text-anchor=\"start\" x=\"931.12\" y=\"-278.2\" font-family=\"Helvetica,sans-Serif\" font-size=\"14.00\">entropy = 0.0</text>\n",
       "<text text-anchor=\"start\" x=\"930\" y=\"-262.45\" font-family=\"Helvetica,sans-Serif\" font-size=\"14.00\">samples = 24</text>\n",
       "<text text-anchor=\"start\" x=\"928.12\" y=\"-246.7\" font-family=\"Helvetica,sans-Serif\" font-size=\"14.00\">value = [0, 24]</text>\n",
       "<text text-anchor=\"start\" x=\"918\" y=\"-230.95\" font-family=\"Helvetica,sans-Serif\" font-size=\"14.00\">class = Malignant</text>\n",
       "</g>\n",
       "<!-- 23&#45;&gt;25 -->\n",
       "<g id=\"edge25\" class=\"edge\">\n",
       "<title>23&#45;&gt;25</title>\n",
       "<path fill=\"none\" stroke=\"black\" d=\"M884.59,-334.77C896.52,-324.57 909.47,-313.49 921.63,-303.1\"/>\n",
       "<polygon fill=\"black\" stroke=\"black\" points=\"923.84,-305.82 929.17,-296.66 919.29,-300.5 923.84,-305.82\"/>\n",
       "</g>\n",
       "</g>\n",
       "</svg>\n"
      ],
      "text/plain": [
       "<graphviz.sources.Source at 0x18d02558490>"
      ]
     },
     "metadata": {},
     "output_type": "display_data"
    },
    {
     "name": "stdout",
     "output_type": "stream",
     "text": [
      "Decision tree classifier for train/test split 80:20 with max depth of 6 built, visualized, and saved.\n"
     ]
    },
    {
     "data": {
      "image/svg+xml": [
       "<?xml version=\"1.0\" encoding=\"UTF-8\" standalone=\"no\"?>\n",
       "<!DOCTYPE svg PUBLIC \"-//W3C//DTD SVG 1.1//EN\"\n",
       " \"http://www.w3.org/Graphics/SVG/1.1/DTD/svg11.dtd\">\n",
       "<!-- Generated by graphviz version 12.1.0 (20240811.2233)\n",
       " -->\n",
       "<!-- Title: Tree Pages: 1 -->\n",
       "<svg width=\"1040pt\" height=\"763pt\"\n",
       " viewBox=\"0.00 0.00 1039.75 763.00\" xmlns=\"http://www.w3.org/2000/svg\" xmlns:xlink=\"http://www.w3.org/1999/xlink\">\n",
       "<g id=\"graph0\" class=\"graph\" transform=\"scale(1 1) rotate(0) translate(4 759)\">\n",
       "<title>Tree</title>\n",
       "<polygon fill=\"white\" stroke=\"none\" points=\"-4,4 -4,-759 1035.75,-759 1035.75,4 -4,4\"/>\n",
       "<!-- 0 -->\n",
       "<g id=\"node1\" class=\"node\">\n",
       "<title>0</title>\n",
       "<path fill=\"#f5ccaf\" stroke=\"black\" d=\"M626.88,-755C626.88,-755 526.88,-755 526.88,-755 520.88,-755 514.88,-749 514.88,-743 514.88,-743 514.88,-689 514.88,-689 514.88,-683 520.88,-677 526.88,-677 526.88,-677 626.88,-677 626.88,-677 632.88,-677 638.88,-683 638.88,-689 638.88,-689 638.88,-743 638.88,-743 638.88,-749 632.88,-755 626.88,-755\"/>\n",
       "<text text-anchor=\"start\" x=\"542.38\" y=\"-738.7\" font-family=\"Helvetica,sans-Serif\" font-size=\"14.00\">x</text>\n",
       "<text text-anchor=\"start\" x=\"549.12\" y=\"-738.7\" font-family=\"Helvetica,sans-Serif\" baseline-shift=\"sub\" font-size=\"14.00\">22</text>\n",
       "<text text-anchor=\"start\" x=\"562.62\" y=\"-738.7\" font-family=\"Helvetica,sans-Serif\" font-size=\"14.00\"> ≤ 106.1</text>\n",
       "<text text-anchor=\"start\" x=\"529.62\" y=\"-724.7\" font-family=\"Helvetica,sans-Serif\" font-size=\"14.00\">entropy = 0.953</text>\n",
       "<text text-anchor=\"start\" x=\"532.25\" y=\"-710.7\" font-family=\"Helvetica,sans-Serif\" font-size=\"14.00\">samples = 455</text>\n",
       "<text text-anchor=\"start\" x=\"522.88\" y=\"-696.7\" font-family=\"Helvetica,sans-Serif\" font-size=\"14.00\">value = [285, 170]</text>\n",
       "<text text-anchor=\"start\" x=\"532.62\" y=\"-682.7\" font-family=\"Helvetica,sans-Serif\" font-size=\"14.00\">class = Benign</text>\n",
       "</g>\n",
       "<!-- 1 -->\n",
       "<g id=\"node2\" class=\"node\">\n",
       "<title>1</title>\n",
       "<path fill=\"#e68742\" stroke=\"black\" d=\"M442.38,-641C442.38,-641 327.38,-641 327.38,-641 321.38,-641 315.38,-635 315.38,-629 315.38,-629 315.38,-575 315.38,-575 315.38,-569 321.38,-563 327.38,-563 327.38,-563 442.38,-563 442.38,-563 448.38,-563 454.38,-569 454.38,-575 454.38,-575 454.38,-629 454.38,-629 454.38,-635 448.38,-641 442.38,-641\"/>\n",
       "<text text-anchor=\"start\" x=\"350.38\" y=\"-624.7\" font-family=\"Helvetica,sans-Serif\" font-size=\"14.00\">x</text>\n",
       "<text text-anchor=\"start\" x=\"357.12\" y=\"-624.7\" font-family=\"Helvetica,sans-Serif\" baseline-shift=\"sub\" font-size=\"14.00\">26</text>\n",
       "<text text-anchor=\"start\" x=\"370.62\" y=\"-624.7\" font-family=\"Helvetica,sans-Serif\" font-size=\"14.00\"> ≤ 0.369</text>\n",
       "<text text-anchor=\"start\" x=\"337.62\" y=\"-610.7\" font-family=\"Helvetica,sans-Serif\" font-size=\"14.00\">entropy = 0.259</text>\n",
       "<text text-anchor=\"start\" x=\"340.25\" y=\"-596.7\" font-family=\"Helvetica,sans-Serif\" font-size=\"14.00\">samples = 275</text>\n",
       "<text text-anchor=\"start\" x=\"323.38\" y=\"-582.7\" font-family=\"Helvetica,sans-Serif\" font-size=\"14.00\">value = [263.0, 12.0]</text>\n",
       "<text text-anchor=\"start\" x=\"340.62\" y=\"-568.7\" font-family=\"Helvetica,sans-Serif\" font-size=\"14.00\">class = Benign</text>\n",
       "</g>\n",
       "<!-- 0&#45;&gt;1 -->\n",
       "<g id=\"edge1\" class=\"edge\">\n",
       "<title>0&#45;&gt;1</title>\n",
       "<path fill=\"none\" stroke=\"black\" d=\"M514.54,-678.64C497.35,-668.61 478.52,-657.63 460.67,-647.21\"/>\n",
       "<polygon fill=\"black\" stroke=\"black\" points=\"462.57,-644.27 452.17,-642.26 459.05,-650.32 462.57,-644.27\"/>\n",
       "<text text-anchor=\"middle\" x=\"457.23\" y=\"-660.25\" font-family=\"Helvetica,sans-Serif\" font-size=\"14.00\">True</text>\n",
       "</g>\n",
       "<!-- 12 -->\n",
       "<g id=\"node13\" class=\"node\">\n",
       "<title>12</title>\n",
       "<path fill=\"#55abe9\" stroke=\"black\" d=\"M692.75,-641C692.75,-641 595,-641 595,-641 589,-641 583,-635 583,-629 583,-629 583,-575 583,-575 583,-569 589,-563 595,-563 595,-563 692.75,-563 692.75,-563 698.75,-563 704.75,-569 704.75,-575 704.75,-575 704.75,-629 704.75,-629 704.75,-635 698.75,-641 692.75,-641\"/>\n",
       "<text text-anchor=\"start\" x=\"605.62\" y=\"-624.7\" font-family=\"Helvetica,sans-Serif\" font-size=\"14.00\">x</text>\n",
       "<text text-anchor=\"start\" x=\"612.38\" y=\"-624.7\" font-family=\"Helvetica,sans-Serif\" baseline-shift=\"sub\" font-size=\"14.00\">22</text>\n",
       "<text text-anchor=\"start\" x=\"625.88\" y=\"-624.7\" font-family=\"Helvetica,sans-Serif\" font-size=\"14.00\"> ≤ 120.35</text>\n",
       "<text text-anchor=\"start\" x=\"596.62\" y=\"-610.7\" font-family=\"Helvetica,sans-Serif\" font-size=\"14.00\">entropy = 0.536</text>\n",
       "<text text-anchor=\"start\" x=\"599.25\" y=\"-596.7\" font-family=\"Helvetica,sans-Serif\" font-size=\"14.00\">samples = 180</text>\n",
       "<text text-anchor=\"start\" x=\"593.62\" y=\"-582.7\" font-family=\"Helvetica,sans-Serif\" font-size=\"14.00\">value = [22, 158]</text>\n",
       "<text text-anchor=\"start\" x=\"591\" y=\"-568.7\" font-family=\"Helvetica,sans-Serif\" font-size=\"14.00\">class = Malignant</text>\n",
       "</g>\n",
       "<!-- 0&#45;&gt;12 -->\n",
       "<g id=\"edge12\" class=\"edge\">\n",
       "<title>0&#45;&gt;12</title>\n",
       "<path fill=\"none\" stroke=\"black\" d=\"M599.75,-676.77C604.65,-668.57 609.89,-659.81 614.99,-651.28\"/>\n",
       "<polygon fill=\"black\" stroke=\"black\" points=\"617.97,-653.12 620.1,-642.74 611.97,-649.52 617.97,-653.12\"/>\n",
       "<text text-anchor=\"middle\" x=\"626.98\" y=\"-660.26\" font-family=\"Helvetica,sans-Serif\" font-size=\"14.00\">False</text>\n",
       "</g>\n",
       "<!-- 2 -->\n",
       "<g id=\"node3\" class=\"node\">\n",
       "<title>2</title>\n",
       "<path fill=\"#e5813a\" stroke=\"black\" d=\"M233.12,-527C233.12,-527 146.62,-527 146.62,-527 140.62,-527 134.62,-521 134.62,-515 134.62,-515 134.62,-461 134.62,-461 134.62,-455 140.62,-449 146.62,-449 146.62,-449 233.12,-449 233.12,-449 239.12,-449 245.12,-455 245.12,-461 245.12,-461 245.12,-515 245.12,-515 245.12,-521 239.12,-527 233.12,-527\"/>\n",
       "<text text-anchor=\"start\" x=\"155.38\" y=\"-510.7\" font-family=\"Helvetica,sans-Serif\" font-size=\"14.00\">x</text>\n",
       "<text text-anchor=\"start\" x=\"162.12\" y=\"-510.7\" font-family=\"Helvetica,sans-Serif\" baseline-shift=\"sub\" font-size=\"14.00\">21</text>\n",
       "<text text-anchor=\"start\" x=\"175.62\" y=\"-510.7\" font-family=\"Helvetica,sans-Serif\" font-size=\"14.00\"> ≤ 33.35</text>\n",
       "<text text-anchor=\"start\" x=\"142.62\" y=\"-496.7\" font-family=\"Helvetica,sans-Serif\" font-size=\"14.00\">entropy = 0.037</text>\n",
       "<text text-anchor=\"start\" x=\"145.25\" y=\"-482.7\" font-family=\"Helvetica,sans-Serif\" font-size=\"14.00\">samples = 255</text>\n",
       "<text text-anchor=\"start\" x=\"143.38\" y=\"-468.7\" font-family=\"Helvetica,sans-Serif\" font-size=\"14.00\">value = [254, 1]</text>\n",
       "<text text-anchor=\"start\" x=\"145.62\" y=\"-454.7\" font-family=\"Helvetica,sans-Serif\" font-size=\"14.00\">class = Benign</text>\n",
       "</g>\n",
       "<!-- 1&#45;&gt;2 -->\n",
       "<g id=\"edge2\" class=\"edge\">\n",
       "<title>1&#45;&gt;2</title>\n",
       "<path fill=\"none\" stroke=\"black\" d=\"M318.04,-562.61C297.76,-550.97 275.52,-538.19 255.33,-526.6\"/>\n",
       "<polygon fill=\"black\" stroke=\"black\" points=\"257.34,-523.71 246.92,-521.76 253.85,-529.78 257.34,-523.71\"/>\n",
       "</g>\n",
       "<!-- 7 -->\n",
       "<g id=\"node8\" class=\"node\">\n",
       "<title>7</title>\n",
       "<path fill=\"#dbedfa\" stroke=\"black\" d=\"M433.75,-527C433.75,-527 336,-527 336,-527 330,-527 324,-521 324,-515 324,-515 324,-461 324,-461 324,-455 330,-449 336,-449 336,-449 433.75,-449 433.75,-449 439.75,-449 445.75,-455 445.75,-461 445.75,-461 445.75,-515 445.75,-515 445.75,-521 439.75,-527 433.75,-527\"/>\n",
       "<text text-anchor=\"start\" x=\"353.75\" y=\"-510.7\" font-family=\"Helvetica,sans-Serif\" font-size=\"14.00\">x</text>\n",
       "<text text-anchor=\"start\" x=\"360.5\" y=\"-510.7\" font-family=\"Helvetica,sans-Serif\" baseline-shift=\"sub\" font-size=\"14.00\">4</text>\n",
       "<text text-anchor=\"start\" x=\"367.25\" y=\"-510.7\" font-family=\"Helvetica,sans-Serif\" font-size=\"14.00\"> ≤ 0.096</text>\n",
       "<text text-anchor=\"start\" x=\"337.62\" y=\"-496.7\" font-family=\"Helvetica,sans-Serif\" font-size=\"14.00\">entropy = 0.993</text>\n",
       "<text text-anchor=\"start\" x=\"344\" y=\"-482.7\" font-family=\"Helvetica,sans-Serif\" font-size=\"14.00\">samples = 20</text>\n",
       "<text text-anchor=\"start\" x=\"342.5\" y=\"-468.7\" font-family=\"Helvetica,sans-Serif\" font-size=\"14.00\">value = [9, 11]</text>\n",
       "<text text-anchor=\"start\" x=\"332\" y=\"-454.7\" font-family=\"Helvetica,sans-Serif\" font-size=\"14.00\">class = Malignant</text>\n",
       "</g>\n",
       "<!-- 1&#45;&gt;7 -->\n",
       "<g id=\"edge7\" class=\"edge\">\n",
       "<title>1&#45;&gt;7</title>\n",
       "<path fill=\"none\" stroke=\"black\" d=\"M384.88,-562.77C384.88,-555.02 384.88,-546.76 384.88,-538.67\"/>\n",
       "<polygon fill=\"black\" stroke=\"black\" points=\"388.38,-538.95 384.88,-528.95 381.38,-538.95 388.38,-538.95\"/>\n",
       "</g>\n",
       "<!-- 3 -->\n",
       "<g id=\"node4\" class=\"node\">\n",
       "<title>3</title>\n",
       "<path fill=\"#e58139\" stroke=\"black\" d=\"M104.38,-409.5C104.38,-409.5 19.38,-409.5 19.38,-409.5 13.38,-409.5 7.38,-403.5 7.38,-397.5 7.38,-397.5 7.38,-350.5 7.38,-350.5 7.38,-344.5 13.38,-338.5 19.38,-338.5 19.38,-338.5 104.38,-338.5 104.38,-338.5 110.38,-338.5 116.38,-344.5 116.38,-350.5 116.38,-350.5 116.38,-397.5 116.38,-397.5 116.38,-403.5 110.38,-409.5 104.38,-409.5\"/>\n",
       "<text text-anchor=\"start\" x=\"22.12\" y=\"-392.2\" font-family=\"Helvetica,sans-Serif\" font-size=\"14.00\">entropy = 0.0</text>\n",
       "<text text-anchor=\"start\" x=\"17.25\" y=\"-376.45\" font-family=\"Helvetica,sans-Serif\" font-size=\"14.00\">samples = 236</text>\n",
       "<text text-anchor=\"start\" x=\"15.38\" y=\"-360.7\" font-family=\"Helvetica,sans-Serif\" font-size=\"14.00\">value = [236, 0]</text>\n",
       "<text text-anchor=\"start\" x=\"17.62\" y=\"-344.95\" font-family=\"Helvetica,sans-Serif\" font-size=\"14.00\">class = Benign</text>\n",
       "</g>\n",
       "<!-- 2&#45;&gt;3 -->\n",
       "<g id=\"edge3\" class=\"edge\">\n",
       "<title>2&#45;&gt;3</title>\n",
       "<path fill=\"none\" stroke=\"black\" d=\"M146.18,-448.77C134.53,-438.57 121.87,-427.49 109.99,-417.1\"/>\n",
       "<polygon fill=\"black\" stroke=\"black\" points=\"112.47,-414.62 102.64,-410.67 107.86,-419.89 112.47,-414.62\"/>\n",
       "</g>\n",
       "<!-- 4 -->\n",
       "<g id=\"node5\" class=\"node\">\n",
       "<title>4</title>\n",
       "<path fill=\"#e68844\" stroke=\"black\" d=\"M233.12,-413C233.12,-413 146.62,-413 146.62,-413 140.62,-413 134.62,-407 134.62,-401 134.62,-401 134.62,-347 134.62,-347 134.62,-341 140.62,-335 146.62,-335 146.62,-335 233.12,-335 233.12,-335 239.12,-335 245.12,-341 245.12,-347 245.12,-347 245.12,-401 245.12,-401 245.12,-407 239.12,-413 233.12,-413\"/>\n",
       "<text text-anchor=\"start\" x=\"155.38\" y=\"-396.7\" font-family=\"Helvetica,sans-Serif\" font-size=\"14.00\">x</text>\n",
       "<text text-anchor=\"start\" x=\"162.12\" y=\"-396.7\" font-family=\"Helvetica,sans-Serif\" baseline-shift=\"sub\" font-size=\"14.00\">21</text>\n",
       "<text text-anchor=\"start\" x=\"175.62\" y=\"-396.7\" font-family=\"Helvetica,sans-Serif\" font-size=\"14.00\"> ≤ 33.56</text>\n",
       "<text text-anchor=\"start\" x=\"142.62\" y=\"-382.7\" font-family=\"Helvetica,sans-Serif\" font-size=\"14.00\">entropy = 0.297</text>\n",
       "<text text-anchor=\"start\" x=\"149\" y=\"-368.7\" font-family=\"Helvetica,sans-Serif\" font-size=\"14.00\">samples = 19</text>\n",
       "<text text-anchor=\"start\" x=\"147.12\" y=\"-354.7\" font-family=\"Helvetica,sans-Serif\" font-size=\"14.00\">value = [18, 1]</text>\n",
       "<text text-anchor=\"start\" x=\"145.62\" y=\"-340.7\" font-family=\"Helvetica,sans-Serif\" font-size=\"14.00\">class = Benign</text>\n",
       "</g>\n",
       "<!-- 2&#45;&gt;4 -->\n",
       "<g id=\"edge4\" class=\"edge\">\n",
       "<title>2&#45;&gt;4</title>\n",
       "<path fill=\"none\" stroke=\"black\" d=\"M189.88,-448.77C189.88,-441.02 189.88,-432.76 189.88,-424.67\"/>\n",
       "<polygon fill=\"black\" stroke=\"black\" points=\"193.38,-424.95 189.88,-414.95 186.38,-424.95 193.38,-424.95\"/>\n",
       "</g>\n",
       "<!-- 5 -->\n",
       "<g id=\"node6\" class=\"node\">\n",
       "<title>5</title>\n",
       "<path fill=\"#399de5\" stroke=\"black\" d=\"M109.75,-295.5C109.75,-295.5 12,-295.5 12,-295.5 6,-295.5 0,-289.5 0,-283.5 0,-283.5 0,-236.5 0,-236.5 0,-230.5 6,-224.5 12,-224.5 12,-224.5 109.75,-224.5 109.75,-224.5 115.75,-224.5 121.75,-230.5 121.75,-236.5 121.75,-236.5 121.75,-283.5 121.75,-283.5 121.75,-289.5 115.75,-295.5 109.75,-295.5\"/>\n",
       "<text text-anchor=\"start\" x=\"21.12\" y=\"-278.2\" font-family=\"Helvetica,sans-Serif\" font-size=\"14.00\">entropy = 0.0</text>\n",
       "<text text-anchor=\"start\" x=\"23.75\" y=\"-262.45\" font-family=\"Helvetica,sans-Serif\" font-size=\"14.00\">samples = 1</text>\n",
       "<text text-anchor=\"start\" x=\"21.88\" y=\"-246.7\" font-family=\"Helvetica,sans-Serif\" font-size=\"14.00\">value = [0, 1]</text>\n",
       "<text text-anchor=\"start\" x=\"8\" y=\"-230.95\" font-family=\"Helvetica,sans-Serif\" font-size=\"14.00\">class = Malignant</text>\n",
       "</g>\n",
       "<!-- 4&#45;&gt;5 -->\n",
       "<g id=\"edge5\" class=\"edge\">\n",
       "<title>4&#45;&gt;5</title>\n",
       "<path fill=\"none\" stroke=\"black\" d=\"M145.84,-334.77C134.09,-324.57 121.34,-313.49 109.37,-303.1\"/>\n",
       "<polygon fill=\"black\" stroke=\"black\" points=\"111.8,-300.58 101.96,-296.67 107.21,-305.87 111.8,-300.58\"/>\n",
       "</g>\n",
       "<!-- 6 -->\n",
       "<g id=\"node7\" class=\"node\">\n",
       "<title>6</title>\n",
       "<path fill=\"#e58139\" stroke=\"black\" d=\"M232.12,-295.5C232.12,-295.5 151.62,-295.5 151.62,-295.5 145.62,-295.5 139.62,-289.5 139.62,-283.5 139.62,-283.5 139.62,-236.5 139.62,-236.5 139.62,-230.5 145.62,-224.5 151.62,-224.5 151.62,-224.5 232.12,-224.5 232.12,-224.5 238.12,-224.5 244.12,-230.5 244.12,-236.5 244.12,-236.5 244.12,-283.5 244.12,-283.5 244.12,-289.5 238.12,-295.5 232.12,-295.5\"/>\n",
       "<text text-anchor=\"start\" x=\"152.12\" y=\"-278.2\" font-family=\"Helvetica,sans-Serif\" font-size=\"14.00\">entropy = 0.0</text>\n",
       "<text text-anchor=\"start\" x=\"151\" y=\"-262.45\" font-family=\"Helvetica,sans-Serif\" font-size=\"14.00\">samples = 18</text>\n",
       "<text text-anchor=\"start\" x=\"149.12\" y=\"-246.7\" font-family=\"Helvetica,sans-Serif\" font-size=\"14.00\">value = [18, 0]</text>\n",
       "<text text-anchor=\"start\" x=\"147.62\" y=\"-230.95\" font-family=\"Helvetica,sans-Serif\" font-size=\"14.00\">class = Benign</text>\n",
       "</g>\n",
       "<!-- 4&#45;&gt;6 -->\n",
       "<g id=\"edge6\" class=\"edge\">\n",
       "<title>4&#45;&gt;6</title>\n",
       "<path fill=\"none\" stroke=\"black\" d=\"M190.56,-334.77C190.72,-325.86 190.89,-316.28 191.05,-307.07\"/>\n",
       "<polygon fill=\"black\" stroke=\"black\" points=\"194.55,-307.25 191.23,-297.19 187.55,-307.12 194.55,-307.25\"/>\n",
       "</g>\n",
       "<!-- 8 -->\n",
       "<g id=\"node9\" class=\"node\">\n",
       "<title>8</title>\n",
       "<path fill=\"#e58139\" stroke=\"black\" d=\"M356.12,-409.5C356.12,-409.5 275.62,-409.5 275.62,-409.5 269.62,-409.5 263.62,-403.5 263.62,-397.5 263.62,-397.5 263.62,-350.5 263.62,-350.5 263.62,-344.5 269.62,-338.5 275.62,-338.5 275.62,-338.5 356.12,-338.5 356.12,-338.5 362.12,-338.5 368.12,-344.5 368.12,-350.5 368.12,-350.5 368.12,-397.5 368.12,-397.5 368.12,-403.5 362.12,-409.5 356.12,-409.5\"/>\n",
       "<text text-anchor=\"start\" x=\"276.12\" y=\"-392.2\" font-family=\"Helvetica,sans-Serif\" font-size=\"14.00\">entropy = 0.0</text>\n",
       "<text text-anchor=\"start\" x=\"278.75\" y=\"-376.45\" font-family=\"Helvetica,sans-Serif\" font-size=\"14.00\">samples = 7</text>\n",
       "<text text-anchor=\"start\" x=\"276.88\" y=\"-360.7\" font-family=\"Helvetica,sans-Serif\" font-size=\"14.00\">value = [7, 0]</text>\n",
       "<text text-anchor=\"start\" x=\"271.62\" y=\"-344.95\" font-family=\"Helvetica,sans-Serif\" font-size=\"14.00\">class = Benign</text>\n",
       "</g>\n",
       "<!-- 7&#45;&gt;8 -->\n",
       "<g id=\"edge8\" class=\"edge\">\n",
       "<title>7&#45;&gt;8</title>\n",
       "<path fill=\"none\" stroke=\"black\" d=\"M361.32,-448.77C355.47,-439.26 349.14,-429 343.12,-419.23\"/>\n",
       "<polygon fill=\"black\" stroke=\"black\" points=\"346.26,-417.64 338.03,-410.96 340.3,-421.31 346.26,-417.64\"/>\n",
       "</g>\n",
       "<!-- 9 -->\n",
       "<g id=\"node10\" class=\"node\">\n",
       "<title>9</title>\n",
       "<path fill=\"#5dafea\" stroke=\"black\" d=\"M495.75,-413C495.75,-413 398,-413 398,-413 392,-413 386,-407 386,-401 386,-401 386,-347 386,-347 386,-341 392,-335 398,-335 398,-335 495.75,-335 495.75,-335 501.75,-335 507.75,-341 507.75,-347 507.75,-347 507.75,-401 507.75,-401 507.75,-407 501.75,-413 495.75,-413\"/>\n",
       "<text text-anchor=\"start\" x=\"408.62\" y=\"-396.7\" font-family=\"Helvetica,sans-Serif\" font-size=\"14.00\">x</text>\n",
       "<text text-anchor=\"start\" x=\"415.38\" y=\"-396.7\" font-family=\"Helvetica,sans-Serif\" baseline-shift=\"sub\" font-size=\"14.00\">21</text>\n",
       "<text text-anchor=\"start\" x=\"428.88\" y=\"-396.7\" font-family=\"Helvetica,sans-Serif\" font-size=\"14.00\"> ≤ 24.785</text>\n",
       "<text text-anchor=\"start\" x=\"399.62\" y=\"-382.7\" font-family=\"Helvetica,sans-Serif\" font-size=\"14.00\">entropy = 0.619</text>\n",
       "<text text-anchor=\"start\" x=\"406\" y=\"-368.7\" font-family=\"Helvetica,sans-Serif\" font-size=\"14.00\">samples = 13</text>\n",
       "<text text-anchor=\"start\" x=\"404.5\" y=\"-354.7\" font-family=\"Helvetica,sans-Serif\" font-size=\"14.00\">value = [2, 11]</text>\n",
       "<text text-anchor=\"start\" x=\"394\" y=\"-340.7\" font-family=\"Helvetica,sans-Serif\" font-size=\"14.00\">class = Malignant</text>\n",
       "</g>\n",
       "<!-- 7&#45;&gt;9 -->\n",
       "<g id=\"edge9\" class=\"edge\">\n",
       "<title>7&#45;&gt;9</title>\n",
       "<path fill=\"none\" stroke=\"black\" d=\"M406.04,-448.77C410.58,-440.57 415.43,-431.81 420.15,-423.28\"/>\n",
       "<polygon fill=\"black\" stroke=\"black\" points=\"423.08,-425.21 424.86,-414.76 416.96,-421.82 423.08,-425.21\"/>\n",
       "</g>\n",
       "<!-- 10 -->\n",
       "<g id=\"node11\" class=\"node\">\n",
       "<title>10</title>\n",
       "<path fill=\"#e58139\" stroke=\"black\" d=\"M356.12,-295.5C356.12,-295.5 275.62,-295.5 275.62,-295.5 269.62,-295.5 263.62,-289.5 263.62,-283.5 263.62,-283.5 263.62,-236.5 263.62,-236.5 263.62,-230.5 269.62,-224.5 275.62,-224.5 275.62,-224.5 356.12,-224.5 356.12,-224.5 362.12,-224.5 368.12,-230.5 368.12,-236.5 368.12,-236.5 368.12,-283.5 368.12,-283.5 368.12,-289.5 362.12,-295.5 356.12,-295.5\"/>\n",
       "<text text-anchor=\"start\" x=\"276.12\" y=\"-278.2\" font-family=\"Helvetica,sans-Serif\" font-size=\"14.00\">entropy = 0.0</text>\n",
       "<text text-anchor=\"start\" x=\"278.75\" y=\"-262.45\" font-family=\"Helvetica,sans-Serif\" font-size=\"14.00\">samples = 2</text>\n",
       "<text text-anchor=\"start\" x=\"276.88\" y=\"-246.7\" font-family=\"Helvetica,sans-Serif\" font-size=\"14.00\">value = [2, 0]</text>\n",
       "<text text-anchor=\"start\" x=\"271.62\" y=\"-230.95\" font-family=\"Helvetica,sans-Serif\" font-size=\"14.00\">class = Benign</text>\n",
       "</g>\n",
       "<!-- 9&#45;&gt;10 -->\n",
       "<g id=\"edge10\" class=\"edge\">\n",
       "<title>9&#45;&gt;10</title>\n",
       "<path fill=\"none\" stroke=\"black\" d=\"M402.16,-334.77C390.23,-324.57 377.28,-313.49 365.12,-303.1\"/>\n",
       "<polygon fill=\"black\" stroke=\"black\" points=\"367.46,-300.5 357.58,-296.66 362.91,-305.82 367.46,-300.5\"/>\n",
       "</g>\n",
       "<!-- 11 -->\n",
       "<g id=\"node12\" class=\"node\">\n",
       "<title>11</title>\n",
       "<path fill=\"#399de5\" stroke=\"black\" d=\"M495.75,-295.5C495.75,-295.5 398,-295.5 398,-295.5 392,-295.5 386,-289.5 386,-283.5 386,-283.5 386,-236.5 386,-236.5 386,-230.5 392,-224.5 398,-224.5 398,-224.5 495.75,-224.5 495.75,-224.5 501.75,-224.5 507.75,-230.5 507.75,-236.5 507.75,-236.5 507.75,-283.5 507.75,-283.5 507.75,-289.5 501.75,-295.5 495.75,-295.5\"/>\n",
       "<text text-anchor=\"start\" x=\"407.12\" y=\"-278.2\" font-family=\"Helvetica,sans-Serif\" font-size=\"14.00\">entropy = 0.0</text>\n",
       "<text text-anchor=\"start\" x=\"406.38\" y=\"-262.45\" font-family=\"Helvetica,sans-Serif\" font-size=\"14.00\">samples = 11</text>\n",
       "<text text-anchor=\"start\" x=\"404.5\" y=\"-246.7\" font-family=\"Helvetica,sans-Serif\" font-size=\"14.00\">value = [0, 11]</text>\n",
       "<text text-anchor=\"start\" x=\"394\" y=\"-230.95\" font-family=\"Helvetica,sans-Serif\" font-size=\"14.00\">class = Malignant</text>\n",
       "</g>\n",
       "<!-- 9&#45;&gt;11 -->\n",
       "<g id=\"edge11\" class=\"edge\">\n",
       "<title>9&#45;&gt;11</title>\n",
       "<path fill=\"none\" stroke=\"black\" d=\"M446.88,-334.77C446.88,-325.86 446.88,-316.28 446.88,-307.07\"/>\n",
       "<polygon fill=\"black\" stroke=\"black\" points=\"450.38,-307.19 446.88,-297.19 443.38,-307.19 450.38,-307.19\"/>\n",
       "</g>\n",
       "<!-- 13 -->\n",
       "<g id=\"node14\" class=\"node\">\n",
       "<title>13</title>\n",
       "<path fill=\"#c1e0f7\" stroke=\"black\" d=\"M692.75,-527C692.75,-527 595,-527 595,-527 589,-527 583,-521 583,-515 583,-515 583,-461 583,-461 583,-455 589,-449 595,-449 595,-449 692.75,-449 692.75,-449 698.75,-449 704.75,-455 704.75,-461 704.75,-461 704.75,-515 704.75,-515 704.75,-521 698.75,-527 692.75,-527\"/>\n",
       "<text text-anchor=\"start\" x=\"609.38\" y=\"-510.7\" font-family=\"Helvetica,sans-Serif\" font-size=\"14.00\">x</text>\n",
       "<text text-anchor=\"start\" x=\"616.12\" y=\"-510.7\" font-family=\"Helvetica,sans-Serif\" baseline-shift=\"sub\" font-size=\"14.00\">24</text>\n",
       "<text text-anchor=\"start\" x=\"629.62\" y=\"-510.7\" font-family=\"Helvetica,sans-Serif\" font-size=\"14.00\"> ≤ 0.136</text>\n",
       "<text text-anchor=\"start\" x=\"596.62\" y=\"-496.7\" font-family=\"Helvetica,sans-Serif\" font-size=\"14.00\">entropy = 0.975</text>\n",
       "<text text-anchor=\"start\" x=\"603\" y=\"-482.7\" font-family=\"Helvetica,sans-Serif\" font-size=\"14.00\">samples = 54</text>\n",
       "<text text-anchor=\"start\" x=\"597.38\" y=\"-468.7\" font-family=\"Helvetica,sans-Serif\" font-size=\"14.00\">value = [22, 32]</text>\n",
       "<text text-anchor=\"start\" x=\"591\" y=\"-454.7\" font-family=\"Helvetica,sans-Serif\" font-size=\"14.00\">class = Malignant</text>\n",
       "</g>\n",
       "<!-- 12&#45;&gt;13 -->\n",
       "<g id=\"edge13\" class=\"edge\">\n",
       "<title>12&#45;&gt;13</title>\n",
       "<path fill=\"none\" stroke=\"black\" d=\"M643.88,-562.77C643.88,-555.02 643.88,-546.76 643.88,-538.67\"/>\n",
       "<polygon fill=\"black\" stroke=\"black\" points=\"647.38,-538.95 643.88,-528.95 640.38,-538.95 647.38,-538.95\"/>\n",
       "</g>\n",
       "<!-- 26 -->\n",
       "<g id=\"node27\" class=\"node\">\n",
       "<title>26</title>\n",
       "<path fill=\"#399de5\" stroke=\"black\" d=\"M832.75,-523.5C832.75,-523.5 735,-523.5 735,-523.5 729,-523.5 723,-517.5 723,-511.5 723,-511.5 723,-464.5 723,-464.5 723,-458.5 729,-452.5 735,-452.5 735,-452.5 832.75,-452.5 832.75,-452.5 838.75,-452.5 844.75,-458.5 844.75,-464.5 844.75,-464.5 844.75,-511.5 844.75,-511.5 844.75,-517.5 838.75,-523.5 832.75,-523.5\"/>\n",
       "<text text-anchor=\"start\" x=\"744.12\" y=\"-506.2\" font-family=\"Helvetica,sans-Serif\" font-size=\"14.00\">entropy = 0.0</text>\n",
       "<text text-anchor=\"start\" x=\"739.25\" y=\"-490.45\" font-family=\"Helvetica,sans-Serif\" font-size=\"14.00\">samples = 126</text>\n",
       "<text text-anchor=\"start\" x=\"737.38\" y=\"-474.7\" font-family=\"Helvetica,sans-Serif\" font-size=\"14.00\">value = [0, 126]</text>\n",
       "<text text-anchor=\"start\" x=\"731\" y=\"-458.95\" font-family=\"Helvetica,sans-Serif\" font-size=\"14.00\">class = Malignant</text>\n",
       "</g>\n",
       "<!-- 12&#45;&gt;26 -->\n",
       "<g id=\"edge26\" class=\"edge\">\n",
       "<title>12&#45;&gt;26</title>\n",
       "<path fill=\"none\" stroke=\"black\" d=\"M691.66,-562.77C704.54,-552.47 718.53,-541.28 731.63,-530.8\"/>\n",
       "<polygon fill=\"black\" stroke=\"black\" points=\"733.73,-533.6 739.35,-524.62 729.35,-528.13 733.73,-533.6\"/>\n",
       "</g>\n",
       "<!-- 14 -->\n",
       "<g id=\"node15\" class=\"node\">\n",
       "<title>14</title>\n",
       "<path fill=\"#efb184\" stroke=\"black\" d=\"M684.12,-413C684.12,-413 603.62,-413 603.62,-413 597.62,-413 591.62,-407 591.62,-401 591.62,-401 591.62,-347 591.62,-347 591.62,-341 597.62,-335 603.62,-335 603.62,-335 684.12,-335 684.12,-335 690.12,-335 696.12,-341 696.12,-347 696.12,-347 696.12,-401 696.12,-401 696.12,-407 690.12,-413 684.12,-413\"/>\n",
       "<text text-anchor=\"start\" x=\"609.38\" y=\"-396.7\" font-family=\"Helvetica,sans-Serif\" font-size=\"14.00\">x</text>\n",
       "<text text-anchor=\"start\" x=\"616.12\" y=\"-396.7\" font-family=\"Helvetica,sans-Serif\" baseline-shift=\"sub\" font-size=\"14.00\">21</text>\n",
       "<text text-anchor=\"start\" x=\"629.62\" y=\"-396.7\" font-family=\"Helvetica,sans-Serif\" font-size=\"14.00\"> ≤ 25.67</text>\n",
       "<text text-anchor=\"start\" x=\"600.38\" y=\"-382.7\" font-family=\"Helvetica,sans-Serif\" font-size=\"14.00\">entropy = 0.85</text>\n",
       "<text text-anchor=\"start\" x=\"603\" y=\"-368.7\" font-family=\"Helvetica,sans-Serif\" font-size=\"14.00\">samples = 29</text>\n",
       "<text text-anchor=\"start\" x=\"601.12\" y=\"-354.7\" font-family=\"Helvetica,sans-Serif\" font-size=\"14.00\">value = [21, 8]</text>\n",
       "<text text-anchor=\"start\" x=\"599.62\" y=\"-340.7\" font-family=\"Helvetica,sans-Serif\" font-size=\"14.00\">class = Benign</text>\n",
       "</g>\n",
       "<!-- 13&#45;&gt;14 -->\n",
       "<g id=\"edge14\" class=\"edge\">\n",
       "<title>13&#45;&gt;14</title>\n",
       "<path fill=\"none\" stroke=\"black\" d=\"M643.88,-448.77C643.88,-441.02 643.88,-432.76 643.88,-424.67\"/>\n",
       "<polygon fill=\"black\" stroke=\"black\" points=\"647.38,-424.95 643.88,-414.95 640.38,-424.95 647.38,-424.95\"/>\n",
       "</g>\n",
       "<!-- 23 -->\n",
       "<g id=\"node24\" class=\"node\">\n",
       "<title>23</title>\n",
       "<path fill=\"#41a1e6\" stroke=\"black\" d=\"M888.75,-413C888.75,-413 791,-413 791,-413 785,-413 779,-407 779,-401 779,-401 779,-347 779,-347 779,-341 785,-335 791,-335 791,-335 888.75,-335 888.75,-335 894.75,-335 900.75,-341 900.75,-347 900.75,-347 900.75,-401 900.75,-401 900.75,-407 894.75,-413 888.75,-413\"/>\n",
       "<text text-anchor=\"start\" x=\"805.38\" y=\"-396.7\" font-family=\"Helvetica,sans-Serif\" font-size=\"14.00\">x</text>\n",
       "<text text-anchor=\"start\" x=\"812.12\" y=\"-396.7\" font-family=\"Helvetica,sans-Serif\" baseline-shift=\"sub\" font-size=\"14.00\">12</text>\n",
       "<text text-anchor=\"start\" x=\"825.62\" y=\"-396.7\" font-family=\"Helvetica,sans-Serif\" font-size=\"14.00\"> ≤ 1.344</text>\n",
       "<text text-anchor=\"start\" x=\"792.62\" y=\"-382.7\" font-family=\"Helvetica,sans-Serif\" font-size=\"14.00\">entropy = 0.242</text>\n",
       "<text text-anchor=\"start\" x=\"799\" y=\"-368.7\" font-family=\"Helvetica,sans-Serif\" font-size=\"14.00\">samples = 25</text>\n",
       "<text text-anchor=\"start\" x=\"797.12\" y=\"-354.7\" font-family=\"Helvetica,sans-Serif\" font-size=\"14.00\">value = [1, 24]</text>\n",
       "<text text-anchor=\"start\" x=\"787\" y=\"-340.7\" font-family=\"Helvetica,sans-Serif\" font-size=\"14.00\">class = Malignant</text>\n",
       "</g>\n",
       "<!-- 13&#45;&gt;23 -->\n",
       "<g id=\"edge23\" class=\"edge\">\n",
       "<title>13&#45;&gt;23</title>\n",
       "<path fill=\"none\" stroke=\"black\" d=\"M705.08,-452.02C725.35,-440.44 748.07,-427.46 769,-415.5\"/>\n",
       "<polygon fill=\"black\" stroke=\"black\" points=\"770.53,-418.66 777.48,-410.65 767.06,-412.58 770.53,-418.66\"/>\n",
       "</g>\n",
       "<!-- 15 -->\n",
       "<g id=\"node16\" class=\"node\">\n",
       "<title>15</title>\n",
       "<path fill=\"#e58139\" stroke=\"black\" d=\"M618.12,-295.5C618.12,-295.5 537.62,-295.5 537.62,-295.5 531.62,-295.5 525.62,-289.5 525.62,-283.5 525.62,-283.5 525.62,-236.5 525.62,-236.5 525.62,-230.5 531.62,-224.5 537.62,-224.5 537.62,-224.5 618.12,-224.5 618.12,-224.5 624.12,-224.5 630.12,-230.5 630.12,-236.5 630.12,-236.5 630.12,-283.5 630.12,-283.5 630.12,-289.5 624.12,-295.5 618.12,-295.5\"/>\n",
       "<text text-anchor=\"start\" x=\"538.12\" y=\"-278.2\" font-family=\"Helvetica,sans-Serif\" font-size=\"14.00\">entropy = 0.0</text>\n",
       "<text text-anchor=\"start\" x=\"537\" y=\"-262.45\" font-family=\"Helvetica,sans-Serif\" font-size=\"14.00\">samples = 15</text>\n",
       "<text text-anchor=\"start\" x=\"535.12\" y=\"-246.7\" font-family=\"Helvetica,sans-Serif\" font-size=\"14.00\">value = [15, 0]</text>\n",
       "<text text-anchor=\"start\" x=\"533.62\" y=\"-230.95\" font-family=\"Helvetica,sans-Serif\" font-size=\"14.00\">class = Benign</text>\n",
       "</g>\n",
       "<!-- 14&#45;&gt;15 -->\n",
       "<g id=\"edge15\" class=\"edge\">\n",
       "<title>14&#45;&gt;15</title>\n",
       "<path fill=\"none\" stroke=\"black\" d=\"M621.35,-334.77C615.8,-325.36 609.82,-315.21 604.12,-305.53\"/>\n",
       "<polygon fill=\"black\" stroke=\"black\" points=\"607.17,-303.82 599.08,-296.98 601.14,-307.37 607.17,-303.82\"/>\n",
       "</g>\n",
       "<!-- 16 -->\n",
       "<g id=\"node17\" class=\"node\">\n",
       "<title>16</title>\n",
       "<path fill=\"#cee6f8\" stroke=\"black\" d=\"M757.75,-299C757.75,-299 660,-299 660,-299 654,-299 648,-293 648,-287 648,-287 648,-233 648,-233 648,-227 654,-221 660,-221 660,-221 757.75,-221 757.75,-221 763.75,-221 769.75,-227 769.75,-233 769.75,-233 769.75,-287 769.75,-287 769.75,-293 763.75,-299 757.75,-299\"/>\n",
       "<text text-anchor=\"start\" x=\"674.38\" y=\"-282.7\" font-family=\"Helvetica,sans-Serif\" font-size=\"14.00\">x</text>\n",
       "<text text-anchor=\"start\" x=\"681.12\" y=\"-282.7\" font-family=\"Helvetica,sans-Serif\" baseline-shift=\"sub\" font-size=\"14.00\">25</text>\n",
       "<text text-anchor=\"start\" x=\"694.62\" y=\"-282.7\" font-family=\"Helvetica,sans-Serif\" font-size=\"14.00\"> ≤ 0.237</text>\n",
       "<text text-anchor=\"start\" x=\"661.62\" y=\"-268.7\" font-family=\"Helvetica,sans-Serif\" font-size=\"14.00\">entropy = 0.985</text>\n",
       "<text text-anchor=\"start\" x=\"668\" y=\"-254.7\" font-family=\"Helvetica,sans-Serif\" font-size=\"14.00\">samples = 14</text>\n",
       "<text text-anchor=\"start\" x=\"669.88\" y=\"-240.7\" font-family=\"Helvetica,sans-Serif\" font-size=\"14.00\">value = [6, 8]</text>\n",
       "<text text-anchor=\"start\" x=\"656\" y=\"-226.7\" font-family=\"Helvetica,sans-Serif\" font-size=\"14.00\">class = Malignant</text>\n",
       "</g>\n",
       "<!-- 14&#45;&gt;16 -->\n",
       "<g id=\"edge16\" class=\"edge\">\n",
       "<title>14&#45;&gt;16</title>\n",
       "<path fill=\"none\" stroke=\"black\" d=\"M666.06,-334.77C670.82,-326.57 675.91,-317.81 680.85,-309.28\"/>\n",
       "<polygon fill=\"black\" stroke=\"black\" points=\"683.81,-311.15 685.81,-300.75 677.76,-307.64 683.81,-311.15\"/>\n",
       "</g>\n",
       "<!-- 17 -->\n",
       "<g id=\"node18\" class=\"node\">\n",
       "<title>17</title>\n",
       "<path fill=\"#55abe9\" stroke=\"black\" d=\"M691.75,-185C691.75,-185 594,-185 594,-185 588,-185 582,-179 582,-173 582,-173 582,-119 582,-119 582,-113 588,-107 594,-107 594,-107 691.75,-107 691.75,-107 697.75,-107 703.75,-113 703.75,-119 703.75,-119 703.75,-173 703.75,-173 703.75,-179 697.75,-185 691.75,-185\"/>\n",
       "<text text-anchor=\"start\" x=\"608\" y=\"-168.7\" font-family=\"Helvetica,sans-Serif\" font-size=\"14.00\">x</text>\n",
       "<text text-anchor=\"start\" x=\"614.75\" y=\"-168.7\" font-family=\"Helvetica,sans-Serif\" baseline-shift=\"sub\" font-size=\"14.00\">2</text>\n",
       "<text text-anchor=\"start\" x=\"621.5\" y=\"-168.7\" font-family=\"Helvetica,sans-Serif\" font-size=\"14.00\"> ≤ 106.05</text>\n",
       "<text text-anchor=\"start\" x=\"595.62\" y=\"-154.7\" font-family=\"Helvetica,sans-Serif\" font-size=\"14.00\">entropy = 0.544</text>\n",
       "<text text-anchor=\"start\" x=\"605.75\" y=\"-140.7\" font-family=\"Helvetica,sans-Serif\" font-size=\"14.00\">samples = 8</text>\n",
       "<text text-anchor=\"start\" x=\"603.88\" y=\"-126.7\" font-family=\"Helvetica,sans-Serif\" font-size=\"14.00\">value = [1, 7]</text>\n",
       "<text text-anchor=\"start\" x=\"590\" y=\"-112.7\" font-family=\"Helvetica,sans-Serif\" font-size=\"14.00\">class = Malignant</text>\n",
       "</g>\n",
       "<!-- 16&#45;&gt;17 -->\n",
       "<g id=\"edge17\" class=\"edge\">\n",
       "<title>16&#45;&gt;17</title>\n",
       "<path fill=\"none\" stroke=\"black\" d=\"M686.35,-220.77C681.51,-212.57 676.35,-203.81 671.33,-195.28\"/>\n",
       "<polygon fill=\"black\" stroke=\"black\" points=\"674.39,-193.58 666.29,-186.74 668.36,-197.14 674.39,-193.58\"/>\n",
       "</g>\n",
       "<!-- 20 -->\n",
       "<g id=\"node21\" class=\"node\">\n",
       "<title>20</title>\n",
       "<path fill=\"#ea9a61\" stroke=\"black\" d=\"M814.12,-185C814.12,-185 733.62,-185 733.62,-185 727.62,-185 721.62,-179 721.62,-173 721.62,-173 721.62,-119 721.62,-119 721.62,-113 727.62,-107 733.62,-107 733.62,-107 814.12,-107 814.12,-107 820.12,-107 826.12,-113 826.12,-119 826.12,-119 826.12,-173 826.12,-173 826.12,-179 820.12,-185 814.12,-185\"/>\n",
       "<text text-anchor=\"start\" x=\"739\" y=\"-168.7\" font-family=\"Helvetica,sans-Serif\" font-size=\"14.00\">x</text>\n",
       "<text text-anchor=\"start\" x=\"745.75\" y=\"-168.7\" font-family=\"Helvetica,sans-Serif\" baseline-shift=\"sub\" font-size=\"14.00\">2</text>\n",
       "<text text-anchor=\"start\" x=\"752.5\" y=\"-168.7\" font-family=\"Helvetica,sans-Serif\" font-size=\"14.00\"> ≤ 98.965</text>\n",
       "<text text-anchor=\"start\" x=\"730.38\" y=\"-154.7\" font-family=\"Helvetica,sans-Serif\" font-size=\"14.00\">entropy = 0.65</text>\n",
       "<text text-anchor=\"start\" x=\"736.75\" y=\"-140.7\" font-family=\"Helvetica,sans-Serif\" font-size=\"14.00\">samples = 6</text>\n",
       "<text text-anchor=\"start\" x=\"734.88\" y=\"-126.7\" font-family=\"Helvetica,sans-Serif\" font-size=\"14.00\">value = [5, 1]</text>\n",
       "<text text-anchor=\"start\" x=\"729.62\" y=\"-112.7\" font-family=\"Helvetica,sans-Serif\" font-size=\"14.00\">class = Benign</text>\n",
       "</g>\n",
       "<!-- 16&#45;&gt;20 -->\n",
       "<g id=\"edge20\" class=\"edge\">\n",
       "<title>16&#45;&gt;20</title>\n",
       "<path fill=\"none\" stroke=\"black\" d=\"M731.06,-220.77C735.82,-212.57 740.91,-203.81 745.85,-195.28\"/>\n",
       "<polygon fill=\"black\" stroke=\"black\" points=\"748.81,-197.15 750.81,-186.75 742.76,-193.64 748.81,-197.15\"/>\n",
       "</g>\n",
       "<!-- 18 -->\n",
       "<g id=\"node19\" class=\"node\">\n",
       "<title>18</title>\n",
       "<path fill=\"#399de5\" stroke=\"black\" d=\"M562.75,-71C562.75,-71 465,-71 465,-71 459,-71 453,-65 453,-59 453,-59 453,-12 453,-12 453,-6 459,0 465,0 465,0 562.75,0 562.75,0 568.75,0 574.75,-6 574.75,-12 574.75,-12 574.75,-59 574.75,-59 574.75,-65 568.75,-71 562.75,-71\"/>\n",
       "<text text-anchor=\"start\" x=\"474.12\" y=\"-53.7\" font-family=\"Helvetica,sans-Serif\" font-size=\"14.00\">entropy = 0.0</text>\n",
       "<text text-anchor=\"start\" x=\"476.75\" y=\"-37.95\" font-family=\"Helvetica,sans-Serif\" font-size=\"14.00\">samples = 7</text>\n",
       "<text text-anchor=\"start\" x=\"474.88\" y=\"-22.2\" font-family=\"Helvetica,sans-Serif\" font-size=\"14.00\">value = [0, 7]</text>\n",
       "<text text-anchor=\"start\" x=\"461\" y=\"-6.45\" font-family=\"Helvetica,sans-Serif\" font-size=\"14.00\">class = Malignant</text>\n",
       "</g>\n",
       "<!-- 17&#45;&gt;18 -->\n",
       "<g id=\"edge18\" class=\"edge\">\n",
       "<title>17&#45;&gt;18</title>\n",
       "<path fill=\"none\" stroke=\"black\" d=\"M597.39,-106.75C586.52,-97.6 574.85,-87.79 563.79,-78.48\"/>\n",
       "<polygon fill=\"black\" stroke=\"black\" points=\"566.14,-75.88 556.23,-72.12 561.63,-81.24 566.14,-75.88\"/>\n",
       "</g>\n",
       "<!-- 19 -->\n",
       "<g id=\"node20\" class=\"node\">\n",
       "<title>19</title>\n",
       "<path fill=\"#e58139\" stroke=\"black\" d=\"M685.12,-71C685.12,-71 604.62,-71 604.62,-71 598.62,-71 592.62,-65 592.62,-59 592.62,-59 592.62,-12 592.62,-12 592.62,-6 598.62,0 604.62,0 604.62,0 685.12,0 685.12,0 691.12,0 697.12,-6 697.12,-12 697.12,-12 697.12,-59 697.12,-59 697.12,-65 691.12,-71 685.12,-71\"/>\n",
       "<text text-anchor=\"start\" x=\"605.12\" y=\"-53.7\" font-family=\"Helvetica,sans-Serif\" font-size=\"14.00\">entropy = 0.0</text>\n",
       "<text text-anchor=\"start\" x=\"607.75\" y=\"-37.95\" font-family=\"Helvetica,sans-Serif\" font-size=\"14.00\">samples = 1</text>\n",
       "<text text-anchor=\"start\" x=\"605.88\" y=\"-22.2\" font-family=\"Helvetica,sans-Serif\" font-size=\"14.00\">value = [1, 0]</text>\n",
       "<text text-anchor=\"start\" x=\"600.62\" y=\"-6.45\" font-family=\"Helvetica,sans-Serif\" font-size=\"14.00\">class = Benign</text>\n",
       "</g>\n",
       "<!-- 17&#45;&gt;19 -->\n",
       "<g id=\"edge19\" class=\"edge\">\n",
       "<title>17&#45;&gt;19</title>\n",
       "<path fill=\"none\" stroke=\"black\" d=\"M643.58,-106.75C643.72,-98.96 643.88,-90.69 644.02,-82.66\"/>\n",
       "<polygon fill=\"black\" stroke=\"black\" points=\"647.52,-82.73 644.21,-72.66 640.52,-82.6 647.52,-82.73\"/>\n",
       "</g>\n",
       "<!-- 21 -->\n",
       "<g id=\"node22\" class=\"node\">\n",
       "<title>21</title>\n",
       "<path fill=\"#e58139\" stroke=\"black\" d=\"M812.12,-71C812.12,-71 731.62,-71 731.62,-71 725.62,-71 719.62,-65 719.62,-59 719.62,-59 719.62,-12 719.62,-12 719.62,-6 725.62,0 731.62,0 731.62,0 812.12,0 812.12,0 818.12,0 824.12,-6 824.12,-12 824.12,-12 824.12,-59 824.12,-59 824.12,-65 818.12,-71 812.12,-71\"/>\n",
       "<text text-anchor=\"start\" x=\"732.12\" y=\"-53.7\" font-family=\"Helvetica,sans-Serif\" font-size=\"14.00\">entropy = 0.0</text>\n",
       "<text text-anchor=\"start\" x=\"734.75\" y=\"-37.95\" font-family=\"Helvetica,sans-Serif\" font-size=\"14.00\">samples = 5</text>\n",
       "<text text-anchor=\"start\" x=\"732.88\" y=\"-22.2\" font-family=\"Helvetica,sans-Serif\" font-size=\"14.00\">value = [5, 0]</text>\n",
       "<text text-anchor=\"start\" x=\"727.62\" y=\"-6.45\" font-family=\"Helvetica,sans-Serif\" font-size=\"14.00\">class = Benign</text>\n",
       "</g>\n",
       "<!-- 20&#45;&gt;21 -->\n",
       "<g id=\"edge21\" class=\"edge\">\n",
       "<title>20&#45;&gt;21</title>\n",
       "<path fill=\"none\" stroke=\"black\" d=\"M773.17,-106.75C773.03,-98.96 772.87,-90.69 772.73,-82.66\"/>\n",
       "<polygon fill=\"black\" stroke=\"black\" points=\"776.23,-82.6 772.54,-72.66 769.23,-82.73 776.23,-82.6\"/>\n",
       "</g>\n",
       "<!-- 22 -->\n",
       "<g id=\"node23\" class=\"node\">\n",
       "<title>22</title>\n",
       "<path fill=\"#399de5\" stroke=\"black\" d=\"M951.75,-71C951.75,-71 854,-71 854,-71 848,-71 842,-65 842,-59 842,-59 842,-12 842,-12 842,-6 848,0 854,0 854,0 951.75,0 951.75,0 957.75,0 963.75,-6 963.75,-12 963.75,-12 963.75,-59 963.75,-59 963.75,-65 957.75,-71 951.75,-71\"/>\n",
       "<text text-anchor=\"start\" x=\"863.12\" y=\"-53.7\" font-family=\"Helvetica,sans-Serif\" font-size=\"14.00\">entropy = 0.0</text>\n",
       "<text text-anchor=\"start\" x=\"865.75\" y=\"-37.95\" font-family=\"Helvetica,sans-Serif\" font-size=\"14.00\">samples = 1</text>\n",
       "<text text-anchor=\"start\" x=\"863.88\" y=\"-22.2\" font-family=\"Helvetica,sans-Serif\" font-size=\"14.00\">value = [0, 1]</text>\n",
       "<text text-anchor=\"start\" x=\"850\" y=\"-6.45\" font-family=\"Helvetica,sans-Serif\" font-size=\"14.00\">class = Malignant</text>\n",
       "</g>\n",
       "<!-- 20&#45;&gt;22 -->\n",
       "<g id=\"edge22\" class=\"edge\">\n",
       "<title>20&#45;&gt;22</title>\n",
       "<path fill=\"none\" stroke=\"black\" d=\"M819.36,-106.75C830.23,-97.6 841.9,-87.79 852.96,-78.48\"/>\n",
       "<polygon fill=\"black\" stroke=\"black\" points=\"855.12,-81.24 860.52,-72.12 850.61,-75.88 855.12,-81.24\"/>\n",
       "</g>\n",
       "<!-- 24 -->\n",
       "<g id=\"node25\" class=\"node\">\n",
       "<title>24</title>\n",
       "<path fill=\"#e58139\" stroke=\"black\" d=\"M880.12,-295.5C880.12,-295.5 799.62,-295.5 799.62,-295.5 793.62,-295.5 787.62,-289.5 787.62,-283.5 787.62,-283.5 787.62,-236.5 787.62,-236.5 787.62,-230.5 793.62,-224.5 799.62,-224.5 799.62,-224.5 880.12,-224.5 880.12,-224.5 886.12,-224.5 892.12,-230.5 892.12,-236.5 892.12,-236.5 892.12,-283.5 892.12,-283.5 892.12,-289.5 886.12,-295.5 880.12,-295.5\"/>\n",
       "<text text-anchor=\"start\" x=\"800.12\" y=\"-278.2\" font-family=\"Helvetica,sans-Serif\" font-size=\"14.00\">entropy = 0.0</text>\n",
       "<text text-anchor=\"start\" x=\"802.75\" y=\"-262.45\" font-family=\"Helvetica,sans-Serif\" font-size=\"14.00\">samples = 1</text>\n",
       "<text text-anchor=\"start\" x=\"800.88\" y=\"-246.7\" font-family=\"Helvetica,sans-Serif\" font-size=\"14.00\">value = [1, 0]</text>\n",
       "<text text-anchor=\"start\" x=\"795.62\" y=\"-230.95\" font-family=\"Helvetica,sans-Serif\" font-size=\"14.00\">class = Benign</text>\n",
       "</g>\n",
       "<!-- 23&#45;&gt;24 -->\n",
       "<g id=\"edge24\" class=\"edge\">\n",
       "<title>23&#45;&gt;24</title>\n",
       "<path fill=\"none\" stroke=\"black\" d=\"M839.88,-334.77C839.88,-325.86 839.88,-316.28 839.88,-307.07\"/>\n",
       "<polygon fill=\"black\" stroke=\"black\" points=\"843.38,-307.19 839.88,-297.19 836.38,-307.19 843.38,-307.19\"/>\n",
       "</g>\n",
       "<!-- 25 -->\n",
       "<g id=\"node26\" class=\"node\">\n",
       "<title>25</title>\n",
       "<path fill=\"#399de5\" stroke=\"black\" d=\"M1019.75,-295.5C1019.75,-295.5 922,-295.5 922,-295.5 916,-295.5 910,-289.5 910,-283.5 910,-283.5 910,-236.5 910,-236.5 910,-230.5 916,-224.5 922,-224.5 922,-224.5 1019.75,-224.5 1019.75,-224.5 1025.75,-224.5 1031.75,-230.5 1031.75,-236.5 1031.75,-236.5 1031.75,-283.5 1031.75,-283.5 1031.75,-289.5 1025.75,-295.5 1019.75,-295.5\"/>\n",
       "<text text-anchor=\"start\" x=\"931.12\" y=\"-278.2\" font-family=\"Helvetica,sans-Serif\" font-size=\"14.00\">entropy = 0.0</text>\n",
       "<text text-anchor=\"start\" x=\"930\" y=\"-262.45\" font-family=\"Helvetica,sans-Serif\" font-size=\"14.00\">samples = 24</text>\n",
       "<text text-anchor=\"start\" x=\"928.12\" y=\"-246.7\" font-family=\"Helvetica,sans-Serif\" font-size=\"14.00\">value = [0, 24]</text>\n",
       "<text text-anchor=\"start\" x=\"918\" y=\"-230.95\" font-family=\"Helvetica,sans-Serif\" font-size=\"14.00\">class = Malignant</text>\n",
       "</g>\n",
       "<!-- 23&#45;&gt;25 -->\n",
       "<g id=\"edge25\" class=\"edge\">\n",
       "<title>23&#45;&gt;25</title>\n",
       "<path fill=\"none\" stroke=\"black\" d=\"M884.59,-334.77C896.52,-324.57 909.47,-313.49 921.63,-303.1\"/>\n",
       "<polygon fill=\"black\" stroke=\"black\" points=\"923.84,-305.82 929.17,-296.66 919.29,-300.5 923.84,-305.82\"/>\n",
       "</g>\n",
       "</g>\n",
       "</svg>\n"
      ],
      "text/plain": [
       "<graphviz.sources.Source at 0x18d0a36aed0>"
      ]
     },
     "metadata": {},
     "output_type": "display_data"
    },
    {
     "name": "stdout",
     "output_type": "stream",
     "text": [
      "Decision tree classifier for train/test split 80:20 with max depth of 7 built, visualized, and saved.\n"
     ]
    },
    {
     "data": {
      "image/svg+xml": [
       "<?xml version=\"1.0\" encoding=\"UTF-8\" standalone=\"no\"?>\n",
       "<!DOCTYPE svg PUBLIC \"-//W3C//DTD SVG 1.1//EN\"\n",
       " \"http://www.w3.org/Graphics/SVG/1.1/DTD/svg11.dtd\">\n",
       "<!-- Generated by graphviz version 12.1.0 (20240811.2233)\n",
       " -->\n",
       "<!-- Title: Tree Pages: 1 -->\n",
       "<svg width=\"1040pt\" height=\"763pt\"\n",
       " viewBox=\"0.00 0.00 1039.75 763.00\" xmlns=\"http://www.w3.org/2000/svg\" xmlns:xlink=\"http://www.w3.org/1999/xlink\">\n",
       "<g id=\"graph0\" class=\"graph\" transform=\"scale(1 1) rotate(0) translate(4 759)\">\n",
       "<title>Tree</title>\n",
       "<polygon fill=\"white\" stroke=\"none\" points=\"-4,4 -4,-759 1035.75,-759 1035.75,4 -4,4\"/>\n",
       "<!-- 0 -->\n",
       "<g id=\"node1\" class=\"node\">\n",
       "<title>0</title>\n",
       "<path fill=\"#f5ccaf\" stroke=\"black\" d=\"M626.88,-755C626.88,-755 526.88,-755 526.88,-755 520.88,-755 514.88,-749 514.88,-743 514.88,-743 514.88,-689 514.88,-689 514.88,-683 520.88,-677 526.88,-677 526.88,-677 626.88,-677 626.88,-677 632.88,-677 638.88,-683 638.88,-689 638.88,-689 638.88,-743 638.88,-743 638.88,-749 632.88,-755 626.88,-755\"/>\n",
       "<text text-anchor=\"start\" x=\"542.38\" y=\"-738.7\" font-family=\"Helvetica,sans-Serif\" font-size=\"14.00\">x</text>\n",
       "<text text-anchor=\"start\" x=\"549.12\" y=\"-738.7\" font-family=\"Helvetica,sans-Serif\" baseline-shift=\"sub\" font-size=\"14.00\">22</text>\n",
       "<text text-anchor=\"start\" x=\"562.62\" y=\"-738.7\" font-family=\"Helvetica,sans-Serif\" font-size=\"14.00\"> ≤ 106.1</text>\n",
       "<text text-anchor=\"start\" x=\"529.62\" y=\"-724.7\" font-family=\"Helvetica,sans-Serif\" font-size=\"14.00\">entropy = 0.953</text>\n",
       "<text text-anchor=\"start\" x=\"532.25\" y=\"-710.7\" font-family=\"Helvetica,sans-Serif\" font-size=\"14.00\">samples = 455</text>\n",
       "<text text-anchor=\"start\" x=\"522.88\" y=\"-696.7\" font-family=\"Helvetica,sans-Serif\" font-size=\"14.00\">value = [285, 170]</text>\n",
       "<text text-anchor=\"start\" x=\"532.62\" y=\"-682.7\" font-family=\"Helvetica,sans-Serif\" font-size=\"14.00\">class = Benign</text>\n",
       "</g>\n",
       "<!-- 1 -->\n",
       "<g id=\"node2\" class=\"node\">\n",
       "<title>1</title>\n",
       "<path fill=\"#e68742\" stroke=\"black\" d=\"M442.38,-641C442.38,-641 327.38,-641 327.38,-641 321.38,-641 315.38,-635 315.38,-629 315.38,-629 315.38,-575 315.38,-575 315.38,-569 321.38,-563 327.38,-563 327.38,-563 442.38,-563 442.38,-563 448.38,-563 454.38,-569 454.38,-575 454.38,-575 454.38,-629 454.38,-629 454.38,-635 448.38,-641 442.38,-641\"/>\n",
       "<text text-anchor=\"start\" x=\"350.38\" y=\"-624.7\" font-family=\"Helvetica,sans-Serif\" font-size=\"14.00\">x</text>\n",
       "<text text-anchor=\"start\" x=\"357.12\" y=\"-624.7\" font-family=\"Helvetica,sans-Serif\" baseline-shift=\"sub\" font-size=\"14.00\">26</text>\n",
       "<text text-anchor=\"start\" x=\"370.62\" y=\"-624.7\" font-family=\"Helvetica,sans-Serif\" font-size=\"14.00\"> ≤ 0.369</text>\n",
       "<text text-anchor=\"start\" x=\"337.62\" y=\"-610.7\" font-family=\"Helvetica,sans-Serif\" font-size=\"14.00\">entropy = 0.259</text>\n",
       "<text text-anchor=\"start\" x=\"340.25\" y=\"-596.7\" font-family=\"Helvetica,sans-Serif\" font-size=\"14.00\">samples = 275</text>\n",
       "<text text-anchor=\"start\" x=\"323.38\" y=\"-582.7\" font-family=\"Helvetica,sans-Serif\" font-size=\"14.00\">value = [263.0, 12.0]</text>\n",
       "<text text-anchor=\"start\" x=\"340.62\" y=\"-568.7\" font-family=\"Helvetica,sans-Serif\" font-size=\"14.00\">class = Benign</text>\n",
       "</g>\n",
       "<!-- 0&#45;&gt;1 -->\n",
       "<g id=\"edge1\" class=\"edge\">\n",
       "<title>0&#45;&gt;1</title>\n",
       "<path fill=\"none\" stroke=\"black\" d=\"M514.54,-678.64C497.35,-668.61 478.52,-657.63 460.67,-647.21\"/>\n",
       "<polygon fill=\"black\" stroke=\"black\" points=\"462.57,-644.27 452.17,-642.26 459.05,-650.32 462.57,-644.27\"/>\n",
       "<text text-anchor=\"middle\" x=\"457.23\" y=\"-660.25\" font-family=\"Helvetica,sans-Serif\" font-size=\"14.00\">True</text>\n",
       "</g>\n",
       "<!-- 12 -->\n",
       "<g id=\"node13\" class=\"node\">\n",
       "<title>12</title>\n",
       "<path fill=\"#55abe9\" stroke=\"black\" d=\"M692.75,-641C692.75,-641 595,-641 595,-641 589,-641 583,-635 583,-629 583,-629 583,-575 583,-575 583,-569 589,-563 595,-563 595,-563 692.75,-563 692.75,-563 698.75,-563 704.75,-569 704.75,-575 704.75,-575 704.75,-629 704.75,-629 704.75,-635 698.75,-641 692.75,-641\"/>\n",
       "<text text-anchor=\"start\" x=\"605.62\" y=\"-624.7\" font-family=\"Helvetica,sans-Serif\" font-size=\"14.00\">x</text>\n",
       "<text text-anchor=\"start\" x=\"612.38\" y=\"-624.7\" font-family=\"Helvetica,sans-Serif\" baseline-shift=\"sub\" font-size=\"14.00\">22</text>\n",
       "<text text-anchor=\"start\" x=\"625.88\" y=\"-624.7\" font-family=\"Helvetica,sans-Serif\" font-size=\"14.00\"> ≤ 120.35</text>\n",
       "<text text-anchor=\"start\" x=\"596.62\" y=\"-610.7\" font-family=\"Helvetica,sans-Serif\" font-size=\"14.00\">entropy = 0.536</text>\n",
       "<text text-anchor=\"start\" x=\"599.25\" y=\"-596.7\" font-family=\"Helvetica,sans-Serif\" font-size=\"14.00\">samples = 180</text>\n",
       "<text text-anchor=\"start\" x=\"593.62\" y=\"-582.7\" font-family=\"Helvetica,sans-Serif\" font-size=\"14.00\">value = [22, 158]</text>\n",
       "<text text-anchor=\"start\" x=\"591\" y=\"-568.7\" font-family=\"Helvetica,sans-Serif\" font-size=\"14.00\">class = Malignant</text>\n",
       "</g>\n",
       "<!-- 0&#45;&gt;12 -->\n",
       "<g id=\"edge12\" class=\"edge\">\n",
       "<title>0&#45;&gt;12</title>\n",
       "<path fill=\"none\" stroke=\"black\" d=\"M599.75,-676.77C604.65,-668.57 609.89,-659.81 614.99,-651.28\"/>\n",
       "<polygon fill=\"black\" stroke=\"black\" points=\"617.97,-653.12 620.1,-642.74 611.97,-649.52 617.97,-653.12\"/>\n",
       "<text text-anchor=\"middle\" x=\"626.98\" y=\"-660.26\" font-family=\"Helvetica,sans-Serif\" font-size=\"14.00\">False</text>\n",
       "</g>\n",
       "<!-- 2 -->\n",
       "<g id=\"node3\" class=\"node\">\n",
       "<title>2</title>\n",
       "<path fill=\"#e5813a\" stroke=\"black\" d=\"M233.12,-527C233.12,-527 146.62,-527 146.62,-527 140.62,-527 134.62,-521 134.62,-515 134.62,-515 134.62,-461 134.62,-461 134.62,-455 140.62,-449 146.62,-449 146.62,-449 233.12,-449 233.12,-449 239.12,-449 245.12,-455 245.12,-461 245.12,-461 245.12,-515 245.12,-515 245.12,-521 239.12,-527 233.12,-527\"/>\n",
       "<text text-anchor=\"start\" x=\"155.38\" y=\"-510.7\" font-family=\"Helvetica,sans-Serif\" font-size=\"14.00\">x</text>\n",
       "<text text-anchor=\"start\" x=\"162.12\" y=\"-510.7\" font-family=\"Helvetica,sans-Serif\" baseline-shift=\"sub\" font-size=\"14.00\">21</text>\n",
       "<text text-anchor=\"start\" x=\"175.62\" y=\"-510.7\" font-family=\"Helvetica,sans-Serif\" font-size=\"14.00\"> ≤ 33.35</text>\n",
       "<text text-anchor=\"start\" x=\"142.62\" y=\"-496.7\" font-family=\"Helvetica,sans-Serif\" font-size=\"14.00\">entropy = 0.037</text>\n",
       "<text text-anchor=\"start\" x=\"145.25\" y=\"-482.7\" font-family=\"Helvetica,sans-Serif\" font-size=\"14.00\">samples = 255</text>\n",
       "<text text-anchor=\"start\" x=\"143.38\" y=\"-468.7\" font-family=\"Helvetica,sans-Serif\" font-size=\"14.00\">value = [254, 1]</text>\n",
       "<text text-anchor=\"start\" x=\"145.62\" y=\"-454.7\" font-family=\"Helvetica,sans-Serif\" font-size=\"14.00\">class = Benign</text>\n",
       "</g>\n",
       "<!-- 1&#45;&gt;2 -->\n",
       "<g id=\"edge2\" class=\"edge\">\n",
       "<title>1&#45;&gt;2</title>\n",
       "<path fill=\"none\" stroke=\"black\" d=\"M318.04,-562.61C297.76,-550.97 275.52,-538.19 255.33,-526.6\"/>\n",
       "<polygon fill=\"black\" stroke=\"black\" points=\"257.34,-523.71 246.92,-521.76 253.85,-529.78 257.34,-523.71\"/>\n",
       "</g>\n",
       "<!-- 7 -->\n",
       "<g id=\"node8\" class=\"node\">\n",
       "<title>7</title>\n",
       "<path fill=\"#dbedfa\" stroke=\"black\" d=\"M433.75,-527C433.75,-527 336,-527 336,-527 330,-527 324,-521 324,-515 324,-515 324,-461 324,-461 324,-455 330,-449 336,-449 336,-449 433.75,-449 433.75,-449 439.75,-449 445.75,-455 445.75,-461 445.75,-461 445.75,-515 445.75,-515 445.75,-521 439.75,-527 433.75,-527\"/>\n",
       "<text text-anchor=\"start\" x=\"353.75\" y=\"-510.7\" font-family=\"Helvetica,sans-Serif\" font-size=\"14.00\">x</text>\n",
       "<text text-anchor=\"start\" x=\"360.5\" y=\"-510.7\" font-family=\"Helvetica,sans-Serif\" baseline-shift=\"sub\" font-size=\"14.00\">4</text>\n",
       "<text text-anchor=\"start\" x=\"367.25\" y=\"-510.7\" font-family=\"Helvetica,sans-Serif\" font-size=\"14.00\"> ≤ 0.096</text>\n",
       "<text text-anchor=\"start\" x=\"337.62\" y=\"-496.7\" font-family=\"Helvetica,sans-Serif\" font-size=\"14.00\">entropy = 0.993</text>\n",
       "<text text-anchor=\"start\" x=\"344\" y=\"-482.7\" font-family=\"Helvetica,sans-Serif\" font-size=\"14.00\">samples = 20</text>\n",
       "<text text-anchor=\"start\" x=\"342.5\" y=\"-468.7\" font-family=\"Helvetica,sans-Serif\" font-size=\"14.00\">value = [9, 11]</text>\n",
       "<text text-anchor=\"start\" x=\"332\" y=\"-454.7\" font-family=\"Helvetica,sans-Serif\" font-size=\"14.00\">class = Malignant</text>\n",
       "</g>\n",
       "<!-- 1&#45;&gt;7 -->\n",
       "<g id=\"edge7\" class=\"edge\">\n",
       "<title>1&#45;&gt;7</title>\n",
       "<path fill=\"none\" stroke=\"black\" d=\"M384.88,-562.77C384.88,-555.02 384.88,-546.76 384.88,-538.67\"/>\n",
       "<polygon fill=\"black\" stroke=\"black\" points=\"388.38,-538.95 384.88,-528.95 381.38,-538.95 388.38,-538.95\"/>\n",
       "</g>\n",
       "<!-- 3 -->\n",
       "<g id=\"node4\" class=\"node\">\n",
       "<title>3</title>\n",
       "<path fill=\"#e58139\" stroke=\"black\" d=\"M104.38,-409.5C104.38,-409.5 19.38,-409.5 19.38,-409.5 13.38,-409.5 7.38,-403.5 7.38,-397.5 7.38,-397.5 7.38,-350.5 7.38,-350.5 7.38,-344.5 13.38,-338.5 19.38,-338.5 19.38,-338.5 104.38,-338.5 104.38,-338.5 110.38,-338.5 116.38,-344.5 116.38,-350.5 116.38,-350.5 116.38,-397.5 116.38,-397.5 116.38,-403.5 110.38,-409.5 104.38,-409.5\"/>\n",
       "<text text-anchor=\"start\" x=\"22.12\" y=\"-392.2\" font-family=\"Helvetica,sans-Serif\" font-size=\"14.00\">entropy = 0.0</text>\n",
       "<text text-anchor=\"start\" x=\"17.25\" y=\"-376.45\" font-family=\"Helvetica,sans-Serif\" font-size=\"14.00\">samples = 236</text>\n",
       "<text text-anchor=\"start\" x=\"15.38\" y=\"-360.7\" font-family=\"Helvetica,sans-Serif\" font-size=\"14.00\">value = [236, 0]</text>\n",
       "<text text-anchor=\"start\" x=\"17.62\" y=\"-344.95\" font-family=\"Helvetica,sans-Serif\" font-size=\"14.00\">class = Benign</text>\n",
       "</g>\n",
       "<!-- 2&#45;&gt;3 -->\n",
       "<g id=\"edge3\" class=\"edge\">\n",
       "<title>2&#45;&gt;3</title>\n",
       "<path fill=\"none\" stroke=\"black\" d=\"M146.18,-448.77C134.53,-438.57 121.87,-427.49 109.99,-417.1\"/>\n",
       "<polygon fill=\"black\" stroke=\"black\" points=\"112.47,-414.62 102.64,-410.67 107.86,-419.89 112.47,-414.62\"/>\n",
       "</g>\n",
       "<!-- 4 -->\n",
       "<g id=\"node5\" class=\"node\">\n",
       "<title>4</title>\n",
       "<path fill=\"#e68844\" stroke=\"black\" d=\"M233.12,-413C233.12,-413 146.62,-413 146.62,-413 140.62,-413 134.62,-407 134.62,-401 134.62,-401 134.62,-347 134.62,-347 134.62,-341 140.62,-335 146.62,-335 146.62,-335 233.12,-335 233.12,-335 239.12,-335 245.12,-341 245.12,-347 245.12,-347 245.12,-401 245.12,-401 245.12,-407 239.12,-413 233.12,-413\"/>\n",
       "<text text-anchor=\"start\" x=\"155.38\" y=\"-396.7\" font-family=\"Helvetica,sans-Serif\" font-size=\"14.00\">x</text>\n",
       "<text text-anchor=\"start\" x=\"162.12\" y=\"-396.7\" font-family=\"Helvetica,sans-Serif\" baseline-shift=\"sub\" font-size=\"14.00\">21</text>\n",
       "<text text-anchor=\"start\" x=\"175.62\" y=\"-396.7\" font-family=\"Helvetica,sans-Serif\" font-size=\"14.00\"> ≤ 33.56</text>\n",
       "<text text-anchor=\"start\" x=\"142.62\" y=\"-382.7\" font-family=\"Helvetica,sans-Serif\" font-size=\"14.00\">entropy = 0.297</text>\n",
       "<text text-anchor=\"start\" x=\"149\" y=\"-368.7\" font-family=\"Helvetica,sans-Serif\" font-size=\"14.00\">samples = 19</text>\n",
       "<text text-anchor=\"start\" x=\"147.12\" y=\"-354.7\" font-family=\"Helvetica,sans-Serif\" font-size=\"14.00\">value = [18, 1]</text>\n",
       "<text text-anchor=\"start\" x=\"145.62\" y=\"-340.7\" font-family=\"Helvetica,sans-Serif\" font-size=\"14.00\">class = Benign</text>\n",
       "</g>\n",
       "<!-- 2&#45;&gt;4 -->\n",
       "<g id=\"edge4\" class=\"edge\">\n",
       "<title>2&#45;&gt;4</title>\n",
       "<path fill=\"none\" stroke=\"black\" d=\"M189.88,-448.77C189.88,-441.02 189.88,-432.76 189.88,-424.67\"/>\n",
       "<polygon fill=\"black\" stroke=\"black\" points=\"193.38,-424.95 189.88,-414.95 186.38,-424.95 193.38,-424.95\"/>\n",
       "</g>\n",
       "<!-- 5 -->\n",
       "<g id=\"node6\" class=\"node\">\n",
       "<title>5</title>\n",
       "<path fill=\"#399de5\" stroke=\"black\" d=\"M109.75,-295.5C109.75,-295.5 12,-295.5 12,-295.5 6,-295.5 0,-289.5 0,-283.5 0,-283.5 0,-236.5 0,-236.5 0,-230.5 6,-224.5 12,-224.5 12,-224.5 109.75,-224.5 109.75,-224.5 115.75,-224.5 121.75,-230.5 121.75,-236.5 121.75,-236.5 121.75,-283.5 121.75,-283.5 121.75,-289.5 115.75,-295.5 109.75,-295.5\"/>\n",
       "<text text-anchor=\"start\" x=\"21.12\" y=\"-278.2\" font-family=\"Helvetica,sans-Serif\" font-size=\"14.00\">entropy = 0.0</text>\n",
       "<text text-anchor=\"start\" x=\"23.75\" y=\"-262.45\" font-family=\"Helvetica,sans-Serif\" font-size=\"14.00\">samples = 1</text>\n",
       "<text text-anchor=\"start\" x=\"21.88\" y=\"-246.7\" font-family=\"Helvetica,sans-Serif\" font-size=\"14.00\">value = [0, 1]</text>\n",
       "<text text-anchor=\"start\" x=\"8\" y=\"-230.95\" font-family=\"Helvetica,sans-Serif\" font-size=\"14.00\">class = Malignant</text>\n",
       "</g>\n",
       "<!-- 4&#45;&gt;5 -->\n",
       "<g id=\"edge5\" class=\"edge\">\n",
       "<title>4&#45;&gt;5</title>\n",
       "<path fill=\"none\" stroke=\"black\" d=\"M145.84,-334.77C134.09,-324.57 121.34,-313.49 109.37,-303.1\"/>\n",
       "<polygon fill=\"black\" stroke=\"black\" points=\"111.8,-300.58 101.96,-296.67 107.21,-305.87 111.8,-300.58\"/>\n",
       "</g>\n",
       "<!-- 6 -->\n",
       "<g id=\"node7\" class=\"node\">\n",
       "<title>6</title>\n",
       "<path fill=\"#e58139\" stroke=\"black\" d=\"M232.12,-295.5C232.12,-295.5 151.62,-295.5 151.62,-295.5 145.62,-295.5 139.62,-289.5 139.62,-283.5 139.62,-283.5 139.62,-236.5 139.62,-236.5 139.62,-230.5 145.62,-224.5 151.62,-224.5 151.62,-224.5 232.12,-224.5 232.12,-224.5 238.12,-224.5 244.12,-230.5 244.12,-236.5 244.12,-236.5 244.12,-283.5 244.12,-283.5 244.12,-289.5 238.12,-295.5 232.12,-295.5\"/>\n",
       "<text text-anchor=\"start\" x=\"152.12\" y=\"-278.2\" font-family=\"Helvetica,sans-Serif\" font-size=\"14.00\">entropy = 0.0</text>\n",
       "<text text-anchor=\"start\" x=\"151\" y=\"-262.45\" font-family=\"Helvetica,sans-Serif\" font-size=\"14.00\">samples = 18</text>\n",
       "<text text-anchor=\"start\" x=\"149.12\" y=\"-246.7\" font-family=\"Helvetica,sans-Serif\" font-size=\"14.00\">value = [18, 0]</text>\n",
       "<text text-anchor=\"start\" x=\"147.62\" y=\"-230.95\" font-family=\"Helvetica,sans-Serif\" font-size=\"14.00\">class = Benign</text>\n",
       "</g>\n",
       "<!-- 4&#45;&gt;6 -->\n",
       "<g id=\"edge6\" class=\"edge\">\n",
       "<title>4&#45;&gt;6</title>\n",
       "<path fill=\"none\" stroke=\"black\" d=\"M190.56,-334.77C190.72,-325.86 190.89,-316.28 191.05,-307.07\"/>\n",
       "<polygon fill=\"black\" stroke=\"black\" points=\"194.55,-307.25 191.23,-297.19 187.55,-307.12 194.55,-307.25\"/>\n",
       "</g>\n",
       "<!-- 8 -->\n",
       "<g id=\"node9\" class=\"node\">\n",
       "<title>8</title>\n",
       "<path fill=\"#e58139\" stroke=\"black\" d=\"M356.12,-409.5C356.12,-409.5 275.62,-409.5 275.62,-409.5 269.62,-409.5 263.62,-403.5 263.62,-397.5 263.62,-397.5 263.62,-350.5 263.62,-350.5 263.62,-344.5 269.62,-338.5 275.62,-338.5 275.62,-338.5 356.12,-338.5 356.12,-338.5 362.12,-338.5 368.12,-344.5 368.12,-350.5 368.12,-350.5 368.12,-397.5 368.12,-397.5 368.12,-403.5 362.12,-409.5 356.12,-409.5\"/>\n",
       "<text text-anchor=\"start\" x=\"276.12\" y=\"-392.2\" font-family=\"Helvetica,sans-Serif\" font-size=\"14.00\">entropy = 0.0</text>\n",
       "<text text-anchor=\"start\" x=\"278.75\" y=\"-376.45\" font-family=\"Helvetica,sans-Serif\" font-size=\"14.00\">samples = 7</text>\n",
       "<text text-anchor=\"start\" x=\"276.88\" y=\"-360.7\" font-family=\"Helvetica,sans-Serif\" font-size=\"14.00\">value = [7, 0]</text>\n",
       "<text text-anchor=\"start\" x=\"271.62\" y=\"-344.95\" font-family=\"Helvetica,sans-Serif\" font-size=\"14.00\">class = Benign</text>\n",
       "</g>\n",
       "<!-- 7&#45;&gt;8 -->\n",
       "<g id=\"edge8\" class=\"edge\">\n",
       "<title>7&#45;&gt;8</title>\n",
       "<path fill=\"none\" stroke=\"black\" d=\"M361.32,-448.77C355.47,-439.26 349.14,-429 343.12,-419.23\"/>\n",
       "<polygon fill=\"black\" stroke=\"black\" points=\"346.26,-417.64 338.03,-410.96 340.3,-421.31 346.26,-417.64\"/>\n",
       "</g>\n",
       "<!-- 9 -->\n",
       "<g id=\"node10\" class=\"node\">\n",
       "<title>9</title>\n",
       "<path fill=\"#5dafea\" stroke=\"black\" d=\"M495.75,-413C495.75,-413 398,-413 398,-413 392,-413 386,-407 386,-401 386,-401 386,-347 386,-347 386,-341 392,-335 398,-335 398,-335 495.75,-335 495.75,-335 501.75,-335 507.75,-341 507.75,-347 507.75,-347 507.75,-401 507.75,-401 507.75,-407 501.75,-413 495.75,-413\"/>\n",
       "<text text-anchor=\"start\" x=\"408.62\" y=\"-396.7\" font-family=\"Helvetica,sans-Serif\" font-size=\"14.00\">x</text>\n",
       "<text text-anchor=\"start\" x=\"415.38\" y=\"-396.7\" font-family=\"Helvetica,sans-Serif\" baseline-shift=\"sub\" font-size=\"14.00\">21</text>\n",
       "<text text-anchor=\"start\" x=\"428.88\" y=\"-396.7\" font-family=\"Helvetica,sans-Serif\" font-size=\"14.00\"> ≤ 24.785</text>\n",
       "<text text-anchor=\"start\" x=\"399.62\" y=\"-382.7\" font-family=\"Helvetica,sans-Serif\" font-size=\"14.00\">entropy = 0.619</text>\n",
       "<text text-anchor=\"start\" x=\"406\" y=\"-368.7\" font-family=\"Helvetica,sans-Serif\" font-size=\"14.00\">samples = 13</text>\n",
       "<text text-anchor=\"start\" x=\"404.5\" y=\"-354.7\" font-family=\"Helvetica,sans-Serif\" font-size=\"14.00\">value = [2, 11]</text>\n",
       "<text text-anchor=\"start\" x=\"394\" y=\"-340.7\" font-family=\"Helvetica,sans-Serif\" font-size=\"14.00\">class = Malignant</text>\n",
       "</g>\n",
       "<!-- 7&#45;&gt;9 -->\n",
       "<g id=\"edge9\" class=\"edge\">\n",
       "<title>7&#45;&gt;9</title>\n",
       "<path fill=\"none\" stroke=\"black\" d=\"M406.04,-448.77C410.58,-440.57 415.43,-431.81 420.15,-423.28\"/>\n",
       "<polygon fill=\"black\" stroke=\"black\" points=\"423.08,-425.21 424.86,-414.76 416.96,-421.82 423.08,-425.21\"/>\n",
       "</g>\n",
       "<!-- 10 -->\n",
       "<g id=\"node11\" class=\"node\">\n",
       "<title>10</title>\n",
       "<path fill=\"#e58139\" stroke=\"black\" d=\"M356.12,-295.5C356.12,-295.5 275.62,-295.5 275.62,-295.5 269.62,-295.5 263.62,-289.5 263.62,-283.5 263.62,-283.5 263.62,-236.5 263.62,-236.5 263.62,-230.5 269.62,-224.5 275.62,-224.5 275.62,-224.5 356.12,-224.5 356.12,-224.5 362.12,-224.5 368.12,-230.5 368.12,-236.5 368.12,-236.5 368.12,-283.5 368.12,-283.5 368.12,-289.5 362.12,-295.5 356.12,-295.5\"/>\n",
       "<text text-anchor=\"start\" x=\"276.12\" y=\"-278.2\" font-family=\"Helvetica,sans-Serif\" font-size=\"14.00\">entropy = 0.0</text>\n",
       "<text text-anchor=\"start\" x=\"278.75\" y=\"-262.45\" font-family=\"Helvetica,sans-Serif\" font-size=\"14.00\">samples = 2</text>\n",
       "<text text-anchor=\"start\" x=\"276.88\" y=\"-246.7\" font-family=\"Helvetica,sans-Serif\" font-size=\"14.00\">value = [2, 0]</text>\n",
       "<text text-anchor=\"start\" x=\"271.62\" y=\"-230.95\" font-family=\"Helvetica,sans-Serif\" font-size=\"14.00\">class = Benign</text>\n",
       "</g>\n",
       "<!-- 9&#45;&gt;10 -->\n",
       "<g id=\"edge10\" class=\"edge\">\n",
       "<title>9&#45;&gt;10</title>\n",
       "<path fill=\"none\" stroke=\"black\" d=\"M402.16,-334.77C390.23,-324.57 377.28,-313.49 365.12,-303.1\"/>\n",
       "<polygon fill=\"black\" stroke=\"black\" points=\"367.46,-300.5 357.58,-296.66 362.91,-305.82 367.46,-300.5\"/>\n",
       "</g>\n",
       "<!-- 11 -->\n",
       "<g id=\"node12\" class=\"node\">\n",
       "<title>11</title>\n",
       "<path fill=\"#399de5\" stroke=\"black\" d=\"M495.75,-295.5C495.75,-295.5 398,-295.5 398,-295.5 392,-295.5 386,-289.5 386,-283.5 386,-283.5 386,-236.5 386,-236.5 386,-230.5 392,-224.5 398,-224.5 398,-224.5 495.75,-224.5 495.75,-224.5 501.75,-224.5 507.75,-230.5 507.75,-236.5 507.75,-236.5 507.75,-283.5 507.75,-283.5 507.75,-289.5 501.75,-295.5 495.75,-295.5\"/>\n",
       "<text text-anchor=\"start\" x=\"407.12\" y=\"-278.2\" font-family=\"Helvetica,sans-Serif\" font-size=\"14.00\">entropy = 0.0</text>\n",
       "<text text-anchor=\"start\" x=\"406.38\" y=\"-262.45\" font-family=\"Helvetica,sans-Serif\" font-size=\"14.00\">samples = 11</text>\n",
       "<text text-anchor=\"start\" x=\"404.5\" y=\"-246.7\" font-family=\"Helvetica,sans-Serif\" font-size=\"14.00\">value = [0, 11]</text>\n",
       "<text text-anchor=\"start\" x=\"394\" y=\"-230.95\" font-family=\"Helvetica,sans-Serif\" font-size=\"14.00\">class = Malignant</text>\n",
       "</g>\n",
       "<!-- 9&#45;&gt;11 -->\n",
       "<g id=\"edge11\" class=\"edge\">\n",
       "<title>9&#45;&gt;11</title>\n",
       "<path fill=\"none\" stroke=\"black\" d=\"M446.88,-334.77C446.88,-325.86 446.88,-316.28 446.88,-307.07\"/>\n",
       "<polygon fill=\"black\" stroke=\"black\" points=\"450.38,-307.19 446.88,-297.19 443.38,-307.19 450.38,-307.19\"/>\n",
       "</g>\n",
       "<!-- 13 -->\n",
       "<g id=\"node14\" class=\"node\">\n",
       "<title>13</title>\n",
       "<path fill=\"#c1e0f7\" stroke=\"black\" d=\"M692.75,-527C692.75,-527 595,-527 595,-527 589,-527 583,-521 583,-515 583,-515 583,-461 583,-461 583,-455 589,-449 595,-449 595,-449 692.75,-449 692.75,-449 698.75,-449 704.75,-455 704.75,-461 704.75,-461 704.75,-515 704.75,-515 704.75,-521 698.75,-527 692.75,-527\"/>\n",
       "<text text-anchor=\"start\" x=\"609.38\" y=\"-510.7\" font-family=\"Helvetica,sans-Serif\" font-size=\"14.00\">x</text>\n",
       "<text text-anchor=\"start\" x=\"616.12\" y=\"-510.7\" font-family=\"Helvetica,sans-Serif\" baseline-shift=\"sub\" font-size=\"14.00\">24</text>\n",
       "<text text-anchor=\"start\" x=\"629.62\" y=\"-510.7\" font-family=\"Helvetica,sans-Serif\" font-size=\"14.00\"> ≤ 0.136</text>\n",
       "<text text-anchor=\"start\" x=\"596.62\" y=\"-496.7\" font-family=\"Helvetica,sans-Serif\" font-size=\"14.00\">entropy = 0.975</text>\n",
       "<text text-anchor=\"start\" x=\"603\" y=\"-482.7\" font-family=\"Helvetica,sans-Serif\" font-size=\"14.00\">samples = 54</text>\n",
       "<text text-anchor=\"start\" x=\"597.38\" y=\"-468.7\" font-family=\"Helvetica,sans-Serif\" font-size=\"14.00\">value = [22, 32]</text>\n",
       "<text text-anchor=\"start\" x=\"591\" y=\"-454.7\" font-family=\"Helvetica,sans-Serif\" font-size=\"14.00\">class = Malignant</text>\n",
       "</g>\n",
       "<!-- 12&#45;&gt;13 -->\n",
       "<g id=\"edge13\" class=\"edge\">\n",
       "<title>12&#45;&gt;13</title>\n",
       "<path fill=\"none\" stroke=\"black\" d=\"M643.88,-562.77C643.88,-555.02 643.88,-546.76 643.88,-538.67\"/>\n",
       "<polygon fill=\"black\" stroke=\"black\" points=\"647.38,-538.95 643.88,-528.95 640.38,-538.95 647.38,-538.95\"/>\n",
       "</g>\n",
       "<!-- 26 -->\n",
       "<g id=\"node27\" class=\"node\">\n",
       "<title>26</title>\n",
       "<path fill=\"#399de5\" stroke=\"black\" d=\"M832.75,-523.5C832.75,-523.5 735,-523.5 735,-523.5 729,-523.5 723,-517.5 723,-511.5 723,-511.5 723,-464.5 723,-464.5 723,-458.5 729,-452.5 735,-452.5 735,-452.5 832.75,-452.5 832.75,-452.5 838.75,-452.5 844.75,-458.5 844.75,-464.5 844.75,-464.5 844.75,-511.5 844.75,-511.5 844.75,-517.5 838.75,-523.5 832.75,-523.5\"/>\n",
       "<text text-anchor=\"start\" x=\"744.12\" y=\"-506.2\" font-family=\"Helvetica,sans-Serif\" font-size=\"14.00\">entropy = 0.0</text>\n",
       "<text text-anchor=\"start\" x=\"739.25\" y=\"-490.45\" font-family=\"Helvetica,sans-Serif\" font-size=\"14.00\">samples = 126</text>\n",
       "<text text-anchor=\"start\" x=\"737.38\" y=\"-474.7\" font-family=\"Helvetica,sans-Serif\" font-size=\"14.00\">value = [0, 126]</text>\n",
       "<text text-anchor=\"start\" x=\"731\" y=\"-458.95\" font-family=\"Helvetica,sans-Serif\" font-size=\"14.00\">class = Malignant</text>\n",
       "</g>\n",
       "<!-- 12&#45;&gt;26 -->\n",
       "<g id=\"edge26\" class=\"edge\">\n",
       "<title>12&#45;&gt;26</title>\n",
       "<path fill=\"none\" stroke=\"black\" d=\"M691.66,-562.77C704.54,-552.47 718.53,-541.28 731.63,-530.8\"/>\n",
       "<polygon fill=\"black\" stroke=\"black\" points=\"733.73,-533.6 739.35,-524.62 729.35,-528.13 733.73,-533.6\"/>\n",
       "</g>\n",
       "<!-- 14 -->\n",
       "<g id=\"node15\" class=\"node\">\n",
       "<title>14</title>\n",
       "<path fill=\"#efb184\" stroke=\"black\" d=\"M684.12,-413C684.12,-413 603.62,-413 603.62,-413 597.62,-413 591.62,-407 591.62,-401 591.62,-401 591.62,-347 591.62,-347 591.62,-341 597.62,-335 603.62,-335 603.62,-335 684.12,-335 684.12,-335 690.12,-335 696.12,-341 696.12,-347 696.12,-347 696.12,-401 696.12,-401 696.12,-407 690.12,-413 684.12,-413\"/>\n",
       "<text text-anchor=\"start\" x=\"609.38\" y=\"-396.7\" font-family=\"Helvetica,sans-Serif\" font-size=\"14.00\">x</text>\n",
       "<text text-anchor=\"start\" x=\"616.12\" y=\"-396.7\" font-family=\"Helvetica,sans-Serif\" baseline-shift=\"sub\" font-size=\"14.00\">21</text>\n",
       "<text text-anchor=\"start\" x=\"629.62\" y=\"-396.7\" font-family=\"Helvetica,sans-Serif\" font-size=\"14.00\"> ≤ 25.67</text>\n",
       "<text text-anchor=\"start\" x=\"600.38\" y=\"-382.7\" font-family=\"Helvetica,sans-Serif\" font-size=\"14.00\">entropy = 0.85</text>\n",
       "<text text-anchor=\"start\" x=\"603\" y=\"-368.7\" font-family=\"Helvetica,sans-Serif\" font-size=\"14.00\">samples = 29</text>\n",
       "<text text-anchor=\"start\" x=\"601.12\" y=\"-354.7\" font-family=\"Helvetica,sans-Serif\" font-size=\"14.00\">value = [21, 8]</text>\n",
       "<text text-anchor=\"start\" x=\"599.62\" y=\"-340.7\" font-family=\"Helvetica,sans-Serif\" font-size=\"14.00\">class = Benign</text>\n",
       "</g>\n",
       "<!-- 13&#45;&gt;14 -->\n",
       "<g id=\"edge14\" class=\"edge\">\n",
       "<title>13&#45;&gt;14</title>\n",
       "<path fill=\"none\" stroke=\"black\" d=\"M643.88,-448.77C643.88,-441.02 643.88,-432.76 643.88,-424.67\"/>\n",
       "<polygon fill=\"black\" stroke=\"black\" points=\"647.38,-424.95 643.88,-414.95 640.38,-424.95 647.38,-424.95\"/>\n",
       "</g>\n",
       "<!-- 23 -->\n",
       "<g id=\"node24\" class=\"node\">\n",
       "<title>23</title>\n",
       "<path fill=\"#41a1e6\" stroke=\"black\" d=\"M888.75,-413C888.75,-413 791,-413 791,-413 785,-413 779,-407 779,-401 779,-401 779,-347 779,-347 779,-341 785,-335 791,-335 791,-335 888.75,-335 888.75,-335 894.75,-335 900.75,-341 900.75,-347 900.75,-347 900.75,-401 900.75,-401 900.75,-407 894.75,-413 888.75,-413\"/>\n",
       "<text text-anchor=\"start\" x=\"805.38\" y=\"-396.7\" font-family=\"Helvetica,sans-Serif\" font-size=\"14.00\">x</text>\n",
       "<text text-anchor=\"start\" x=\"812.12\" y=\"-396.7\" font-family=\"Helvetica,sans-Serif\" baseline-shift=\"sub\" font-size=\"14.00\">12</text>\n",
       "<text text-anchor=\"start\" x=\"825.62\" y=\"-396.7\" font-family=\"Helvetica,sans-Serif\" font-size=\"14.00\"> ≤ 1.344</text>\n",
       "<text text-anchor=\"start\" x=\"792.62\" y=\"-382.7\" font-family=\"Helvetica,sans-Serif\" font-size=\"14.00\">entropy = 0.242</text>\n",
       "<text text-anchor=\"start\" x=\"799\" y=\"-368.7\" font-family=\"Helvetica,sans-Serif\" font-size=\"14.00\">samples = 25</text>\n",
       "<text text-anchor=\"start\" x=\"797.12\" y=\"-354.7\" font-family=\"Helvetica,sans-Serif\" font-size=\"14.00\">value = [1, 24]</text>\n",
       "<text text-anchor=\"start\" x=\"787\" y=\"-340.7\" font-family=\"Helvetica,sans-Serif\" font-size=\"14.00\">class = Malignant</text>\n",
       "</g>\n",
       "<!-- 13&#45;&gt;23 -->\n",
       "<g id=\"edge23\" class=\"edge\">\n",
       "<title>13&#45;&gt;23</title>\n",
       "<path fill=\"none\" stroke=\"black\" d=\"M705.08,-452.02C725.35,-440.44 748.07,-427.46 769,-415.5\"/>\n",
       "<polygon fill=\"black\" stroke=\"black\" points=\"770.53,-418.66 777.48,-410.65 767.06,-412.58 770.53,-418.66\"/>\n",
       "</g>\n",
       "<!-- 15 -->\n",
       "<g id=\"node16\" class=\"node\">\n",
       "<title>15</title>\n",
       "<path fill=\"#e58139\" stroke=\"black\" d=\"M618.12,-295.5C618.12,-295.5 537.62,-295.5 537.62,-295.5 531.62,-295.5 525.62,-289.5 525.62,-283.5 525.62,-283.5 525.62,-236.5 525.62,-236.5 525.62,-230.5 531.62,-224.5 537.62,-224.5 537.62,-224.5 618.12,-224.5 618.12,-224.5 624.12,-224.5 630.12,-230.5 630.12,-236.5 630.12,-236.5 630.12,-283.5 630.12,-283.5 630.12,-289.5 624.12,-295.5 618.12,-295.5\"/>\n",
       "<text text-anchor=\"start\" x=\"538.12\" y=\"-278.2\" font-family=\"Helvetica,sans-Serif\" font-size=\"14.00\">entropy = 0.0</text>\n",
       "<text text-anchor=\"start\" x=\"537\" y=\"-262.45\" font-family=\"Helvetica,sans-Serif\" font-size=\"14.00\">samples = 15</text>\n",
       "<text text-anchor=\"start\" x=\"535.12\" y=\"-246.7\" font-family=\"Helvetica,sans-Serif\" font-size=\"14.00\">value = [15, 0]</text>\n",
       "<text text-anchor=\"start\" x=\"533.62\" y=\"-230.95\" font-family=\"Helvetica,sans-Serif\" font-size=\"14.00\">class = Benign</text>\n",
       "</g>\n",
       "<!-- 14&#45;&gt;15 -->\n",
       "<g id=\"edge15\" class=\"edge\">\n",
       "<title>14&#45;&gt;15</title>\n",
       "<path fill=\"none\" stroke=\"black\" d=\"M621.35,-334.77C615.8,-325.36 609.82,-315.21 604.12,-305.53\"/>\n",
       "<polygon fill=\"black\" stroke=\"black\" points=\"607.17,-303.82 599.08,-296.98 601.14,-307.37 607.17,-303.82\"/>\n",
       "</g>\n",
       "<!-- 16 -->\n",
       "<g id=\"node17\" class=\"node\">\n",
       "<title>16</title>\n",
       "<path fill=\"#cee6f8\" stroke=\"black\" d=\"M757.75,-299C757.75,-299 660,-299 660,-299 654,-299 648,-293 648,-287 648,-287 648,-233 648,-233 648,-227 654,-221 660,-221 660,-221 757.75,-221 757.75,-221 763.75,-221 769.75,-227 769.75,-233 769.75,-233 769.75,-287 769.75,-287 769.75,-293 763.75,-299 757.75,-299\"/>\n",
       "<text text-anchor=\"start\" x=\"674.38\" y=\"-282.7\" font-family=\"Helvetica,sans-Serif\" font-size=\"14.00\">x</text>\n",
       "<text text-anchor=\"start\" x=\"681.12\" y=\"-282.7\" font-family=\"Helvetica,sans-Serif\" baseline-shift=\"sub\" font-size=\"14.00\">25</text>\n",
       "<text text-anchor=\"start\" x=\"694.62\" y=\"-282.7\" font-family=\"Helvetica,sans-Serif\" font-size=\"14.00\"> ≤ 0.237</text>\n",
       "<text text-anchor=\"start\" x=\"661.62\" y=\"-268.7\" font-family=\"Helvetica,sans-Serif\" font-size=\"14.00\">entropy = 0.985</text>\n",
       "<text text-anchor=\"start\" x=\"668\" y=\"-254.7\" font-family=\"Helvetica,sans-Serif\" font-size=\"14.00\">samples = 14</text>\n",
       "<text text-anchor=\"start\" x=\"669.88\" y=\"-240.7\" font-family=\"Helvetica,sans-Serif\" font-size=\"14.00\">value = [6, 8]</text>\n",
       "<text text-anchor=\"start\" x=\"656\" y=\"-226.7\" font-family=\"Helvetica,sans-Serif\" font-size=\"14.00\">class = Malignant</text>\n",
       "</g>\n",
       "<!-- 14&#45;&gt;16 -->\n",
       "<g id=\"edge16\" class=\"edge\">\n",
       "<title>14&#45;&gt;16</title>\n",
       "<path fill=\"none\" stroke=\"black\" d=\"M666.06,-334.77C670.82,-326.57 675.91,-317.81 680.85,-309.28\"/>\n",
       "<polygon fill=\"black\" stroke=\"black\" points=\"683.81,-311.15 685.81,-300.75 677.76,-307.64 683.81,-311.15\"/>\n",
       "</g>\n",
       "<!-- 17 -->\n",
       "<g id=\"node18\" class=\"node\">\n",
       "<title>17</title>\n",
       "<path fill=\"#55abe9\" stroke=\"black\" d=\"M691.75,-185C691.75,-185 594,-185 594,-185 588,-185 582,-179 582,-173 582,-173 582,-119 582,-119 582,-113 588,-107 594,-107 594,-107 691.75,-107 691.75,-107 697.75,-107 703.75,-113 703.75,-119 703.75,-119 703.75,-173 703.75,-173 703.75,-179 697.75,-185 691.75,-185\"/>\n",
       "<text text-anchor=\"start\" x=\"608\" y=\"-168.7\" font-family=\"Helvetica,sans-Serif\" font-size=\"14.00\">x</text>\n",
       "<text text-anchor=\"start\" x=\"614.75\" y=\"-168.7\" font-family=\"Helvetica,sans-Serif\" baseline-shift=\"sub\" font-size=\"14.00\">2</text>\n",
       "<text text-anchor=\"start\" x=\"621.5\" y=\"-168.7\" font-family=\"Helvetica,sans-Serif\" font-size=\"14.00\"> ≤ 106.05</text>\n",
       "<text text-anchor=\"start\" x=\"595.62\" y=\"-154.7\" font-family=\"Helvetica,sans-Serif\" font-size=\"14.00\">entropy = 0.544</text>\n",
       "<text text-anchor=\"start\" x=\"605.75\" y=\"-140.7\" font-family=\"Helvetica,sans-Serif\" font-size=\"14.00\">samples = 8</text>\n",
       "<text text-anchor=\"start\" x=\"603.88\" y=\"-126.7\" font-family=\"Helvetica,sans-Serif\" font-size=\"14.00\">value = [1, 7]</text>\n",
       "<text text-anchor=\"start\" x=\"590\" y=\"-112.7\" font-family=\"Helvetica,sans-Serif\" font-size=\"14.00\">class = Malignant</text>\n",
       "</g>\n",
       "<!-- 16&#45;&gt;17 -->\n",
       "<g id=\"edge17\" class=\"edge\">\n",
       "<title>16&#45;&gt;17</title>\n",
       "<path fill=\"none\" stroke=\"black\" d=\"M686.35,-220.77C681.51,-212.57 676.35,-203.81 671.33,-195.28\"/>\n",
       "<polygon fill=\"black\" stroke=\"black\" points=\"674.39,-193.58 666.29,-186.74 668.36,-197.14 674.39,-193.58\"/>\n",
       "</g>\n",
       "<!-- 20 -->\n",
       "<g id=\"node21\" class=\"node\">\n",
       "<title>20</title>\n",
       "<path fill=\"#ea9a61\" stroke=\"black\" d=\"M814.12,-185C814.12,-185 733.62,-185 733.62,-185 727.62,-185 721.62,-179 721.62,-173 721.62,-173 721.62,-119 721.62,-119 721.62,-113 727.62,-107 733.62,-107 733.62,-107 814.12,-107 814.12,-107 820.12,-107 826.12,-113 826.12,-119 826.12,-119 826.12,-173 826.12,-173 826.12,-179 820.12,-185 814.12,-185\"/>\n",
       "<text text-anchor=\"start\" x=\"739\" y=\"-168.7\" font-family=\"Helvetica,sans-Serif\" font-size=\"14.00\">x</text>\n",
       "<text text-anchor=\"start\" x=\"745.75\" y=\"-168.7\" font-family=\"Helvetica,sans-Serif\" baseline-shift=\"sub\" font-size=\"14.00\">2</text>\n",
       "<text text-anchor=\"start\" x=\"752.5\" y=\"-168.7\" font-family=\"Helvetica,sans-Serif\" font-size=\"14.00\"> ≤ 98.965</text>\n",
       "<text text-anchor=\"start\" x=\"730.38\" y=\"-154.7\" font-family=\"Helvetica,sans-Serif\" font-size=\"14.00\">entropy = 0.65</text>\n",
       "<text text-anchor=\"start\" x=\"736.75\" y=\"-140.7\" font-family=\"Helvetica,sans-Serif\" font-size=\"14.00\">samples = 6</text>\n",
       "<text text-anchor=\"start\" x=\"734.88\" y=\"-126.7\" font-family=\"Helvetica,sans-Serif\" font-size=\"14.00\">value = [5, 1]</text>\n",
       "<text text-anchor=\"start\" x=\"729.62\" y=\"-112.7\" font-family=\"Helvetica,sans-Serif\" font-size=\"14.00\">class = Benign</text>\n",
       "</g>\n",
       "<!-- 16&#45;&gt;20 -->\n",
       "<g id=\"edge20\" class=\"edge\">\n",
       "<title>16&#45;&gt;20</title>\n",
       "<path fill=\"none\" stroke=\"black\" d=\"M731.06,-220.77C735.82,-212.57 740.91,-203.81 745.85,-195.28\"/>\n",
       "<polygon fill=\"black\" stroke=\"black\" points=\"748.81,-197.15 750.81,-186.75 742.76,-193.64 748.81,-197.15\"/>\n",
       "</g>\n",
       "<!-- 18 -->\n",
       "<g id=\"node19\" class=\"node\">\n",
       "<title>18</title>\n",
       "<path fill=\"#399de5\" stroke=\"black\" d=\"M562.75,-71C562.75,-71 465,-71 465,-71 459,-71 453,-65 453,-59 453,-59 453,-12 453,-12 453,-6 459,0 465,0 465,0 562.75,0 562.75,0 568.75,0 574.75,-6 574.75,-12 574.75,-12 574.75,-59 574.75,-59 574.75,-65 568.75,-71 562.75,-71\"/>\n",
       "<text text-anchor=\"start\" x=\"474.12\" y=\"-53.7\" font-family=\"Helvetica,sans-Serif\" font-size=\"14.00\">entropy = 0.0</text>\n",
       "<text text-anchor=\"start\" x=\"476.75\" y=\"-37.95\" font-family=\"Helvetica,sans-Serif\" font-size=\"14.00\">samples = 7</text>\n",
       "<text text-anchor=\"start\" x=\"474.88\" y=\"-22.2\" font-family=\"Helvetica,sans-Serif\" font-size=\"14.00\">value = [0, 7]</text>\n",
       "<text text-anchor=\"start\" x=\"461\" y=\"-6.45\" font-family=\"Helvetica,sans-Serif\" font-size=\"14.00\">class = Malignant</text>\n",
       "</g>\n",
       "<!-- 17&#45;&gt;18 -->\n",
       "<g id=\"edge18\" class=\"edge\">\n",
       "<title>17&#45;&gt;18</title>\n",
       "<path fill=\"none\" stroke=\"black\" d=\"M597.39,-106.75C586.52,-97.6 574.85,-87.79 563.79,-78.48\"/>\n",
       "<polygon fill=\"black\" stroke=\"black\" points=\"566.14,-75.88 556.23,-72.12 561.63,-81.24 566.14,-75.88\"/>\n",
       "</g>\n",
       "<!-- 19 -->\n",
       "<g id=\"node20\" class=\"node\">\n",
       "<title>19</title>\n",
       "<path fill=\"#e58139\" stroke=\"black\" d=\"M685.12,-71C685.12,-71 604.62,-71 604.62,-71 598.62,-71 592.62,-65 592.62,-59 592.62,-59 592.62,-12 592.62,-12 592.62,-6 598.62,0 604.62,0 604.62,0 685.12,0 685.12,0 691.12,0 697.12,-6 697.12,-12 697.12,-12 697.12,-59 697.12,-59 697.12,-65 691.12,-71 685.12,-71\"/>\n",
       "<text text-anchor=\"start\" x=\"605.12\" y=\"-53.7\" font-family=\"Helvetica,sans-Serif\" font-size=\"14.00\">entropy = 0.0</text>\n",
       "<text text-anchor=\"start\" x=\"607.75\" y=\"-37.95\" font-family=\"Helvetica,sans-Serif\" font-size=\"14.00\">samples = 1</text>\n",
       "<text text-anchor=\"start\" x=\"605.88\" y=\"-22.2\" font-family=\"Helvetica,sans-Serif\" font-size=\"14.00\">value = [1, 0]</text>\n",
       "<text text-anchor=\"start\" x=\"600.62\" y=\"-6.45\" font-family=\"Helvetica,sans-Serif\" font-size=\"14.00\">class = Benign</text>\n",
       "</g>\n",
       "<!-- 17&#45;&gt;19 -->\n",
       "<g id=\"edge19\" class=\"edge\">\n",
       "<title>17&#45;&gt;19</title>\n",
       "<path fill=\"none\" stroke=\"black\" d=\"M643.58,-106.75C643.72,-98.96 643.88,-90.69 644.02,-82.66\"/>\n",
       "<polygon fill=\"black\" stroke=\"black\" points=\"647.52,-82.73 644.21,-72.66 640.52,-82.6 647.52,-82.73\"/>\n",
       "</g>\n",
       "<!-- 21 -->\n",
       "<g id=\"node22\" class=\"node\">\n",
       "<title>21</title>\n",
       "<path fill=\"#e58139\" stroke=\"black\" d=\"M812.12,-71C812.12,-71 731.62,-71 731.62,-71 725.62,-71 719.62,-65 719.62,-59 719.62,-59 719.62,-12 719.62,-12 719.62,-6 725.62,0 731.62,0 731.62,0 812.12,0 812.12,0 818.12,0 824.12,-6 824.12,-12 824.12,-12 824.12,-59 824.12,-59 824.12,-65 818.12,-71 812.12,-71\"/>\n",
       "<text text-anchor=\"start\" x=\"732.12\" y=\"-53.7\" font-family=\"Helvetica,sans-Serif\" font-size=\"14.00\">entropy = 0.0</text>\n",
       "<text text-anchor=\"start\" x=\"734.75\" y=\"-37.95\" font-family=\"Helvetica,sans-Serif\" font-size=\"14.00\">samples = 5</text>\n",
       "<text text-anchor=\"start\" x=\"732.88\" y=\"-22.2\" font-family=\"Helvetica,sans-Serif\" font-size=\"14.00\">value = [5, 0]</text>\n",
       "<text text-anchor=\"start\" x=\"727.62\" y=\"-6.45\" font-family=\"Helvetica,sans-Serif\" font-size=\"14.00\">class = Benign</text>\n",
       "</g>\n",
       "<!-- 20&#45;&gt;21 -->\n",
       "<g id=\"edge21\" class=\"edge\">\n",
       "<title>20&#45;&gt;21</title>\n",
       "<path fill=\"none\" stroke=\"black\" d=\"M773.17,-106.75C773.03,-98.96 772.87,-90.69 772.73,-82.66\"/>\n",
       "<polygon fill=\"black\" stroke=\"black\" points=\"776.23,-82.6 772.54,-72.66 769.23,-82.73 776.23,-82.6\"/>\n",
       "</g>\n",
       "<!-- 22 -->\n",
       "<g id=\"node23\" class=\"node\">\n",
       "<title>22</title>\n",
       "<path fill=\"#399de5\" stroke=\"black\" d=\"M951.75,-71C951.75,-71 854,-71 854,-71 848,-71 842,-65 842,-59 842,-59 842,-12 842,-12 842,-6 848,0 854,0 854,0 951.75,0 951.75,0 957.75,0 963.75,-6 963.75,-12 963.75,-12 963.75,-59 963.75,-59 963.75,-65 957.75,-71 951.75,-71\"/>\n",
       "<text text-anchor=\"start\" x=\"863.12\" y=\"-53.7\" font-family=\"Helvetica,sans-Serif\" font-size=\"14.00\">entropy = 0.0</text>\n",
       "<text text-anchor=\"start\" x=\"865.75\" y=\"-37.95\" font-family=\"Helvetica,sans-Serif\" font-size=\"14.00\">samples = 1</text>\n",
       "<text text-anchor=\"start\" x=\"863.88\" y=\"-22.2\" font-family=\"Helvetica,sans-Serif\" font-size=\"14.00\">value = [0, 1]</text>\n",
       "<text text-anchor=\"start\" x=\"850\" y=\"-6.45\" font-family=\"Helvetica,sans-Serif\" font-size=\"14.00\">class = Malignant</text>\n",
       "</g>\n",
       "<!-- 20&#45;&gt;22 -->\n",
       "<g id=\"edge22\" class=\"edge\">\n",
       "<title>20&#45;&gt;22</title>\n",
       "<path fill=\"none\" stroke=\"black\" d=\"M819.36,-106.75C830.23,-97.6 841.9,-87.79 852.96,-78.48\"/>\n",
       "<polygon fill=\"black\" stroke=\"black\" points=\"855.12,-81.24 860.52,-72.12 850.61,-75.88 855.12,-81.24\"/>\n",
       "</g>\n",
       "<!-- 24 -->\n",
       "<g id=\"node25\" class=\"node\">\n",
       "<title>24</title>\n",
       "<path fill=\"#e58139\" stroke=\"black\" d=\"M880.12,-295.5C880.12,-295.5 799.62,-295.5 799.62,-295.5 793.62,-295.5 787.62,-289.5 787.62,-283.5 787.62,-283.5 787.62,-236.5 787.62,-236.5 787.62,-230.5 793.62,-224.5 799.62,-224.5 799.62,-224.5 880.12,-224.5 880.12,-224.5 886.12,-224.5 892.12,-230.5 892.12,-236.5 892.12,-236.5 892.12,-283.5 892.12,-283.5 892.12,-289.5 886.12,-295.5 880.12,-295.5\"/>\n",
       "<text text-anchor=\"start\" x=\"800.12\" y=\"-278.2\" font-family=\"Helvetica,sans-Serif\" font-size=\"14.00\">entropy = 0.0</text>\n",
       "<text text-anchor=\"start\" x=\"802.75\" y=\"-262.45\" font-family=\"Helvetica,sans-Serif\" font-size=\"14.00\">samples = 1</text>\n",
       "<text text-anchor=\"start\" x=\"800.88\" y=\"-246.7\" font-family=\"Helvetica,sans-Serif\" font-size=\"14.00\">value = [1, 0]</text>\n",
       "<text text-anchor=\"start\" x=\"795.62\" y=\"-230.95\" font-family=\"Helvetica,sans-Serif\" font-size=\"14.00\">class = Benign</text>\n",
       "</g>\n",
       "<!-- 23&#45;&gt;24 -->\n",
       "<g id=\"edge24\" class=\"edge\">\n",
       "<title>23&#45;&gt;24</title>\n",
       "<path fill=\"none\" stroke=\"black\" d=\"M839.88,-334.77C839.88,-325.86 839.88,-316.28 839.88,-307.07\"/>\n",
       "<polygon fill=\"black\" stroke=\"black\" points=\"843.38,-307.19 839.88,-297.19 836.38,-307.19 843.38,-307.19\"/>\n",
       "</g>\n",
       "<!-- 25 -->\n",
       "<g id=\"node26\" class=\"node\">\n",
       "<title>25</title>\n",
       "<path fill=\"#399de5\" stroke=\"black\" d=\"M1019.75,-295.5C1019.75,-295.5 922,-295.5 922,-295.5 916,-295.5 910,-289.5 910,-283.5 910,-283.5 910,-236.5 910,-236.5 910,-230.5 916,-224.5 922,-224.5 922,-224.5 1019.75,-224.5 1019.75,-224.5 1025.75,-224.5 1031.75,-230.5 1031.75,-236.5 1031.75,-236.5 1031.75,-283.5 1031.75,-283.5 1031.75,-289.5 1025.75,-295.5 1019.75,-295.5\"/>\n",
       "<text text-anchor=\"start\" x=\"931.12\" y=\"-278.2\" font-family=\"Helvetica,sans-Serif\" font-size=\"14.00\">entropy = 0.0</text>\n",
       "<text text-anchor=\"start\" x=\"930\" y=\"-262.45\" font-family=\"Helvetica,sans-Serif\" font-size=\"14.00\">samples = 24</text>\n",
       "<text text-anchor=\"start\" x=\"928.12\" y=\"-246.7\" font-family=\"Helvetica,sans-Serif\" font-size=\"14.00\">value = [0, 24]</text>\n",
       "<text text-anchor=\"start\" x=\"918\" y=\"-230.95\" font-family=\"Helvetica,sans-Serif\" font-size=\"14.00\">class = Malignant</text>\n",
       "</g>\n",
       "<!-- 23&#45;&gt;25 -->\n",
       "<g id=\"edge25\" class=\"edge\">\n",
       "<title>23&#45;&gt;25</title>\n",
       "<path fill=\"none\" stroke=\"black\" d=\"M884.59,-334.77C896.52,-324.57 909.47,-313.49 921.63,-303.1\"/>\n",
       "<polygon fill=\"black\" stroke=\"black\" points=\"923.84,-305.82 929.17,-296.66 919.29,-300.5 923.84,-305.82\"/>\n",
       "</g>\n",
       "</g>\n",
       "</svg>\n"
      ],
      "text/plain": [
       "<graphviz.sources.Source at 0x18d026d9b90>"
      ]
     },
     "metadata": {},
     "output_type": "display_data"
    },
    {
     "name": "stdout",
     "output_type": "stream",
     "text": [
      "Decision tree classifier for train/test split 80:20 with max depth of None built, visualized, and saved.\n"
     ]
    }
   ],
   "source": [
    "visualize_max_depth(list_max_depth_model, list_max_depth, features_name, class_name)\n"
   ]
  },
  {
   "cell_type": "markdown",
   "metadata": {},
   "source": [
    "## **5.3 Report of decision tree when changing the value of parameter `max_depth`**\n"
   ]
  },
  {
   "cell_type": "code",
   "execution_count": 343,
   "metadata": {},
   "outputs": [],
   "source": [
    "def plot_max_depth_accuracy(accuracy_results_dict, output_path):\n",
    "    \"\"\"\n",
    "    Plots a comparison of max_depth values and their corresponding accuracy scores.\n",
    "\n",
    "    Args:\n",
    "        accuracy_results_dict (dict): Dictionary with max_depth as keys and accuracy scores as values.\n",
    "        output_path (str): Path to save the resulting plot.\n",
    "    \"\"\"\n",
    "\n",
    "    # Prepare the data for the table and plot\n",
    "    max_depths = list(accuracy_results_dict.keys())\n",
    "    accuracy_scores = list(accuracy_results_dict.values())\n",
    "    data = [\n",
    "        [str(max_depth), accuracy]\n",
    "        for max_depth, accuracy in zip(max_depths, accuracy_scores)\n",
    "    ]\n",
    "\n",
    "    # Create a figure for the plot\n",
    "    plt.figure(figsize=(15, 6))  # Adjust the figure size as needed\n",
    "\n",
    "    # Plot the classification report as a table\n",
    "    plt.subplot(1, 2, 1)\n",
    "\n",
    "    # Create the table\n",
    "    table = plt.table(\n",
    "        cellText=data,\n",
    "        colLabels=[\"max_depth\", \"Accuracy\"],\n",
    "        loc=\"upper center\",\n",
    "        cellLoc=\"center\",\n",
    "        colWidths=[0.12, 0.3],\n",
    "    )\n",
    "\n",
    "    # Center the table within the subplot\n",
    "    table.scale(1, 1)  # Adjust the scaling factor as needed\n",
    "    table.auto_set_font_size(False)\n",
    "    table.set_fontsize(10)\n",
    "\n",
    "    # Modify the height of each row to ensure they are evenly spaced\n",
    "    for (i, j), cell in table.get_celld().items():\n",
    "        cell.set_height(0.1)  # Adjust the height as needed\n",
    "\n",
    "    plt.axis(\"off\")  # Turn off axes\n",
    "    plt.title(\"Accuracy Report\")\n",
    "\n",
    "    # Plot the accuracy scores as a line plot\n",
    "    plt.subplot(1, 2, 2)\n",
    "\n",
    "    # Replace None with \"No Limit\" for visualization\n",
    "    max_depths_for_plot = [\n",
    "        \"No Limit\" if depth is None else depth for depth in max_depths\n",
    "    ]\n",
    "\n",
    "    plt.plot(max_depths_for_plot, accuracy_scores, marker=\"o\", color=\"red\")\n",
    "    plt.xlabel(\"Max Depth\")\n",
    "    plt.ylabel(\"Accuracy Score\")\n",
    "    plt.title(\"Statistical Chart\")\n",
    "\n",
    "    # Set the main title for the entire figure\n",
    "    plt.suptitle(\"Decision Tree Classifier With Different Max Depths\")\n",
    "\n",
    "    # Adjust layout to prevent overlap\n",
    "    plt.tight_layout()\n",
    "\n",
    "    # Save the plot to the specified path\n",
    "    plt.savefig(output_path)\n",
    "    plt.show()\n"
   ]
  },
  {
   "cell_type": "code",
   "execution_count": 344,
   "metadata": {},
   "outputs": [
    {
     "data": {
      "image/png": "[encoded data removed]",
      "text/plain": [
       "<Figure size 1500x600 with 2 Axes>"
      ]
     },
     "metadata": {},
     "output_type": "display_data"
    }
   ],
   "source": [
    "output_path = f\"output/report/max_depth_ver/accuracy_report.png\"\n",
    "plot_max_depth_accuracy(accuracy_results, output_path)\n"
   ]
  },
  {
   "cell_type": "markdown",
   "metadata": {},
   "source": [
    "## **5.4 Comment on above statistics**\n"
   ]
  },
  {
   "cell_type": "markdown",
   "metadata": {},
   "source": [
    "- From the statistical data and line charts measuring the accuracy of decision trees at various depths, it is evident that adjusting the depth of a decision tree significantly impacts its performance.\n",
    "  - Model with max depth 2: the accuracy score is $86.84\\%$, which is the lowest accuracy score among models.\n",
    "  - Model with max depth 3: the accuracy score is $92.11\\%$\n",
    "  - Model with max depth 4: the accuracy score peaks at $92.98\\%$\n",
    "  - Model with max depth 5 to No Limits (None): the accuracy score remains consistent at $92.11\\%$.\n",
    "- Observations\n",
    "  - Initially, as the max depth increases from 2 to 4, the accuracy improves significantly from $86.84\\%$ to $92.11\\%$. This suggests that the model benefits from having more complex decision boundaries up to a certain point.\n",
    "  - The highest accuracy ($92.98\\%$) is achieved at a max depth of 4. Beyond this point, increasing the depth does not improve accuracy; instead, it slightly drops and stabilizes.\n",
    "  - From max depth 5 onwards, the accuracy plateaus at $92.11\\%$. This indicates that adding more complexity to the model (increasing the depth) does not necessarily lead to better performance and might even introduce overfitting.\n",
    "- Intereption (Reasons)\n",
    "  - Increase in Accuracy with Depth\n",
    "    - At max_depth = 2, the accuracy is the lowest ($86.84\\%$). This suggests that the model is too simple and may not capture the complexity of the data adequately. This is the underfitting situation.\n",
    "    - As max_depth increases to 3, the accuracy significantly improves to $92.11\\%$, indicating that the model starts to capture more complex patterns in the data.\n",
    "  - Peak Accuracy\n",
    "    - At max_depth = 4, the accuracy reaches its highest point ($92.98\\%$). This indicates that the model has found an optimal balance between capturing enough information and maintaining simplicity.\n",
    "  - Stability and Slight Decrease in Accuracy\n",
    "    - When max_depth is increased to 5, 6, 7, and None (no limit on depth), the accuracy stabilizes at $92.11\\%$ and does not increase further.\n",
    "    - The slight drop from $92.98\\%$ to $92.11\\%$ at greater depths may indicate overfitting. At these higher depths, the model becomes too complex, potentially capturing noise in the training data, which reduces its ability to generalize well to new, unseen data.\n"
   ]
  }
 ],
 "metadata": {
  "kernelspec": {
   "display_name": ".venv",
   "language": "python",
   "name": "python3"
  },
  "language_info": {
   "codemirror_mode": {
    "name": "ipython",
    "version": 3
   },
   "file_extension": ".py",
   "mimetype": "text/x-python",
   "name": "python",
   "nbconvert_exporter": "python",
   "pygments_lexer": "ipython3",
   "version": "3.11.8"
  }
 },
 "nbformat": 4,
 "nbformat_minor": 2
}
